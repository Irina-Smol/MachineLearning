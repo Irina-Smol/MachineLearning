{
  "cells": [
    {
      "cell_type": "markdown",
      "metadata": {
        "id": "rmdEnFS2Stqd"
      },
      "source": [
        "# Библиотеки и инструменты для анализа данных. Математика в машинном обучении"
      ]
    },
    {
      "cell_type": "markdown",
      "metadata": {
        "id": "wAq1zzHuStqi"
      },
      "source": [
        "## План занятий"
      ]
    },
    {
      "cell_type": "markdown",
      "metadata": {
        "id": "YxGAJ5TJStqj"
      },
      "source": [
        "- Работа с векторами в библиотеке NumPy\n",
        "- Задача по линейной алгебре\n",
        "- Обзор математических методов в машинном обучении. Библиотека SciPy\n",
        "- Обзор библиотеки Pandas\n",
        "- Пример первичного анализа данных с Pandas\n",
        "- Обзор библиотеки Matplotlib\n",
        "- Обзор библиотеки Seaborn\n",
        "- Пример визуального анализа данных с Pandas и Seaborn\n",
        "- Практическое задание. Анализ данных пассажиров \"Титаника\""
      ]
    },
    {
      "cell_type": "markdown",
      "metadata": {
        "id": "VBXOJuQ-Stqk"
      },
      "source": [
        "**Numpy** - это библиотека Python для вычислительно эффективных операций с многомерными массивами, предназначенная в основном для научных вычислений."
      ]
    },
    {
      "cell_type": "markdown",
      "metadata": {
        "id": "WqWVb8RZStql"
      },
      "source": [
        "**SciPy** - это библиотека для Python, содержащая множество математических алгоритмов и предназначенная для выполнения научных расчётов. С его помощью можно решать широкий класс математических задач, возникающих в ходе научной деятельности."
      ]
    },
    {
      "cell_type": "markdown",
      "metadata": {
        "id": "eu70x9euStql"
      },
      "source": [
        "**Pandas** - это библиотека Python, предоставляющая широкие возможности для анализа данных. С ее помощью очень удобно загружать, обрабатывать и анализировать табличные данные с помощью SQL-подобных запросов. В связке с библиотеками Matplotlib и Seaborn появляется возможность удобного визуального анализа табличных данных."
      ]
    },
    {
      "cell_type": "markdown",
      "metadata": {
        "id": "Koo1xbyyStqm"
      },
      "source": [
        "**Matplotlib** - библиотека  Python для визуализации данных двух- и трехмерной графикой. Обладает большим набором возможностей контроля каждого элемента изображения."
      ]
    },
    {
      "cell_type": "markdown",
      "metadata": {
        "id": "gIQPHFtIStqm"
      },
      "source": [
        "**Seaborn** - надстройка над библиотекой Matplotlib. Позволяет чуть проще, чем с Matplotlib, делать \"стильные\" и информативные статистические графики. Поддерживает структуры данных NumPy и Pandas, а также статистические методы, реализованные в SciPy и statmodels."
      ]
    },
    {
      "cell_type": "markdown",
      "metadata": {
        "id": "XpJtbcuWStqn"
      },
      "source": [
        "## Полезные ссылки"
      ]
    },
    {
      "cell_type": "markdown",
      "metadata": {
        "id": "atxrsJeZStqo"
      },
      "source": [
        "- [Документация](http://docs.scipy.org/doc/numpy/) NumPy\n",
        "- [Пособие](http://habrahabr.ru/post/121031/) по NumPy на Хабрахабре\n",
        "- Множество гайдов и уроков по пакету Pandas представлено на [сайте](http://pandas.pydata.org/pandas-docs/stable/tutorials.html) с документацией\n",
        "- [Тьюториал](http://pandas.pydata.org/pandas-docs/stable/10min.html) \"10 minutes to Pandas\"\n",
        "- [Сайт](http://matplotlib.org/) Matplotlib\n",
        "- [Сайт](http://stanford.edu/~mwaskom/software/seaborn/) Seaborn\n",
        "- [Обзор](https://habrahabr.ru/post/270449/) полезных репозиториев по языку программирования Python и машинному обучению"
      ]
    },
    {
      "cell_type": "markdown",
      "source": [
        "Это стандартное начало питоновского кода"
      ],
      "metadata": {
        "id": "6lVqDzl8TB-5"
      }
    },
    {
      "cell_type": "code",
      "source": [
        "import numpy as np\n",
        "import pandas as pd"
      ],
      "metadata": {
        "id": "odKZWsGsS5LH"
      },
      "execution_count": null,
      "outputs": []
    },
    {
      "cell_type": "markdown",
      "source": [
        "Пример формулы: $y = x**2$"
      ],
      "metadata": {
        "id": "VuwoTEUJWMZH"
      }
    },
    {
      "cell_type": "code",
      "source": [
        "print('Hellow world')"
      ],
      "metadata": {
        "id": "4f91hYKoGmV8",
        "colab": {
          "base_uri": "https://localhost:8080/"
        },
        "outputId": "9993f3c4-a660-47f6-fd81-c565c4e129f3"
      },
      "execution_count": null,
      "outputs": [
        {
          "output_type": "stream",
          "name": "stdout",
          "text": [
            "Hellow world\n"
          ]
        }
      ]
    },
    {
      "cell_type": "code",
      "source": [],
      "metadata": {
        "id": "0hsatB1-2ajs"
      },
      "execution_count": null,
      "outputs": []
    }
  ],
  "metadata": {
    "kernelspec": {
      "display_name": "Python 3",
      "language": "python",
      "name": "python3"
    },
    "language_info": {
      "codemirror_mode": {
        "name": "ipython",
        "version": 3
      },
      "file_extension": ".py",
      "mimetype": "text/x-python",
      "name": "python",
      "nbconvert_exporter": "python",
      "pygments_lexer": "ipython3",
      "version": "3.7.6"
    },
    "name": "seminar02_part2_pandas.ipynb",
    "colab": {
      "provenance": [],
      "toc_visible": true
    }
  },
  "nbformat": 4,
  "nbformat_minor": 0
}