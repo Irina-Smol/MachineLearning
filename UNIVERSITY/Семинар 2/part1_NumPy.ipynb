{
  "cells": [
    {
      "cell_type": "markdown",
      "metadata": {
        "collapsed": false,
        "id": "KDmSVRSk7Te1"
      },
      "source": [
        "# Занятие 2. Библиотеки и инструменты для анализа данных. Математика в машинном обучении\n",
        "## Часть 1. Работа с векторами в библиотеке NumPy"
      ]
    },
    {
      "cell_type": "markdown",
      "metadata": {
        "collapsed": false,
        "id": "Wfwhae1L7Te3"
      },
      "source": [
        "**Numpy** - это библиотека Python для вычислительно эффективных операций с многомерными массивами, предназначенная в основном для научных вычислений."
      ]
    },
    {
      "cell_type": "code",
      "execution_count": null,
      "metadata": {
        "id": "etAhajeV7Te4"
      },
      "outputs": [],
      "source": [
        "# Python 2 and 3 compatibility\n",
        "from __future__ import (absolute_import, division,\n",
        "                        print_function, unicode_literals)\n",
        "# отключим предупреждения Anaconda\n",
        "import warnings\n",
        "warnings.simplefilter('ignore')\n",
        "import numpy as np"
      ]
    },
    {
      "cell_type": "code",
      "execution_count": null,
      "metadata": {
        "id": "f4Nf_uUN7Te6"
      },
      "outputs": [],
      "source": [
        "?np.array"
      ]
    },
    {
      "cell_type": "code",
      "execution_count": null,
      "metadata": {
        "id": "dLu4Fc6D7Te8",
        "outputId": "e0a16122-c231-4147-eaa2-f284c7cf8c3c",
        "colab": {
          "base_uri": "https://localhost:8080/"
        }
      },
      "outputs": [
        {
          "output_type": "execute_result",
          "data": {
            "text/plain": [
              "array([0, 1, 2, 3])"
            ]
          },
          "metadata": {},
          "execution_count": 3
        }
      ],
      "source": [
        "a = np.array([0, 1, 2, 3])\n",
        "a"
      ]
    },
    {
      "cell_type": "code",
      "source": [
        "!python --version"
      ],
      "metadata": {
        "colab": {
          "base_uri": "https://localhost:8080/"
        },
        "id": "Dxi7wg-8KNyo",
        "outputId": "4754d799-b254-4254-8e40-23cf7c8151c5"
      },
      "execution_count": null,
      "outputs": [
        {
          "output_type": "stream",
          "name": "stdout",
          "text": [
            "Python 3.10.12\n"
          ]
        }
      ]
    },
    {
      "cell_type": "markdown",
      "metadata": {
        "collapsed": false,
        "id": "ivAlswuB7Te9"
      },
      "source": [
        "Такой массив может содержать:\n",
        "- значения физических величин в разые моменты времени при моделировании\n",
        "- значения сигнала, измеренного прибором\n",
        "- интенсивности пикселов\n",
        "- 3D координаты объектов, полученных, например, при МРТ\n",
        "- ...\n"
      ]
    },
    {
      "cell_type": "markdown",
      "metadata": {
        "collapsed": false,
        "id": "YDB99ir17Te-"
      },
      "source": [
        "**Зачем NumPy:** Эффективность базовых операций\n"
      ]
    },
    {
      "cell_type": "code",
      "execution_count": null,
      "metadata": {
        "id": "OmVfJK9a7Te_"
      },
      "outputs": [],
      "source": [
        "L = range(1000)"
      ]
    },
    {
      "cell_type": "code",
      "execution_count": null,
      "metadata": {
        "id": "_jMezg2r7TfA",
        "outputId": "81bbc3ce-3b0d-4d65-c2bf-cbedc08232bc",
        "colab": {
          "base_uri": "https://localhost:8080/"
        }
      },
      "outputs": [
        {
          "output_type": "stream",
          "name": "stdout",
          "text": [
            "302 µs ± 4.45 µs per loop (mean ± std. dev. of 7 runs, 1000 loops each)\n"
          ]
        }
      ],
      "source": [
        "%timeit [i**2 for i in L]"
      ]
    },
    {
      "cell_type": "code",
      "execution_count": null,
      "metadata": {
        "id": "rzVInWqm7TfB"
      },
      "outputs": [],
      "source": [
        "a = np.arange(1000)"
      ]
    },
    {
      "cell_type": "code",
      "execution_count": null,
      "metadata": {
        "id": "krJ8lhQb7TfC",
        "outputId": "f4dcc486-219c-401d-a5ed-0ac1100435cc",
        "colab": {
          "base_uri": "https://localhost:8080/"
        }
      },
      "outputs": [
        {
          "output_type": "stream",
          "name": "stdout",
          "text": [
            "942 ns ± 181 ns per loop (mean ± std. dev. of 7 runs, 1000000 loops each)\n"
          ]
        }
      ],
      "source": [
        "%timeit a**2"
      ]
    },
    {
      "cell_type": "markdown",
      "metadata": {
        "collapsed": false,
        "id": "w9qjtIYG7TfC"
      },
      "source": [
        "Интерактивная справка\n"
      ]
    },
    {
      "cell_type": "code",
      "execution_count": null,
      "metadata": {
        "id": "yjY4IHkY7TfD",
        "outputId": "d1e79919-1560-4722-96f3-b3f729fe9cb9",
        "colab": {
          "base_uri": "https://localhost:8080/"
        }
      },
      "outputs": [
        {
          "output_type": "execute_result",
          "data": {
            "text/plain": [
              "<function ndarray.max>"
            ]
          },
          "metadata": {},
          "execution_count": 10
        }
      ],
      "source": [
        "a.max"
      ]
    },
    {
      "cell_type": "markdown",
      "metadata": {
        "collapsed": false,
        "id": "7xwY0b_x7TfF"
      },
      "source": [
        "поиск в документации\n"
      ]
    },
    {
      "cell_type": "code",
      "execution_count": null,
      "metadata": {
        "id": "3O4ju35I7TfF",
        "outputId": "7489c822-f20f-4269-a579-559185c9078b",
        "colab": {
          "base_uri": "https://localhost:8080/"
        }
      },
      "outputs": [
        {
          "output_type": "stream",
          "name": "stdout",
          "text": [
            "Search results for 'create array'\n",
            "---------------------------------\n",
            "numpy.memmap\n",
            "    Create a memory-map to an array stored in a *binary* file on disk.\n",
            "numpy.char.array\n",
            "    Create a `chararray`.\n",
            "numpy.diagflat\n",
            "    Create a two-dimensional array with the flattened input as a diagonal.\n",
            "numpy.fromiter\n",
            "    Create a new 1-dimensional array from an iterable object.\n",
            "numpy.partition\n",
            "    Return a partitioned copy of an array.\n",
            "numpy.from_dlpack\n",
            "    Create a NumPy array from an object implementing the ``__dlpack__``\n",
            "numpy.rec.fromarrays\n",
            "    Create a record array from a (flat) list of arrays\n",
            "numpy.ctypeslib.as_array\n",
            "    Create a numpy array from a ctypes array or POINTER.\n",
            "numpy.ma.diagflat\n",
            "    diagflat\n",
            "numpy.ma.make_mask\n",
            "    Create a boolean mask from an array.\n",
            "numpy.rec.fromfile\n",
            "    Create an array from binary file data\n",
            "numpy.rec.fromstring\n",
            "    Create a record array from binary data\n",
            "numpy.lib.Arrayterator\n",
            "    Buffered iterator for big arrays.\n",
            "numpy.rec.fromrecords\n",
            "    Create a recarray from a list of records in text form.\n",
            "numpy.ctypeslib.as_ctypes\n",
            "    Create and return a ctypes object from a numpy array.  Actually\n",
            "numpy.ma.mrecords.fromarrays\n",
            "    Creates a mrecarray from a (flat) list of masked arrays.\n",
            "numpy.ma.mvoid.__new__\n",
            "    Create a new masked array from scratch.\n",
            "numpy.ma.MaskedArray.__new__\n",
            "    Create a new masked array from scratch.\n",
            "numpy.ma.mrecords.fromtextfile\n",
            "    Creates a mrecarray from data stored in the file `filename`.\n",
            "numpy.array\n",
            "    array(object, dtype=None, *, copy=True, order='K', subok=False, ndmin=0,\n",
            "numpy.asarray\n",
            "    Convert the input to an array.\n",
            "numpy.ndarray\n",
            "    ndarray(shape, dtype=float, buffer=None, offset=0,\n",
            "numpy.recarray\n",
            "    Construct an ndarray that allows field access using attributes.\n",
            "numpy.chararray\n",
            "    chararray(shape, itemsize=1, unicode=False, buffer=None, offset=0,\n",
            "numpy.exp\n",
            "    Calculate the exponential of all elements in the input array.\n",
            "numpy.pad\n",
            "    Pad an array.\n",
            "numpy.asanyarray\n",
            "    Convert the input to an ndarray, but pass ndarray subclasses through.\n",
            "numpy.cbrt\n",
            "    Return the cube-root of an array, element-wise.\n",
            "numpy.copy\n",
            "    Return an array copy of the given object.\n",
            "numpy.diag\n",
            "    Extract a diagonal or construct a diagonal array.\n",
            "numpy.exp2\n",
            "    Calculate `2**p` for all `p` in the input array.\n",
            "numpy.fmax\n",
            "    Element-wise maximum of array elements.\n",
            "numpy.fmin\n",
            "    Element-wise minimum of array elements.\n",
            "numpy.load\n",
            "    Load arrays or pickled objects from ``.npy``, ``.npz`` or pickled files.\n",
            "numpy.modf\n",
            "    Return the fractional and integral parts of an array, element-wise.\n",
            "numpy.rint\n",
            "    Round elements of the array to the nearest integer.\n",
            "numpy.sort\n",
            "    Return a sorted copy of an array.\n",
            "numpy.sqrt\n",
            "    Return the non-negative square-root of an array, element-wise.\n",
            "numpy.void\n",
            "    Create a new structured or unstructured void scalar.\n",
            "numpy.array_equiv\n",
            "    Returns True if input arrays are shape consistent and all elements equal.\n",
            "numpy.dtype\n",
            "    Create a data type object.\n",
            "numpy.expm1\n",
            "    Calculate ``exp(x) - 1`` for all elements in the array.\n",
            "numpy.isnan\n",
            "    Test element-wise for NaN and return result as a boolean array.\n",
            "numpy.isnat\n",
            "    Test element-wise for NaT (not a time) and return result as a boolean array.\n",
            "numpy.log10\n",
            "    Return the base 10 logarithm of the input array, element-wise.\n",
            "numpy.log1p\n",
            "    Return the natural logarithm of one plus the input array, element-wise.\n",
            "numpy.power\n",
            "    First array elements raised to powers from second array, element-wise.\n",
            "numpy.ufunc\n",
            "    Functions that operate element by element on whole arrays.\n",
            "numpy.choose\n",
            "    Construct an array from an index array and a list of arrays to choose from.\n",
            "numpy.nditer\n",
            "    Efficient multi-dimensional iterator object to iterate over arrays.\n",
            "numpy.maximum\n",
            "    Element-wise maximum of array elements.\n",
            "numpy.minimum\n",
            "    Element-wise minimum of array elements.\n",
            "numpy.meshgrid\n",
            "    Return a list of coordinate matrices from coordinate vectors.\n",
            "numpy.swapaxes\n",
            "    Interchange two axes of an array.\n",
            "numpy.full_like\n",
            "    Return a full array with the same shape and type as a given array.\n",
            "numpy.ones_like\n",
            "    Return an array of ones with the same shape and type as a given array.\n",
            "numpy.rec.array\n",
            "    Construct a record array from a wide-variety of objects.\n",
            "numpy.bitwise_or\n",
            "    Compute the bit-wise OR of two arrays element-wise.\n",
            "numpy.datetime64\n",
            "    If created from a 64-bit integer, it represents an offset from\n",
            "numpy.empty_like\n",
            "    Return a new array with the same shape and type as a given array.\n",
            "numpy.frombuffer\n",
            "    Interpret a buffer as a 1-dimensional array.\n",
            "numpy.zeros_like\n",
            "    Return an array of zeros with the same shape and type as a given array.\n",
            "numpy.asarray_chkfinite\n",
            "    Convert the input to an array, checking for NaNs or Infs.\n",
            "numpy.bitwise_and\n",
            "    Compute the bit-wise AND of two arrays element-wise.\n",
            "numpy.bitwise_xor\n",
            "    Compute the bit-wise XOR of two arrays element-wise.\n",
            "numpy.float_power\n",
            "    First array elements raised to powers from second array, element-wise.\n",
            "numpy.diag_indices\n",
            "    Return the indices to access the main diagonal of an array.\n",
            "numpy.ma.exp\n",
            "    Calculate the exponential of all elements in the input array.\n",
            "numpy.nested_iters\n",
            "    Create nditers for use in nested loops\n",
            "numpy.ma.diag\n",
            "    Extract a diagonal or construct a diagonal array.\n",
            "numpy.ma.sqrt\n",
            "    Return the non-negative square-root of an array, element-wise.\n",
            "numpy.ma.log10\n",
            "    Return the base 10 logarithm of the input array, element-wise.\n",
            "numpy.chararray.tolist\n",
            "    a.tolist()\n",
            "numpy.put_along_axis\n",
            "    Put values into the destination array by matching 1d index and data slices.\n",
            "numpy.ma.choose\n",
            "    Use an index array to construct a new array from a list of choices.\n",
            "numpy.ma.mrecords.MaskedRecords.__new__\n",
            "    Create a new masked array from scratch.\n",
            "numpy.ma.maximum\n",
            "    Element-wise maximum of array elements.\n",
            "numpy.ma.minimum\n",
            "    Element-wise minimum of array elements.\n",
            "numpy.savez_compressed\n",
            "    Save several arrays into a single file in compressed ``.npz`` format.\n",
            "numpy.diag_indices_from\n",
            "    Return the indices to access the main diagonal of an n-dimensional array.\n",
            "numpy.matlib.rand\n",
            "    Return a matrix of random values with given shape.\n",
            "numpy.datetime_as_string\n",
            "    Convert an array of datetimes into an array of strings.\n",
            "numpy.ma.ones_like\n",
            "    Return an array of ones with the same shape and type as a given array.\n",
            "numpy.ma.bitwise_or\n",
            "    Compute the bit-wise OR of two arrays element-wise.\n",
            "numpy.ma.compressed\n",
            "    Return all the non-masked data as a 1-D array.\n",
            "numpy.ma.empty_like\n",
            "    Return a new array with the same shape and type as a given array.\n",
            "numpy.ma.frombuffer\n",
            "    Interpret a buffer as a 1-dimensional array.\n",
            "numpy.ma.zeros_like\n",
            "    Return an array of zeros with the same shape and type as a given array.\n",
            "numpy.dtypes.StrDType\n",
            "    DType class corresponding to the scalar type and dtype of the same name.\n",
            "numpy.ma.bitwise_and\n",
            "    Compute the bit-wise AND of two arrays element-wise.\n",
            "numpy.ma.bitwise_xor\n",
            "    Compute the bit-wise XOR of two arrays element-wise.\n",
            "numpy.dtypes.BoolDType\n",
            "    DType class corresponding to the scalar type and dtype of the same name.\n",
            "numpy.dtypes.ByteDType\n",
            "    DType class corresponding to the scalar type and dtype of the same name.\n",
            "numpy.dtypes.VoidDType\n",
            "    DType class corresponding to the scalar type and dtype of the same name.\n",
            "numpy.dtypes.BytesDType\n",
            "    DType class corresponding to the scalar type and dtype of the same name.\n",
            "numpy.dtypes.Int16DType\n",
            "    DType class corresponding to the scalar type and dtype of the same name.\n",
            "numpy.dtypes.Int32DType\n",
            "    DType class corresponding to the scalar type and dtype of the same name.\n",
            "numpy.dtypes.Int64DType\n",
            "    DType class corresponding to the scalar type and dtype of the same name.\n",
            "numpy.dtypes.UByteDType\n",
            "    DType class corresponding to the scalar type and dtype of the same name.\n",
            "numpy.dtypes.ObjectDType\n",
            "    DType class corresponding to the scalar type and dtype of the same name.\n",
            "numpy.dtypes.UInt16DType\n",
            "    DType class corresponding to the scalar type and dtype of the same name.\n",
            "numpy.dtypes.UInt32DType\n",
            "    DType class corresponding to the scalar type and dtype of the same name.\n",
            "numpy.dtypes.UInt64DType\n",
            "    DType class corresponding to the scalar type and dtype of the same name.\n",
            "numpy.ma.make_mask_none\n",
            "    Return a boolean mask of the given shape, filled with False.\n",
            "numpy.dtypes.Float16DType\n",
            "    DType class corresponding to the scalar type and dtype of the same name.\n",
            "numpy.dtypes.Float32DType\n",
            "    DType class corresponding to the scalar type and dtype of the same name.\n",
            "numpy.dtypes.Float64DType\n",
            "    DType class corresponding to the scalar type and dtype of the same name.\n",
            "numpy.dtypes.LongLongDType\n",
            "    DType class corresponding to the scalar type and dtype of the same name.\n",
            "numpy.dtypes.Complex64DType\n",
            "    DType class corresponding to the scalar type and dtype of the same name.\n",
            "numpy.dtypes.ULongLongDType\n",
            "    DType class corresponding to the scalar type and dtype of the same name.\n",
            "numpy.dtypes.Complex128DType\n",
            "    DType class corresponding to the scalar type and dtype of the same name.\n",
            "numpy.dtypes.DateTime64DType\n",
            "    DType class corresponding to the scalar type and dtype of the same name.\n",
            "numpy.dtypes.LongDoubleDType\n",
            "    DType class corresponding to the scalar type and dtype of the same name.\n",
            "numpy.dtypes.CLongDoubleDType\n",
            "    DType class corresponding to the scalar type and dtype of the same name.\n",
            "numpy.dtypes.TimeDelta64DType\n",
            "    DType class corresponding to the scalar type and dtype of the same name.\n",
            "numpy.ma.tests.test_subclassing.MSubArray.__new__\n",
            "    Create a new masked array from scratch.\n",
            "numpy.ma.tests.test_subclassing.SubMaskedArray.__new__\n",
            "    Create a new masked array from scratch.\n",
            "numpy.ma.mrecords.fromrecords\n",
            "    Creates a MaskedRecords from a list of records.\n",
            "numpy.f2py.tests.test_array_from_pyobj.Array.has_shared_memory\n",
            "    Check that created array shares data with input array.\n",
            "numpy.abs\n",
            "    Calculate the absolute value element-wise.\n",
            "numpy.add\n",
            "    Add arguments element-wise.\n",
            "numpy.cos\n",
            "    Cosine element-wise.\n",
            "numpy.log\n",
            "    Natural logarithm, element-wise.\n",
            "numpy.mod\n",
            "    Returns the element-wise remainder of division.\n",
            "numpy.sin\n",
            "    Trigonometric sine, element-wise.\n",
            "numpy.tan\n",
            "    Compute tangent element-wise.\n",
            "numpy.lib.recfunctions.require_fields\n",
            "    Casts a structured array to a new dtype using assignment by field-name.\n",
            "numpy.ceil\n",
            "    Return the ceiling of the input, element-wise.\n",
            "numpy.conj\n",
            "    Return the complex conjugate, element-wise.\n",
            "numpy.cosh\n",
            "    Hyperbolic cosine, element-wise.\n",
            "numpy.fabs\n",
            "    Compute the absolute values element-wise.\n",
            "numpy.fmod\n",
            "    Returns the element-wise remainder of division.\n",
            "numpy.less\n",
            "    Return the truth value of (x1 < x2) element-wise.\n",
            "numpy.log2\n",
            "    Base-2 logarithm of `x`.\n",
            "numpy.sign\n",
            "    Returns an element-wise indication of the sign of a number.\n",
            "numpy.sinh\n",
            "    Hyperbolic sine, element-wise.\n",
            "numpy.tanh\n",
            "    Compute hyperbolic tangent element-wise.\n",
            "numpy.equal\n",
            "    Return (x1 == x2) element-wise.\n",
            "numpy.floor\n",
            "    Return the floor of the input, element-wise.\n",
            "numpy.frexp\n",
            "    Decompose the elements of x into mantissa and twos exponent.\n",
            "numpy.hypot\n",
            "    Given the \"legs\" of a right triangle, return its hypotenuse.\n",
            "numpy.isinf\n",
            "    Test element-wise for positive or negative infinity.\n",
            "numpy.ldexp\n",
            "    Returns x1 * 2**x2, element-wise.\n",
            "numpy.trunc\n",
            "    Return the truncated value of the input, element-wise.\n",
            "numpy.arccos\n",
            "    Trigonometric inverse cosine, element-wise.\n",
            "numpy.arcsin\n",
            "    Inverse sine, element-wise.\n",
            "numpy.arctan\n",
            "    Trigonometric inverse tangent, element-wise.\n",
            "numpy.divide\n",
            "    Divide arguments element-wise.\n",
            "numpy.divmod\n",
            "    Return element-wise quotient and remainder simultaneously.\n",
            "numpy.source\n",
            "    Print or write to a file the source code for a NumPy object.\n",
            "numpy.square\n",
            "    Return the element-wise square of the input.\n",
            "numpy.arccosh\n",
            "    Inverse hyperbolic cosine, element-wise.\n",
            "numpy.arcsinh\n",
            "    Inverse hyperbolic sine element-wise.\n",
            "numpy.arctan2\n",
            "    Element-wise arc tangent of ``x1/x2`` choosing the quadrant correctly.\n",
            "numpy.arctanh\n",
            "    Inverse hyperbolic tangent element-wise.\n",
            "numpy.deg2rad\n",
            "    Convert angles from degrees to radians.\n",
            "numpy.degrees\n",
            "    Convert angles from radians to degrees.\n",
            "numpy.greater\n",
            "    Return the truth value of (x1 > x2) element-wise.\n",
            "numpy.rad2deg\n",
            "    Convert angles from radians to degrees.\n",
            "numpy.radians\n",
            "    Convert angles from degrees to radians.\n",
            "numpy.signbit\n",
            "    Returns element-wise True where signbit is set (less than zero).\n",
            "numpy.spacing\n",
            "    Return the distance between x and the nearest adjacent number.\n",
            "numpy.copysign\n",
            "    Change the sign of x1 to that of x2, element-wise.\n",
            "numpy.diagonal\n",
            "    Return specified diagonals.\n",
            "numpy.isfinite\n",
            "    Test element-wise for finiteness (not infinity and not Not a Number).\n",
            "numpy.multiply\n",
            "    Multiply arguments element-wise.\n",
            "numpy.negative\n",
            "    Numerical negative, element-wise.\n",
            "numpy.subtract\n",
            "    Subtract arguments, element-wise.\n",
            "numpy.heaviside\n",
            "    Compute the Heaviside step function.\n",
            "numpy.logaddexp\n",
            "    Logarithm of the sum of exponentiations of the inputs.\n",
            "numpy.nextafter\n",
            "    Return the next floating-point value after x1 towards x2, element-wise.\n",
            "numpy.not_equal\n",
            "    Return (x1 != x2) element-wise.\n",
            "numpy.left_shift\n",
            "    Shift the bits of an integer to the left.\n",
            "numpy.less_equal\n",
            "    Return the truth value of (x1 <= x2) element-wise.\n",
            "numpy.logaddexp2\n",
            "    Logarithm of the sum of exponentiations of the inputs in base-2.\n",
            "numpy.logical_or\n",
            "    Compute the truth value of x1 OR x2 element-wise.\n",
            "numpy.nan_to_num\n",
            "    Replace NaN with zero and infinity with large finite numbers (default\n",
            "numpy.reciprocal\n",
            "    Return the reciprocal of the argument, element-wise.\n",
            "numpy.bitwise_not\n",
            "    Compute bit-wise inversion, or bit-wise NOT, element-wise.\n",
            "numpy.einsum_path\n",
            "    Evaluates the lowest cost contraction order for an einsum expression by\n",
            "numpy.histogram2d\n",
            "    Compute the bi-dimensional histogram of two data samples.\n",
            "numpy.logical_and\n",
            "    Compute the truth value of x1 AND x2 element-wise.\n",
            "numpy.logical_not\n",
            "    Compute the truth value of NOT x element-wise.\n",
            "numpy.logical_xor\n",
            "    Compute the truth value of x1 XOR x2, element-wise.\n",
            "numpy.right_shift\n",
            "    Shift the bits of an integer to the right.\n",
            "numpy.ma.abs\n",
            "    Calculate the absolute value element-wise.\n",
            "numpy.ma.add\n",
            "    Add arguments element-wise.\n",
            "numpy.ma.cos\n",
            "    Cosine element-wise.\n",
            "numpy.floor_divide\n",
            "    Return the largest integer smaller or equal to the division of the inputs.\n",
            "numpy.ma.log\n",
            "    Natural logarithm, element-wise.\n",
            "numpy.ma.mod\n",
            "    Returns the element-wise remainder of division.\n",
            "numpy.ma.sin\n",
            "    Trigonometric sine, element-wise.\n",
            "numpy.ma.tan\n",
            "    Compute tangent element-wise.\n",
            "numpy.ma.ceil\n",
            "    Return the ceiling of the input, element-wise.\n",
            "numpy.fft.ifft\n",
            "    Compute the one-dimensional inverse discrete Fourier Transform.\n",
            "numpy.ma.cosh\n",
            "    Hyperbolic cosine, element-wise.\n",
            "numpy.ma.fabs\n",
            "    Compute the absolute values element-wise.\n",
            "numpy.ma.fmod\n",
            "    Returns the element-wise remainder of division.\n",
            "numpy.ma.less\n",
            "    Return the truth value of (x1 < x2) element-wise.\n",
            "numpy.ma.log2\n",
            "    Base-2 logarithm of `x`.\n",
            "numpy.greater_equal\n",
            "    Return the truth value of (x1 >= x2) element-wise.\n",
            "numpy.ma.sinh\n",
            "    Hyperbolic sine, element-wise.\n",
            "numpy.ma.tanh\n",
            "    Compute hyperbolic tangent element-wise.\n",
            "numpy.busdaycalendar\n",
            "    A business day calendar object that efficiently stores information\n",
            "numpy.fft.ifftn\n",
            "    Compute the N-dimensional inverse discrete Fourier Transform.\n",
            "numpy.ma.equal\n",
            "    Return (x1 == x2) element-wise.\n",
            "numpy.ma.floor\n",
            "    Return the floor of the input, element-wise.\n",
            "numpy.ma.hypot\n",
            "    Given the \"legs\" of a right triangle, return its hypotenuse.\n",
            "numpy.ma.arccos\n",
            "    Trigonometric inverse cosine, element-wise.\n",
            "numpy.ma.arcsin\n",
            "    Inverse sine, element-wise.\n",
            "numpy.ma.arctan\n",
            "    Trigonometric inverse tangent, element-wise.\n",
            "numpy.ma.divide\n",
            "    Divide arguments element-wise.\n",
            "numpy.lib.recfunctions.unstructured_to_structured\n",
            "    Converts an n-D unstructured array into an (n-1)-D structured array.\n",
            "numpy.ma.arccosh\n",
            "    Inverse hyperbolic cosine, element-wise.\n",
            "numpy.ma.arcsinh\n",
            "    Inverse hyperbolic sine element-wise.\n",
            "numpy.ma.arctan2\n",
            "    Element-wise arc tangent of ``x1/x2`` choosing the quadrant correctly.\n",
            "numpy.ma.arctanh\n",
            "    Inverse hyperbolic tangent element-wise.\n",
            "numpy.ma.greater\n",
            "    Return the truth value of (x1 > x2) element-wise.\n",
            "numpy.ma.tests.test_subclassing.SubArray\n",
            "    ndarray(shape, dtype=float, buffer=None, offset=0,\n",
            "numpy.ma.multiply\n",
            "    Multiply arguments element-wise.\n",
            "numpy.ma.negative\n",
            "    Numerical negative, element-wise.\n",
            "numpy.ma.subtract\n",
            "    Subtract arguments, element-wise.\n",
            "numpy.tril_indices_from\n",
            "    Return the indices for the lower-triangle of arr.\n",
            "numpy.triu_indices_from\n",
            "    Return the indices for the upper-triangle of arr.\n",
            "numpy.ma.conjugate\n",
            "    Return the complex conjugate, element-wise.\n",
            "numpy.ma.not_equal\n",
            "    Return (x1 != x2) element-wise.\n",
            "numpy.ma.remainder\n",
            "    Returns the element-wise remainder of division.\n",
            "numpy.ma.less_equal\n",
            "    Return the truth value of (x1 <= x2) element-wise.\n",
            "numpy.ma.logical_or\n",
            "    Compute the truth value of x1 OR x2 element-wise.\n",
            "numpy.ma.logical_and\n",
            "    Compute the truth value of x1 AND x2 element-wise.\n",
            "numpy.ma.logical_not\n",
            "    Compute the truth value of NOT x element-wise.\n",
            "numpy.ma.logical_xor\n",
            "    Compute the truth value of x1 XOR x2, element-wise.\n",
            "numpy.ma.true_divide\n",
            "    Divide arguments element-wise.\n",
            "numpy.ma.floor_divide\n",
            "    Return the largest integer smaller or equal to the division of the inputs.\n",
            "numpy.ma.greater_equal\n",
            "    Return the truth value of (x1 >= x2) element-wise.\n",
            "numpy.lib.tests.test_stride_tricks.SimpleSubClass\n",
            "    ndarray(shape, dtype=float, buffer=None, offset=0,\n",
            "numpy.ma.tests.test_subclassing.ComplicatedSubArray\n",
            "    ndarray(shape, dtype=float, buffer=None, offset=0,\n",
            "numpy.lib.tests.test_stride_tricks.VerySimpleSubClass\n",
            "    ndarray(shape, dtype=float, buffer=None, offset=0,\n",
            "numpy.random.RandomState.rand\n",
            "    Random values in a given shape.\n",
            "numpy.random.Generator.permuted\n",
            "    Randomly permute `x` along axis `axis`."
          ]
        }
      ],
      "source": [
        "np.lookfor('create array')"
      ]
    },
    {
      "cell_type": "code",
      "execution_count": null,
      "metadata": {
        "id": "YwKEPNua7TfG",
        "outputId": "50f72ce2-2439-428e-85f5-a91d4a60868e",
        "colab": {
          "base_uri": "https://localhost:8080/"
        }
      },
      "outputs": [
        {
          "output_type": "stream",
          "name": "stdout",
          "text": [
            "/content\n"
          ]
        }
      ],
      "source": [
        "!pwd"
      ]
    },
    {
      "cell_type": "code",
      "execution_count": null,
      "metadata": {
        "id": "U7Kkf-Vw7TfG"
      },
      "outputs": [],
      "source": [
        "np.con*?"
      ]
    },
    {
      "cell_type": "markdown",
      "metadata": {
        "collapsed": false,
        "id": "ZdLb-EXP7TfH"
      },
      "source": [
        "#### Библиотеку принято импортировать так"
      ]
    },
    {
      "cell_type": "code",
      "execution_count": null,
      "metadata": {
        "id": "akXnk0277TfH"
      },
      "outputs": [],
      "source": [
        "import numpy as np"
      ]
    },
    {
      "cell_type": "markdown",
      "metadata": {
        "collapsed": false,
        "id": "m7ZBIxI77TfH"
      },
      "source": [
        "## Создание массивов"
      ]
    },
    {
      "cell_type": "markdown",
      "metadata": {
        "collapsed": false,
        "id": "KJkjvHm57TfH"
      },
      "source": [
        "* **1-D**:\n"
      ]
    },
    {
      "cell_type": "code",
      "execution_count": null,
      "metadata": {
        "id": "9ImwK1Vf7TfI",
        "outputId": "ed11e048-cb32-4f77-cb72-992b4bb2eea7",
        "colab": {
          "base_uri": "https://localhost:8080/"
        }
      },
      "outputs": [
        {
          "output_type": "execute_result",
          "data": {
            "text/plain": [
              "array([0, 1, 2, 3])"
            ]
          },
          "metadata": {},
          "execution_count": 13
        }
      ],
      "source": [
        "a = np.array([0, 1, 2, 3])\n",
        "a"
      ]
    },
    {
      "cell_type": "code",
      "execution_count": null,
      "metadata": {
        "id": "gCoFo4h17TfJ",
        "outputId": "4cd2fa05-386b-4f34-a09c-b8ff44e5d9a0",
        "colab": {
          "base_uri": "https://localhost:8080/"
        }
      },
      "outputs": [
        {
          "output_type": "execute_result",
          "data": {
            "text/plain": [
              "1"
            ]
          },
          "metadata": {},
          "execution_count": 14
        }
      ],
      "source": [
        "a.ndim"
      ]
    },
    {
      "cell_type": "code",
      "execution_count": null,
      "metadata": {
        "id": "CA5V5HfI7TfJ",
        "outputId": "fa6900a6-ac93-4913-aded-e5f799623d30",
        "colab": {
          "base_uri": "https://localhost:8080/"
        }
      },
      "outputs": [
        {
          "output_type": "execute_result",
          "data": {
            "text/plain": [
              "(4,)"
            ]
          },
          "metadata": {},
          "execution_count": 15
        }
      ],
      "source": [
        "a.shape"
      ]
    },
    {
      "cell_type": "code",
      "execution_count": null,
      "metadata": {
        "id": "Ef7ivnsK7TfJ",
        "outputId": "35c5f362-82c8-40fc-adf2-006d680ba6ae",
        "colab": {
          "base_uri": "https://localhost:8080/"
        }
      },
      "outputs": [
        {
          "output_type": "execute_result",
          "data": {
            "text/plain": [
              "4"
            ]
          },
          "metadata": {},
          "execution_count": 16
        }
      ],
      "source": [
        "len(a)"
      ]
    },
    {
      "cell_type": "markdown",
      "metadata": {
        "collapsed": false,
        "id": "bVimltSh7TfK"
      },
      "source": [
        "* **2-D, 3-D, ...**:\n"
      ]
    },
    {
      "cell_type": "code",
      "execution_count": null,
      "metadata": {
        "id": "M744JHoF7TfK"
      },
      "outputs": [],
      "source": [
        "b = np.array([[0, 1, 2], [3, 4, 5]])    # 2 x 3 array"
      ]
    },
    {
      "cell_type": "code",
      "execution_count": null,
      "metadata": {
        "id": "x6vZAnc47TfK",
        "outputId": "2806785c-e15e-4b01-b93b-1b097ba84445",
        "colab": {
          "base_uri": "https://localhost:8080/"
        }
      },
      "outputs": [
        {
          "output_type": "execute_result",
          "data": {
            "text/plain": [
              "2"
            ]
          },
          "metadata": {},
          "execution_count": 19
        }
      ],
      "source": [
        "b.ndim"
      ]
    },
    {
      "cell_type": "code",
      "execution_count": null,
      "metadata": {
        "id": "cC5_HDyX7TfL",
        "outputId": "132d3c50-ffb0-404d-e88b-4a567486a941",
        "colab": {
          "base_uri": "https://localhost:8080/"
        }
      },
      "outputs": [
        {
          "output_type": "execute_result",
          "data": {
            "text/plain": [
              "(2, 3)"
            ]
          },
          "metadata": {},
          "execution_count": 20
        }
      ],
      "source": [
        "b.shape"
      ]
    },
    {
      "cell_type": "code",
      "execution_count": null,
      "metadata": {
        "id": "XQwHWHap7TfL",
        "outputId": "fed08b2d-e91e-4972-d0e5-ec5359637520",
        "colab": {
          "base_uri": "https://localhost:8080/"
        }
      },
      "outputs": [
        {
          "output_type": "execute_result",
          "data": {
            "text/plain": [
              "2"
            ]
          },
          "metadata": {},
          "execution_count": 21
        }
      ],
      "source": [
        "len(b)     # returns the size of the first dimension"
      ]
    },
    {
      "cell_type": "code",
      "execution_count": null,
      "metadata": {
        "id": "ln_e7xpS7TfN",
        "outputId": "f85f59a9-b6b3-429c-bd2d-9811e1c6c1da",
        "colab": {
          "base_uri": "https://localhost:8080/"
        }
      },
      "outputs": [
        {
          "output_type": "execute_result",
          "data": {
            "text/plain": [
              "array([[[1],\n",
              "        [2]],\n",
              "\n",
              "       [[3],\n",
              "        [4]]])"
            ]
          },
          "metadata": {},
          "execution_count": 22
        }
      ],
      "source": [
        "c = np.array([[[1], [2]], [[3], [4]]])\n",
        "c"
      ]
    },
    {
      "cell_type": "code",
      "execution_count": null,
      "metadata": {
        "id": "oZdQMi1i7TfO",
        "outputId": "3da65cf2-ea5d-4ec1-d8d8-6ef1299696cf",
        "colab": {
          "base_uri": "https://localhost:8080/"
        }
      },
      "outputs": [
        {
          "output_type": "execute_result",
          "data": {
            "text/plain": [
              "(2, 2, 1)"
            ]
          },
          "metadata": {},
          "execution_count": 23
        }
      ],
      "source": [
        "c.shape"
      ]
    },
    {
      "cell_type": "markdown",
      "metadata": {
        "collapsed": false,
        "id": "EfrPIyOm7TfO"
      },
      "source": [
        "## Методы для создания массивов"
      ]
    },
    {
      "cell_type": "markdown",
      "metadata": {
        "collapsed": false,
        "id": "z3wmmb0k7TfP"
      },
      "source": [
        "На практике мы редко добавляем элементы по одному\n"
      ]
    },
    {
      "cell_type": "markdown",
      "metadata": {
        "collapsed": false,
        "id": "qnf3Gyeg7TfP"
      },
      "source": [
        "- Равномерно распределенные элементы:\n"
      ]
    },
    {
      "cell_type": "code",
      "execution_count": null,
      "metadata": {
        "id": "OL-JMCww7TfP",
        "outputId": "9f7f2a00-f792-4908-8974-aa7b6919da4e",
        "colab": {
          "base_uri": "https://localhost:8080/"
        }
      },
      "outputs": [
        {
          "output_type": "execute_result",
          "data": {
            "text/plain": [
              "array([0, 1, 2, 3, 4, 5, 6, 7, 8, 9])"
            ]
          },
          "metadata": {},
          "execution_count": 24
        }
      ],
      "source": [
        "a = np.arange(10) # 0 .. n-1  (!)\n",
        "a"
      ]
    },
    {
      "cell_type": "code",
      "execution_count": null,
      "metadata": {
        "id": "5HM-3FFo7TfP",
        "outputId": "05c1c863-8700-42da-8091-c676910fb0b5",
        "colab": {
          "base_uri": "https://localhost:8080/"
        }
      },
      "outputs": [
        {
          "output_type": "execute_result",
          "data": {
            "text/plain": [
              "array([1, 3, 5, 7])"
            ]
          },
          "metadata": {},
          "execution_count": 25
        }
      ],
      "source": [
        "b = np.arange(1, 9, 2) # start, end (exclusive), step\n",
        "b"
      ]
    },
    {
      "cell_type": "markdown",
      "metadata": {
        "collapsed": false,
        "id": "uoNLSfwb7TfW"
      },
      "source": [
        "- по числу элементов:\n"
      ]
    },
    {
      "cell_type": "code",
      "execution_count": null,
      "metadata": {
        "id": "5D20VrPC7TfX",
        "outputId": "aa9088d3-b5e6-4a28-c95f-f1842972c8d0",
        "colab": {
          "base_uri": "https://localhost:8080/"
        }
      },
      "outputs": [
        {
          "output_type": "execute_result",
          "data": {
            "text/plain": [
              "array([0. , 0.2, 0.4, 0.6, 0.8, 1. ])"
            ]
          },
          "metadata": {},
          "execution_count": 26
        }
      ],
      "source": [
        "c = np.linspace(0, 1, 6)   # start, end, num-points\n",
        "c"
      ]
    },
    {
      "cell_type": "code",
      "execution_count": null,
      "metadata": {
        "id": "DRxDgxpo7TfX",
        "outputId": "b9f3e312-05c9-4953-f1e1-f8fcd8c08b19",
        "colab": {
          "base_uri": "https://localhost:8080/"
        }
      },
      "outputs": [
        {
          "output_type": "execute_result",
          "data": {
            "text/plain": [
              "array([0. , 0.2, 0.4, 0.6, 0.8])"
            ]
          },
          "metadata": {},
          "execution_count": 27
        }
      ],
      "source": [
        "d = np.linspace(0, 1, 5, endpoint=False)\n",
        "d"
      ]
    },
    {
      "cell_type": "markdown",
      "metadata": {
        "collapsed": false,
        "id": "CLT_I6BV7TfX"
      },
      "source": [
        "- Часто встречающиеся массивы:\n"
      ]
    },
    {
      "cell_type": "code",
      "execution_count": null,
      "metadata": {
        "id": "RLKlI-1P7TfY",
        "outputId": "2a798828-6da6-4afa-e450-82ad01106b97",
        "colab": {
          "base_uri": "https://localhost:8080/"
        }
      },
      "outputs": [
        {
          "output_type": "execute_result",
          "data": {
            "text/plain": [
              "array([[1., 1., 1.],\n",
              "       [1., 1., 1.],\n",
              "       [1., 1., 1.]])"
            ]
          },
          "metadata": {},
          "execution_count": 28
        }
      ],
      "source": [
        "a = np.ones((3, 3))  # reminder: (3, 3) is a tuple\n",
        "a"
      ]
    },
    {
      "cell_type": "code",
      "execution_count": null,
      "metadata": {
        "id": "RaQLsw_C7TfY",
        "outputId": "2e7ab9e1-032b-44d0-f720-8e142a37809e",
        "colab": {
          "base_uri": "https://localhost:8080/"
        }
      },
      "outputs": [
        {
          "output_type": "execute_result",
          "data": {
            "text/plain": [
              "array([[0., 0.],\n",
              "       [0., 0.]])"
            ]
          },
          "metadata": {},
          "execution_count": 29
        }
      ],
      "source": [
        "b = np.zeros((2, 2))\n",
        "b"
      ]
    },
    {
      "cell_type": "code",
      "execution_count": null,
      "metadata": {
        "id": "E0wRoLiz7TfY",
        "outputId": "959e6685-8c42-4c70-ac59-49b14f8ef242",
        "colab": {
          "base_uri": "https://localhost:8080/"
        }
      },
      "outputs": [
        {
          "output_type": "execute_result",
          "data": {
            "text/plain": [
              "array([[1., 0., 0.],\n",
              "       [0., 1., 0.],\n",
              "       [0., 0., 1.]])"
            ]
          },
          "metadata": {},
          "execution_count": 30
        }
      ],
      "source": [
        "c = np.eye(3)\n",
        "c"
      ]
    },
    {
      "cell_type": "code",
      "execution_count": null,
      "metadata": {
        "id": "WGFeXp8U7TfY",
        "outputId": "dddf9adf-9904-4700-c00f-0b0ad6c19f7b",
        "colab": {
          "base_uri": "https://localhost:8080/"
        }
      },
      "outputs": [
        {
          "output_type": "execute_result",
          "data": {
            "text/plain": [
              "array([[1, 0, 0, 0],\n",
              "       [0, 2, 0, 0],\n",
              "       [0, 0, 3, 0],\n",
              "       [0, 0, 0, 4]])"
            ]
          },
          "metadata": {},
          "execution_count": 31
        }
      ],
      "source": [
        "d = np.diag(np.array([1, 2, 3, 4]))\n",
        "d"
      ]
    },
    {
      "cell_type": "markdown",
      "metadata": {
        "collapsed": false,
        "id": "PZAan52x7TfZ"
      },
      "source": [
        "* `np.random` генерация случайных чисел (Mersenne Twister PRNG):"
      ]
    },
    {
      "cell_type": "code",
      "execution_count": null,
      "metadata": {
        "id": "Tx5Y714p7TfZ",
        "outputId": "5a1c9ff9-23a5-4ecb-f1ef-0fe10c09ea38",
        "colab": {
          "base_uri": "https://localhost:8080/"
        }
      },
      "outputs": [
        {
          "output_type": "execute_result",
          "data": {
            "text/plain": [
              "array([0.19151945, 0.62210877, 0.43772774, 0.78535858])"
            ]
          },
          "metadata": {},
          "execution_count": 32
        }
      ],
      "source": [
        "np.random.seed(1234)\n",
        "a = np.random.rand(4)       # uniform in [0, 1]\n",
        "a"
      ]
    },
    {
      "cell_type": "code",
      "execution_count": null,
      "metadata": {
        "id": "1ELwHsb67TfZ",
        "outputId": "4ff4356a-811d-46db-fdcc-6b47aa98a204",
        "colab": {
          "base_uri": "https://localhost:8080/"
        }
      },
      "outputs": [
        {
          "output_type": "execute_result",
          "data": {
            "text/plain": [
              "array([-0.72058873,  0.88716294,  0.85958841, -0.6365235 ])"
            ]
          },
          "metadata": {},
          "execution_count": 33
        }
      ],
      "source": [
        "b = np.random.randn(4)      # Gaussian\n",
        "b"
      ]
    },
    {
      "cell_type": "code",
      "execution_count": null,
      "metadata": {
        "id": "lc1iesjN7Tfa"
      },
      "outputs": [],
      "source": [
        "np.random.seed(1234)        # Setting the random seed"
      ]
    },
    {
      "cell_type": "markdown",
      "metadata": {
        "collapsed": false,
        "id": "Jl92OVfF7Tfa"
      },
      "source": [
        "## Основные типы данных NumPy"
      ]
    },
    {
      "cell_type": "markdown",
      "metadata": {
        "collapsed": false,
        "id": "Ef5DcOGg7Tfa"
      },
      "source": [
        "Точка после числа означает, что это тип данных `float64`\n"
      ]
    },
    {
      "cell_type": "code",
      "execution_count": null,
      "metadata": {
        "id": "s9yjrsR47Tfa",
        "outputId": "1f76e9b7-6a0a-4fc7-91a4-f5442ea99150",
        "colab": {
          "base_uri": "https://localhost:8080/"
        }
      },
      "outputs": [
        {
          "output_type": "execute_result",
          "data": {
            "text/plain": [
              "dtype('int64')"
            ]
          },
          "metadata": {},
          "execution_count": 35
        }
      ],
      "source": [
        "a = np.array([1, 2, 3])\n",
        "a.dtype"
      ]
    },
    {
      "cell_type": "code",
      "execution_count": null,
      "metadata": {
        "id": "DGPEmxJ37Tfb",
        "outputId": "5d18f8ea-95ce-4906-a462-8a4b11c75ba6",
        "colab": {
          "base_uri": "https://localhost:8080/"
        }
      },
      "outputs": [
        {
          "output_type": "execute_result",
          "data": {
            "text/plain": [
              "dtype('float64')"
            ]
          },
          "metadata": {},
          "execution_count": 36
        }
      ],
      "source": [
        "b = np.array([1.1, 2.2, 3.5])\n",
        "b.dtype"
      ]
    },
    {
      "cell_type": "markdown",
      "metadata": {
        "collapsed": false,
        "id": "1raoiqkV7Tfc"
      },
      "source": [
        "Можно задать тип данных явно. По умолчанию - `float64`"
      ]
    },
    {
      "cell_type": "code",
      "execution_count": null,
      "metadata": {
        "id": "-tCJaEv-7Tfc",
        "outputId": "9f90981e-c61f-4130-e5f8-708be6fd2291",
        "colab": {
          "base_uri": "https://localhost:8080/"
        }
      },
      "outputs": [
        {
          "output_type": "execute_result",
          "data": {
            "text/plain": [
              "dtype('float64')"
            ]
          },
          "metadata": {},
          "execution_count": 37
        }
      ],
      "source": [
        "c = np.array([1, 2, 3], dtype=float)\n",
        "c.dtype"
      ]
    },
    {
      "cell_type": "code",
      "execution_count": null,
      "metadata": {
        "id": "AnxAxoRD7Tfd",
        "outputId": "b4e28fc8-e6be-4f11-ffc5-ebbb02e8d241",
        "colab": {
          "base_uri": "https://localhost:8080/"
        }
      },
      "outputs": [
        {
          "output_type": "execute_result",
          "data": {
            "text/plain": [
              "dtype('float64')"
            ]
          },
          "metadata": {},
          "execution_count": 38
        }
      ],
      "source": [
        "a = np.ones((3, 3))\n",
        "a.dtype"
      ]
    },
    {
      "cell_type": "markdown",
      "metadata": {
        "collapsed": false,
        "id": "_x3_SN7Y7Tfd"
      },
      "source": [
        "Прочие типы данных:"
      ]
    },
    {
      "cell_type": "markdown",
      "metadata": {
        "collapsed": false,
        "id": "rizfkk4G7Tfd"
      },
      "source": [
        "- Комплексные числа\n"
      ]
    },
    {
      "cell_type": "code",
      "execution_count": null,
      "metadata": {
        "id": "rxIygyU27Tfe",
        "outputId": "32b128c2-cb57-4feb-a296-76567b008de8"
      },
      "outputs": [
        {
          "data": {
            "text/plain": [
              "dtype('complex128')"
            ]
          },
          "execution_count": 36,
          "metadata": {},
          "output_type": "execute_result"
        }
      ],
      "source": [
        "d = np.array([1+2j, 3+4j, 5+6*1j])\n",
        "d.dtype"
      ]
    },
    {
      "cell_type": "markdown",
      "metadata": {
        "collapsed": false,
        "id": "32EKcoUD7Tfe"
      },
      "source": [
        " - Bool\n"
      ]
    },
    {
      "cell_type": "code",
      "execution_count": null,
      "metadata": {
        "id": "csQRmfAE7Tfe",
        "outputId": "66346b85-e0ac-4118-87ca-3261d78cbd0f"
      },
      "outputs": [
        {
          "data": {
            "text/plain": [
              "dtype('bool')"
            ]
          },
          "execution_count": 37,
          "metadata": {},
          "output_type": "execute_result"
        }
      ],
      "source": [
        "e = np.array([True, False, False, True])\n",
        "e.dtype"
      ]
    },
    {
      "cell_type": "markdown",
      "metadata": {
        "collapsed": false,
        "id": "NgSx4IoF7Tfe"
      },
      "source": [
        "- Строки\n",
        "\n",
        "На строки память выделяется \"жадно\" - по максимальному числу литер в строке.\n",
        "В этом примере на каждую строку выделяется по 7 литер, и тип данных - 'S7'"
      ]
    },
    {
      "cell_type": "code",
      "execution_count": null,
      "metadata": {
        "id": "yAb98DEP7Tff",
        "outputId": "ae9f2677-3d11-48cc-85a9-d43f15c45c7a"
      },
      "outputs": [
        {
          "data": {
            "text/plain": [
              "dtype('<U7')"
            ]
          },
          "execution_count": 38,
          "metadata": {},
          "output_type": "execute_result"
        }
      ],
      "source": [
        "f = np.array(['Bonjour', 'Hello', 'Hallo',])\n",
        "f.dtype     # <--- strings containing max. 7 letters"
      ]
    },
    {
      "cell_type": "markdown",
      "metadata": {
        "collapsed": false,
        "id": "-TJO_sKA7Tff"
      },
      "source": [
        "## Основы визуализации"
      ]
    },
    {
      "cell_type": "markdown",
      "metadata": {
        "collapsed": false,
        "id": "jyiG2Yat7Tff"
      },
      "source": [
        "$ ipython notebook --pylab=inline"
      ]
    },
    {
      "cell_type": "markdown",
      "metadata": {
        "collapsed": false,
        "id": "Dz7CPFiD7Tff"
      },
      "source": [
        "Или из тетрадки:"
      ]
    },
    {
      "cell_type": "code",
      "execution_count": null,
      "metadata": {
        "id": "2JtAwBjS7Tfg",
        "outputId": "cb418b3e-37bd-4b73-ad61-c90fadf161b2"
      },
      "outputs": [
        {
          "name": "stdout",
          "output_type": "stream",
          "text": [
            "Populating the interactive namespace from numpy and matplotlib\n"
          ]
        }
      ],
      "source": [
        "%pylab inline"
      ]
    },
    {
      "cell_type": "markdown",
      "metadata": {
        "collapsed": false,
        "id": "DfxsH2nl7Tfh"
      },
      "source": [
        "Параметр `inline` говорит серверу IPython о том, что результаты будут отображаться в самой тетрадке, а не в новом окне.\n"
      ]
    },
    {
      "cell_type": "markdown",
      "metadata": {
        "collapsed": false,
        "id": "YX12OyH-7Tfh"
      },
      "source": [
        "Импортируем *Matplotlib*\n"
      ]
    },
    {
      "cell_type": "code",
      "execution_count": null,
      "metadata": {
        "id": "7iXxwt2D7Tfh"
      },
      "outputs": [],
      "source": [
        "import matplotlib.pyplot as plt  # the tidy way"
      ]
    },
    {
      "cell_type": "code",
      "execution_count": null,
      "metadata": {
        "id": "YAJqoicj7Tfi",
        "outputId": "b9abd5a9-e503-4957-d03f-a8053d9a7ee7"
      },
      "outputs": [
        {
          "data": {
            "image/png": "[encoded data removed]"
          },
          "output_type": "display_data"
        }
      ],
      "source": [
        "x = np.linspace(0, 3, 20)\n",
        "y = np.linspace(0, 9, 20)\n",
        "plt.plot(x, y)       # line plot\n",
        "plt.show()           # <-- shows the plot (not needed with pylab)"
      ]
    },
    {
      "cell_type": "markdown",
      "metadata": {
        "collapsed": false,
        "id": "ep6ylNDX7Tfi"
      },
      "source": [
        "Или с использованием *pylab*:\n"
      ]
    },
    {
      "cell_type": "code",
      "execution_count": null,
      "metadata": {
        "id": "jtKP2ELa7Tfi",
        "outputId": "a4723996-b84e-4ed1-f80c-c1d10088529f"
      },
      "outputs": [
        {
          "data": {
            "text/plain": [
              "[<matplotlib.lines.Line2D at 0x106ddcdd0>]"
            ]
          },
          "execution_count": 42,
          "metadata": {},
          "output_type": "execute_result"
        },
        {
          "data": {
            "image/png": "[encoded data removed]"
          },
          "output_type": "display_data"
        }
      ],
      "source": [
        "plot(x, y)       # line plot"
      ]
    },
    {
      "cell_type": "markdown",
      "metadata": {
        "collapsed": false,
        "id": "gIHANSPO7Tfj"
      },
      "source": [
        "Использование `import matplotlib.pyplot as plt` рекомендуется для скриптов, а `pylab` - в тетрадках IPython."
      ]
    },
    {
      "cell_type": "markdown",
      "metadata": {
        "collapsed": false,
        "id": "44rKpEoI7Tfj"
      },
      "source": [
        " - Отображение одномерных массивов:\n"
      ]
    },
    {
      "cell_type": "code",
      "execution_count": null,
      "metadata": {
        "id": "zEsxMQ7S7Tfj",
        "outputId": "1b4ccb2e-7c87-4d9b-a5fd-412888426c5a"
      },
      "outputs": [
        {
          "data": {
            "text/plain": [
              "[<matplotlib.lines.Line2D at 0x106f0f090>]"
            ]
          },
          "execution_count": 43,
          "metadata": {},
          "output_type": "execute_result"
        },
        {
          "data": {
            "image/png": "[encoded data removed]"
          },
          "output_type": "display_data"
        }
      ],
      "source": [
        "x = np.linspace(0, 3, 20)\n",
        "y = np.linspace(0, 9, 20)\n",
        "plt.plot(x, y)       # line plot"
      ]
    },
    {
      "cell_type": "code",
      "execution_count": null,
      "metadata": {
        "id": "-GMU-sMV7Tfj",
        "outputId": "797e8c04-8025-48a7-c7f6-4774386e04d3"
      },
      "outputs": [
        {
          "data": {
            "text/plain": [
              "[<matplotlib.lines.Line2D at 0x7f8c1848f850>]"
            ]
          },
          "execution_count": 59,
          "metadata": {},
          "output_type": "execute_result"
        },
        {
          "data": {
            "image/png": "[encoded data removed]"
          },
          "output_type": "display_data"
        }
      ],
      "source": [
        "plt.plot(x, y, 'x')  # dot plot"
      ]
    },
    {
      "cell_type": "markdown",
      "metadata": {
        "collapsed": false,
        "id": "BuSp5oxj7Tfk"
      },
      "source": [
        "- Отображение двухмерных массивов (например, изображений):\n"
      ]
    },
    {
      "cell_type": "code",
      "execution_count": null,
      "metadata": {
        "id": "Ctp5N4P-7Tfk",
        "outputId": "b8c22f12-70cd-4b95-b5b3-556db4316018"
      },
      "outputs": [
        {
          "data": {
            "text/plain": [
              "<matplotlib.colorbar.Colorbar at 0x7f8c2c758150>"
            ]
          },
          "execution_count": 60,
          "metadata": {},
          "output_type": "execute_result"
        },
        {
          "data": {
            "image/png": "[encoded data removed]"
          },
          "output_type": "display_data"
        }
      ],
      "source": [
        "image = np.random.rand(30, 30)\n",
        "plt.imshow(image, cmap=plt.cm.hot)\n",
        "plt.colorbar()"
      ]
    },
    {
      "cell_type": "markdown",
      "metadata": {
        "collapsed": false,
        "id": "A12UhQsh7Tfk"
      },
      "source": [
        "## Индексирование массивов и срезы"
      ]
    },
    {
      "cell_type": "markdown",
      "metadata": {
        "collapsed": false,
        "id": "GeY_KNnT7Tfl"
      },
      "source": [
        "В целом так же, как со встроенными последовательностями Python (например, как со списками).\n"
      ]
    },
    {
      "cell_type": "code",
      "execution_count": null,
      "metadata": {
        "id": "6THH1ITf7Tfl",
        "outputId": "8ca7554c-61ec-46e8-dc88-df08d7717cc9"
      },
      "outputs": [
        {
          "data": {
            "text/plain": [
              "array([0, 1, 2, 3, 4, 5, 6, 7, 8, 9])"
            ]
          },
          "execution_count": 61,
          "metadata": {},
          "output_type": "execute_result"
        }
      ],
      "source": [
        "a = np.arange(10)\n",
        "a"
      ]
    },
    {
      "cell_type": "code",
      "execution_count": null,
      "metadata": {
        "id": "cBdTSPUm7Tfl",
        "outputId": "68133337-f11c-4563-f81b-2ba2e8ee4cf4"
      },
      "outputs": [
        {
          "data": {
            "text/plain": [
              "(0, 2, 9)"
            ]
          },
          "execution_count": 47,
          "metadata": {},
          "output_type": "execute_result"
        }
      ],
      "source": [
        "a[0], a[2], a[-1]"
      ]
    },
    {
      "cell_type": "markdown",
      "metadata": {
        "collapsed": false,
        "id": "l8DWIR_K7Tfl"
      },
      "source": [
        "Работает и популярный в Python способ отражения массива:\n"
      ]
    },
    {
      "cell_type": "code",
      "execution_count": null,
      "metadata": {
        "id": "dsjdOsOF7Tfm",
        "outputId": "4879d0d4-e76a-41e7-d86a-c502d6c2afdb"
      },
      "outputs": [
        {
          "data": {
            "text/plain": [
              "array([9, 8, 7, 6, 5, 4, 3, 2, 1, 0])"
            ]
          },
          "execution_count": 48,
          "metadata": {},
          "output_type": "execute_result"
        }
      ],
      "source": [
        "a[::-1]"
      ]
    },
    {
      "cell_type": "markdown",
      "metadata": {
        "collapsed": false,
        "id": "DhR6ZTJq7Tfm"
      },
      "source": [
        "Для многомерных массивов индексы - это кортежи целых чисел\n"
      ]
    },
    {
      "cell_type": "code",
      "execution_count": null,
      "metadata": {
        "id": "xDbZSWqW7Tfm",
        "outputId": "40935d42-bae0-4855-8082-7009e62b9f23"
      },
      "outputs": [
        {
          "data": {
            "text/plain": [
              "array([[0, 0, 0],\n",
              "       [0, 1, 0],\n",
              "       [0, 0, 2]])"
            ]
          },
          "execution_count": 14,
          "metadata": {},
          "output_type": "execute_result"
        }
      ],
      "source": [
        "a = np.diag(np.arange(3))\n",
        "a"
      ]
    },
    {
      "cell_type": "code",
      "execution_count": null,
      "metadata": {
        "id": "0LdGyVIX7Tfm",
        "outputId": "dd1f5fdb-ad15-43bf-c866-47d524e508b6"
      },
      "outputs": [
        {
          "data": {
            "text/plain": [
              "1"
            ]
          },
          "execution_count": 50,
          "metadata": {},
          "output_type": "execute_result"
        }
      ],
      "source": [
        "a[1, 1]"
      ]
    },
    {
      "cell_type": "code",
      "execution_count": null,
      "metadata": {
        "id": "7Bhm-jB-7Tfn",
        "outputId": "22f2d75f-5c89-406b-91a5-c46240d4d060"
      },
      "outputs": [
        {
          "data": {
            "text/plain": [
              "array([[ 0,  0,  0],\n",
              "       [ 0,  1,  0],\n",
              "       [ 0, 10,  2]])"
            ]
          },
          "execution_count": 51,
          "metadata": {},
          "output_type": "execute_result"
        }
      ],
      "source": [
        "a[2, 1] = 10 # third line, second column\n",
        "a"
      ]
    },
    {
      "cell_type": "code",
      "execution_count": null,
      "metadata": {
        "id": "6j7YjRR57Tfn",
        "outputId": "2d9d20b4-327d-4a12-9e4d-e2859cc5b15d"
      },
      "outputs": [
        {
          "data": {
            "text/plain": [
              "array([0, 1, 0])"
            ]
          },
          "execution_count": 15,
          "metadata": {},
          "output_type": "execute_result"
        }
      ],
      "source": [
        "a[1,::]"
      ]
    },
    {
      "cell_type": "markdown",
      "metadata": {
        "collapsed": false,
        "id": "-CqfJkjh7Tfn"
      },
      "source": [
        "**Срезы**"
      ]
    },
    {
      "cell_type": "code",
      "execution_count": null,
      "metadata": {
        "id": "Ef2yS_7n7Tfn",
        "outputId": "e75d72a9-0739-4f09-ffc4-c501160865d0"
      },
      "outputs": [
        {
          "data": {
            "text/plain": [
              "array([0, 1, 2, 3, 4, 5, 6, 7, 8, 9])"
            ]
          },
          "execution_count": 53,
          "metadata": {},
          "output_type": "execute_result"
        }
      ],
      "source": [
        "a = np.arange(10)\n",
        "a"
      ]
    },
    {
      "cell_type": "code",
      "execution_count": null,
      "metadata": {
        "id": "ZcOK7Vio7Tfo",
        "outputId": "a099773f-611c-41e1-a325-a9d77e8d03da"
      },
      "outputs": [
        {
          "data": {
            "text/plain": [
              "array([2, 5, 8])"
            ]
          },
          "execution_count": 64,
          "metadata": {},
          "output_type": "execute_result"
        }
      ],
      "source": [
        "a[2:9:3] # [start:end:step]"
      ]
    },
    {
      "cell_type": "markdown",
      "metadata": {
        "collapsed": false,
        "id": "8wrdPOLW7Tfo"
      },
      "source": [
        "Последний индекс не включается"
      ]
    },
    {
      "cell_type": "code",
      "execution_count": null,
      "metadata": {
        "id": "HRHqNdEK7Tfo",
        "outputId": "24de937e-abbf-4e21-8919-3be6d7729183"
      },
      "outputs": [
        {
          "data": {
            "text/plain": [
              "array([0, 1, 2, 3])"
            ]
          },
          "execution_count": 66,
          "metadata": {},
          "output_type": "execute_result"
        }
      ],
      "source": [
        "a[0:4]"
      ]
    },
    {
      "cell_type": "markdown",
      "metadata": {
        "collapsed": false,
        "id": "2-fHJizx7Tfo"
      },
      "source": [
        "По умолчанию \\`start\\` -  0,\n",
        "\\`end\\` - индекс последнего элемента, \\`step\\` - 1:\n"
      ]
    },
    {
      "cell_type": "code",
      "execution_count": null,
      "metadata": {
        "id": "5o4fC5QI7Tfp",
        "outputId": "9347df81-4098-40d1-bfad-67e75be8dfc4"
      },
      "outputs": [
        {
          "data": {
            "text/plain": [
              "array([1, 2])"
            ]
          },
          "execution_count": 56,
          "metadata": {},
          "output_type": "execute_result"
        }
      ],
      "source": [
        "a[1:3]"
      ]
    },
    {
      "cell_type": "code",
      "execution_count": null,
      "metadata": {
        "id": "7HeTclBP7Tfp",
        "outputId": "2841b5cf-ba59-447c-d90c-8b8dd7fb604f"
      },
      "outputs": [
        {
          "data": {
            "text/plain": [
              "array([0, 2, 4, 6, 8])"
            ]
          },
          "execution_count": 57,
          "metadata": {},
          "output_type": "execute_result"
        }
      ],
      "source": [
        "a[::2]"
      ]
    },
    {
      "cell_type": "code",
      "execution_count": null,
      "metadata": {
        "id": "C_fX9nvr7Tfp",
        "outputId": "8a4f705f-a1c2-404d-e452-3e4327fd5fd1"
      },
      "outputs": [
        {
          "data": {
            "text/plain": [
              "array([3, 4, 5, 6, 7, 8, 9])"
            ]
          },
          "execution_count": 58,
          "metadata": {},
          "output_type": "execute_result"
        }
      ],
      "source": [
        "a[3:]"
      ]
    },
    {
      "cell_type": "markdown",
      "metadata": {
        "collapsed": false,
        "id": "fiDUhYym7Tfq"
      },
      "source": [
        "Можно совмещать присваивание и срез:\n"
      ]
    },
    {
      "cell_type": "code",
      "execution_count": null,
      "metadata": {
        "id": "PyN5nR7b7Tfq",
        "outputId": "147e6daa-15c7-4fde-88ae-66f6fc154ee9"
      },
      "outputs": [
        {
          "data": {
            "text/plain": [
              "array([ 0,  1,  2,  3,  4, 10, 10, 10, 10, 10])"
            ]
          },
          "execution_count": 59,
          "metadata": {},
          "output_type": "execute_result"
        }
      ],
      "source": [
        "a = np.arange(10)\n",
        "a[5:] = 10\n",
        "a"
      ]
    },
    {
      "cell_type": "code",
      "execution_count": null,
      "metadata": {
        "id": "RdaeS0M67Tfq",
        "outputId": "9d640323-5c03-4ca1-f96f-c3aeddedcd25"
      },
      "outputs": [
        {
          "data": {
            "text/plain": [
              "array([0, 1, 2, 3, 4, 4, 3, 2, 1, 0])"
            ]
          },
          "execution_count": 60,
          "metadata": {},
          "output_type": "execute_result"
        }
      ],
      "source": [
        "b = np.arange(5)\n",
        "a[5:] = b[::-1]\n",
        "a"
      ]
    },
    {
      "cell_type": "markdown",
      "metadata": {
        "collapsed": false,
        "id": "w3oDWMna7Tfr"
      },
      "source": [
        "## Пример. Матрица делителей"
      ]
    },
    {
      "cell_type": "markdown",
      "metadata": {
        "collapsed": false,
        "id": "qjuC3tgM7Tfr"
      },
      "source": [
        "Отобразить матрицу, в которой вычеркивается **(x, y)**, если **y** делится на **x**."
      ]
    },
    {
      "cell_type": "code",
      "execution_count": null,
      "metadata": {
        "id": "8oxOB4xt7Tfr",
        "outputId": "e9bd1d0a-52cd-4f28-8ccc-20534f47f9ad"
      },
      "outputs": [
        {
          "data": {
            "image/png": "[encoded data removed]"
          },
          "output_type": "execute_result"
        }
      ],
      "source": [
        "from IPython.display import Image\n",
        "Image(filename='../../img/prime-sieve.png')"
      ]
    },
    {
      "cell_type": "markdown",
      "metadata": {
        "collapsed": false,
        "id": "9-Of2FBY7Tfs"
      },
      "source": [
        "* Создадим массив `is_prime`, заполненний значениями True\n"
      ]
    },
    {
      "cell_type": "code",
      "execution_count": null,
      "metadata": {
        "id": "n8P4-GI27Tfs"
      },
      "outputs": [],
      "source": [
        "is_prime = np.ones((100,), dtype=bool)"
      ]
    },
    {
      "cell_type": "markdown",
      "metadata": {
        "collapsed": false,
        "id": "LpDtB_6d7Tfs"
      },
      "source": [
        "* Вычеркнем 0 и 1 как не являющиеся простыми:\n"
      ]
    },
    {
      "cell_type": "code",
      "execution_count": null,
      "metadata": {
        "id": "9C3F10YC7Tft"
      },
      "outputs": [],
      "source": [
        "is_prime[:2] = 0"
      ]
    },
    {
      "cell_type": "markdown",
      "metadata": {
        "collapsed": false,
        "id": "iH_VyKXA7Tft"
      },
      "source": [
        "* Для каждого наутрального `j` начиная с  2, \"вычеркнем\" числа, ему кратные:\n"
      ]
    },
    {
      "cell_type": "code",
      "execution_count": null,
      "metadata": {
        "id": "GOI6j3OP7Tft",
        "outputId": "57ef2c93-6751-4927-db40-97847769986a"
      },
      "outputs": [
        {
          "data": {
            "text/plain": [
              "array([False, False,  True,  True, False,  True, False,  True, False,\n",
              "       False, False,  True, False,  True, False, False, False,  True,\n",
              "       False,  True, False, False, False,  True, False, False, False,\n",
              "       False, False,  True, False,  True, False, False, False, False,\n",
              "       False,  True, False, False, False,  True, False,  True, False,\n",
              "       False, False,  True, False, False, False, False, False,  True,\n",
              "       False, False, False, False, False,  True, False,  True, False,\n",
              "       False, False, False, False,  True, False, False, False,  True,\n",
              "       False,  True, False, False, False, False, False,  True, False,\n",
              "       False, False,  True, False, False, False, False, False,  True,\n",
              "       False, False, False, False, False, False, False,  True, False, False], dtype=bool)"
            ]
          },
          "execution_count": 64,
          "metadata": {},
          "output_type": "execute_result"
        }
      ],
      "source": [
        "N_max = int(np.sqrt(len(is_prime)))\n",
        "for j in range(2, N_max):\n",
        "    is_prime[2*j::j] = False\n",
        "\n",
        "is_prime"
      ]
    },
    {
      "cell_type": "markdown",
      "metadata": {
        "collapsed": false,
        "id": "E9zcunm17Tft"
      },
      "source": [
        "## Индексирование масками"
      ]
    },
    {
      "cell_type": "code",
      "execution_count": null,
      "metadata": {
        "id": "uGCRCXQ47Tfu",
        "outputId": "6cfa06bc-7dad-4e64-a23a-6df738cfb5b6"
      },
      "outputs": [
        {
          "data": {
            "text/plain": [
              "array([10,  3,  8,  0, 19, 10, 11,  9, 10,  6,  0, 20, 12,  7, 14])"
            ]
          },
          "execution_count": 67,
          "metadata": {},
          "output_type": "execute_result"
        }
      ],
      "source": [
        "np.random.seed(3)\n",
        "a = np.random.random_integers(0, 20, 15)\n",
        "a"
      ]
    },
    {
      "cell_type": "code",
      "execution_count": null,
      "metadata": {
        "id": "decdHo2Z7Tfu",
        "outputId": "e59c67a2-69bd-4796-c25b-e7fe86313e10"
      },
      "outputs": [
        {
          "data": {
            "text/plain": [
              "array([False,  True, False,  True, False, False, False,  True, False,\n",
              "        True,  True, False,  True, False, False], dtype=bool)"
            ]
          },
          "execution_count": 68,
          "metadata": {},
          "output_type": "execute_result"
        }
      ],
      "source": [
        "(a % 3 == 0)"
      ]
    },
    {
      "cell_type": "code",
      "execution_count": null,
      "metadata": {
        "id": "WDDA9FlE7Tfu",
        "outputId": "883422b6-5bc4-4bd4-a0e4-b10a8ce220fc"
      },
      "outputs": [
        {
          "data": {
            "text/plain": [
              "array([ 3,  0,  9,  6,  0, 12])"
            ]
          },
          "execution_count": 70,
          "metadata": {},
          "output_type": "execute_result"
        }
      ],
      "source": [
        "a[(a % 3 == 0)] # or,  a[a%3==0]"
      ]
    },
    {
      "cell_type": "markdown",
      "metadata": {
        "collapsed": false,
        "id": "EYuQBvE47Tfu"
      },
      "source": [
        "Индесирование маской может быть очень полезным для присваивания значений части элементов массива:\n"
      ]
    },
    {
      "cell_type": "code",
      "execution_count": null,
      "metadata": {
        "id": "hp2fdGNy7Tfv",
        "outputId": "f96878ef-2f0d-4ff6-c7b1-77d402dbd120"
      },
      "outputs": [
        {
          "data": {
            "text/plain": [
              "array([10, -1,  8, -1, 19, 10, 11, -1, 10, -1, -1, 20, -1,  7, 14])"
            ]
          },
          "execution_count": 68,
          "metadata": {},
          "output_type": "execute_result"
        }
      ],
      "source": [
        "a[a % 3 == 0] = -1\n",
        "a"
      ]
    },
    {
      "cell_type": "markdown",
      "metadata": {
        "collapsed": false,
        "id": "OrHVAIxo7Tfv"
      },
      "source": [
        "### Индексирование массивом целых чисел"
      ]
    },
    {
      "cell_type": "code",
      "execution_count": null,
      "metadata": {
        "id": "JiaaZAUL7Tfv",
        "outputId": "78b73ac6-1748-47dc-ba6a-79463a174976"
      },
      "outputs": [
        {
          "data": {
            "text/plain": [
              "array([ 0, 10, 20, 30, 40, 50, 60, 70, 80, 90])"
            ]
          },
          "execution_count": 69,
          "metadata": {},
          "output_type": "execute_result"
        }
      ],
      "source": [
        "a = np.arange(0, 100, 10)\n",
        "a"
      ]
    },
    {
      "cell_type": "code",
      "execution_count": null,
      "metadata": {
        "id": "Bur_wlEV7Tfw",
        "outputId": "60e16e18-f3c7-407a-c8db-f08582a014d2"
      },
      "outputs": [
        {
          "data": {
            "text/plain": [
              "array([20, 30, 20, 40, 20])"
            ]
          },
          "execution_count": 70,
          "metadata": {},
          "output_type": "execute_result"
        }
      ],
      "source": [
        "a[[2, 3, 2, 4, 2]]  # note: [2, 3, 2, 4, 2] is a Python list"
      ]
    },
    {
      "cell_type": "code",
      "execution_count": null,
      "metadata": {
        "id": "K8wJ_Uz47Tfw",
        "outputId": "676014dd-49d7-41e7-9a29-7d1f1bcedf25"
      },
      "outputs": [
        {
          "data": {
            "text/plain": [
              "array([   0,   10,   20,   30,   40,   50,   60, -100,   80, -100])"
            ]
          },
          "execution_count": 71,
          "metadata": {},
          "output_type": "execute_result"
        }
      ],
      "source": [
        "a[[9, 7]] = -100\n",
        "a"
      ]
    },
    {
      "cell_type": "code",
      "execution_count": null,
      "metadata": {
        "id": "pmxShU357Tfw",
        "outputId": "5c39cf88-702b-478a-f053-9f8b0f5bc58b"
      },
      "outputs": [
        {
          "data": {
            "text/plain": [
              "(2, 2)"
            ]
          },
          "execution_count": 72,
          "metadata": {},
          "output_type": "execute_result"
        }
      ],
      "source": [
        "a = np.arange(10)\n",
        "idx = np.array([[3, 4], [9, 7]])\n",
        "idx.shape"
      ]
    },
    {
      "cell_type": "code",
      "execution_count": null,
      "metadata": {
        "id": "cUNLu4IO7Tfw",
        "outputId": "9a135f0e-8ffa-435e-c95a-e5088bfb764f"
      },
      "outputs": [
        {
          "data": {
            "text/plain": [
              "array([[3, 4],\n",
              "       [9, 7]])"
            ]
          },
          "execution_count": 73,
          "metadata": {},
          "output_type": "execute_result"
        }
      ],
      "source": [
        "a[idx]"
      ]
    }
  ],
  "metadata": {
    "kernelspec": {
      "display_name": "Python 2 (SageMath)",
      "language": "python",
      "name": "python2"
    },
    "language_info": {
      "codemirror_mode": {
        "name": "ipython",
        "version": 2
      },
      "file_extension": ".py",
      "mimetype": "text/x-python",
      "name": "python",
      "nbconvert_exporter": "python",
      "pygments_lexer": "ipython2",
      "version": "2.7.13"
    },
    "name": "lesson5_part1_NumPy.ipynb",
    "colab": {
      "provenance": []
    }
  },
  "nbformat": 4,
  "nbformat_minor": 0
}