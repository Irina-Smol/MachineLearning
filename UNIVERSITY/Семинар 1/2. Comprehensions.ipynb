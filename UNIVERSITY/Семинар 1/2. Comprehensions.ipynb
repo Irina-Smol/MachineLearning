{
 "cells": [
  {
   "cell_type": "markdown",
   "id": "9076eb19-e709-4551-bc61-9743f4837903",
   "metadata": {},
   "source": [
    "## 1) Примеры создания генератора: функции, возвращающие генератор:"
   ]
  },
  {
   "cell_type": "markdown",
   "id": "38686f17-f43d-4d3e-a4d9-b8246bc118ba",
   "metadata": {},
   "source": [
    "### map - функция для применения функции к списку:"
   ]
  },
  {
   "cell_type": "code",
   "execution_count": 10,
   "id": "d7a5ea04-8d4d-46d9-ba3f-a102bc4aa5b2",
   "metadata": {},
   "outputs": [
    {
     "data": {
      "text/plain": [
       "<map at 0x2312cfdf2b0>"
      ]
     },
     "execution_count": 10,
     "metadata": {},
     "output_type": "execute_result"
    }
   ],
   "source": [
    "my_list = [2, 5, 4, 3, 5, 9]\n",
    "map_obj = map(lambda x: x ** 3, my_list)\n",
    "map_obj"
   ]
  },
  {
   "cell_type": "markdown",
   "id": "3b8dd6c5-85d4-4647-9804-83b53dc3c25b",
   "metadata": {},
   "source": [
    "### zip - функция создания коллекций из элементов разных наборов:"
   ]
  },
  {
   "cell_type": "code",
   "execution_count": 11,
   "id": "ecef6601-5174-4dd3-b33b-dc9617c4a116",
   "metadata": {},
   "outputs": [
    {
     "data": {
      "text/plain": [
       "<zip at 0x2312d245dc0>"
      ]
     },
     "execution_count": 11,
     "metadata": {},
     "output_type": "execute_result"
    }
   ],
   "source": [
    "zip(('a', 'b', 'c'), (3, 4, 5))"
   ]
  },
  {
   "cell_type": "markdown",
   "id": "9c554053-8301-477f-a64c-438159173f6f",
   "metadata": {},
   "source": [
    "## 2) Основные способы запуска генератора в Python:"
   ]
  },
  {
   "cell_type": "markdown",
   "id": "299f3c61-f116-4790-8c94-f07955b3f2e0",
   "metadata": {},
   "source": [
    "### 1) Функция next"
   ]
  },
  {
   "cell_type": "code",
   "execution_count": 15,
   "id": "e3141197-7181-486a-a902-ba199b72d5f6",
   "metadata": {},
   "outputs": [
    {
     "name": "stdout",
     "output_type": "stream",
     "text": [
      "('a', 3)\n",
      "('b', 4)\n",
      "('c', 5)\n"
     ]
    }
   ],
   "source": [
    "gen = zip(('a', 'b', 'c'), (3, 4, 5))\n",
    "print(next(gen))\n",
    "print(next(gen))\n",
    "print(next(gen))"
   ]
  },
  {
   "cell_type": "markdown",
   "id": "b2bbb85e-a97b-48f1-849f-552672d8497e",
   "metadata": {},
   "source": [
    "### 2) Цикл for"
   ]
  },
  {
   "cell_type": "code",
   "execution_count": 20,
   "id": "b14e4c61-b771-4da4-9bed-7d4ad633bbbf",
   "metadata": {},
   "outputs": [
    {
     "data": {
      "text/plain": [
       "[2, 4, 6]"
      ]
     },
     "execution_count": 20,
     "metadata": {},
     "output_type": "execute_result"
    }
   ],
   "source": [
    "list(range(2, 8, 2))"
   ]
  },
  {
   "cell_type": "code",
   "execution_count": 25,
   "id": "f3c9191b-69cb-4a7a-b26f-511b0c0aab29",
   "metadata": {},
   "outputs": [
    {
     "name": "stdout",
     "output_type": "stream",
     "text": [
      "('a', 3)\n",
      "('b', 4)\n",
      "('c', 5)\n"
     ]
    }
   ],
   "source": [
    "gen = zip(('a', 'b', 'c'), (3, 4, 5))\n",
    "for i in range(3):\n",
    "    print(next(gen))"
   ]
  },
  {
   "cell_type": "code",
   "execution_count": 35,
   "id": "af0d106a-f2f5-4d56-8b79-48035a1b9481",
   "metadata": {},
   "outputs": [
    {
     "name": "stdout",
     "output_type": "stream",
     "text": [
      "0\n",
      "1\n",
      "2\n"
     ]
    }
   ],
   "source": [
    "for i in [0, 1, 2]:\n",
    "    print(i)"
   ]
  },
  {
   "cell_type": "markdown",
   "id": "ca53ae12-cb73-4705-ac6c-192f713f47d9",
   "metadata": {},
   "source": [
    "### 3) Функция создания коллекции - list, tuple, dict, set"
   ]
  },
  {
   "cell_type": "code",
   "execution_count": 30,
   "id": "f8ac3a02-90f1-45a4-b8fa-4280c2869fae",
   "metadata": {},
   "outputs": [
    {
     "data": {
      "text/plain": [
       "[('a', 3, 6), ('b', 4, 't'), ('c', 5, 5)]"
      ]
     },
     "execution_count": 30,
     "metadata": {},
     "output_type": "execute_result"
    }
   ],
   "source": [
    "gen = zip(('a', 'b', 'c'), (3, 4, 5), (6, 't', 5))\n",
    "list(gen)"
   ]
  },
  {
   "cell_type": "code",
   "execution_count": 29,
   "id": "db0c753c-6af9-4ae0-8cd0-fa99b0d3fac5",
   "metadata": {},
   "outputs": [
    {
     "data": {
      "text/plain": [
       "(('a', 3), ('b', 4), ('c', 5))"
      ]
     },
     "execution_count": 29,
     "metadata": {},
     "output_type": "execute_result"
    }
   ],
   "source": [
    "gen = zip(('a', 'b', 'c'), (3, 4, 5))\n",
    "tuple(gen)"
   ]
  },
  {
   "cell_type": "code",
   "execution_count": 32,
   "id": "21391bb0-24dd-4174-abfb-0d2630b50b3f",
   "metadata": {},
   "outputs": [
    {
     "data": {
      "text/plain": [
       "{'a': 3, 'b': 4, 'c': 5}"
      ]
     },
     "execution_count": 32,
     "metadata": {},
     "output_type": "execute_result"
    }
   ],
   "source": [
    "gen = zip(('a', 'b', 'c'), (3, 4, 5))\n",
    "dict(gen)"
   ]
  },
  {
   "cell_type": "code",
   "execution_count": 34,
   "id": "860cbc30-3fcd-40d4-b927-2179257e07d8",
   "metadata": {},
   "outputs": [
    {
     "data": {
      "text/plain": [
       "{('a', 3), ('b', 4), ('c', 5)}"
      ]
     },
     "execution_count": 34,
     "metadata": {},
     "output_type": "execute_result"
    }
   ],
   "source": [
    "gen = zip(('a', 'b', 'c'), (3, 4, 5))\n",
    "set(gen)"
   ]
  },
  {
   "cell_type": "markdown",
   "id": "7d457950-5c8a-48b1-a973-5db1630979df",
   "metadata": {},
   "source": [
    "#### 4) Функция print со *"
   ]
  },
  {
   "cell_type": "code",
   "execution_count": 37,
   "id": "3842fcf3-4361-4ccb-9a75-3ea32919eb5f",
   "metadata": {},
   "outputs": [
    {
     "name": "stdout",
     "output_type": "stream",
     "text": [
      "('a', 3) ('b', 4) ('c', 5)\n"
     ]
    }
   ],
   "source": [
    "gen = zip(('a', 'b', 'c'), (3, 4, 5))\n",
    "print(*gen)"
   ]
  },
  {
   "cell_type": "markdown",
   "id": "962e5613-1253-41de-b08b-af9cc17bf1e3",
   "metadata": {},
   "source": [
    "## 3. Базовые коллекции Python"
   ]
  },
  {
   "cell_type": "code",
   "execution_count": null,
   "id": "440323e9-91f4-4ac9-a540-43f15946683b",
   "metadata": {},
   "outputs": [],
   "source": [
    "list() # Список - упорядоченная изменяемая коллекция значений\n",
    "tuple() # Кортеж - упорядоченная неизменяемая коллекция значений\n",
    "dict() # Неупорядоченная коллекция пар \"ключ-значение\"\n",
    "set() # Неупорядоченная коллекция уникальных элементов"
   ]
  },
  {
   "cell_type": "markdown",
   "id": "c555d15a-c874-416c-9718-6807b366b84c",
   "metadata": {},
   "source": [
    "### Создание коллекции"
   ]
  },
  {
   "cell_type": "code",
   "execution_count": 39,
   "id": "80492b92-5d0b-41fe-8b2a-5c8002300849",
   "metadata": {},
   "outputs": [
    {
     "name": "stdout",
     "output_type": "stream",
     "text": [
      "<class 'list'>\n"
     ]
    },
    {
     "data": {
      "text/plain": [
       "True"
      ]
     },
     "execution_count": 39,
     "metadata": {},
     "output_type": "execute_result"
    }
   ],
   "source": [
    "my_list = [1, 2, 4, 6] # Создание списка\n",
    "print(type(my_list))\n",
    "isinstance(my_list, list)"
   ]
  },
  {
   "cell_type": "code",
   "execution_count": 43,
   "id": "0139b1ff-3e7d-4a1a-9af4-3ab140677db2",
   "metadata": {},
   "outputs": [
    {
     "name": "stdout",
     "output_type": "stream",
     "text": [
      "(1, 2, 5)\n"
     ]
    },
    {
     "data": {
      "text/plain": [
       "False"
      ]
     },
     "execution_count": 43,
     "metadata": {},
     "output_type": "execute_result"
    }
   ],
   "source": [
    "my_tuple = 1, 2, 5 # Создание кортежа\n",
    "print(my_tuple)\n",
    "isinstance(my_tuple, list)"
   ]
  },
  {
   "cell_type": "code",
   "execution_count": 68,
   "id": "3adb716d-d1b1-4483-ad9f-99793ece5844",
   "metadata": {},
   "outputs": [
    {
     "name": "stdout",
     "output_type": "stream",
     "text": [
      "Help on built-in function isinstance in module builtins:\n",
      "\n",
      "isinstance(obj, class_or_tuple, /)\n",
      "    Return whether an object is an instance of a class or of a subclass thereof.\n",
      "    \n",
      "    A tuple, as in ``isinstance(x, (A, B, ...))``, may be given as the target to\n",
      "    check against. This is equivalent to ``isinstance(x, A) or isinstance(x, B)\n",
      "    or ...`` etc.\n",
      "\n"
     ]
    }
   ],
   "source": [
    "help(isinstance)"
   ]
  },
  {
   "cell_type": "code",
   "execution_count": 69,
   "id": "6a271f72-ddc5-4747-9f0d-d548f1f6bd73",
   "metadata": {},
   "outputs": [
    {
     "data": {
      "text/plain": [
       "True"
      ]
     },
     "execution_count": 69,
     "metadata": {},
     "output_type": "execute_result"
    }
   ],
   "source": [
    "isinstance(my_tuple, list) or isinstance(my_tuple, tuple)"
   ]
  },
  {
   "cell_type": "code",
   "execution_count": 70,
   "id": "031e0030-b0bc-483a-8844-12a8aa30eb2f",
   "metadata": {},
   "outputs": [
    {
     "data": {
      "text/plain": [
       "True"
      ]
     },
     "execution_count": 70,
     "metadata": {},
     "output_type": "execute_result"
    }
   ],
   "source": [
    "isinstance(my_tuple, (list, tuple))"
   ]
  },
  {
   "cell_type": "markdown",
   "id": "387849ea-1230-4f5c-87bd-a1b7efdf15a8",
   "metadata": {},
   "source": [
    "### Разбор кортежа"
   ]
  },
  {
   "cell_type": "code",
   "execution_count": 10,
   "id": "ce7d88bc-3c3f-4079-82fe-da673dad6895",
   "metadata": {},
   "outputs": [
    {
     "name": "stdout",
     "output_type": "stream",
     "text": [
      "1 2 5\n"
     ]
    }
   ],
   "source": [
    "a, b, c = my_tuple # Разбор кортежа\n",
    "print(a, b, c)"
   ]
  },
  {
   "cell_type": "markdown",
   "id": "7818acd2-595c-40c8-b4c2-0dbd8b11df3f",
   "metadata": {},
   "source": [
    "### Отличия между списком и кортежем"
   ]
  },
  {
   "cell_type": "markdown",
   "id": "4a95a247-5835-4c71-895e-a1c99f5e2b49",
   "metadata": {},
   "source": [
    "#### 1. В кортеже нельзя присвоить или удалить значение"
   ]
  },
  {
   "cell_type": "code",
   "execution_count": 52,
   "id": "d5b2ee00-dbfe-4815-965e-565383b28b1f",
   "metadata": {},
   "outputs": [
    {
     "ename": "TypeError",
     "evalue": "'tuple' object does not support item assignment",
     "output_type": "error",
     "traceback": [
      "\u001b[1;31m---------------------------------------------------------------------------\u001b[0m",
      "\u001b[1;31mTypeError\u001b[0m                                 Traceback (most recent call last)",
      "Cell \u001b[1;32mIn[52], line 2\u001b[0m\n\u001b[0;32m      1\u001b[0m my_collection \u001b[38;5;241m=\u001b[39m (\u001b[38;5;241m1\u001b[39m, \u001b[38;5;241m2\u001b[39m, \u001b[38;5;124m'\u001b[39m\u001b[38;5;124mA\u001b[39m\u001b[38;5;124m'\u001b[39m)\n\u001b[1;32m----> 2\u001b[0m \u001b[43mmy_collection\u001b[49m\u001b[43m[\u001b[49m\u001b[38;5;241;43m0\u001b[39;49m\u001b[43m]\u001b[49m \u001b[38;5;241m=\u001b[39m \u001b[38;5;241m5\u001b[39m\n",
      "\u001b[1;31mTypeError\u001b[0m: 'tuple' object does not support item assignment"
     ]
    }
   ],
   "source": [
    "my_collection = (1, 2, 'A')\n",
    "my_collection[0] = 5"
   ]
  },
  {
   "cell_type": "code",
   "execution_count": 53,
   "id": "1af57217-98c2-4ab4-8bf7-59971beee688",
   "metadata": {},
   "outputs": [
    {
     "ename": "TypeError",
     "evalue": "'tuple' object doesn't support item deletion",
     "output_type": "error",
     "traceback": [
      "\u001b[1;31m---------------------------------------------------------------------------\u001b[0m",
      "\u001b[1;31mTypeError\u001b[0m                                 Traceback (most recent call last)",
      "Cell \u001b[1;32mIn[53], line 1\u001b[0m\n\u001b[1;32m----> 1\u001b[0m \u001b[38;5;28;01mdel\u001b[39;00m my_collection[\u001b[38;5;241m0\u001b[39m]\n",
      "\u001b[1;31mTypeError\u001b[0m: 'tuple' object doesn't support item deletion"
     ]
    }
   ],
   "source": [
    "del my_collection[0]"
   ]
  },
  {
   "cell_type": "code",
   "execution_count": 2,
   "id": "5659c10e-9826-4685-b0e2-72fd1e878967",
   "metadata": {},
   "outputs": [
    {
     "data": {
      "text/plain": [
       "(1, 'Новое значение', 3)"
      ]
     },
     "execution_count": 2,
     "metadata": {},
     "output_type": "execute_result"
    }
   ],
   "source": [
    "my_tuple = 1, 2, 3\n",
    "temp_list = list(my_tuple)\n",
    "temp_list[1] = 'Новое значение'\n",
    "my_tuple = tuple(temp_list)\n",
    "my_tuple"
   ]
  },
  {
   "cell_type": "code",
   "execution_count": 3,
   "id": "59338995-8741-43ae-9972-5ac643010812",
   "metadata": {},
   "outputs": [
    {
     "data": {
      "text/plain": [
       "(1, 'Новое значение', 3, 5, 7, 9)"
      ]
     },
     "execution_count": 3,
     "metadata": {},
     "output_type": "execute_result"
    }
   ],
   "source": [
    "my_tuple_2 = 5, 7, 9\n",
    "my_tuple + my_tuple_2"
   ]
  },
  {
   "cell_type": "markdown",
   "id": "0a1be606-7c30-4890-b160-2b26938108bc",
   "metadata": {},
   "source": [
    "#### 2. Кортеж - хэшируемый в памяти объект, список - нет"
   ]
  },
  {
   "cell_type": "code",
   "execution_count": 54,
   "id": "54546dc1-bcf1-4f49-9d8e-7705be8c90ad",
   "metadata": {},
   "outputs": [
    {
     "data": {
      "text/plain": [
       "529344067295497451"
      ]
     },
     "execution_count": 54,
     "metadata": {},
     "output_type": "execute_result"
    }
   ],
   "source": [
    "hash((1, 2, 3))"
   ]
  },
  {
   "cell_type": "code",
   "execution_count": 55,
   "id": "e527a77e-f48a-4bce-9bd2-48202256994c",
   "metadata": {},
   "outputs": [
    {
     "ename": "TypeError",
     "evalue": "unhashable type: 'list'",
     "output_type": "error",
     "traceback": [
      "\u001b[1;31m---------------------------------------------------------------------------\u001b[0m",
      "\u001b[1;31mTypeError\u001b[0m                                 Traceback (most recent call last)",
      "Cell \u001b[1;32mIn[55], line 1\u001b[0m\n\u001b[1;32m----> 1\u001b[0m \u001b[38;5;28;43mhash\u001b[39;49m\u001b[43m(\u001b[49m\u001b[43m[\u001b[49m\u001b[38;5;241;43m1\u001b[39;49m\u001b[43m,\u001b[49m\u001b[43m \u001b[49m\u001b[38;5;241;43m2\u001b[39;49m\u001b[43m,\u001b[49m\u001b[43m \u001b[49m\u001b[38;5;241;43m3\u001b[39;49m\u001b[43m]\u001b[49m\u001b[43m)\u001b[49m\n",
      "\u001b[1;31mTypeError\u001b[0m: unhashable type: 'list'"
     ]
    }
   ],
   "source": [
    "hash([1, 2, 3])"
   ]
  },
  {
   "cell_type": "markdown",
   "id": "0c670533-cf8e-415c-af9c-95bb7ca0942e",
   "metadata": {},
   "source": [
    "#### 3. Кортеж может быть ключом словаря, список нет, т.к. не хэшируется"
   ]
  },
  {
   "cell_type": "code",
   "execution_count": 61,
   "id": "d083e13a-5a84-4cef-b923-89c611c4c3a8",
   "metadata": {},
   "outputs": [
    {
     "data": {
      "text/plain": [
       "'English'"
      ]
     },
     "execution_count": 61,
     "metadata": {},
     "output_type": "execute_result"
    }
   ],
   "source": [
    "my_dict = {('Russia', 'Belarus', 'Ukraine'):'Russian', ('USA', 'England'):'English'}\n",
    "my_dict[('USA', 'England')]\n",
    "# my_dict.items()"
   ]
  },
  {
   "cell_type": "code",
   "execution_count": 62,
   "id": "2d310bb2-91b3-4eea-858a-bf7c13e35c9a",
   "metadata": {},
   "outputs": [
    {
     "data": {
      "text/plain": [
       "{(1, 2): 2, 'Sam': 'Altman', 'Steve': 'Jobs'}"
      ]
     },
     "execution_count": 62,
     "metadata": {},
     "output_type": "execute_result"
    }
   ],
   "source": [
    "a = {(1,2) : 2}\n",
    "b = {\"Sam\": \"Altman\", \"Steve\" : \"Jobs\"}\n",
    "a.update(b)\n",
    "a"
   ]
  },
  {
   "cell_type": "code",
   "execution_count": 63,
   "id": "c5b62f2b-9061-4c49-83a5-34d371f7fe85",
   "metadata": {},
   "outputs": [
    {
     "data": {
      "text/plain": [
       "{(1, 2): 2, 'Sam': 'Altman', 'Steve': 'Jobs', (): 4}"
      ]
     },
     "execution_count": 63,
     "metadata": {},
     "output_type": "execute_result"
    }
   ],
   "source": [
    "a[()] = 4\n",
    "a"
   ]
  },
  {
   "cell_type": "code",
   "execution_count": 64,
   "id": "37a7e9b4-0ff9-46b7-8814-3fcea4335d37",
   "metadata": {},
   "outputs": [
    {
     "ename": "TypeError",
     "evalue": "unhashable type: 'list'",
     "output_type": "error",
     "traceback": [
      "\u001b[1;31m---------------------------------------------------------------------------\u001b[0m",
      "\u001b[1;31mTypeError\u001b[0m                                 Traceback (most recent call last)",
      "Cell \u001b[1;32mIn[64], line 1\u001b[0m\n\u001b[1;32m----> 1\u001b[0m \u001b[43ma\u001b[49m\u001b[43m[\u001b[49m\u001b[43m[\u001b[49m\u001b[43m]\u001b[49m\u001b[43m]\u001b[49m \u001b[38;5;241m=\u001b[39m \u001b[38;5;241m4\u001b[39m\n",
      "\u001b[1;31mTypeError\u001b[0m: unhashable type: 'list'"
     ]
    }
   ],
   "source": [
    "a[[]] = 4"
   ]
  },
  {
   "cell_type": "markdown",
   "id": "0eb9814b-e751-4c4f-9edd-18b54d6b3457",
   "metadata": {},
   "source": [
    "## 4. Итераторы. Итерирование по коллекции"
   ]
  },
  {
   "cell_type": "markdown",
   "id": "d7b6c463-e131-44ef-b967-7da5a41a0441",
   "metadata": {},
   "source": [
    "### Функция range - создаёт диапазон значений. Часто используется для задания диапазона итерирования. Синаксис: первый аргумент - начало (включительно), второй аргумент - конец (не включается), третий аргумент - шаг"
   ]
  },
  {
   "cell_type": "markdown",
   "id": "86580ba5-6421-4290-ac98-2d9717ad05a2",
   "metadata": {},
   "source": [
    "### Функция len - возвращает длину строки либо число элементов в коллекции"
   ]
  },
  {
   "cell_type": "code",
   "execution_count": 91,
   "id": "fab429f7-17e4-4c90-bc3d-2d0b5f03e268",
   "metadata": {},
   "outputs": [
    {
     "data": {
      "text/plain": [
       "1"
      ]
     },
     "execution_count": 91,
     "metadata": {},
     "output_type": "execute_result"
    }
   ],
   "source": [
    "my_list_1 = [1, 2]\n",
    "my_list_new = ['sv;kbhiurweh7h', 456, [4, my_list_1], {'fwe':5, 'Rissia':'Moscow'}]\n",
    "len(my_list[3])\n",
    "my_list_new[2][1][0]"
   ]
  },
  {
   "cell_type": "code",
   "execution_count": 74,
   "id": "bcead5af-88be-49a1-86fc-39d159b004d2",
   "metadata": {},
   "outputs": [
    {
     "data": {
      "text/plain": [
       "[3, 5, 7]"
      ]
     },
     "execution_count": 74,
     "metadata": {},
     "output_type": "execute_result"
    }
   ],
   "source": [
    "list(range(3, 9, 2))"
   ]
  },
  {
   "cell_type": "code",
   "execution_count": 28,
   "id": "6a8a7ae0-f716-4afc-9faf-33e1fc4afba0",
   "metadata": {},
   "outputs": [
    {
     "data": {
      "text/plain": [
       "[1, 2, 3, 4, 5]"
      ]
     },
     "execution_count": 28,
     "metadata": {},
     "output_type": "execute_result"
    }
   ],
   "source": [
    "list(range(1, 6))"
   ]
  },
  {
   "cell_type": "code",
   "execution_count": 29,
   "id": "1f3c69a5-8e1c-4840-b6e8-1e55d92e9e3f",
   "metadata": {},
   "outputs": [
    {
     "data": {
      "text/plain": [
       "[1, 3, 5]"
      ]
     },
     "execution_count": 29,
     "metadata": {},
     "output_type": "execute_result"
    }
   ],
   "source": [
    "list(range(1, 6, 2))"
   ]
  },
  {
   "cell_type": "markdown",
   "id": "1ea8225a-c55f-4795-99a9-42033da61def",
   "metadata": {},
   "source": [
    "### Цикл for - запуск итератора. Ключевое слово in - для задания коллекции итерирования"
   ]
  },
  {
   "cell_type": "code",
   "execution_count": 97,
   "id": "b2fbae9a-9128-49f3-9065-c3c38ff0633d",
   "metadata": {},
   "outputs": [
    {
     "name": "stdout",
     "output_type": "stream",
     "text": [
      "0\n",
      "0\n",
      "1\n",
      "1\n",
      "2\n",
      "8\n",
      "3\n",
      "27\n",
      "4\n",
      "64\n"
     ]
    }
   ],
   "source": [
    "for i in range(5): \n",
    "    print(i)\n",
    "    print(i**3)"
   ]
  },
  {
   "cell_type": "code",
   "execution_count": 98,
   "id": "ed6ebcb9-40c1-4f9c-90fa-dcf368c890fb",
   "metadata": {},
   "outputs": [
    {
     "name": "stdout",
     "output_type": "stream",
     "text": [
      "a\n",
      "b\n",
      "5\n",
      "454\n",
      "555\n",
      "[4, 'f', 6]\n"
     ]
    }
   ],
   "source": [
    "for i in ['a', 'b', 5, 454, '555', [4, 'f', 6]]: print(i)"
   ]
  },
  {
   "cell_type": "markdown",
   "id": "052639f5-e0f4-43a6-8d5e-356c50a26900",
   "metadata": {},
   "source": [
    "### Функция iter - создание итератора, функция next - возврат следующего значения по итератору"
   ]
  },
  {
   "cell_type": "code",
   "execution_count": 106,
   "id": "98dbe709-a36a-4c87-9caf-2ab0e347533e",
   "metadata": {},
   "outputs": [
    {
     "data": {
      "text/plain": [
       "<list_iterator at 0x2312ce95a60>"
      ]
     },
     "execution_count": 106,
     "metadata": {},
     "output_type": "execute_result"
    }
   ],
   "source": [
    "list_of_tuples = [(0.2, 3), (1, 3), (6, 8.5), (1.1, 1.3), (3.5, .5), (1, 3)]\n",
    "my_iterator = iter(list_of_tuples)\n",
    "my_iterator"
   ]
  },
  {
   "cell_type": "code",
   "execution_count": 107,
   "id": "1204e390-05dd-4894-b423-f2d1db59ce04",
   "metadata": {},
   "outputs": [
    {
     "name": "stdout",
     "output_type": "stream",
     "text": [
      "(0.2, 3)\n",
      "(1, 3)\n",
      "(6, 8.5)\n",
      "(1.1, 1.3)\n",
      "(3.5, 0.5)\n",
      "(1, 3)\n"
     ]
    }
   ],
   "source": [
    "for i in range(len(list_of_tuples)):\n",
    "    print(next(my_iterator))"
   ]
  },
  {
   "cell_type": "markdown",
   "id": "f3459832-9c49-4382-b288-07ede7af4d48",
   "metadata": {},
   "source": [
    "## 5. Генераторы и генераторные выражения"
   ]
  },
  {
   "cell_type": "markdown",
   "id": "21bbeefd-2e86-49fd-a9eb-5b958557657f",
   "metadata": {},
   "source": [
    "### Генератор - объект языка Python, значения элементов которого не вычислены."
   ]
  },
  {
   "cell_type": "markdown",
   "id": "91d75525-81f8-4994-9593-9ac7ab7c9ca2",
   "metadata": {},
   "source": [
    "### Генераторные выражения (list comprehensions) - это выражения языка Python, которые по итератору возвращают значения и создают коллекции"
   ]
  },
  {
   "cell_type": "markdown",
   "id": "3c7588b3-55da-4ef7-a79c-7d59893585b5",
   "metadata": {},
   "source": [
    "#### Генератор списка"
   ]
  },
  {
   "cell_type": "code",
   "execution_count": 108,
   "id": "7be7e105-0e45-4911-8b53-ad91db35c0b5",
   "metadata": {},
   "outputs": [
    {
     "data": {
      "text/plain": [
       "[0, 1, 8, 27, 64, 125]"
      ]
     },
     "execution_count": 108,
     "metadata": {},
     "output_type": "execute_result"
    }
   ],
   "source": [
    "my_list = [] # Создание пустого списка\n",
    "for i in range(6):\n",
    "    my_list.append(i ** 3)\n",
    "my_list"
   ]
  },
  {
   "cell_type": "code",
   "execution_count": 120,
   "id": "ed90d0e5-109d-4ae8-bae7-d16a584167af",
   "metadata": {},
   "outputs": [
    {
     "data": {
      "text/plain": [
       "{8, 64, 216, 512}"
      ]
     },
     "execution_count": 120,
     "metadata": {},
     "output_type": "execute_result"
    }
   ],
   "source": [
    "my_gen = set(i ** 3 for i in range(2, 10, 2)) # Генераторное выражение\n",
    "my_gen"
   ]
  },
  {
   "cell_type": "code",
   "execution_count": null,
   "id": "d0bddd35-45c3-4be9-9c32-a7e4c49b5a81",
   "metadata": {},
   "outputs": [],
   "source": [
    "import statistics as st\n",
    "my_list = st.stdev(i ** 3 for i in range(60001)) # Стандартное отклонение среди кубов всех чисел от 0 до 60 000\n",
    "my_list"
   ]
  },
  {
   "cell_type": "markdown",
   "id": "4f22344a-98b7-49d8-8d3e-ab74b753ce5e",
   "metadata": {},
   "source": [
    "#### Генератор словаря"
   ]
  },
  {
   "cell_type": "code",
   "execution_count": 42,
   "id": "c9457c20-c454-457f-a589-2aab41384e6b",
   "metadata": {},
   "outputs": [
    {
     "data": {
      "text/plain": [
       "{0: 0, 1: 1, 2: 4, 3: 9, 4: 16}"
      ]
     },
     "execution_count": 42,
     "metadata": {},
     "output_type": "execute_result"
    }
   ],
   "source": [
    "my_dict = {}\n",
    "for i in range(5):\n",
    "    my_dict[i] = i ** 2\n",
    "my_dict"
   ]
  },
  {
   "cell_type": "code",
   "execution_count": 122,
   "id": "2b457ed8-967f-4046-a3f3-d90bc6a26eec",
   "metadata": {},
   "outputs": [
    {
     "data": {
      "text/plain": [
       "{0: 0, 1: 1, 2: 4, 3: 9, 4: 16, 5: 25, 6: 36, 7: 49, 8: 64}"
      ]
     },
     "execution_count": 122,
     "metadata": {},
     "output_type": "execute_result"
    }
   ],
   "source": [
    "my_dict = {i : i ** 2 for i in range(9)}\n",
    "my_dict"
   ]
  },
  {
   "cell_type": "markdown",
   "id": "20b0a650-4115-44fd-bb9a-a32e0a72bbaf",
   "metadata": {},
   "source": [
    "#### Генератор множества"
   ]
  },
  {
   "cell_type": "code",
   "execution_count": 150,
   "id": "153cae43-3352-4e75-914f-5c884200242d",
   "metadata": {},
   "outputs": [
    {
     "data": {
      "text/plain": [
       "{0, 1, 2, 3, 4}"
      ]
     },
     "execution_count": 150,
     "metadata": {},
     "output_type": "execute_result"
    }
   ],
   "source": [
    "My_set = set()\n",
    "for i in range(5):\n",
    "    My_set.add(i)\n",
    "My_set"
   ]
  },
  {
   "cell_type": "code",
   "execution_count": 151,
   "id": "43c2a2a5-89cf-47ec-853c-6f1b1b959364",
   "metadata": {},
   "outputs": [
    {
     "data": {
      "text/plain": [
       "{0, 1, 2, 3, 4}"
      ]
     },
     "execution_count": 151,
     "metadata": {},
     "output_type": "execute_result"
    }
   ],
   "source": [
    "My_set = {i for i in range(5)}\n",
    "My_set"
   ]
  },
  {
   "cell_type": "markdown",
   "id": "60630d69-42ef-44be-b4a2-8756d6891685",
   "metadata": {},
   "source": [
    "#### Генератор с условием"
   ]
  },
  {
   "cell_type": "code",
   "execution_count": 2,
   "id": "dc606e0b-3cf4-4939-a598-eef5d841b67a",
   "metadata": {},
   "outputs": [
    {
     "data": {
      "text/plain": [
       "[0, 1, 32, 243, 1024, 3125, 7776]"
      ]
     },
     "execution_count": 2,
     "metadata": {},
     "output_type": "execute_result"
    }
   ],
   "source": [
    "my_list = [i ** 5 for i in range(7)]\n",
    "my_list"
   ]
  },
  {
   "cell_type": "code",
   "execution_count": 1,
   "id": "ef5849bb-a7ba-4069-b0bd-24c462ce688a",
   "metadata": {},
   "outputs": [
    {
     "data": {
      "text/plain": [
       "[1, 243, 3125]"
      ]
     },
     "execution_count": 1,
     "metadata": {},
     "output_type": "execute_result"
    }
   ],
   "source": [
    "my_list = [i ** 5 for i in range(7) if i % 2 == 1]\n",
    "my_list"
   ]
  },
  {
   "cell_type": "code",
   "execution_count": 159,
   "id": "eeffc20e-dd9b-4eaf-a74b-3f30b4783c0a",
   "metadata": {},
   "outputs": [
    {
     "data": {
      "text/plain": [
       "[0, 1, 4, 9, 256, 25, 36, 2401]"
      ]
     },
     "execution_count": 159,
     "metadata": {},
     "output_type": "execute_result"
    }
   ],
   "source": [
    "my_list = [i ** 4 if i % 3 == 1 else i**2 for i in range(8)]\n",
    "my_list"
   ]
  },
  {
   "cell_type": "markdown",
   "id": "0f817e7a-42ec-4613-85ae-64f057388b0e",
   "metadata": {},
   "source": [
    "### Задача: вывести квадраты всех чисел от 5 до 105, которые делятся на 2, иначе: вывести куб числа если число делится на 3, иначе: не включать значение"
   ]
  },
  {
   "cell_type": "markdown",
   "id": "ecbb6c92-6752-4880-9f4e-4fb6d550b177",
   "metadata": {},
   "source": [
    "#### Записи 6 % 2 == 0 и not 6 % 2 эквивалентны"
   ]
  },
  {
   "cell_type": "code",
   "execution_count": 200,
   "id": "4e9ba31b-d7bc-4d82-a55a-3ceebdb9f7b2",
   "metadata": {},
   "outputs": [
    {
     "data": {
      "text/plain": [
       "False"
      ]
     },
     "execution_count": 200,
     "metadata": {},
     "output_type": "execute_result"
    }
   ],
   "source": [
    "bool(0)"
   ]
  },
  {
   "cell_type": "code",
   "execution_count": 198,
   "id": "60b51092-55f9-4e77-bcfe-31134cfcf98f",
   "metadata": {},
   "outputs": [
    {
     "data": {
      "text/plain": [
       "0"
      ]
     },
     "execution_count": 198,
     "metadata": {},
     "output_type": "execute_result"
    }
   ],
   "source": [
    "6 % 2"
   ]
  },
  {
   "cell_type": "code",
   "execution_count": 197,
   "id": "9f60f5dc-e6bb-4914-b433-cbbb70ab72f7",
   "metadata": {},
   "outputs": [
    {
     "data": {
      "text/plain": [
       "True"
      ]
     },
     "execution_count": 197,
     "metadata": {},
     "output_type": "execute_result"
    }
   ],
   "source": [
    "not False"
   ]
  },
  {
   "cell_type": "code",
   "execution_count": 201,
   "id": "66629091-a5d9-467e-a688-eb2d534b70c7",
   "metadata": {},
   "outputs": [
    {
     "data": {
      "text/plain": [
       "True"
      ]
     },
     "execution_count": 201,
     "metadata": {},
     "output_type": "execute_result"
    }
   ],
   "source": [
    "not 6 % 2 # Делится нацело на 2"
   ]
  },
  {
   "cell_type": "code",
   "execution_count": 202,
   "id": "126c8f07-298a-49aa-a7d0-fe23de0a7d96",
   "metadata": {},
   "outputs": [
    {
     "data": {
      "text/plain": [
       "True"
      ]
     },
     "execution_count": 202,
     "metadata": {},
     "output_type": "execute_result"
    }
   ],
   "source": [
    "6 % 2 == 0 # Делится нацело на 2"
   ]
  },
  {
   "cell_type": "code",
   "execution_count": 204,
   "id": "594d1607-5581-4689-a1b1-abfdb0d33fd0",
   "metadata": {},
   "outputs": [
    {
     "data": {
      "text/plain": [
       "True"
      ]
     },
     "execution_count": 204,
     "metadata": {},
     "output_type": "execute_result"
    }
   ],
   "source": [
    "i = 9\n",
    "not i % 2 or not i % 3 # Делится нацело или на 2 или на 3"
   ]
  },
  {
   "cell_type": "markdown",
   "id": "b9fcc43a-db4e-4669-82cc-16e5cccacf71",
   "metadata": {},
   "source": [
    "#### Решение задачи"
   ]
  },
  {
   "cell_type": "code",
   "execution_count": 4,
   "id": "78cf3bcd-7719-47fd-9b34-1545fea8db09",
   "metadata": {
    "scrolled": true
   },
   "outputs": [
    {
     "data": {
      "text/plain": [
       "{6: 36,\n",
       " 8: 64,\n",
       " 9: 729,\n",
       " 10: 100,\n",
       " 12: 144,\n",
       " 14: 196,\n",
       " 15: 3375,\n",
       " 16: 256,\n",
       " 18: 324,\n",
       " 20: 400,\n",
       " 21: 9261,\n",
       " 22: 484,\n",
       " 24: 576,\n",
       " 26: 676,\n",
       " 27: 19683,\n",
       " 28: 784,\n",
       " 30: 900,\n",
       " 32: 1024,\n",
       " 33: 35937,\n",
       " 34: 1156,\n",
       " 36: 1296,\n",
       " 38: 1444,\n",
       " 39: 59319,\n",
       " 40: 1600,\n",
       " 42: 1764,\n",
       " 44: 1936,\n",
       " 45: 91125,\n",
       " 46: 2116,\n",
       " 48: 2304,\n",
       " 50: 2500,\n",
       " 51: 132651,\n",
       " 52: 2704,\n",
       " 54: 2916,\n",
       " 56: 3136,\n",
       " 57: 185193,\n",
       " 58: 3364,\n",
       " 60: 3600,\n",
       " 62: 3844,\n",
       " 63: 250047,\n",
       " 64: 4096,\n",
       " 66: 4356,\n",
       " 68: 4624,\n",
       " 69: 328509,\n",
       " 70: 4900,\n",
       " 72: 5184,\n",
       " 74: 5476,\n",
       " 75: 421875,\n",
       " 76: 5776,\n",
       " 78: 6084,\n",
       " 80: 6400,\n",
       " 81: 531441,\n",
       " 82: 6724,\n",
       " 84: 7056,\n",
       " 86: 7396,\n",
       " 87: 658503,\n",
       " 88: 7744,\n",
       " 90: 8100,\n",
       " 92: 8464,\n",
       " 93: 804357,\n",
       " 94: 8836,\n",
       " 96: 9216,\n",
       " 98: 9604,\n",
       " 99: 970299,\n",
       " 100: 10000,\n",
       " 102: 10404,\n",
       " 104: 10816,\n",
       " 105: 1157625}"
      ]
     },
     "execution_count": 4,
     "metadata": {},
     "output_type": "execute_result"
    }
   ],
   "source": [
    "# Решение в виде списка\n",
    "my_list = [i**2 if i % 2 == 0 else i ** 3 if not i % 3 else None for i in range (5, 106) if not i % 2 or not i % 3]\n",
    "# Решение в виде словаря\n",
    "my_dict = {i : i**2 if i % 2 == 0 else i ** 3 if not i % 3 else None for i in range (5, 106) if not i % 2 or not i % 3}\n",
    "my_dict"
   ]
  },
  {
   "cell_type": "code",
   "execution_count": 7,
   "id": "ed350e97-eb28-4e20-8fa9-b5da9204b40f",
   "metadata": {},
   "outputs": [
    {
     "data": {
      "text/plain": [
       "[1936, 1600, 1444, 1156, 1024, 784, 676, 484]"
      ]
     },
     "execution_count": 7,
     "metadata": {},
     "output_type": "execute_result"
    }
   ],
   "source": [
    "my_list[25:10:-2]"
   ]
  }
 ],
 "metadata": {
  "kernelspec": {
   "display_name": "Python 3 (ipykernel)",
   "language": "python",
   "name": "python3"
  },
  "language_info": {
   "codemirror_mode": {
    "name": "ipython",
    "version": 3
   },
   "file_extension": ".py",
   "mimetype": "text/x-python",
   "name": "python",
   "nbconvert_exporter": "python",
   "pygments_lexer": "ipython3",
   "version": "3.8.9"
  }
 },
 "nbformat": 4,
 "nbformat_minor": 5
}
