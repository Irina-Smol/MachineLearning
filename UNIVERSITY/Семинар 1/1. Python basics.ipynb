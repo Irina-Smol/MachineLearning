{
 "cells": [
  {
   "cell_type": "markdown",
   "id": "f3031cea-aedc-46bd-aa63-f2159dbd5e5d",
   "metadata": {},
   "source": [
    "## 1. Ключевые характеристики языка Python"
   ]
  },
  {
   "attachments": {},
   "cell_type": "markdown",
   "id": "974a622b-3f7a-4dd5-8daf-4189b862fc5d",
   "metadata": {},
   "source": [
    "* Язык объектно ориентированный, обладает свойствами:\n",
    "    * Полиморфизм - объекты одного класса могут менять поведение при вызове одного и того же метода в зависимости от контекста\n",
    "    * Наследование - объекты могут наследовать свойства других классов\n",
    "    * Инкапсуляция - методы класса находятся внутри него самого\n",
    "* Язык с динамической типизацией - тип данных распознаётся автоматически\n",
    "* Язык со строгой типизацией - нельзя складывать разные типы данных: нельзя сложить число со строкой и т.д.\n",
    "* Язык интерпретируемый - то есть интерпретируется специальной программой, а не компилируется в машинный код\n",
    "* В Python все объекты являются ссылками в памяти. \n",
    "Любая переменная указывает на место в памят хранения объекта\n",
    "* Python 3 в отличие отпредыдущей версии языка основан на генераторах, не совместим с прошлой версией языка Python 2 ,"
   ]
  },
  {
   "cell_type": "code",
   "execution_count": null,
   "id": "3d48bafc-1e14-4046-ab31-ce3682b30103",
   "metadata": {},
   "outputs": [],
   "source": [
    "import this # Зен языка Пайтон - пасхалка от разработчиков"
   ]
  },
  {
   "cell_type": "markdown",
   "id": "ef229e6c-6fa3-48bc-8136-b07691b1a744",
   "metadata": {},
   "source": [
    "## 2. Типы данных Python"
   ]
  },
  {
   "cell_type": "markdown",
   "id": "cc34a576-7c32-4d3b-b735-3f135fb321ae",
   "metadata": {},
   "source": [
    "### Базовые типы данных"
   ]
  },
  {
   "cell_type": "code",
   "execution_count": 2,
   "id": "6b0263f5-638f-403c-a9cf-94c3f98b753d",
   "metadata": {},
   "outputs": [
    {
     "name": "stdout",
     "output_type": "stream",
     "text": [
      "55 True 55 55.0 55j\n",
      "<class 'str'> <class 'bool'> <class 'int'> <class 'float'> <class 'complex'>\n"
     ]
    }
   ],
   "source": [
    "str() # Строки\n",
    "bool() # Правда/Ложь\n",
    "int() # Целые числа\n",
    "float() # Числа с плавающей точкой\n",
    "complex() # Комплексные числа\n",
    "print('55', True, 55, 55.0, 55j)\n",
    "print(type('55'), type(True), type(55), type(55.0), type(55j))"
   ]
  },
  {
   "cell_type": "markdown",
   "id": "51baff3a-bd5b-4891-87b2-b588b27e9269",
   "metadata": {},
   "source": [
    "### Базовые коллекции Python:"
   ]
  },
  {
   "cell_type": "code",
   "execution_count": 36,
   "id": "232b5c05-a6ab-405c-b401-6bcfda35e487",
   "metadata": {},
   "outputs": [
    {
     "data": {
      "text/plain": [
       "{5: 'Новое значение', 'Russia': 'Capital', ('France', 'Canada'): 'French'}"
      ]
     },
     "execution_count": 36,
     "metadata": {},
     "output_type": "execute_result"
    }
   ],
   "source": [
    "my_list = []\n",
    "my_tuple = ()\n",
    "my_dict = {5:1, 'Russia':'Moscow', ('France', 'Canada'):'French', 5:'Новое значение', 'Russia':'Capital'}\n",
    "my_dict"
   ]
  },
  {
   "cell_type": "code",
   "execution_count": 44,
   "id": "7cf7a53c-5dfd-4c51-9f28-b4beaaa2eb16",
   "metadata": {},
   "outputs": [
    {
     "name": "stdout",
     "output_type": "stream",
     "text": [
      "<class 'list'> <class 'tuple'> <class 'dict'> <class 'set'>\n"
     ]
    }
   ],
   "source": [
    "list() # Список - упорядоченная изменяемая коллекция значений\n",
    "tuple() # Кортеж - упорядоченная неизменяемая коллекция значений\n",
    "dict() # Неупорядоченная коллекция пар \"ключ-значение\"\n",
    "set() # Неупорядоченная коллекция уникальных элементов\n",
    "print(type(['55', 56]), type(('55', 56)), type({'55':56, 'abc':58}), type({55, 56, 57, 56, 58}))"
   ]
  },
  {
   "cell_type": "markdown",
   "id": "f876d949-20db-4eb3-b137-4f97cd32447f",
   "metadata": {},
   "source": [
    "## 3. Операторы Python"
   ]
  },
  {
   "cell_type": "markdown",
   "id": "5b668143-0e26-421a-aded-380467269e78",
   "metadata": {},
   "source": [
    "### Арифметические операторы"
   ]
  },
  {
   "cell_type": "code",
   "execution_count": 3,
   "id": "65784ae2-bdf3-47e2-9090-fd1c485dbedd",
   "metadata": {},
   "outputs": [
    {
     "name": "stdout",
     "output_type": "stream",
     "text": [
      "12 2.0 27 2 1\n",
      "<class 'int'> <class 'float'>\n"
     ]
    }
   ],
   "source": [
    "5 + 6 # Сложение\n",
    "6 - 4 # Вычитание\n",
    "3 * 4 # Умножение\n",
    "8 / 4 # Деление\n",
    "3 ** 3 # Возведение в степень\n",
    "7 // 4 # Целочисленное деление\n",
    "7 % 4 # Остаток от деления\n",
    "print(3 * 4, 8 / 4, 3 ** 3, 9 // 4, 9 % 4)\n",
    "print(type(3 * 4), type(8 / 4))"
   ]
  },
  {
   "cell_type": "markdown",
   "id": "e67745ac-1cb4-46ac-a744-e8c252aa4495",
   "metadata": {},
   "source": [
    "### Операторы сравнения"
   ]
  },
  {
   "cell_type": "code",
   "execution_count": 50,
   "id": "57c5298d-8b8b-49a3-abef-2152dbc0a377",
   "metadata": {},
   "outputs": [
    {
     "name": "stdout",
     "output_type": "stream",
     "text": [
      "True False False True <class 'bool'>\n"
     ]
    }
   ],
   "source": [
    "5 == 10 / 2 # Проверка на равенство\n",
    "5 != 10 / 2 # Проверка на неравенство\n",
    "5 > 10 / 2 # Проверка на строго больше (меньше)\n",
    "5 >= 10 / 2 # Проверка на больше или равно (меньше или равно)\n",
    "print(5 == 10 / 2, 5 != 10 / 2, 5 > 10 / 2, 5 >= 10 / 2, type(5 >= 10 / 2))"
   ]
  },
  {
   "cell_type": "markdown",
   "id": "b2238ef4-99ba-4852-8a56-f12a683ff73b",
   "metadata": {},
   "source": [
    "### Логические операторы"
   ]
  },
  {
   "cell_type": "code",
   "execution_count": 34,
   "id": "6a4ff1ec-9592-4f4d-81cc-0a60270f9d01",
   "metadata": {},
   "outputs": [
    {
     "name": "stdout",
     "output_type": "stream",
     "text": [
      "False True False\n",
      "False\n",
      "True\n"
     ]
    }
   ],
   "source": [
    "True and False\n",
    "True or False\n",
    "not True\n",
    "print(True and False, True or False, not True)\n",
    "print(5 == 10 / 2 and 6 != 20 // 3)\n",
    "print(5 == 10 / 2 or 6 != 20 // 3)"
   ]
  },
  {
   "cell_type": "markdown",
   "id": "842c75f2-b663-442f-b52f-5baae090fb67",
   "metadata": {},
   "source": [
    "### Операторы присвоения "
   ]
  },
  {
   "cell_type": "code",
   "execution_count": 51,
   "id": "62692198-9451-4aa0-b4f5-ae9fece24e82",
   "metadata": {},
   "outputs": [
    {
     "name": "stdout",
     "output_type": "stream",
     "text": [
      "Переменная а равна 4, переменная b равна 5, тип данных переменной a <class 'int'>\n",
      "Переменная а равна 5, переменная b равна 4, тип данных переменной a <class 'int'>\n"
     ]
    }
   ],
   "source": [
    "# \"=\" - Оператор присвоения \n",
    "a = 5\n",
    "b = 5\n",
    "a = b = 5\n",
    "a, b = 4, 5\n",
    "print(f'Переменная а равна {a}, переменная b равна {b}, тип данных переменной a {type(a)}')\n",
    "a, b = b, a\n",
    "print(f'Переменная а равна {a}, переменная b равна {b}, тип данных переменной a {type(a)}')"
   ]
  },
  {
   "cell_type": "code",
   "execution_count": 54,
   "id": "c4c5c07b-afff-453b-b43c-e36e7a1a8298",
   "metadata": {},
   "outputs": [
    {
     "data": {
      "text/plain": [
       "10"
      ]
     },
     "execution_count": 54,
     "metadata": {},
     "output_type": "execute_result"
    }
   ],
   "source": [
    "a = 5\n",
    "a = a + 5\n",
    "a"
   ]
  },
  {
   "cell_type": "code",
   "execution_count": null,
   "id": "b95ac008-7311-4904-93e7-d6fbd1c662b6",
   "metadata": {},
   "outputs": [],
   "source": [
    "\"DRY - Don't repeat yourself\"\n",
    "\"WET - Write Everything twice\""
   ]
  },
  {
   "cell_type": "code",
   "execution_count": 55,
   "id": "4c593228-c510-4d7f-b584-eac06afaa178",
   "metadata": {},
   "outputs": [
    {
     "data": {
      "text/plain": [
       "12.25"
      ]
     },
     "execution_count": 55,
     "metadata": {},
     "output_type": "execute_result"
    }
   ],
   "source": [
    "# Операторы присвоения с одновременным сложением/вычитанием/умножением/делением:\n",
    "a = 5\n",
    "a += 5\n",
    "a -= 3\n",
    "a *= 2\n",
    "a /= 4\n",
    "a **= 2 # Эквивалент: a = a**2\n",
    "a"
   ]
  },
  {
   "cell_type": "markdown",
   "id": "1c30bfb0-54f6-4497-8a17-bebc5748225c",
   "metadata": {},
   "source": [
    "### Побитовые операции"
   ]
  },
  {
   "cell_type": "code",
   "execution_count": 60,
   "id": "4ea923e3-8fb2-4d33-824f-5662d874b1d7",
   "metadata": {},
   "outputs": [
    {
     "name": "stdout",
     "output_type": "stream",
     "text": [
      "256 4 0 6 6\n"
     ]
    }
   ],
   "source": [
    "1 << 8 # Побитовый сдвиг влево\n",
    "16 >> 2 # Побитовый сдвиг вправо\n",
    "0b100 & 0b110 # Побитовое и\n",
    "0b100 | 0b010 # Побитовое или\n",
    "0b100 ^ 0b010 # Побитовое исключающее или\n",
    "print(1 << 8, 16 >> 2, 0b100 & 0b010, 0b100 | 0b010, 0b100 ^ 0b010)"
   ]
  },
  {
   "cell_type": "markdown",
   "id": "672019f9-af5e-4b2d-ab14-13ec8f67a960",
   "metadata": {},
   "source": [
    "### Тернарный (условный) оператор if else"
   ]
  },
  {
   "cell_type": "code",
   "execution_count": 64,
   "id": "d3c97bdd-46fa-4431-ab51-ca11947da39b",
   "metadata": {},
   "outputs": [
    {
     "name": "stdout",
     "output_type": "stream",
     "text": [
      "None\n"
     ]
    }
   ],
   "source": [
    "a, b = 5, 5\n",
    "c = 'a' if a == 6 else 'b' if b == 6 else None # Тернарный оператор\n",
    "print(c)"
   ]
  },
  {
   "cell_type": "markdown",
   "id": "acf8afdb-c3ab-45cc-a076-27d9de44fb29",
   "metadata": {},
   "source": [
    "## 4. Встроенные функции Python"
   ]
  },
  {
   "cell_type": "markdown",
   "id": "7e4a998f-98f5-44ae-a5ca-669802f3096d",
   "metadata": {},
   "source": [
    "### Функции ввода и вывода - input и print. Печать f-строки. Первая программа"
   ]
  },
  {
   "cell_type": "code",
   "execution_count": 1,
   "id": "4e4502b6-98be-4e4a-b530-1be16ca225e1",
   "metadata": {},
   "outputs": [
    {
     "name": "stdin",
     "output_type": "stream",
     "text": [
      "Введите Ваше имя:  Иван\n",
      "Введите Ваш возраст:  32\n"
     ]
    },
    {
     "name": "stdout",
     "output_type": "stream",
     "text": [
      "Здравствуйте, Иван ! Сейчас Вам 32 лет, а в 2030 году Вам будет 39 лет.\n"
     ]
    }
   ],
   "source": [
    "name = input('Введите Ваше имя: ')\n",
    "age = int(input('Введите Ваш возраст: '))\n",
    "print('Здравствуйте, ' + name + ' ! Сейчас Вам ' + str(age) + ' лет, а в 2030 году Вам будет ' + str(2030 - 2023 + age) +' лет.')"
   ]
  },
  {
   "cell_type": "markdown",
   "id": "72a357df-0a67-4f5a-9155-ef2ce55d9471",
   "metadata": {},
   "source": [
    "### Самый продвинутый способ печати - печать f-строки (появился начиная с версии Python 3.6):"
   ]
  },
  {
   "cell_type": "code",
   "execution_count": 2,
   "id": "b9c20c19-65ac-4ac1-92ad-3222a58b1238",
   "metadata": {},
   "outputs": [
    {
     "name": "stdout",
     "output_type": "stream",
     "text": [
      "Здравствуйте, Иван ! Сейчас Вам 32 лет, а в 2030 году Вам будет 39 лет.\n"
     ]
    }
   ],
   "source": [
    "print(f'Здравствуйте, {name} ! Сейчас Вам {age} лет, а в 2030 году Вам будет {2030 - 2023 + age} лет.')"
   ]
  },
  {
   "cell_type": "markdown",
   "id": "a7bcd90c-9ea7-4a41-bc2c-bec6e47e2403",
   "metadata": {},
   "source": [
    "### Все встроенные функции Python"
   ]
  },
  {
   "cell_type": "code",
   "execution_count": 68,
   "id": "49ba6508-22e4-47d5-9a6e-3767d6ec10f1",
   "metadata": {
    "scrolled": true
   },
   "outputs": [
    {
     "data": {
      "text/plain": [
       "['__add__',\n",
       " '__class__',\n",
       " '__contains__',\n",
       " '__delattr__',\n",
       " '__delitem__',\n",
       " '__dir__',\n",
       " '__doc__',\n",
       " '__eq__',\n",
       " '__format__',\n",
       " '__ge__',\n",
       " '__getattribute__',\n",
       " '__getitem__',\n",
       " '__gt__',\n",
       " '__hash__',\n",
       " '__iadd__',\n",
       " '__imul__',\n",
       " '__init__',\n",
       " '__init_subclass__',\n",
       " '__iter__',\n",
       " '__le__',\n",
       " '__len__',\n",
       " '__lt__',\n",
       " '__mul__',\n",
       " '__ne__',\n",
       " '__new__',\n",
       " '__reduce__',\n",
       " '__reduce_ex__',\n",
       " '__repr__',\n",
       " '__reversed__',\n",
       " '__rmul__',\n",
       " '__setattr__',\n",
       " '__setitem__',\n",
       " '__sizeof__',\n",
       " '__str__',\n",
       " '__subclasshook__',\n",
       " 'append',\n",
       " 'clear',\n",
       " 'copy',\n",
       " 'count',\n",
       " 'extend',\n",
       " 'index',\n",
       " 'insert',\n",
       " 'pop',\n",
       " 'remove',\n",
       " 'reverse',\n",
       " 'sort']"
      ]
     },
     "execution_count": 68,
     "metadata": {},
     "output_type": "execute_result"
    }
   ],
   "source": [
    "my_list = [5, 6]\n",
    "dir(my_list)"
   ]
  },
  {
   "cell_type": "code",
   "execution_count": 88,
   "id": "6964a440-28fb-4eac-9a8c-6c017cb37fce",
   "metadata": {
    "scrolled": true
   },
   "outputs": [
    {
     "data": {
      "text/plain": [
       "['ArithmeticError',\n",
       " 'AssertionError',\n",
       " 'AttributeError',\n",
       " 'BaseException',\n",
       " 'BlockingIOError',\n",
       " 'BrokenPipeError',\n",
       " 'BufferError',\n",
       " 'BytesWarning',\n",
       " 'ChildProcessError',\n",
       " 'ConnectionAbortedError',\n",
       " 'ConnectionError',\n",
       " 'ConnectionRefusedError',\n",
       " 'ConnectionResetError',\n",
       " 'DeprecationWarning',\n",
       " 'EOFError',\n",
       " 'Ellipsis',\n",
       " 'EnvironmentError',\n",
       " 'Exception',\n",
       " 'False',\n",
       " 'FileExistsError',\n",
       " 'FileNotFoundError',\n",
       " 'FloatingPointError',\n",
       " 'FutureWarning',\n",
       " 'GeneratorExit',\n",
       " 'IOError',\n",
       " 'ImportError',\n",
       " 'ImportWarning',\n",
       " 'IndentationError',\n",
       " 'IndexError',\n",
       " 'InterruptedError',\n",
       " 'IsADirectoryError',\n",
       " 'KeyError',\n",
       " 'KeyboardInterrupt',\n",
       " 'LookupError',\n",
       " 'MemoryError',\n",
       " 'ModuleNotFoundError',\n",
       " 'NameError',\n",
       " 'None',\n",
       " 'NotADirectoryError',\n",
       " 'NotImplemented',\n",
       " 'NotImplementedError',\n",
       " 'OSError',\n",
       " 'OverflowError',\n",
       " 'PendingDeprecationWarning',\n",
       " 'PermissionError',\n",
       " 'ProcessLookupError',\n",
       " 'RecursionError',\n",
       " 'ReferenceError',\n",
       " 'ResourceWarning',\n",
       " 'RuntimeError',\n",
       " 'RuntimeWarning',\n",
       " 'StopAsyncIteration',\n",
       " 'StopIteration',\n",
       " 'SyntaxError',\n",
       " 'SyntaxWarning',\n",
       " 'SystemError',\n",
       " 'SystemExit',\n",
       " 'TabError',\n",
       " 'TimeoutError',\n",
       " 'True',\n",
       " 'TypeError',\n",
       " 'UnboundLocalError',\n",
       " 'UnicodeDecodeError',\n",
       " 'UnicodeEncodeError',\n",
       " 'UnicodeError',\n",
       " 'UnicodeTranslateError',\n",
       " 'UnicodeWarning',\n",
       " 'UserWarning',\n",
       " 'ValueError',\n",
       " 'Warning',\n",
       " 'WindowsError',\n",
       " 'ZeroDivisionError',\n",
       " '__IPYTHON__',\n",
       " '__build_class__',\n",
       " '__debug__',\n",
       " '__doc__',\n",
       " '__import__',\n",
       " '__loader__',\n",
       " '__name__',\n",
       " '__package__',\n",
       " '__spec__',\n",
       " 'abs',\n",
       " 'all',\n",
       " 'any',\n",
       " 'ascii',\n",
       " 'bin',\n",
       " 'bool',\n",
       " 'breakpoint',\n",
       " 'bytearray',\n",
       " 'bytes',\n",
       " 'callable',\n",
       " 'chr',\n",
       " 'classmethod',\n",
       " 'compile',\n",
       " 'complex',\n",
       " 'copyright',\n",
       " 'credits',\n",
       " 'delattr',\n",
       " 'dict',\n",
       " 'dir',\n",
       " 'display',\n",
       " 'divmod',\n",
       " 'enumerate',\n",
       " 'eval',\n",
       " 'exec',\n",
       " 'execfile',\n",
       " 'filter',\n",
       " 'float',\n",
       " 'format',\n",
       " 'frozenset',\n",
       " 'get_ipython',\n",
       " 'getattr',\n",
       " 'globals',\n",
       " 'hasattr',\n",
       " 'hash',\n",
       " 'help',\n",
       " 'hex',\n",
       " 'id',\n",
       " 'input',\n",
       " 'int',\n",
       " 'isinstance',\n",
       " 'issubclass',\n",
       " 'iter',\n",
       " 'len',\n",
       " 'license',\n",
       " 'list',\n",
       " 'locals',\n",
       " 'map',\n",
       " 'max',\n",
       " 'memoryview',\n",
       " 'min',\n",
       " 'next',\n",
       " 'object',\n",
       " 'oct',\n",
       " 'open',\n",
       " 'ord',\n",
       " 'pow',\n",
       " 'print',\n",
       " 'property',\n",
       " 'range',\n",
       " 'repr',\n",
       " 'reversed',\n",
       " 'round',\n",
       " 'runfile',\n",
       " 'set',\n",
       " 'setattr',\n",
       " 'slice',\n",
       " 'sorted',\n",
       " 'staticmethod',\n",
       " 'str',\n",
       " 'sum',\n",
       " 'super',\n",
       " 'tuple',\n",
       " 'type',\n",
       " 'vars',\n",
       " 'zip']"
      ]
     },
     "execution_count": 88,
     "metadata": {},
     "output_type": "execute_result"
    }
   ],
   "source": [
    "dir(__builtins__)"
   ]
  },
  {
   "cell_type": "markdown",
   "id": "ad9ffc39-5e76-450a-addb-4e3cab549763",
   "metadata": {},
   "source": [
    "<div class=\"alert alert-block alert-danger\"> <b>! Всё в Python является ссылками. Даже встроенную функцию можно переопределить ! </b></div>"
   ]
  },
  {
   "cell_type": "code",
   "execution_count": 69,
   "id": "1fcf5b73-7334-4f3b-8455-e367ad54e64b",
   "metadata": {},
   "outputs": [
    {
     "ename": "TypeError",
     "evalue": "'int' object is not callable",
     "output_type": "error",
     "traceback": [
      "\u001b[1;31m---------------------------------------------------------------------------\u001b[0m",
      "\u001b[1;31mTypeError\u001b[0m                                 Traceback (most recent call last)",
      "Cell \u001b[1;32mIn[69], line 2\u001b[0m\n\u001b[0;32m      1\u001b[0m \u001b[38;5;28mprint\u001b[39m \u001b[38;5;241m=\u001b[39m \u001b[38;5;241m5\u001b[39m\n\u001b[1;32m----> 2\u001b[0m \u001b[38;5;28;43mprint\u001b[39;49m\u001b[43m(\u001b[49m\u001b[38;5;241;43m5\u001b[39;49m\u001b[43m)\u001b[49m \u001b[38;5;66;03m# Не работает!\u001b[39;00m\n",
      "\u001b[1;31mTypeError\u001b[0m: 'int' object is not callable"
     ]
    }
   ],
   "source": [
    "print = 5\n",
    "print(5) # Не работает!"
   ]
  },
  {
   "cell_type": "markdown",
   "id": "b7a204f3-7263-4500-b297-9d0648b63e68",
   "metadata": {},
   "source": [
    "<div class=\"alert alert-block alert-info\"> <b>Как починить - вернуть значение встроенной функции</b>  </div>"
   ]
  },
  {
   "cell_type": "code",
   "execution_count": 70,
   "id": "0f0557ed-f488-4f2a-8881-9fa903d43cc9",
   "metadata": {},
   "outputs": [
    {
     "name": "stdout",
     "output_type": "stream",
     "text": [
      "5\n"
     ]
    }
   ],
   "source": [
    "print = __builtins__.print\n",
    "print(5) # Работает!"
   ]
  },
  {
   "cell_type": "markdown",
   "id": "42a6aeef-63cd-4c58-a909-da2d4a85ace3",
   "metadata": {},
   "source": [
    "<div class=\"alert alert-block alert-info\"> <b> Встроенные функции с двумя нижними подчёркиваниями по краям защищены от переприсвоения</b> </div>"
   ]
  },
  {
   "cell_type": "code",
   "execution_count": 71,
   "id": "2de8bfc6-ea85-4a0b-8f79-ab64d460c2c1",
   "metadata": {},
   "outputs": [
    {
     "ename": "SyntaxError",
     "evalue": "invalid syntax (1526924184.py, line 1)",
     "output_type": "error",
     "traceback": [
      "\u001b[1;36m  Cell \u001b[1;32mIn[71], line 1\u001b[1;36m\u001b[0m\n\u001b[1;33m    import = 5\u001b[0m\n\u001b[1;37m           ^\u001b[0m\n\u001b[1;31mSyntaxError\u001b[0m\u001b[1;31m:\u001b[0m invalid syntax\n"
     ]
    }
   ],
   "source": [
    "import = 5"
   ]
  },
  {
   "cell_type": "markdown",
   "id": "1641973c-625b-45f1-8f3e-a5208e15a068",
   "metadata": {},
   "source": [
    "<div class=\"alert alert-block alert-info\"> <b> Всем операторам Python сопоставлены встроенные функции </b> </div>"
   ]
  },
  {
   "cell_type": "code",
   "execution_count": 72,
   "id": "753cddac-aedc-4b26-b7b9-ba30445e13d2",
   "metadata": {
    "scrolled": true
   },
   "outputs": [
    {
     "data": {
      "text/plain": [
       "['__abs__',\n",
       " '__add__',\n",
       " '__and__',\n",
       " '__bool__',\n",
       " '__ceil__',\n",
       " '__class__',\n",
       " '__delattr__',\n",
       " '__dir__',\n",
       " '__divmod__',\n",
       " '__doc__',\n",
       " '__eq__',\n",
       " '__float__',\n",
       " '__floor__',\n",
       " '__floordiv__',\n",
       " '__format__',\n",
       " '__ge__',\n",
       " '__getattribute__',\n",
       " '__getnewargs__',\n",
       " '__gt__',\n",
       " '__hash__',\n",
       " '__index__',\n",
       " '__init__',\n",
       " '__init_subclass__',\n",
       " '__int__',\n",
       " '__invert__',\n",
       " '__le__',\n",
       " '__lshift__',\n",
       " '__lt__',\n",
       " '__mod__',\n",
       " '__mul__',\n",
       " '__ne__',\n",
       " '__neg__',\n",
       " '__new__',\n",
       " '__or__',\n",
       " '__pos__',\n",
       " '__pow__',\n",
       " '__radd__',\n",
       " '__rand__',\n",
       " '__rdivmod__',\n",
       " '__reduce__',\n",
       " '__reduce_ex__',\n",
       " '__repr__',\n",
       " '__rfloordiv__',\n",
       " '__rlshift__',\n",
       " '__rmod__',\n",
       " '__rmul__',\n",
       " '__ror__',\n",
       " '__round__',\n",
       " '__rpow__',\n",
       " '__rrshift__',\n",
       " '__rshift__',\n",
       " '__rsub__',\n",
       " '__rtruediv__',\n",
       " '__rxor__',\n",
       " '__setattr__',\n",
       " '__sizeof__',\n",
       " '__str__',\n",
       " '__sub__',\n",
       " '__subclasshook__',\n",
       " '__truediv__',\n",
       " '__trunc__',\n",
       " '__xor__',\n",
       " 'as_integer_ratio',\n",
       " 'bit_length',\n",
       " 'conjugate',\n",
       " 'denominator',\n",
       " 'from_bytes',\n",
       " 'imag',\n",
       " 'numerator',\n",
       " 'real',\n",
       " 'to_bytes']"
      ]
     },
     "execution_count": 72,
     "metadata": {},
     "output_type": "execute_result"
    }
   ],
   "source": [
    "dir(5)"
   ]
  },
  {
   "cell_type": "code",
   "execution_count": 74,
   "id": "6e2a1e97-8db6-4d21-99e8-088e1e8cf139",
   "metadata": {},
   "outputs": [
    {
     "data": {
      "text/plain": [
       "8"
      ]
     },
     "execution_count": 74,
     "metadata": {},
     "output_type": "execute_result"
    }
   ],
   "source": [
    "a = 3\n",
    "a + 5"
   ]
  },
  {
   "cell_type": "code",
   "execution_count": 76,
   "id": "cbe32397-57a2-47a0-a46f-ff36c07bc8c9",
   "metadata": {},
   "outputs": [
    {
     "data": {
      "text/plain": [
       "10"
      ]
     },
     "execution_count": 76,
     "metadata": {},
     "output_type": "execute_result"
    }
   ],
   "source": [
    "a.__add__(7)"
   ]
  },
  {
   "cell_type": "code",
   "execution_count": 77,
   "id": "4fb48027-a0ce-4763-8472-d270df6760f3",
   "metadata": {},
   "outputs": [
    {
     "data": {
      "text/plain": [
       "'35'"
      ]
     },
     "execution_count": 77,
     "metadata": {},
     "output_type": "execute_result"
    }
   ],
   "source": [
    "a = '3'\n",
    "a.__add__('5')"
   ]
  },
  {
   "cell_type": "markdown",
   "id": "658baf66-a0ec-457c-a4c3-b75858b13830",
   "metadata": {},
   "source": [
    "### Примеры использования популярных встроенных функций:"
   ]
  },
  {
   "cell_type": "markdown",
   "id": "0767d2e2-1720-48a1-b949-bd9b3df5a273",
   "metadata": {},
   "source": [
    "#### Функция map - функция для применения функции к списку"
   ]
  },
  {
   "cell_type": "code",
   "execution_count": 80,
   "id": "71066222-a690-4056-bb9e-e91f8920b49d",
   "metadata": {},
   "outputs": [
    {
     "data": {
      "text/plain": [
       "[3, 4, 5, 3, 4, 5, 3, 4, 5]"
      ]
     },
     "execution_count": 80,
     "metadata": {},
     "output_type": "execute_result"
    }
   ],
   "source": [
    "my_list = [3, 4, 5]\n",
    "my_list * (3)"
   ]
  },
  {
   "cell_type": "code",
   "execution_count": 84,
   "id": "077d7998-0d58-43a8-b564-f90b830719e2",
   "metadata": {},
   "outputs": [],
   "source": [
    "map_obj = map(lambda x: x ** 3, my_list)"
   ]
  },
  {
   "cell_type": "code",
   "execution_count": 85,
   "id": "de4105b6-7f89-4eaa-b675-6282a4212bbd",
   "metadata": {},
   "outputs": [
    {
     "data": {
      "text/plain": [
       "<map at 0x22855d26d00>"
      ]
     },
     "execution_count": 85,
     "metadata": {},
     "output_type": "execute_result"
    }
   ],
   "source": [
    "map_obj"
   ]
  },
  {
   "cell_type": "code",
   "execution_count": 86,
   "id": "808cb4dc-6b7f-441d-a4a1-61c070cd09b9",
   "metadata": {},
   "outputs": [
    {
     "data": {
      "text/plain": [
       "[27, 64, 125]"
      ]
     },
     "execution_count": 86,
     "metadata": {},
     "output_type": "execute_result"
    }
   ],
   "source": [
    "list(map_obj)"
   ]
  },
  {
   "cell_type": "markdown",
   "id": "6c1fce8e-2f89-4d0a-9c51-8f49557e3bb3",
   "metadata": {},
   "source": [
    "#### Функция zip - создание пар из нескольких списков"
   ]
  },
  {
   "cell_type": "code",
   "execution_count": 91,
   "id": "f4e2ba33-d53d-4bfc-bbbd-ad29f87e9267",
   "metadata": {},
   "outputs": [
    {
     "data": {
      "text/plain": [
       "<zip at 0x22855d58f80>"
      ]
     },
     "execution_count": 91,
     "metadata": {},
     "output_type": "execute_result"
    }
   ],
   "source": [
    "zip(('a', 'b', 'c'), (3, 4, 5))"
   ]
  },
  {
   "cell_type": "code",
   "execution_count": 87,
   "id": "61fc3f1c-6a20-45bd-8d04-32b60902163b",
   "metadata": {},
   "outputs": [
    {
     "data": {
      "text/plain": [
       "[(3, 'a', 'sf'), (4, 'b', 6556), (5, 'c', 'fg')]"
      ]
     },
     "execution_count": 87,
     "metadata": {},
     "output_type": "execute_result"
    }
   ],
   "source": [
    "list(zip((3, 4, 5), ('a', 'b', 'c'), ('sf', 6556, 'fg'))) # Создание списка кортежей функцией zip"
   ]
  },
  {
   "cell_type": "code",
   "execution_count": 104,
   "id": "a0ef8275-be50-4e20-9381-3761f20f963d",
   "metadata": {},
   "outputs": [
    {
     "data": {
      "text/plain": [
       "{'a': 3, 'b': 4, 'c': 5}"
      ]
     },
     "execution_count": 104,
     "metadata": {},
     "output_type": "execute_result"
    }
   ],
   "source": [
    "dict(zip(('a', 'b', 'c'), (3, 4, 5))) # Создание словаря функцией zip"
   ]
  },
  {
   "cell_type": "markdown",
   "id": "2b4e9db7-cdcb-4408-9fcc-686c03a2eafb",
   "metadata": {},
   "source": [
    "#### Функция open - открытие файла на запись или на чтение"
   ]
  },
  {
   "cell_type": "code",
   "execution_count": 88,
   "id": "3eb3f960-95b7-49d3-be19-d427a856a06c",
   "metadata": {},
   "outputs": [],
   "source": [
    "file = open(\"test.txt\", \"w\") # Открытие файла на запись\n",
    "file.write('Унылая пора! Очей очарованье! \\nПриятна мне твоя прощальная краса - \\nЛюблю я пышное природы увяданье, \\nВ багрец и золото одетые леса.')\n",
    "file.close()"
   ]
  },
  {
   "cell_type": "code",
   "execution_count": 94,
   "id": "63b88bce-f02d-45bc-a8a0-b4a8f7c61417",
   "metadata": {},
   "outputs": [
    {
     "name": "stdout",
     "output_type": "stream",
     "text": [
      "Унылая пора! Очей очарованье! \n",
      "\n",
      "Приятна мне твоя прощальная краса - \n",
      "\n",
      "Люблю я пышное природы увяданье, \n",
      "\n",
      "В багрец и золото одетые леса.\n"
     ]
    }
   ],
   "source": [
    "file = open(\"test.txt\") # Открытие файла на чтение\n",
    "for line in file:\n",
    "    print(line)"
   ]
  },
  {
   "cell_type": "code",
   "execution_count": 96,
   "id": "33680b0f-8746-4b67-a196-f1b9312e8193",
   "metadata": {},
   "outputs": [],
   "source": [
    "from itertools import product"
   ]
  },
  {
   "cell_type": "code",
   "execution_count": 99,
   "id": "bd31c0a5-9900-4d93-bcb5-b65b36b48e5e",
   "metadata": {},
   "outputs": [
    {
     "data": {
      "text/plain": [
       "[('ЛБ1', 'Q_1'),\n",
       " ('ЛБ1', 'Q_2'),\n",
       " ('ЛБ1', 'Q_3'),\n",
       " ('ЛБ1', 'Q_4'),\n",
       " ('ЛБ2', 'Q_1'),\n",
       " ('ЛБ2', 'Q_2'),\n",
       " ('ЛБ2', 'Q_3'),\n",
       " ('ЛБ2', 'Q_4'),\n",
       " ('ЛБ3', 'Q_1'),\n",
       " ('ЛБ3', 'Q_2'),\n",
       " ('ЛБ3', 'Q_3'),\n",
       " ('ЛБ3', 'Q_4')]"
      ]
     },
     "execution_count": 99,
     "metadata": {},
     "output_type": "execute_result"
    }
   ],
   "source": [
    "list(product(['ЛБ1', 'ЛБ2', 'ЛБ3'], ['Q_1', 'Q_2', 'Q_3', 'Q_4']))"
   ]
  },
  {
   "cell_type": "code",
   "execution_count": 97,
   "id": "b35f443a-d832-41ed-8f96-c4926411a659",
   "metadata": {
    "scrolled": true
   },
   "outputs": [
    {
     "name": "stdout",
     "output_type": "stream",
     "text": [
      "Help on class product in module itertools:\n",
      "\n",
      "class product(builtins.object)\n",
      " |  product(*iterables, repeat=1) --> product object\n",
      " |  \n",
      " |  Cartesian product of input iterables.  Equivalent to nested for-loops.\n",
      " |  \n",
      " |  For example, product(A, B) returns the same as:  ((x,y) for x in A for y in B).\n",
      " |  The leftmost iterators are in the outermost for-loop, so the output tuples\n",
      " |  cycle in a manner similar to an odometer (with the rightmost element changing\n",
      " |  on every iteration).\n",
      " |  \n",
      " |  To compute the product of an iterable with itself, specify the number\n",
      " |  of repetitions with the optional repeat keyword argument. For example,\n",
      " |  product(A, repeat=4) means the same as product(A, A, A, A).\n",
      " |  \n",
      " |  product('ab', range(3)) --> ('a',0) ('a',1) ('a',2) ('b',0) ('b',1) ('b',2)\n",
      " |  product((0,1), (0,1), (0,1)) --> (0,0,0) (0,0,1) (0,1,0) (0,1,1) (1,0,0) ...\n",
      " |  \n",
      " |  Methods defined here:\n",
      " |  \n",
      " |  __getattribute__(self, name, /)\n",
      " |      Return getattr(self, name).\n",
      " |  \n",
      " |  __iter__(self, /)\n",
      " |      Implement iter(self).\n",
      " |  \n",
      " |  __next__(self, /)\n",
      " |      Implement next(self).\n",
      " |  \n",
      " |  __reduce__(...)\n",
      " |      Return state information for pickling.\n",
      " |  \n",
      " |  __setstate__(...)\n",
      " |      Set state information for unpickling.\n",
      " |  \n",
      " |  __sizeof__(...)\n",
      " |      Returns size in memory, in bytes.\n",
      " |  \n",
      " |  ----------------------------------------------------------------------\n",
      " |  Static methods defined here:\n",
      " |  \n",
      " |  __new__(*args, **kwargs) from builtins.type\n",
      " |      Create and return a new object.  See help(type) for accurate signature.\n",
      "\n"
     ]
    }
   ],
   "source": [
    "help(product)"
   ]
  }
 ],
 "metadata": {
  "kernelspec": {
   "display_name": "Python 3 (ipykernel)",
   "language": "python",
   "name": "python3"
  },
  "language_info": {
   "codemirror_mode": {
    "name": "ipython",
    "version": 3
   },
   "file_extension": ".py",
   "mimetype": "text/x-python",
   "name": "python",
   "nbconvert_exporter": "python",
   "pygments_lexer": "ipython3",
   "version": "3.8.9"
  }
 },
 "nbformat": 4,
 "nbformat_minor": 5
}
