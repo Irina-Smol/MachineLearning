{
  "nbformat": 4,
  "nbformat_minor": 0,
  "metadata": {
    "colab": {
      "provenance": []
    },
    "kernelspec": {
      "name": "python3",
      "display_name": "Python 3"
    },
    "language_info": {
      "name": "python"
    }
  },
  "cells": [
    {
      "cell_type": "code",
      "execution_count": 1,
      "metadata": {
        "id": "ZJaQuU70HCCQ"
      },
      "outputs": [],
      "source": [
        "import pandas as pd\n",
        "import numpy as np\n",
        "import matplotlib.pyplot as plt\n",
        "import seaborn as sns\n",
        "import datetime\n",
        "from sklearn.model_selection import train_test_split, cross_val_score\n",
        "%matplotlib inline"
      ]
    },
    {
      "cell_type": "code",
      "source": [
        "df = pd.read_csv('Data.csv')\n",
        "df.head(5)"
      ],
      "metadata": {
        "colab": {
          "base_uri": "https://localhost:8080/",
          "height": 206
        },
        "id": "9Y77xuPDH1gO",
        "outputId": "2057c802-a53d-42c5-8913-0a9a73df0ee6"
      },
      "execution_count": 2,
      "outputs": [
        {
          "output_type": "execute_result",
          "data": {
            "text/plain": [
              "   Номер пожара       Дата        X        Y  Площадь, га  температура, °С  \\\n",
              "0        203679   7/5/2020  47.4856  42.9225          961           33.758   \n",
              "1        220864  7/30/2020  47.5192  42.8835           39           29.325   \n",
              "2        203570   7/5/2020  47.5200  42.8793           85           33.758   \n",
              "3        264514  10/1/2020  47.5151  42.8768            5           19.844   \n",
              "4        192992  6/15/2020  47.5627  42.6358            7           28.925   \n",
              "\n",
              "   относительная влажность, %  влажность почвы (в слое 0-10см), %  \\\n",
              "0                        20.1                               16.29   \n",
              "1                        30.1                               20.07   \n",
              "2                        20.1                               16.29   \n",
              "3                        47.0                               22.71   \n",
              "4                        34.9                               17.16   \n",
              "\n",
              "   атмосферное давление, мбар Тип растительности  \n",
              "0                       953.5                Луг  \n",
              "1                       962.1                Луг  \n",
              "2                       953.5                Луг  \n",
              "3                       959.2                Луг  \n",
              "4                       910.3     Лиственный лес  "
            ],
            "text/html": [
              "\n",
              "  <div id=\"df-a3709c76-246c-427a-91ad-66f7a04d33f1\">\n",
              "    <div class=\"colab-df-container\">\n",
              "      <div>\n",
              "<style scoped>\n",
              "    .dataframe tbody tr th:only-of-type {\n",
              "        vertical-align: middle;\n",
              "    }\n",
              "\n",
              "    .dataframe tbody tr th {\n",
              "        vertical-align: top;\n",
              "    }\n",
              "\n",
              "    .dataframe thead th {\n",
              "        text-align: right;\n",
              "    }\n",
              "</style>\n",
              "<table border=\"1\" class=\"dataframe\">\n",
              "  <thead>\n",
              "    <tr style=\"text-align: right;\">\n",
              "      <th></th>\n",
              "      <th>Номер пожара</th>\n",
              "      <th>Дата</th>\n",
              "      <th>X</th>\n",
              "      <th>Y</th>\n",
              "      <th>Площадь, га</th>\n",
              "      <th>температура, °С</th>\n",
              "      <th>относительная влажность, %</th>\n",
              "      <th>влажность почвы (в слое 0-10см), %</th>\n",
              "      <th>атмосферное давление, мбар</th>\n",
              "      <th>Тип растительности</th>\n",
              "    </tr>\n",
              "  </thead>\n",
              "  <tbody>\n",
              "    <tr>\n",
              "      <th>0</th>\n",
              "      <td>203679</td>\n",
              "      <td>7/5/2020</td>\n",
              "      <td>47.4856</td>\n",
              "      <td>42.9225</td>\n",
              "      <td>961</td>\n",
              "      <td>33.758</td>\n",
              "      <td>20.1</td>\n",
              "      <td>16.29</td>\n",
              "      <td>953.5</td>\n",
              "      <td>Луг</td>\n",
              "    </tr>\n",
              "    <tr>\n",
              "      <th>1</th>\n",
              "      <td>220864</td>\n",
              "      <td>7/30/2020</td>\n",
              "      <td>47.5192</td>\n",
              "      <td>42.8835</td>\n",
              "      <td>39</td>\n",
              "      <td>29.325</td>\n",
              "      <td>30.1</td>\n",
              "      <td>20.07</td>\n",
              "      <td>962.1</td>\n",
              "      <td>Луг</td>\n",
              "    </tr>\n",
              "    <tr>\n",
              "      <th>2</th>\n",
              "      <td>203570</td>\n",
              "      <td>7/5/2020</td>\n",
              "      <td>47.5200</td>\n",
              "      <td>42.8793</td>\n",
              "      <td>85</td>\n",
              "      <td>33.758</td>\n",
              "      <td>20.1</td>\n",
              "      <td>16.29</td>\n",
              "      <td>953.5</td>\n",
              "      <td>Луг</td>\n",
              "    </tr>\n",
              "    <tr>\n",
              "      <th>3</th>\n",
              "      <td>264514</td>\n",
              "      <td>10/1/2020</td>\n",
              "      <td>47.5151</td>\n",
              "      <td>42.8768</td>\n",
              "      <td>5</td>\n",
              "      <td>19.844</td>\n",
              "      <td>47.0</td>\n",
              "      <td>22.71</td>\n",
              "      <td>959.2</td>\n",
              "      <td>Луг</td>\n",
              "    </tr>\n",
              "    <tr>\n",
              "      <th>4</th>\n",
              "      <td>192992</td>\n",
              "      <td>6/15/2020</td>\n",
              "      <td>47.5627</td>\n",
              "      <td>42.6358</td>\n",
              "      <td>7</td>\n",
              "      <td>28.925</td>\n",
              "      <td>34.9</td>\n",
              "      <td>17.16</td>\n",
              "      <td>910.3</td>\n",
              "      <td>Лиственный лес</td>\n",
              "    </tr>\n",
              "  </tbody>\n",
              "</table>\n",
              "</div>\n",
              "      <button class=\"colab-df-convert\" onclick=\"convertToInteractive('df-a3709c76-246c-427a-91ad-66f7a04d33f1')\"\n",
              "              title=\"Convert this dataframe to an interactive table.\"\n",
              "              style=\"display:none;\">\n",
              "        \n",
              "  <svg xmlns=\"http://www.w3.org/2000/svg\" height=\"24px\"viewBox=\"0 0 24 24\"\n",
              "       width=\"24px\">\n",
              "    <path d=\"M0 0h24v24H0V0z\" fill=\"none\"/>\n",
              "    <path d=\"M18.56 5.44l.94 2.06.94-2.06 2.06-.94-2.06-.94-.94-2.06-.94 2.06-2.06.94zm-11 1L8.5 8.5l.94-2.06 2.06-.94-2.06-.94L8.5 2.5l-.94 2.06-2.06.94zm10 10l.94 2.06.94-2.06 2.06-.94-2.06-.94-.94-2.06-.94 2.06-2.06.94z\"/><path d=\"M17.41 7.96l-1.37-1.37c-.4-.4-.92-.59-1.43-.59-.52 0-1.04.2-1.43.59L10.3 9.45l-7.72 7.72c-.78.78-.78 2.05 0 2.83L4 21.41c.39.39.9.59 1.41.59.51 0 1.02-.2 1.41-.59l7.78-7.78 2.81-2.81c.8-.78.8-2.07 0-2.86zM5.41 20L4 18.59l7.72-7.72 1.47 1.35L5.41 20z\"/>\n",
              "  </svg>\n",
              "      </button>\n",
              "      \n",
              "  <style>\n",
              "    .colab-df-container {\n",
              "      display:flex;\n",
              "      flex-wrap:wrap;\n",
              "      gap: 12px;\n",
              "    }\n",
              "\n",
              "    .colab-df-convert {\n",
              "      background-color: #E8F0FE;\n",
              "      border: none;\n",
              "      border-radius: 50%;\n",
              "      cursor: pointer;\n",
              "      display: none;\n",
              "      fill: #1967D2;\n",
              "      height: 32px;\n",
              "      padding: 0 0 0 0;\n",
              "      width: 32px;\n",
              "    }\n",
              "\n",
              "    .colab-df-convert:hover {\n",
              "      background-color: #E2EBFA;\n",
              "      box-shadow: 0px 1px 2px rgba(60, 64, 67, 0.3), 0px 1px 3px 1px rgba(60, 64, 67, 0.15);\n",
              "      fill: #174EA6;\n",
              "    }\n",
              "\n",
              "    [theme=dark] .colab-df-convert {\n",
              "      background-color: #3B4455;\n",
              "      fill: #D2E3FC;\n",
              "    }\n",
              "\n",
              "    [theme=dark] .colab-df-convert:hover {\n",
              "      background-color: #434B5C;\n",
              "      box-shadow: 0px 1px 3px 1px rgba(0, 0, 0, 0.15);\n",
              "      filter: drop-shadow(0px 1px 2px rgba(0, 0, 0, 0.3));\n",
              "      fill: #FFFFFF;\n",
              "    }\n",
              "  </style>\n",
              "\n",
              "      <script>\n",
              "        const buttonEl =\n",
              "          document.querySelector('#df-a3709c76-246c-427a-91ad-66f7a04d33f1 button.colab-df-convert');\n",
              "        buttonEl.style.display =\n",
              "          google.colab.kernel.accessAllowed ? 'block' : 'none';\n",
              "\n",
              "        async function convertToInteractive(key) {\n",
              "          const element = document.querySelector('#df-a3709c76-246c-427a-91ad-66f7a04d33f1');\n",
              "          const dataTable =\n",
              "            await google.colab.kernel.invokeFunction('convertToInteractive',\n",
              "                                                     [key], {});\n",
              "          if (!dataTable) return;\n",
              "\n",
              "          const docLinkHtml = 'Like what you see? Visit the ' +\n",
              "            '<a target=\"_blank\" href=https://colab.research.google.com/notebooks/data_table.ipynb>data table notebook</a>'\n",
              "            + ' to learn more about interactive tables.';\n",
              "          element.innerHTML = '';\n",
              "          dataTable['output_type'] = 'display_data';\n",
              "          await google.colab.output.renderOutput(dataTable, element);\n",
              "          const docLink = document.createElement('div');\n",
              "          docLink.innerHTML = docLinkHtml;\n",
              "          element.appendChild(docLink);\n",
              "        }\n",
              "      </script>\n",
              "    </div>\n",
              "  </div>\n",
              "  "
            ]
          },
          "metadata": {},
          "execution_count": 2
        }
      ]
    },
    {
      "cell_type": "code",
      "source": [
        "df.shape"
      ],
      "metadata": {
        "colab": {
          "base_uri": "https://localhost:8080/"
        },
        "id": "_10MopgqIDzt",
        "outputId": "906753b1-3c89-4f62-b056-e67996f6afa9"
      },
      "execution_count": 3,
      "outputs": [
        {
          "output_type": "execute_result",
          "data": {
            "text/plain": [
              "(49, 10)"
            ]
          },
          "metadata": {},
          "execution_count": 3
        }
      ]
    },
    {
      "cell_type": "markdown",
      "source": [
        "Для начала построить графики, но для этого необходимо отформатировать данные"
      ],
      "metadata": {
        "id": "SyLRq6wJIVuZ"
      }
    },
    {
      "cell_type": "markdown",
      "source": [
        "# **1. Информация**"
      ],
      "metadata": {
        "id": "LZaUI244MWbZ"
      }
    },
    {
      "cell_type": "markdown",
      "source": [
        "## **1.1 Переименовываем колонки (англ. яз)**"
      ],
      "metadata": {
        "id": "Rx8g5gSEIe-9"
      }
    },
    {
      "cell_type": "code",
      "source": [
        "df.rename(columns={df.columns[0]: 'Fire number', df.columns[1]: 'Date', df.columns[4]: 'Area', \n",
        "                   df.columns[5]: 'Temp',df.columns[6]: 'Rel_hum', df.columns[7]: 'Soil_moist',\n",
        "                  df.columns[8]: 'Atm_pres', df.columns[9]: 'V_type'}, inplace=True) # inplace=True для внесения изменений в датасет (изменения сразу вступают в силу)"
      ],
      "metadata": {
        "id": "VQWnlie8IpB7"
      },
      "execution_count": 4,
      "outputs": []
    },
    {
      "cell_type": "code",
      "source": [
        "df.head(5)"
      ],
      "metadata": {
        "colab": {
          "base_uri": "https://localhost:8080/",
          "height": 206
        },
        "id": "Pxl7yAYNJYT_",
        "outputId": "cb74b08d-e175-4222-b537-fae24f0dc3ff"
      },
      "execution_count": 5,
      "outputs": [
        {
          "output_type": "execute_result",
          "data": {
            "text/plain": [
              "   Fire number       Date        X        Y  Area    Temp  Rel_hum  \\\n",
              "0       203679   7/5/2020  47.4856  42.9225   961  33.758     20.1   \n",
              "1       220864  7/30/2020  47.5192  42.8835    39  29.325     30.1   \n",
              "2       203570   7/5/2020  47.5200  42.8793    85  33.758     20.1   \n",
              "3       264514  10/1/2020  47.5151  42.8768     5  19.844     47.0   \n",
              "4       192992  6/15/2020  47.5627  42.6358     7  28.925     34.9   \n",
              "\n",
              "   Soil_moist  Atm_pres          V_type  \n",
              "0       16.29     953.5             Луг  \n",
              "1       20.07     962.1             Луг  \n",
              "2       16.29     953.5             Луг  \n",
              "3       22.71     959.2             Луг  \n",
              "4       17.16     910.3  Лиственный лес  "
            ],
            "text/html": [
              "\n",
              "  <div id=\"df-b7ecd6f8-a5b8-454c-a40e-ff1bfca77747\">\n",
              "    <div class=\"colab-df-container\">\n",
              "      <div>\n",
              "<style scoped>\n",
              "    .dataframe tbody tr th:only-of-type {\n",
              "        vertical-align: middle;\n",
              "    }\n",
              "\n",
              "    .dataframe tbody tr th {\n",
              "        vertical-align: top;\n",
              "    }\n",
              "\n",
              "    .dataframe thead th {\n",
              "        text-align: right;\n",
              "    }\n",
              "</style>\n",
              "<table border=\"1\" class=\"dataframe\">\n",
              "  <thead>\n",
              "    <tr style=\"text-align: right;\">\n",
              "      <th></th>\n",
              "      <th>Fire number</th>\n",
              "      <th>Date</th>\n",
              "      <th>X</th>\n",
              "      <th>Y</th>\n",
              "      <th>Area</th>\n",
              "      <th>Temp</th>\n",
              "      <th>Rel_hum</th>\n",
              "      <th>Soil_moist</th>\n",
              "      <th>Atm_pres</th>\n",
              "      <th>V_type</th>\n",
              "    </tr>\n",
              "  </thead>\n",
              "  <tbody>\n",
              "    <tr>\n",
              "      <th>0</th>\n",
              "      <td>203679</td>\n",
              "      <td>7/5/2020</td>\n",
              "      <td>47.4856</td>\n",
              "      <td>42.9225</td>\n",
              "      <td>961</td>\n",
              "      <td>33.758</td>\n",
              "      <td>20.1</td>\n",
              "      <td>16.29</td>\n",
              "      <td>953.5</td>\n",
              "      <td>Луг</td>\n",
              "    </tr>\n",
              "    <tr>\n",
              "      <th>1</th>\n",
              "      <td>220864</td>\n",
              "      <td>7/30/2020</td>\n",
              "      <td>47.5192</td>\n",
              "      <td>42.8835</td>\n",
              "      <td>39</td>\n",
              "      <td>29.325</td>\n",
              "      <td>30.1</td>\n",
              "      <td>20.07</td>\n",
              "      <td>962.1</td>\n",
              "      <td>Луг</td>\n",
              "    </tr>\n",
              "    <tr>\n",
              "      <th>2</th>\n",
              "      <td>203570</td>\n",
              "      <td>7/5/2020</td>\n",
              "      <td>47.5200</td>\n",
              "      <td>42.8793</td>\n",
              "      <td>85</td>\n",
              "      <td>33.758</td>\n",
              "      <td>20.1</td>\n",
              "      <td>16.29</td>\n",
              "      <td>953.5</td>\n",
              "      <td>Луг</td>\n",
              "    </tr>\n",
              "    <tr>\n",
              "      <th>3</th>\n",
              "      <td>264514</td>\n",
              "      <td>10/1/2020</td>\n",
              "      <td>47.5151</td>\n",
              "      <td>42.8768</td>\n",
              "      <td>5</td>\n",
              "      <td>19.844</td>\n",
              "      <td>47.0</td>\n",
              "      <td>22.71</td>\n",
              "      <td>959.2</td>\n",
              "      <td>Луг</td>\n",
              "    </tr>\n",
              "    <tr>\n",
              "      <th>4</th>\n",
              "      <td>192992</td>\n",
              "      <td>6/15/2020</td>\n",
              "      <td>47.5627</td>\n",
              "      <td>42.6358</td>\n",
              "      <td>7</td>\n",
              "      <td>28.925</td>\n",
              "      <td>34.9</td>\n",
              "      <td>17.16</td>\n",
              "      <td>910.3</td>\n",
              "      <td>Лиственный лес</td>\n",
              "    </tr>\n",
              "  </tbody>\n",
              "</table>\n",
              "</div>\n",
              "      <button class=\"colab-df-convert\" onclick=\"convertToInteractive('df-b7ecd6f8-a5b8-454c-a40e-ff1bfca77747')\"\n",
              "              title=\"Convert this dataframe to an interactive table.\"\n",
              "              style=\"display:none;\">\n",
              "        \n",
              "  <svg xmlns=\"http://www.w3.org/2000/svg\" height=\"24px\"viewBox=\"0 0 24 24\"\n",
              "       width=\"24px\">\n",
              "    <path d=\"M0 0h24v24H0V0z\" fill=\"none\"/>\n",
              "    <path d=\"M18.56 5.44l.94 2.06.94-2.06 2.06-.94-2.06-.94-.94-2.06-.94 2.06-2.06.94zm-11 1L8.5 8.5l.94-2.06 2.06-.94-2.06-.94L8.5 2.5l-.94 2.06-2.06.94zm10 10l.94 2.06.94-2.06 2.06-.94-2.06-.94-.94-2.06-.94 2.06-2.06.94z\"/><path d=\"M17.41 7.96l-1.37-1.37c-.4-.4-.92-.59-1.43-.59-.52 0-1.04.2-1.43.59L10.3 9.45l-7.72 7.72c-.78.78-.78 2.05 0 2.83L4 21.41c.39.39.9.59 1.41.59.51 0 1.02-.2 1.41-.59l7.78-7.78 2.81-2.81c.8-.78.8-2.07 0-2.86zM5.41 20L4 18.59l7.72-7.72 1.47 1.35L5.41 20z\"/>\n",
              "  </svg>\n",
              "      </button>\n",
              "      \n",
              "  <style>\n",
              "    .colab-df-container {\n",
              "      display:flex;\n",
              "      flex-wrap:wrap;\n",
              "      gap: 12px;\n",
              "    }\n",
              "\n",
              "    .colab-df-convert {\n",
              "      background-color: #E8F0FE;\n",
              "      border: none;\n",
              "      border-radius: 50%;\n",
              "      cursor: pointer;\n",
              "      display: none;\n",
              "      fill: #1967D2;\n",
              "      height: 32px;\n",
              "      padding: 0 0 0 0;\n",
              "      width: 32px;\n",
              "    }\n",
              "\n",
              "    .colab-df-convert:hover {\n",
              "      background-color: #E2EBFA;\n",
              "      box-shadow: 0px 1px 2px rgba(60, 64, 67, 0.3), 0px 1px 3px 1px rgba(60, 64, 67, 0.15);\n",
              "      fill: #174EA6;\n",
              "    }\n",
              "\n",
              "    [theme=dark] .colab-df-convert {\n",
              "      background-color: #3B4455;\n",
              "      fill: #D2E3FC;\n",
              "    }\n",
              "\n",
              "    [theme=dark] .colab-df-convert:hover {\n",
              "      background-color: #434B5C;\n",
              "      box-shadow: 0px 1px 3px 1px rgba(0, 0, 0, 0.15);\n",
              "      filter: drop-shadow(0px 1px 2px rgba(0, 0, 0, 0.3));\n",
              "      fill: #FFFFFF;\n",
              "    }\n",
              "  </style>\n",
              "\n",
              "      <script>\n",
              "        const buttonEl =\n",
              "          document.querySelector('#df-b7ecd6f8-a5b8-454c-a40e-ff1bfca77747 button.colab-df-convert');\n",
              "        buttonEl.style.display =\n",
              "          google.colab.kernel.accessAllowed ? 'block' : 'none';\n",
              "\n",
              "        async function convertToInteractive(key) {\n",
              "          const element = document.querySelector('#df-b7ecd6f8-a5b8-454c-a40e-ff1bfca77747');\n",
              "          const dataTable =\n",
              "            await google.colab.kernel.invokeFunction('convertToInteractive',\n",
              "                                                     [key], {});\n",
              "          if (!dataTable) return;\n",
              "\n",
              "          const docLinkHtml = 'Like what you see? Visit the ' +\n",
              "            '<a target=\"_blank\" href=https://colab.research.google.com/notebooks/data_table.ipynb>data table notebook</a>'\n",
              "            + ' to learn more about interactive tables.';\n",
              "          element.innerHTML = '';\n",
              "          dataTable['output_type'] = 'display_data';\n",
              "          await google.colab.output.renderOutput(dataTable, element);\n",
              "          const docLink = document.createElement('div');\n",
              "          docLink.innerHTML = docLinkHtml;\n",
              "          element.appendChild(docLink);\n",
              "        }\n",
              "      </script>\n",
              "    </div>\n",
              "  </div>\n",
              "  "
            ]
          },
          "metadata": {},
          "execution_count": 5
        }
      ]
    },
    {
      "cell_type": "markdown",
      "source": [
        "## **1.2 Информация о данных**"
      ],
      "metadata": {
        "id": "iMFC_J_aLYdB"
      }
    },
    {
      "cell_type": "code",
      "source": [
        "df.info() "
      ],
      "metadata": {
        "colab": {
          "base_uri": "https://localhost:8080/"
        },
        "id": "-di_5h_PLffk",
        "outputId": "ad2abc60-bc78-4285-a9a9-439beb5d8f4e"
      },
      "execution_count": 6,
      "outputs": [
        {
          "output_type": "stream",
          "name": "stdout",
          "text": [
            "<class 'pandas.core.frame.DataFrame'>\n",
            "RangeIndex: 49 entries, 0 to 48\n",
            "Data columns (total 10 columns):\n",
            " #   Column       Non-Null Count  Dtype  \n",
            "---  ------       --------------  -----  \n",
            " 0   Fire number  49 non-null     int64  \n",
            " 1   Date         49 non-null     object \n",
            " 2   X            49 non-null     float64\n",
            " 3   Y            49 non-null     float64\n",
            " 4   Area         49 non-null     int64  \n",
            " 5   Temp         49 non-null     float64\n",
            " 6   Rel_hum      49 non-null     float64\n",
            " 7   Soil_moist   49 non-null     float64\n",
            " 8   Atm_pres     49 non-null     float64\n",
            " 9   V_type       49 non-null     object \n",
            "dtypes: float64(6), int64(2), object(2)\n",
            "memory usage: 4.0+ KB\n"
          ]
        }
      ]
    },
    {
      "cell_type": "code",
      "source": [
        "df.describe()"
      ],
      "metadata": {
        "colab": {
          "base_uri": "https://localhost:8080/",
          "height": 300
        },
        "id": "ZsA5vnvpLtbp",
        "outputId": "284bd13b-76d7-4750-caf4-c00a1e732c09"
      },
      "execution_count": 7,
      "outputs": [
        {
          "output_type": "execute_result",
          "data": {
            "text/plain": [
              "         Fire number          X          Y        Area       Temp    Rel_hum  \\\n",
              "count      49.000000  49.000000  49.000000   49.000000  49.000000  49.000000   \n",
              "mean   139643.653061  47.183271  42.488180   97.836735  16.025878  48.957143   \n",
              "std     99941.919391   0.574760   0.486414  184.406407   8.884035  16.539549   \n",
              "min     13167.000000  45.830200  41.595000    3.000000  -2.390000  20.100000   \n",
              "25%     26566.000000  46.829700  42.163600   12.000000  12.219000  37.100000   \n",
              "50%    143057.000000  47.456200  42.333100   26.000000  14.382000  48.100000   \n",
              "75%    204400.000000  47.664300  42.883500   90.000000  19.844000  60.500000   \n",
              "max    293489.000000  47.834500  43.369900  961.000000  33.758000  90.700000   \n",
              "\n",
              "       Soil_moist     Atm_pres  \n",
              "count   49.000000    49.000000  \n",
              "mean    27.438571   887.863265  \n",
              "std      7.554540    76.999674  \n",
              "min     14.080000   752.500000  \n",
              "25%     21.780000   807.500000  \n",
              "50%     27.470000   910.300000  \n",
              "75%     30.730000   953.500000  \n",
              "max     43.770000  1023.600000  "
            ],
            "text/html": [
              "\n",
              "  <div id=\"df-3d8d1fc4-bfbb-4e56-937b-c97de61d4d51\">\n",
              "    <div class=\"colab-df-container\">\n",
              "      <div>\n",
              "<style scoped>\n",
              "    .dataframe tbody tr th:only-of-type {\n",
              "        vertical-align: middle;\n",
              "    }\n",
              "\n",
              "    .dataframe tbody tr th {\n",
              "        vertical-align: top;\n",
              "    }\n",
              "\n",
              "    .dataframe thead th {\n",
              "        text-align: right;\n",
              "    }\n",
              "</style>\n",
              "<table border=\"1\" class=\"dataframe\">\n",
              "  <thead>\n",
              "    <tr style=\"text-align: right;\">\n",
              "      <th></th>\n",
              "      <th>Fire number</th>\n",
              "      <th>X</th>\n",
              "      <th>Y</th>\n",
              "      <th>Area</th>\n",
              "      <th>Temp</th>\n",
              "      <th>Rel_hum</th>\n",
              "      <th>Soil_moist</th>\n",
              "      <th>Atm_pres</th>\n",
              "    </tr>\n",
              "  </thead>\n",
              "  <tbody>\n",
              "    <tr>\n",
              "      <th>count</th>\n",
              "      <td>49.000000</td>\n",
              "      <td>49.000000</td>\n",
              "      <td>49.000000</td>\n",
              "      <td>49.000000</td>\n",
              "      <td>49.000000</td>\n",
              "      <td>49.000000</td>\n",
              "      <td>49.000000</td>\n",
              "      <td>49.000000</td>\n",
              "    </tr>\n",
              "    <tr>\n",
              "      <th>mean</th>\n",
              "      <td>139643.653061</td>\n",
              "      <td>47.183271</td>\n",
              "      <td>42.488180</td>\n",
              "      <td>97.836735</td>\n",
              "      <td>16.025878</td>\n",
              "      <td>48.957143</td>\n",
              "      <td>27.438571</td>\n",
              "      <td>887.863265</td>\n",
              "    </tr>\n",
              "    <tr>\n",
              "      <th>std</th>\n",
              "      <td>99941.919391</td>\n",
              "      <td>0.574760</td>\n",
              "      <td>0.486414</td>\n",
              "      <td>184.406407</td>\n",
              "      <td>8.884035</td>\n",
              "      <td>16.539549</td>\n",
              "      <td>7.554540</td>\n",
              "      <td>76.999674</td>\n",
              "    </tr>\n",
              "    <tr>\n",
              "      <th>min</th>\n",
              "      <td>13167.000000</td>\n",
              "      <td>45.830200</td>\n",
              "      <td>41.595000</td>\n",
              "      <td>3.000000</td>\n",
              "      <td>-2.390000</td>\n",
              "      <td>20.100000</td>\n",
              "      <td>14.080000</td>\n",
              "      <td>752.500000</td>\n",
              "    </tr>\n",
              "    <tr>\n",
              "      <th>25%</th>\n",
              "      <td>26566.000000</td>\n",
              "      <td>46.829700</td>\n",
              "      <td>42.163600</td>\n",
              "      <td>12.000000</td>\n",
              "      <td>12.219000</td>\n",
              "      <td>37.100000</td>\n",
              "      <td>21.780000</td>\n",
              "      <td>807.500000</td>\n",
              "    </tr>\n",
              "    <tr>\n",
              "      <th>50%</th>\n",
              "      <td>143057.000000</td>\n",
              "      <td>47.456200</td>\n",
              "      <td>42.333100</td>\n",
              "      <td>26.000000</td>\n",
              "      <td>14.382000</td>\n",
              "      <td>48.100000</td>\n",
              "      <td>27.470000</td>\n",
              "      <td>910.300000</td>\n",
              "    </tr>\n",
              "    <tr>\n",
              "      <th>75%</th>\n",
              "      <td>204400.000000</td>\n",
              "      <td>47.664300</td>\n",
              "      <td>42.883500</td>\n",
              "      <td>90.000000</td>\n",
              "      <td>19.844000</td>\n",
              "      <td>60.500000</td>\n",
              "      <td>30.730000</td>\n",
              "      <td>953.500000</td>\n",
              "    </tr>\n",
              "    <tr>\n",
              "      <th>max</th>\n",
              "      <td>293489.000000</td>\n",
              "      <td>47.834500</td>\n",
              "      <td>43.369900</td>\n",
              "      <td>961.000000</td>\n",
              "      <td>33.758000</td>\n",
              "      <td>90.700000</td>\n",
              "      <td>43.770000</td>\n",
              "      <td>1023.600000</td>\n",
              "    </tr>\n",
              "  </tbody>\n",
              "</table>\n",
              "</div>\n",
              "      <button class=\"colab-df-convert\" onclick=\"convertToInteractive('df-3d8d1fc4-bfbb-4e56-937b-c97de61d4d51')\"\n",
              "              title=\"Convert this dataframe to an interactive table.\"\n",
              "              style=\"display:none;\">\n",
              "        \n",
              "  <svg xmlns=\"http://www.w3.org/2000/svg\" height=\"24px\"viewBox=\"0 0 24 24\"\n",
              "       width=\"24px\">\n",
              "    <path d=\"M0 0h24v24H0V0z\" fill=\"none\"/>\n",
              "    <path d=\"M18.56 5.44l.94 2.06.94-2.06 2.06-.94-2.06-.94-.94-2.06-.94 2.06-2.06.94zm-11 1L8.5 8.5l.94-2.06 2.06-.94-2.06-.94L8.5 2.5l-.94 2.06-2.06.94zm10 10l.94 2.06.94-2.06 2.06-.94-2.06-.94-.94-2.06-.94 2.06-2.06.94z\"/><path d=\"M17.41 7.96l-1.37-1.37c-.4-.4-.92-.59-1.43-.59-.52 0-1.04.2-1.43.59L10.3 9.45l-7.72 7.72c-.78.78-.78 2.05 0 2.83L4 21.41c.39.39.9.59 1.41.59.51 0 1.02-.2 1.41-.59l7.78-7.78 2.81-2.81c.8-.78.8-2.07 0-2.86zM5.41 20L4 18.59l7.72-7.72 1.47 1.35L5.41 20z\"/>\n",
              "  </svg>\n",
              "      </button>\n",
              "      \n",
              "  <style>\n",
              "    .colab-df-container {\n",
              "      display:flex;\n",
              "      flex-wrap:wrap;\n",
              "      gap: 12px;\n",
              "    }\n",
              "\n",
              "    .colab-df-convert {\n",
              "      background-color: #E8F0FE;\n",
              "      border: none;\n",
              "      border-radius: 50%;\n",
              "      cursor: pointer;\n",
              "      display: none;\n",
              "      fill: #1967D2;\n",
              "      height: 32px;\n",
              "      padding: 0 0 0 0;\n",
              "      width: 32px;\n",
              "    }\n",
              "\n",
              "    .colab-df-convert:hover {\n",
              "      background-color: #E2EBFA;\n",
              "      box-shadow: 0px 1px 2px rgba(60, 64, 67, 0.3), 0px 1px 3px 1px rgba(60, 64, 67, 0.15);\n",
              "      fill: #174EA6;\n",
              "    }\n",
              "\n",
              "    [theme=dark] .colab-df-convert {\n",
              "      background-color: #3B4455;\n",
              "      fill: #D2E3FC;\n",
              "    }\n",
              "\n",
              "    [theme=dark] .colab-df-convert:hover {\n",
              "      background-color: #434B5C;\n",
              "      box-shadow: 0px 1px 3px 1px rgba(0, 0, 0, 0.15);\n",
              "      filter: drop-shadow(0px 1px 2px rgba(0, 0, 0, 0.3));\n",
              "      fill: #FFFFFF;\n",
              "    }\n",
              "  </style>\n",
              "\n",
              "      <script>\n",
              "        const buttonEl =\n",
              "          document.querySelector('#df-3d8d1fc4-bfbb-4e56-937b-c97de61d4d51 button.colab-df-convert');\n",
              "        buttonEl.style.display =\n",
              "          google.colab.kernel.accessAllowed ? 'block' : 'none';\n",
              "\n",
              "        async function convertToInteractive(key) {\n",
              "          const element = document.querySelector('#df-3d8d1fc4-bfbb-4e56-937b-c97de61d4d51');\n",
              "          const dataTable =\n",
              "            await google.colab.kernel.invokeFunction('convertToInteractive',\n",
              "                                                     [key], {});\n",
              "          if (!dataTable) return;\n",
              "\n",
              "          const docLinkHtml = 'Like what you see? Visit the ' +\n",
              "            '<a target=\"_blank\" href=https://colab.research.google.com/notebooks/data_table.ipynb>data table notebook</a>'\n",
              "            + ' to learn more about interactive tables.';\n",
              "          element.innerHTML = '';\n",
              "          dataTable['output_type'] = 'display_data';\n",
              "          await google.colab.output.renderOutput(dataTable, element);\n",
              "          const docLink = document.createElement('div');\n",
              "          docLink.innerHTML = docLinkHtml;\n",
              "          element.appendChild(docLink);\n",
              "        }\n",
              "      </script>\n",
              "    </div>\n",
              "  </div>\n",
              "  "
            ]
          },
          "metadata": {},
          "execution_count": 7
        }
      ]
    },
    {
      "cell_type": "markdown",
      "source": [
        "# **2. Визуализация данных**"
      ],
      "metadata": {
        "id": "zJeQlluIMGyY"
      }
    },
    {
      "cell_type": "markdown",
      "source": [
        "## **2.1 Кол-во пожаров по типам растительности (V_type)**"
      ],
      "metadata": {
        "id": "PPkVyMebMgsK"
      }
    },
    {
      "cell_type": "code",
      "source": [
        "df['V_type'].value_counts() # уникальные значения в этой колонке"
      ],
      "metadata": {
        "colab": {
          "base_uri": "https://localhost:8080/"
        },
        "id": "Gfk2KZAnMlvE",
        "outputId": "ce6b0478-4d08-4472-cd01-9f89c7935dcf"
      },
      "execution_count": 8,
      "outputs": [
        {
          "output_type": "execute_result",
          "data": {
            "text/plain": [
              "Луг                 26\n",
              "Лиственный лес      22\n",
              "Темнохвойный лес     1\n",
              "Name: V_type, dtype: int64"
            ]
          },
          "metadata": {},
          "execution_count": 8
        }
      ]
    },
    {
      "cell_type": "code",
      "source": [
        "sns.countplot(x=df['V_type'], hue=df['V_type']); # hue параметр для создания легенды карты "
      ],
      "metadata": {
        "colab": {
          "base_uri": "https://localhost:8080/",
          "height": 280
        },
        "id": "cqnPqWZ2Myvv",
        "outputId": "fbe75b71-9071-472c-bdef-e299991c43cc"
      },
      "execution_count": 9,
      "outputs": [
        {
          "output_type": "display_data",
          "data": {
            "text/plain": [
              "<Figure size 432x288 with 1 Axes>"
            ],
            "image/png": "[encoded data removed]"
          },
          "metadata": {
            "needs_background": "light"
          }
        }
      ]
    },
    {
      "cell_type": "markdown",
      "source": [
        "## **2.2 Добавляем новую колонку (месяц)**"
      ],
      "metadata": {
        "id": "m_-S2gl-NxlL"
      }
    },
    {
      "cell_type": "code",
      "source": [
        "df['Num_month'] = df['Date'].apply(lambda date: int(date.split('/')[0])) # создание новой колонки, чтобы отобразить график пожаров по каждому месяцу"
      ],
      "metadata": {
        "id": "YkiB35ePN2SU"
      },
      "execution_count": 10,
      "outputs": []
    },
    {
      "cell_type": "code",
      "source": [
        "df.head(5)"
      ],
      "metadata": {
        "colab": {
          "base_uri": "https://localhost:8080/",
          "height": 206
        },
        "id": "p0b4Hbo-OPxB",
        "outputId": "8e3909cc-b02a-4688-8e1d-5d651a39810b"
      },
      "execution_count": 11,
      "outputs": [
        {
          "output_type": "execute_result",
          "data": {
            "text/plain": [
              "   Fire number       Date        X        Y  Area    Temp  Rel_hum  \\\n",
              "0       203679   7/5/2020  47.4856  42.9225   961  33.758     20.1   \n",
              "1       220864  7/30/2020  47.5192  42.8835    39  29.325     30.1   \n",
              "2       203570   7/5/2020  47.5200  42.8793    85  33.758     20.1   \n",
              "3       264514  10/1/2020  47.5151  42.8768     5  19.844     47.0   \n",
              "4       192992  6/15/2020  47.5627  42.6358     7  28.925     34.9   \n",
              "\n",
              "   Soil_moist  Atm_pres          V_type  Num_month  \n",
              "0       16.29     953.5             Луг          7  \n",
              "1       20.07     962.1             Луг          7  \n",
              "2       16.29     953.5             Луг          7  \n",
              "3       22.71     959.2             Луг         10  \n",
              "4       17.16     910.3  Лиственный лес          6  "
            ],
            "text/html": [
              "\n",
              "  <div id=\"df-6eeba08e-621a-4468-85a9-95b6b8ea984a\">\n",
              "    <div class=\"colab-df-container\">\n",
              "      <div>\n",
              "<style scoped>\n",
              "    .dataframe tbody tr th:only-of-type {\n",
              "        vertical-align: middle;\n",
              "    }\n",
              "\n",
              "    .dataframe tbody tr th {\n",
              "        vertical-align: top;\n",
              "    }\n",
              "\n",
              "    .dataframe thead th {\n",
              "        text-align: right;\n",
              "    }\n",
              "</style>\n",
              "<table border=\"1\" class=\"dataframe\">\n",
              "  <thead>\n",
              "    <tr style=\"text-align: right;\">\n",
              "      <th></th>\n",
              "      <th>Fire number</th>\n",
              "      <th>Date</th>\n",
              "      <th>X</th>\n",
              "      <th>Y</th>\n",
              "      <th>Area</th>\n",
              "      <th>Temp</th>\n",
              "      <th>Rel_hum</th>\n",
              "      <th>Soil_moist</th>\n",
              "      <th>Atm_pres</th>\n",
              "      <th>V_type</th>\n",
              "      <th>Num_month</th>\n",
              "    </tr>\n",
              "  </thead>\n",
              "  <tbody>\n",
              "    <tr>\n",
              "      <th>0</th>\n",
              "      <td>203679</td>\n",
              "      <td>7/5/2020</td>\n",
              "      <td>47.4856</td>\n",
              "      <td>42.9225</td>\n",
              "      <td>961</td>\n",
              "      <td>33.758</td>\n",
              "      <td>20.1</td>\n",
              "      <td>16.29</td>\n",
              "      <td>953.5</td>\n",
              "      <td>Луг</td>\n",
              "      <td>7</td>\n",
              "    </tr>\n",
              "    <tr>\n",
              "      <th>1</th>\n",
              "      <td>220864</td>\n",
              "      <td>7/30/2020</td>\n",
              "      <td>47.5192</td>\n",
              "      <td>42.8835</td>\n",
              "      <td>39</td>\n",
              "      <td>29.325</td>\n",
              "      <td>30.1</td>\n",
              "      <td>20.07</td>\n",
              "      <td>962.1</td>\n",
              "      <td>Луг</td>\n",
              "      <td>7</td>\n",
              "    </tr>\n",
              "    <tr>\n",
              "      <th>2</th>\n",
              "      <td>203570</td>\n",
              "      <td>7/5/2020</td>\n",
              "      <td>47.5200</td>\n",
              "      <td>42.8793</td>\n",
              "      <td>85</td>\n",
              "      <td>33.758</td>\n",
              "      <td>20.1</td>\n",
              "      <td>16.29</td>\n",
              "      <td>953.5</td>\n",
              "      <td>Луг</td>\n",
              "      <td>7</td>\n",
              "    </tr>\n",
              "    <tr>\n",
              "      <th>3</th>\n",
              "      <td>264514</td>\n",
              "      <td>10/1/2020</td>\n",
              "      <td>47.5151</td>\n",
              "      <td>42.8768</td>\n",
              "      <td>5</td>\n",
              "      <td>19.844</td>\n",
              "      <td>47.0</td>\n",
              "      <td>22.71</td>\n",
              "      <td>959.2</td>\n",
              "      <td>Луг</td>\n",
              "      <td>10</td>\n",
              "    </tr>\n",
              "    <tr>\n",
              "      <th>4</th>\n",
              "      <td>192992</td>\n",
              "      <td>6/15/2020</td>\n",
              "      <td>47.5627</td>\n",
              "      <td>42.6358</td>\n",
              "      <td>7</td>\n",
              "      <td>28.925</td>\n",
              "      <td>34.9</td>\n",
              "      <td>17.16</td>\n",
              "      <td>910.3</td>\n",
              "      <td>Лиственный лес</td>\n",
              "      <td>6</td>\n",
              "    </tr>\n",
              "  </tbody>\n",
              "</table>\n",
              "</div>\n",
              "      <button class=\"colab-df-convert\" onclick=\"convertToInteractive('df-6eeba08e-621a-4468-85a9-95b6b8ea984a')\"\n",
              "              title=\"Convert this dataframe to an interactive table.\"\n",
              "              style=\"display:none;\">\n",
              "        \n",
              "  <svg xmlns=\"http://www.w3.org/2000/svg\" height=\"24px\"viewBox=\"0 0 24 24\"\n",
              "       width=\"24px\">\n",
              "    <path d=\"M0 0h24v24H0V0z\" fill=\"none\"/>\n",
              "    <path d=\"M18.56 5.44l.94 2.06.94-2.06 2.06-.94-2.06-.94-.94-2.06-.94 2.06-2.06.94zm-11 1L8.5 8.5l.94-2.06 2.06-.94-2.06-.94L8.5 2.5l-.94 2.06-2.06.94zm10 10l.94 2.06.94-2.06 2.06-.94-2.06-.94-.94-2.06-.94 2.06-2.06.94z\"/><path d=\"M17.41 7.96l-1.37-1.37c-.4-.4-.92-.59-1.43-.59-.52 0-1.04.2-1.43.59L10.3 9.45l-7.72 7.72c-.78.78-.78 2.05 0 2.83L4 21.41c.39.39.9.59 1.41.59.51 0 1.02-.2 1.41-.59l7.78-7.78 2.81-2.81c.8-.78.8-2.07 0-2.86zM5.41 20L4 18.59l7.72-7.72 1.47 1.35L5.41 20z\"/>\n",
              "  </svg>\n",
              "      </button>\n",
              "      \n",
              "  <style>\n",
              "    .colab-df-container {\n",
              "      display:flex;\n",
              "      flex-wrap:wrap;\n",
              "      gap: 12px;\n",
              "    }\n",
              "\n",
              "    .colab-df-convert {\n",
              "      background-color: #E8F0FE;\n",
              "      border: none;\n",
              "      border-radius: 50%;\n",
              "      cursor: pointer;\n",
              "      display: none;\n",
              "      fill: #1967D2;\n",
              "      height: 32px;\n",
              "      padding: 0 0 0 0;\n",
              "      width: 32px;\n",
              "    }\n",
              "\n",
              "    .colab-df-convert:hover {\n",
              "      background-color: #E2EBFA;\n",
              "      box-shadow: 0px 1px 2px rgba(60, 64, 67, 0.3), 0px 1px 3px 1px rgba(60, 64, 67, 0.15);\n",
              "      fill: #174EA6;\n",
              "    }\n",
              "\n",
              "    [theme=dark] .colab-df-convert {\n",
              "      background-color: #3B4455;\n",
              "      fill: #D2E3FC;\n",
              "    }\n",
              "\n",
              "    [theme=dark] .colab-df-convert:hover {\n",
              "      background-color: #434B5C;\n",
              "      box-shadow: 0px 1px 3px 1px rgba(0, 0, 0, 0.15);\n",
              "      filter: drop-shadow(0px 1px 2px rgba(0, 0, 0, 0.3));\n",
              "      fill: #FFFFFF;\n",
              "    }\n",
              "  </style>\n",
              "\n",
              "      <script>\n",
              "        const buttonEl =\n",
              "          document.querySelector('#df-6eeba08e-621a-4468-85a9-95b6b8ea984a button.colab-df-convert');\n",
              "        buttonEl.style.display =\n",
              "          google.colab.kernel.accessAllowed ? 'block' : 'none';\n",
              "\n",
              "        async function convertToInteractive(key) {\n",
              "          const element = document.querySelector('#df-6eeba08e-621a-4468-85a9-95b6b8ea984a');\n",
              "          const dataTable =\n",
              "            await google.colab.kernel.invokeFunction('convertToInteractive',\n",
              "                                                     [key], {});\n",
              "          if (!dataTable) return;\n",
              "\n",
              "          const docLinkHtml = 'Like what you see? Visit the ' +\n",
              "            '<a target=\"_blank\" href=https://colab.research.google.com/notebooks/data_table.ipynb>data table notebook</a>'\n",
              "            + ' to learn more about interactive tables.';\n",
              "          element.innerHTML = '';\n",
              "          dataTable['output_type'] = 'display_data';\n",
              "          await google.colab.output.renderOutput(dataTable, element);\n",
              "          const docLink = document.createElement('div');\n",
              "          docLink.innerHTML = docLinkHtml;\n",
              "          element.appendChild(docLink);\n",
              "        }\n",
              "      </script>\n",
              "    </div>\n",
              "  </div>\n",
              "  "
            ]
          },
          "metadata": {},
          "execution_count": 11
        }
      ]
    },
    {
      "cell_type": "code",
      "source": [
        "def to_month(num_month):\n",
        "    months = ['jan', 'feb', 'mar', 'apr', 'may', 'jun', 'jul', 'aug', 'sep', 'oct', 'nov', 'dec']\n",
        "    return months[num_month - 1]"
      ],
      "metadata": {
        "id": "ZsdFLZFmOlPv"
      },
      "execution_count": 12,
      "outputs": []
    },
    {
      "cell_type": "code",
      "source": [
        "# для графика количества пожаров по дням недели \n",
        "def to_day_week(date):\n",
        "    month = int(date.split('/')[0])\n",
        "    day = int(date.split('/')[1])\n",
        "    year = int(date.split('/')[2])\n",
        "    today = datetime.datetime(year, month, day)\n",
        "    num_day_week = today.weekday() # номер дня недели \n",
        "    days_week = ['mon', 'tue', 'wed', 'thu', 'fri', 'sat', 'sun']\n",
        "    return days_week[num_day_week]"
      ],
      "metadata": {
        "id": "wgqDdWh9PBE6"
      },
      "execution_count": 13,
      "outputs": []
    },
    {
      "cell_type": "markdown",
      "source": [
        "## **2.3 Кол-во пожаров по месяцам каждой растительности**"
      ],
      "metadata": {
        "id": "zf9dFL7nQB4K"
      }
    },
    {
      "cell_type": "code",
      "source": [
        "sns.countplot(x=df['Num_month'].apply(lambda num_month: to_month(num_month)), hue=df['V_type']); # преобразование: привели цифру месяца в его соответствующее название"
      ],
      "metadata": {
        "colab": {
          "base_uri": "https://localhost:8080/",
          "height": 280
        },
        "id": "VY1iLd9vQEu1",
        "outputId": "af668c56-6770-4116-c22f-f68928dfc075"
      },
      "execution_count": 14,
      "outputs": [
        {
          "output_type": "display_data",
          "data": {
            "text/plain": [
              "<Figure size 432x288 with 1 Axes>"
            ],
            "image/png": "[encoded data removed]"
          },
          "metadata": {
            "needs_background": "light"
          }
        }
      ]
    },
    {
      "cell_type": "markdown",
      "source": [
        "## **2.4 Кол-во пожаров по дням недели каждой растительности**"
      ],
      "metadata": {
        "id": "iXemyrESQ0mY"
      }
    },
    {
      "cell_type": "code",
      "source": [
        "sns.countplot(x=df['Date'].apply(lambda date: to_day_week(date)), hue=df['V_type']); # преобразование: привели цифру дня недели в его соответствующее название"
      ],
      "metadata": {
        "colab": {
          "base_uri": "https://localhost:8080/",
          "height": 279
        },
        "id": "ZgW3jZ15Q2xi",
        "outputId": "ce390976-a251-411b-fdf4-0583f40744d0"
      },
      "execution_count": 15,
      "outputs": [
        {
          "output_type": "display_data",
          "data": {
            "text/plain": [
              "<Figure size 432x288 with 1 Axes>"
            ],
            "image/png": "[encoded data removed]"
          },
          "metadata": {
            "needs_background": "light"
          }
        }
      ]
    },
    {
      "cell_type": "markdown",
      "source": [
        "## **2.5 Распределение Area и Temp для каждого пожара**"
      ],
      "metadata": {
        "id": "a4MBOzzZbwAK"
      }
    },
    {
      "cell_type": "code",
      "source": [
        "# отбор по типам пожара\n",
        "lugs = df[(df['V_type'] == 'Луг')]\n",
        "listv_forest = df[(df['V_type'] == 'Лиственный лес')]\n",
        "temn_forest = df[(df['V_type'] == 'Темнохвойный лес')]"
      ],
      "metadata": {
        "id": "ZBPsBUnXb0It"
      },
      "execution_count": 16,
      "outputs": []
    },
    {
      "cell_type": "code",
      "source": [
        "plt.figure(figsize=(7, 7))\n",
        "plt.scatter(lugs['Temp'], lugs['Area'], color='orange', label='Луг');\n",
        "plt.scatter(listv_forest['Temp'], listv_forest['Area'], color='blue', label='Лиственный лес');\n",
        "plt.scatter(temn_forest['Temp'], temn_forest['Area'], color='green', label='Темнохвойный лес');\n",
        "\n",
        "plt.xlabel('Температура');\n",
        "plt.ylabel('Площадь пожара');\n",
        "plt.title('Распределение Area и Temp для каждого пожара');\n",
        "plt.legend();"
      ],
      "metadata": {
        "colab": {
          "base_uri": "https://localhost:8080/",
          "height": 458
        },
        "id": "cJj6mYkqcBiO",
        "outputId": "9a404e54-7673-4a67-c480-109853cb6181"
      },
      "execution_count": 21,
      "outputs": [
        {
          "output_type": "display_data",
          "data": {
            "text/plain": [
              "<Figure size 504x504 with 1 Axes>"
            ],
            "image/png": "[encoded data removed]"
          },
          "metadata": {
            "needs_background": "light"
          }
        }
      ]
    },
    {
      "cell_type": "markdown",
      "source": [
        "# **3. Строим модель и прогнозируем плозадь пожара**"
      ],
      "metadata": {
        "id": "nE_3sDI9c2b4"
      }
    },
    {
      "cell_type": "code",
      "source": [
        "# создаем функцию для прогнозирования пожара\n",
        "def fire_area(date, X, Y, temp, humidity, soil_moisture, pressure_pa, V_type):\n",
        "  df = pd.read_csv('Data.csv')\n",
        "  df.rename(columns={df.columns[0]: 'Fire number', df.columns[1]: 'Date', df.columns[4]: 'Area', \n",
        "                   df.columns[5]: 'Temp',df.columns[6]: 'Rel_hum', df.columns[7]: 'Soil_moist',\n",
        "                  df.columns[8]: 'Atm_pres', df.columns[9]: 'V_type'}, inplace=True)\n",
        "  df.drop(['Fire number', 'X', 'Y', 'Date'], axis=1, inplace=True) # можно удалить колонки, которые не имеют смысла в конечном итоге\n",
        "    \n",
        "  df = df[(df['V_type'] == V_type)] # прогноз по типу растительности\n",
        "    \n",
        "  df['V_type'] = df['V_type'].map({'Луг': 0, 'Лиственный лес': 1, 'Темнохвойный лес': 2})\n",
        "\n",
        "  # тестовые данные (тестовый датасет)\n",
        "  Data = [['1', date, X, Y, '0', temp, humidity, soil_moisture, pressure_pa, V_type]]\n",
        "  df_test = pd.DataFrame(Data, columns=['Fire number', 'Date', 'X', 'Y', 'Area', \n",
        "                  'Temp', 'Rel_hum', 'Soil_moist', 'Atm_pres', 'V_type'])\n",
        "  \n",
        "  df_test.drop(['Fire number', 'X', 'Y', 'Date'], axis=1, inplace=True)\n",
        "  df_test['V_type'] = df_test['V_type'].map({'Луг': 0, 'Лиственный лес': 1, 'Темнохвойный лес': 2})\n",
        "\n",
        "  y_train = df['Area'].astype('int') # берем площадь и копируем как число\n",
        "  X_train = df.drop('Area', axis=1) # передаем все колонки, кроме колонки Area\n",
        "  y_valid = df_test['Area'].astype('int') # то же самое только для тесоых данных\n",
        "  X_valid = df_test.drop('Area', axis=1)\n",
        "\n",
        "  # Модель\n",
        "  from sklearn.linear_model import LinearRegression\n",
        "  model = LinearRegression()\n",
        "  model.fit(X_train, y_train)\n",
        "    \n",
        "  area_fire_pred = model.predict(X_valid)[0]\n",
        "    \n",
        "  if area_fire_pred < 0:\n",
        "      area_fire_pred = 0\n",
        "        \n",
        "  accuracy = model.score(X_train, y_train)\n",
        "    \n",
        "  return (area_fire_pred, accuracy)"
      ],
      "metadata": {
        "id": "2uL-yy-Oc5C6"
      },
      "execution_count": 22,
      "outputs": []
    },
    {
      "cell_type": "code",
      "source": [
        "print(fire_area('8/9/2021', 42.940179, 47.519348, 29, 50, 9, 1007, 'Луг'))"
      ],
      "metadata": {
        "colab": {
          "base_uri": "https://localhost:8080/"
        },
        "id": "88wxHgu1gQps",
        "outputId": "e135121c-6fa7-4809-8fd5-9b51647d3dce"
      },
      "execution_count": 23,
      "outputs": [
        {
          "output_type": "stream",
          "name": "stdout",
          "text": [
            "(43.38673459560869, 0.17556074256004262)\n"
          ]
        }
      ]
    }
  ]
}
