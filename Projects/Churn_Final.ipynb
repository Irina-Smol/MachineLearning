{
  "cells": [
    {
      "cell_type": "markdown",
      "metadata": {
        "id": "yOcwMdA7yXRu"
      },
      "source": [
        "# Telecom Churn"
      ]
    },
    {
      "cell_type": "markdown",
      "metadata": {
        "id": "j33tWfCoyXRw"
      },
      "source": [
        "We will try to predict the churn of some telecom company"
      ]
    },
    {
      "cell_type": "markdown",
      "metadata": {
        "id": "4C95Cwz6yXRx"
      },
      "source": [
        "## Agenda\n",
        "\n",
        "1- Import Libraries\n",
        "\n",
        "2-Load The Data\n",
        "\n",
        "3-Handle Missing Values if existed\n",
        "\n",
        "4-Explore the Data (EDA)\n",
        "\n",
        "5-PreProcessing Stage\n",
        "\n",
        "6-Predicting the Churn with different algorithms and evaluation\n"
      ]
    },
    {
      "cell_type": "markdown",
      "metadata": {
        "id": "GFG9RFh4yXRx"
      },
      "source": [
        "### 1-Import Libraries\n",
        "\n",
        "We will import the library required for the problem"
      ]
    },
    {
      "cell_type": "code",
      "execution_count": null,
      "metadata": {
        "id": "IXOCD2M4yXRy"
      },
      "outputs": [],
      "source": [
        "import pandas as pd #For DataFrames\n",
        "import numpy as np #Mathmatical Operations\n",
        "import seaborn as sns #Plotting\n",
        "import matplotlib.pyplot as plt #Plotting\n",
        "%matplotlib inline\n",
        "plt.style.use('seaborn')"
      ]
    },
    {
      "cell_type": "markdown",
      "metadata": {
        "id": "C9GwvNx3yXRy"
      },
      "source": [
        "### 2-Load the data\n",
        "\n",
        "We load the churn data into a dataframe"
      ]
    },
    {
      "cell_type": "code",
      "execution_count": null,
      "metadata": {
        "id": "362DpgGIyXRz"
      },
      "outputs": [],
      "source": [
        "df=pd.read_csv('E:\\\\ITI\\\\Python\\\\Telecom Churn\\\\WA_Fn-UseC_-Telco-Customer-Churn.csv')"
      ]
    },
    {
      "cell_type": "markdown",
      "metadata": {
        "id": "D0ayrrp3yXRz"
      },
      "source": [
        "We see the first 5 rows of the data and the features of the dataset"
      ]
    },
    {
      "cell_type": "code",
      "execution_count": null,
      "metadata": {
        "id": "fjxTGpMjyXRz",
        "outputId": "6565163d-8ef7-4f7d-f6c9-01cb05fb9cd6"
      },
      "outputs": [
        {
          "data": {
            "text/html": [
              "<div>\n",
              "<style scoped>\n",
              "    .dataframe tbody tr th:only-of-type {\n",
              "        vertical-align: middle;\n",
              "    }\n",
              "\n",
              "    .dataframe tbody tr th {\n",
              "        vertical-align: top;\n",
              "    }\n",
              "\n",
              "    .dataframe thead th {\n",
              "        text-align: right;\n",
              "    }\n",
              "</style>\n",
              "<table border=\"1\" class=\"dataframe\">\n",
              "  <thead>\n",
              "    <tr style=\"text-align: right;\">\n",
              "      <th></th>\n",
              "      <th>customerID</th>\n",
              "      <th>gender</th>\n",
              "      <th>SeniorCitizen</th>\n",
              "      <th>Partner</th>\n",
              "      <th>Dependents</th>\n",
              "      <th>tenure</th>\n",
              "      <th>PhoneService</th>\n",
              "      <th>MultipleLines</th>\n",
              "      <th>InternetService</th>\n",
              "      <th>OnlineSecurity</th>\n",
              "      <th>...</th>\n",
              "      <th>DeviceProtection</th>\n",
              "      <th>TechSupport</th>\n",
              "      <th>StreamingTV</th>\n",
              "      <th>StreamingMovies</th>\n",
              "      <th>Contract</th>\n",
              "      <th>PaperlessBilling</th>\n",
              "      <th>PaymentMethod</th>\n",
              "      <th>MonthlyCharges</th>\n",
              "      <th>TotalCharges</th>\n",
              "      <th>Churn</th>\n",
              "    </tr>\n",
              "  </thead>\n",
              "  <tbody>\n",
              "    <tr>\n",
              "      <th>0</th>\n",
              "      <td>7590-VHVEG</td>\n",
              "      <td>Female</td>\n",
              "      <td>0</td>\n",
              "      <td>Yes</td>\n",
              "      <td>No</td>\n",
              "      <td>1</td>\n",
              "      <td>No</td>\n",
              "      <td>No phone service</td>\n",
              "      <td>DSL</td>\n",
              "      <td>No</td>\n",
              "      <td>...</td>\n",
              "      <td>No</td>\n",
              "      <td>No</td>\n",
              "      <td>No</td>\n",
              "      <td>No</td>\n",
              "      <td>Month-to-month</td>\n",
              "      <td>Yes</td>\n",
              "      <td>Electronic check</td>\n",
              "      <td>29.85</td>\n",
              "      <td>29.85</td>\n",
              "      <td>No</td>\n",
              "    </tr>\n",
              "    <tr>\n",
              "      <th>1</th>\n",
              "      <td>5575-GNVDE</td>\n",
              "      <td>Male</td>\n",
              "      <td>0</td>\n",
              "      <td>No</td>\n",
              "      <td>No</td>\n",
              "      <td>34</td>\n",
              "      <td>Yes</td>\n",
              "      <td>No</td>\n",
              "      <td>DSL</td>\n",
              "      <td>Yes</td>\n",
              "      <td>...</td>\n",
              "      <td>Yes</td>\n",
              "      <td>No</td>\n",
              "      <td>No</td>\n",
              "      <td>No</td>\n",
              "      <td>One year</td>\n",
              "      <td>No</td>\n",
              "      <td>Mailed check</td>\n",
              "      <td>56.95</td>\n",
              "      <td>1889.5</td>\n",
              "      <td>No</td>\n",
              "    </tr>\n",
              "    <tr>\n",
              "      <th>2</th>\n",
              "      <td>3668-QPYBK</td>\n",
              "      <td>Male</td>\n",
              "      <td>0</td>\n",
              "      <td>No</td>\n",
              "      <td>No</td>\n",
              "      <td>2</td>\n",
              "      <td>Yes</td>\n",
              "      <td>No</td>\n",
              "      <td>DSL</td>\n",
              "      <td>Yes</td>\n",
              "      <td>...</td>\n",
              "      <td>No</td>\n",
              "      <td>No</td>\n",
              "      <td>No</td>\n",
              "      <td>No</td>\n",
              "      <td>Month-to-month</td>\n",
              "      <td>Yes</td>\n",
              "      <td>Mailed check</td>\n",
              "      <td>53.85</td>\n",
              "      <td>108.15</td>\n",
              "      <td>Yes</td>\n",
              "    </tr>\n",
              "    <tr>\n",
              "      <th>3</th>\n",
              "      <td>7795-CFOCW</td>\n",
              "      <td>Male</td>\n",
              "      <td>0</td>\n",
              "      <td>No</td>\n",
              "      <td>No</td>\n",
              "      <td>45</td>\n",
              "      <td>No</td>\n",
              "      <td>No phone service</td>\n",
              "      <td>DSL</td>\n",
              "      <td>Yes</td>\n",
              "      <td>...</td>\n",
              "      <td>Yes</td>\n",
              "      <td>Yes</td>\n",
              "      <td>No</td>\n",
              "      <td>No</td>\n",
              "      <td>One year</td>\n",
              "      <td>No</td>\n",
              "      <td>Bank transfer (automatic)</td>\n",
              "      <td>42.30</td>\n",
              "      <td>1840.75</td>\n",
              "      <td>No</td>\n",
              "    </tr>\n",
              "    <tr>\n",
              "      <th>4</th>\n",
              "      <td>9237-HQITU</td>\n",
              "      <td>Female</td>\n",
              "      <td>0</td>\n",
              "      <td>No</td>\n",
              "      <td>No</td>\n",
              "      <td>2</td>\n",
              "      <td>Yes</td>\n",
              "      <td>No</td>\n",
              "      <td>Fiber optic</td>\n",
              "      <td>No</td>\n",
              "      <td>...</td>\n",
              "      <td>No</td>\n",
              "      <td>No</td>\n",
              "      <td>No</td>\n",
              "      <td>No</td>\n",
              "      <td>Month-to-month</td>\n",
              "      <td>Yes</td>\n",
              "      <td>Electronic check</td>\n",
              "      <td>70.70</td>\n",
              "      <td>151.65</td>\n",
              "      <td>Yes</td>\n",
              "    </tr>\n",
              "  </tbody>\n",
              "</table>\n",
              "<p>5 rows × 21 columns</p>\n",
              "</div>"
            ],
            "text/plain": [
              "   customerID  gender  SeniorCitizen Partner Dependents  tenure PhoneService  \\\n",
              "0  7590-VHVEG  Female              0     Yes         No       1           No   \n",
              "1  5575-GNVDE    Male              0      No         No      34          Yes   \n",
              "2  3668-QPYBK    Male              0      No         No       2          Yes   \n",
              "3  7795-CFOCW    Male              0      No         No      45           No   \n",
              "4  9237-HQITU  Female              0      No         No       2          Yes   \n",
              "\n",
              "      MultipleLines InternetService OnlineSecurity  ...  DeviceProtection  \\\n",
              "0  No phone service             DSL             No  ...                No   \n",
              "1                No             DSL            Yes  ...               Yes   \n",
              "2                No             DSL            Yes  ...                No   \n",
              "3  No phone service             DSL            Yes  ...               Yes   \n",
              "4                No     Fiber optic             No  ...                No   \n",
              "\n",
              "  TechSupport StreamingTV StreamingMovies        Contract PaperlessBilling  \\\n",
              "0          No          No              No  Month-to-month              Yes   \n",
              "1          No          No              No        One year               No   \n",
              "2          No          No              No  Month-to-month              Yes   \n",
              "3         Yes          No              No        One year               No   \n",
              "4          No          No              No  Month-to-month              Yes   \n",
              "\n",
              "               PaymentMethod MonthlyCharges  TotalCharges Churn  \n",
              "0           Electronic check          29.85         29.85    No  \n",
              "1               Mailed check          56.95        1889.5    No  \n",
              "2               Mailed check          53.85        108.15   Yes  \n",
              "3  Bank transfer (automatic)          42.30       1840.75    No  \n",
              "4           Electronic check          70.70        151.65   Yes  \n",
              "\n",
              "[5 rows x 21 columns]"
            ]
          },
          "execution_count": 24,
          "metadata": {},
          "output_type": "execute_result"
        }
      ],
      "source": [
        "df.head()"
      ]
    },
    {
      "cell_type": "code",
      "execution_count": null,
      "metadata": {
        "id": "_b_iyz8OyXR0",
        "outputId": "e4425ad0-7306-4a86-ff8d-885181ba1d7b"
      },
      "outputs": [
        {
          "name": "stdout",
          "output_type": "stream",
          "text": [
            "<class 'pandas.core.frame.DataFrame'>\n",
            "RangeIndex: 7043 entries, 0 to 7042\n",
            "Data columns (total 21 columns):\n",
            "customerID          7043 non-null object\n",
            "gender              7043 non-null object\n",
            "SeniorCitizen       7043 non-null int64\n",
            "Partner             7043 non-null object\n",
            "Dependents          7043 non-null object\n",
            "tenure              7043 non-null int64\n",
            "PhoneService        7043 non-null object\n",
            "MultipleLines       7043 non-null object\n",
            "InternetService     7043 non-null object\n",
            "OnlineSecurity      7043 non-null object\n",
            "OnlineBackup        7043 non-null object\n",
            "DeviceProtection    7043 non-null object\n",
            "TechSupport         7043 non-null object\n",
            "StreamingTV         7043 non-null object\n",
            "StreamingMovies     7043 non-null object\n",
            "Contract            7043 non-null object\n",
            "PaperlessBilling    7043 non-null object\n",
            "PaymentMethod       7043 non-null object\n",
            "MonthlyCharges      7043 non-null float64\n",
            "TotalCharges        7043 non-null object\n",
            "Churn               7043 non-null object\n",
            "dtypes: float64(1), int64(2), object(18)\n",
            "memory usage: 1.1+ MB\n"
          ]
        }
      ],
      "source": [
        "df.info()"
      ]
    },
    {
      "cell_type": "markdown",
      "metadata": {
        "id": "OqSIL_TJyXR0"
      },
      "source": [
        "There are 20 features and a predictor(Churn) and 7043 observation"
      ]
    },
    {
      "cell_type": "markdown",
      "metadata": {
        "id": "rOupqub7yXR1"
      },
      "source": [
        "### 3-Handle Missing Values if existed\n",
        "\n",
        "We notice from the cell above that there aren't any missing value but we can't know for sure because the TotalCharges should be a float but it is a string so we must convert it to float first"
      ]
    },
    {
      "cell_type": "code",
      "execution_count": null,
      "metadata": {
        "id": "50kq2IxyyXR1"
      },
      "outputs": [],
      "source": [
        "df['TotalCharges'] = pd.to_numeric(df['TotalCharges'], errors='coerce')"
      ]
    },
    {
      "cell_type": "markdown",
      "metadata": {
        "id": "qrAMigY4yXR1"
      },
      "source": [
        "We check again."
      ]
    },
    {
      "cell_type": "code",
      "execution_count": null,
      "metadata": {
        "scrolled": false,
        "id": "x-yT4kSvyXR1",
        "outputId": "16212b6c-7731-4a6a-ccb7-1e23edddb4cf"
      },
      "outputs": [
        {
          "data": {
            "text/plain": [
              "customerID           0\n",
              "gender               0\n",
              "SeniorCitizen        0\n",
              "Partner              0\n",
              "Dependents           0\n",
              "tenure               0\n",
              "PhoneService         0\n",
              "MultipleLines        0\n",
              "InternetService      0\n",
              "OnlineSecurity       0\n",
              "OnlineBackup         0\n",
              "DeviceProtection     0\n",
              "TechSupport          0\n",
              "StreamingTV          0\n",
              "StreamingMovies      0\n",
              "Contract             0\n",
              "PaperlessBilling     0\n",
              "PaymentMethod        0\n",
              "MonthlyCharges       0\n",
              "TotalCharges        11\n",
              "Churn                0\n",
              "dtype: int64"
            ]
          },
          "execution_count": 29,
          "metadata": {},
          "output_type": "execute_result"
        }
      ],
      "source": [
        "df.isnull().sum()"
      ]
    },
    {
      "cell_type": "code",
      "execution_count": null,
      "metadata": {
        "id": "XmoWGhgkyXR1",
        "outputId": "94481b84-13dc-4273-ac65-1d5a62438432"
      },
      "outputs": [
        {
          "data": {
            "text/html": [
              "<div>\n",
              "<style scoped>\n",
              "    .dataframe tbody tr th:only-of-type {\n",
              "        vertical-align: middle;\n",
              "    }\n",
              "\n",
              "    .dataframe tbody tr th {\n",
              "        vertical-align: top;\n",
              "    }\n",
              "\n",
              "    .dataframe thead th {\n",
              "        text-align: right;\n",
              "    }\n",
              "</style>\n",
              "<table border=\"1\" class=\"dataframe\">\n",
              "  <thead>\n",
              "    <tr style=\"text-align: right;\">\n",
              "      <th></th>\n",
              "      <th>customerID</th>\n",
              "      <th>gender</th>\n",
              "      <th>SeniorCitizen</th>\n",
              "      <th>Partner</th>\n",
              "      <th>Dependents</th>\n",
              "      <th>tenure</th>\n",
              "      <th>PhoneService</th>\n",
              "      <th>MultipleLines</th>\n",
              "      <th>InternetService</th>\n",
              "      <th>OnlineSecurity</th>\n",
              "      <th>...</th>\n",
              "      <th>DeviceProtection</th>\n",
              "      <th>TechSupport</th>\n",
              "      <th>StreamingTV</th>\n",
              "      <th>StreamingMovies</th>\n",
              "      <th>Contract</th>\n",
              "      <th>PaperlessBilling</th>\n",
              "      <th>PaymentMethod</th>\n",
              "      <th>MonthlyCharges</th>\n",
              "      <th>TotalCharges</th>\n",
              "      <th>Churn</th>\n",
              "    </tr>\n",
              "  </thead>\n",
              "  <tbody>\n",
              "    <tr>\n",
              "      <th>0</th>\n",
              "      <td>7590-VHVEG</td>\n",
              "      <td>Female</td>\n",
              "      <td>0</td>\n",
              "      <td>Yes</td>\n",
              "      <td>No</td>\n",
              "      <td>1</td>\n",
              "      <td>No</td>\n",
              "      <td>No phone service</td>\n",
              "      <td>DSL</td>\n",
              "      <td>No</td>\n",
              "      <td>...</td>\n",
              "      <td>No</td>\n",
              "      <td>No</td>\n",
              "      <td>No</td>\n",
              "      <td>No</td>\n",
              "      <td>Month-to-month</td>\n",
              "      <td>Yes</td>\n",
              "      <td>Electronic check</td>\n",
              "      <td>29.85</td>\n",
              "      <td>29.85</td>\n",
              "      <td>NaN</td>\n",
              "    </tr>\n",
              "    <tr>\n",
              "      <th>1</th>\n",
              "      <td>5575-GNVDE</td>\n",
              "      <td>Male</td>\n",
              "      <td>0</td>\n",
              "      <td>No</td>\n",
              "      <td>No</td>\n",
              "      <td>34</td>\n",
              "      <td>Yes</td>\n",
              "      <td>No</td>\n",
              "      <td>DSL</td>\n",
              "      <td>Yes</td>\n",
              "      <td>...</td>\n",
              "      <td>Yes</td>\n",
              "      <td>No</td>\n",
              "      <td>No</td>\n",
              "      <td>No</td>\n",
              "      <td>One year</td>\n",
              "      <td>No</td>\n",
              "      <td>Mailed check</td>\n",
              "      <td>56.95</td>\n",
              "      <td>1889.50</td>\n",
              "      <td>NaN</td>\n",
              "    </tr>\n",
              "    <tr>\n",
              "      <th>2</th>\n",
              "      <td>3668-QPYBK</td>\n",
              "      <td>Male</td>\n",
              "      <td>0</td>\n",
              "      <td>No</td>\n",
              "      <td>No</td>\n",
              "      <td>2</td>\n",
              "      <td>Yes</td>\n",
              "      <td>No</td>\n",
              "      <td>DSL</td>\n",
              "      <td>Yes</td>\n",
              "      <td>...</td>\n",
              "      <td>No</td>\n",
              "      <td>No</td>\n",
              "      <td>No</td>\n",
              "      <td>No</td>\n",
              "      <td>Month-to-month</td>\n",
              "      <td>Yes</td>\n",
              "      <td>Mailed check</td>\n",
              "      <td>53.85</td>\n",
              "      <td>108.15</td>\n",
              "      <td>NaN</td>\n",
              "    </tr>\n",
              "    <tr>\n",
              "      <th>3</th>\n",
              "      <td>7795-CFOCW</td>\n",
              "      <td>Male</td>\n",
              "      <td>0</td>\n",
              "      <td>No</td>\n",
              "      <td>No</td>\n",
              "      <td>45</td>\n",
              "      <td>No</td>\n",
              "      <td>No phone service</td>\n",
              "      <td>DSL</td>\n",
              "      <td>Yes</td>\n",
              "      <td>...</td>\n",
              "      <td>Yes</td>\n",
              "      <td>Yes</td>\n",
              "      <td>No</td>\n",
              "      <td>No</td>\n",
              "      <td>One year</td>\n",
              "      <td>No</td>\n",
              "      <td>Bank transfer (automatic)</td>\n",
              "      <td>42.30</td>\n",
              "      <td>1840.75</td>\n",
              "      <td>NaN</td>\n",
              "    </tr>\n",
              "    <tr>\n",
              "      <th>4</th>\n",
              "      <td>9237-HQITU</td>\n",
              "      <td>Female</td>\n",
              "      <td>0</td>\n",
              "      <td>No</td>\n",
              "      <td>No</td>\n",
              "      <td>2</td>\n",
              "      <td>Yes</td>\n",
              "      <td>No</td>\n",
              "      <td>Fiber optic</td>\n",
              "      <td>No</td>\n",
              "      <td>...</td>\n",
              "      <td>No</td>\n",
              "      <td>No</td>\n",
              "      <td>No</td>\n",
              "      <td>No</td>\n",
              "      <td>Month-to-month</td>\n",
              "      <td>Yes</td>\n",
              "      <td>Electronic check</td>\n",
              "      <td>70.70</td>\n",
              "      <td>151.65</td>\n",
              "      <td>NaN</td>\n",
              "    </tr>\n",
              "  </tbody>\n",
              "</table>\n",
              "<p>5 rows × 21 columns</p>\n",
              "</div>"
            ],
            "text/plain": [
              "   customerID  gender  SeniorCitizen Partner Dependents  tenure PhoneService  \\\n",
              "0  7590-VHVEG  Female              0     Yes         No       1           No   \n",
              "1  5575-GNVDE    Male              0      No         No      34          Yes   \n",
              "2  3668-QPYBK    Male              0      No         No       2          Yes   \n",
              "3  7795-CFOCW    Male              0      No         No      45           No   \n",
              "4  9237-HQITU  Female              0      No         No       2          Yes   \n",
              "\n",
              "      MultipleLines InternetService OnlineSecurity  ...   DeviceProtection  \\\n",
              "0  No phone service             DSL             No  ...                 No   \n",
              "1                No             DSL            Yes  ...                Yes   \n",
              "2                No             DSL            Yes  ...                 No   \n",
              "3  No phone service             DSL            Yes  ...                Yes   \n",
              "4                No     Fiber optic             No  ...                 No   \n",
              "\n",
              "  TechSupport StreamingTV StreamingMovies        Contract PaperlessBilling  \\\n",
              "0          No          No              No  Month-to-month              Yes   \n",
              "1          No          No              No        One year               No   \n",
              "2          No          No              No  Month-to-month              Yes   \n",
              "3         Yes          No              No        One year               No   \n",
              "4          No          No              No  Month-to-month              Yes   \n",
              "\n",
              "               PaymentMethod MonthlyCharges  TotalCharges  Churn  \n",
              "0           Electronic check          29.85         29.85    NaN  \n",
              "1               Mailed check          56.95       1889.50    NaN  \n",
              "2               Mailed check          53.85        108.15    NaN  \n",
              "3  Bank transfer (automatic)          42.30       1840.75    NaN  \n",
              "4           Electronic check          70.70        151.65    NaN  \n",
              "\n",
              "[5 rows x 21 columns]"
            ]
          },
          "execution_count": 22,
          "metadata": {},
          "output_type": "execute_result"
        }
      ],
      "source": [
        "df.head()"
      ]
    },
    {
      "cell_type": "markdown",
      "metadata": {
        "id": "3A3_M14NyXR2"
      },
      "source": [
        "Our assumption is correct, there are 11 missing values and because the observation is too many we remove the NAs directly"
      ]
    },
    {
      "cell_type": "code",
      "execution_count": null,
      "metadata": {
        "id": "mNRpR-aryXR2",
        "outputId": "e3e62709-0b35-4f2a-d9f5-7c9b21f49866"
      },
      "outputs": [
        {
          "data": {
            "text/plain": [
              "customerID          0\n",
              "gender              0\n",
              "SeniorCitizen       0\n",
              "Partner             0\n",
              "Dependents          0\n",
              "tenure              0\n",
              "PhoneService        0\n",
              "MultipleLines       0\n",
              "InternetService     0\n",
              "OnlineSecurity      0\n",
              "OnlineBackup        0\n",
              "DeviceProtection    0\n",
              "TechSupport         0\n",
              "StreamingTV         0\n",
              "StreamingMovies     0\n",
              "Contract            0\n",
              "PaperlessBilling    0\n",
              "PaymentMethod       0\n",
              "MonthlyCharges      0\n",
              "TotalCharges        0\n",
              "Churn               0\n",
              "dtype: int64"
            ]
          },
          "execution_count": 7,
          "metadata": {},
          "output_type": "execute_result"
        }
      ],
      "source": [
        "df.dropna(inplace=True)\n",
        "df.isnull().sum()"
      ]
    },
    {
      "cell_type": "markdown",
      "metadata": {
        "id": "z3QzLSPayXR2"
      },
      "source": [
        "### 4-Explore the Data (EDA)\n",
        "\n",
        "Now we Explore the data to gain some insights from it"
      ]
    },
    {
      "cell_type": "markdown",
      "metadata": {
        "id": "Wf4mbtg_yXR2"
      },
      "source": [
        "We can first calculate the number of churns in our dataset"
      ]
    },
    {
      "cell_type": "code",
      "execution_count": null,
      "metadata": {
        "id": "S68dhtdvyXR2",
        "outputId": "ebf919d0-ba69-46d5-d222-19cd06e4cb33"
      },
      "outputs": [
        {
          "data": {
            "text/plain": [
              "<matplotlib.axes._subplots.AxesSubplot at 0x1a172944c18>"
            ]
          },
          "execution_count": 8,
          "metadata": {},
          "output_type": "execute_result"
        },
        {
          "data": {
            "image/png": "[encoded data removed]",
            "text/plain": [
              "<Figure size 432x288 with 1 Axes>"
            ]
          },
          "metadata": {
            "needs_background": "light"
          },
          "output_type": "display_data"
        }
      ],
      "source": [
        "sns.countplot(df.Churn)"
      ]
    },
    {
      "cell_type": "code",
      "execution_count": null,
      "metadata": {
        "id": "GEHP5WooyXR3",
        "outputId": "d67354dc-cd15-4835-96c8-99f6162d6151"
      },
      "outputs": [
        {
          "data": {
            "text/plain": [
              "No     5163\n",
              "Yes    1869\n",
              "Name: Churn, dtype: int64"
            ]
          },
          "execution_count": 9,
          "metadata": {},
          "output_type": "execute_result"
        }
      ],
      "source": [
        "df.Churn.value_counts()"
      ]
    },
    {
      "cell_type": "markdown",
      "metadata": {
        "id": "DGiVob-pyXR3"
      },
      "source": [
        "We see that only 26.57% from the customer left the country "
      ]
    },
    {
      "cell_type": "markdown",
      "metadata": {
        "id": "LWrnmpPhyXR3"
      },
      "source": [
        "Let's see if the gender affect the Churn and the Total Charges as well"
      ]
    },
    {
      "cell_type": "code",
      "execution_count": null,
      "metadata": {
        "scrolled": true,
        "id": "JPqQ-M0jyXR3",
        "outputId": "1200c706-eb5c-4542-ce4a-2282df9aa9ae"
      },
      "outputs": [
        {
          "data": {
            "text/plain": [
              "<matplotlib.axes._subplots.AxesSubplot at 0x23e24c64390>"
            ]
          },
          "execution_count": 31,
          "metadata": {},
          "output_type": "execute_result"
        },
        {
          "data": {
            "image/png": "[encoded data removed]",
            "text/plain": [
              "<Figure size 432x288 with 1 Axes>"
            ]
          },
          "metadata": {},
          "output_type": "display_data"
        }
      ],
      "source": [
        "sns.countplot(x=df.Dependents,hue=df.Churn)"
      ]
    },
    {
      "cell_type": "code",
      "execution_count": null,
      "metadata": {
        "scrolled": true,
        "id": "JePFNNPKyXR3",
        "outputId": "d764a9b9-cc5c-4849-df56-20bb0b42a769"
      },
      "outputs": [
        {
          "data": {
            "text/plain": [
              "<matplotlib.axes._subplots.AxesSubplot at 0x1a1749ddf60>"
            ]
          },
          "execution_count": 10,
          "metadata": {},
          "output_type": "execute_result"
        },
        {
          "data": {
            "image/png": "[encoded data removed]",
            "text/plain": [
              "<Figure size 432x288 with 1 Axes>"
            ]
          },
          "metadata": {
            "needs_background": "light"
          },
          "output_type": "display_data"
        }
      ],
      "source": [
        "sns.barplot(x=df.gender,y=df.TotalCharges,hue=df.Churn)"
      ]
    },
    {
      "cell_type": "markdown",
      "metadata": {
        "id": "zQ_uBdNeyXR3"
      },
      "source": [
        "The gender doesn't affect the Churn as they approximatley equal"
      ]
    },
    {
      "cell_type": "markdown",
      "metadata": {
        "id": "Ap_Ph1q-yXR4"
      },
      "source": [
        "We could check the ranges of the total and monthly charges"
      ]
    },
    {
      "cell_type": "code",
      "execution_count": null,
      "metadata": {
        "id": "xu9SD4DUyXR4",
        "outputId": "2ea69e7e-8f47-4b13-e7ca-4e21ce73d516"
      },
      "outputs": [
        {
          "data": {
            "text/plain": [
              "<matplotlib.axes._subplots.AxesSubplot at 0x1a174a4b9e8>"
            ]
          },
          "execution_count": 11,
          "metadata": {},
          "output_type": "execute_result"
        },
        {
          "data": {
            "image/png": "[encoded data removed]",
            "text/plain": [
              "<Figure size 720x720 with 2 Axes>"
            ]
          },
          "metadata": {
            "needs_background": "light"
          },
          "output_type": "display_data"
        }
      ],
      "source": [
        "plt.figure(figsize=(10,10))\n",
        "plt.subplot(4,2,1)\n",
        "sns.boxplot(df.TotalCharges)    \n",
        "plt.subplot(4,2,2)\n",
        "sns.boxplot(df.MonthlyCharges) \n",
        "    "
      ]
    },
    {
      "cell_type": "markdown",
      "metadata": {
        "id": "GH_xV602yXR4"
      },
      "source": [
        "The Total charges ranges between 0 and nearly 9000 while the Monthly charges ranges between 15 and 120, but the question is there any relation between them?"
      ]
    },
    {
      "cell_type": "code",
      "execution_count": null,
      "metadata": {
        "id": "AZOLgh_jyXR4",
        "outputId": "e81d67da-a1a2-49e3-c670-d0eb32705d4a"
      },
      "outputs": [
        {
          "data": {
            "text/plain": [
              "<matplotlib.collections.PathCollection at 0x1a174cb4828>"
            ]
          },
          "execution_count": 12,
          "metadata": {},
          "output_type": "execute_result"
        },
        {
          "data": {
            "image/png": "[encoded data removed]",
            "text/plain": [
              "<Figure size 432x288 with 1 Axes>"
            ]
          },
          "metadata": {
            "needs_background": "light"
          },
          "output_type": "display_data"
        }
      ],
      "source": [
        "plt.scatter(x=df.MonthlyCharges,y=df.TotalCharges)"
      ]
    },
    {
      "cell_type": "code",
      "execution_count": null,
      "metadata": {
        "id": "tvIZ8ItGyXR4",
        "outputId": "e55bd9e9-647d-4dc3-b80f-96c350d69f11"
      },
      "outputs": [
        {
          "data": {
            "text/html": [
              "<div>\n",
              "<style scoped>\n",
              "    .dataframe tbody tr th:only-of-type {\n",
              "        vertical-align: middle;\n",
              "    }\n",
              "\n",
              "    .dataframe tbody tr th {\n",
              "        vertical-align: top;\n",
              "    }\n",
              "\n",
              "    .dataframe thead th {\n",
              "        text-align: right;\n",
              "    }\n",
              "</style>\n",
              "<table border=\"1\" class=\"dataframe\">\n",
              "  <thead>\n",
              "    <tr style=\"text-align: right;\">\n",
              "      <th></th>\n",
              "      <th>MonthlyCharges</th>\n",
              "      <th>TotalCharges</th>\n",
              "    </tr>\n",
              "  </thead>\n",
              "  <tbody>\n",
              "    <tr>\n",
              "      <th>MonthlyCharges</th>\n",
              "      <td>1.000000</td>\n",
              "      <td>0.651065</td>\n",
              "    </tr>\n",
              "    <tr>\n",
              "      <th>TotalCharges</th>\n",
              "      <td>0.651065</td>\n",
              "      <td>1.000000</td>\n",
              "    </tr>\n",
              "  </tbody>\n",
              "</table>\n",
              "</div>"
            ],
            "text/plain": [
              "                MonthlyCharges  TotalCharges\n",
              "MonthlyCharges        1.000000      0.651065\n",
              "TotalCharges          0.651065      1.000000"
            ]
          },
          "execution_count": 13,
          "metadata": {},
          "output_type": "execute_result"
        }
      ],
      "source": [
        "df.loc[:,['MonthlyCharges','TotalCharges']].corr()"
      ]
    },
    {
      "cell_type": "markdown",
      "metadata": {
        "id": "S1JRFmBqyXR4"
      },
      "source": [
        "There is a 65% correlation between them which make sense as the TotalCharges dependant on the monthly charges"
      ]
    },
    {
      "cell_type": "markdown",
      "metadata": {
        "id": "6QA7YfD8yXR5"
      },
      "source": [
        "The tenure is how many months the client stayed in the company, so how it is correlated with the totalcharges"
      ]
    },
    {
      "cell_type": "code",
      "execution_count": null,
      "metadata": {
        "id": "5Z9KLdwpyXR5",
        "outputId": "8778cc5d-6711-4678-b758-ebc01b78c22a"
      },
      "outputs": [
        {
          "data": {
            "text/plain": [
              "<matplotlib.collections.PathCollection at 0x1a174aa8208>"
            ]
          },
          "execution_count": 14,
          "metadata": {},
          "output_type": "execute_result"
        },
        {
          "data": {
            "image/png": "[encoded data removed]",
            "text/plain": [
              "<Figure size 432x288 with 1 Axes>"
            ]
          },
          "metadata": {
            "needs_background": "light"
          },
          "output_type": "display_data"
        }
      ],
      "source": [
        "plt.scatter(df.tenure,df.TotalCharges)"
      ]
    },
    {
      "cell_type": "code",
      "execution_count": null,
      "metadata": {
        "id": "buWyoavGyXR5",
        "outputId": "6cd393af-2a48-4a02-ae7e-efefea65a927"
      },
      "outputs": [
        {
          "data": {
            "text/html": [
              "<div>\n",
              "<style scoped>\n",
              "    .dataframe tbody tr th:only-of-type {\n",
              "        vertical-align: middle;\n",
              "    }\n",
              "\n",
              "    .dataframe tbody tr th {\n",
              "        vertical-align: top;\n",
              "    }\n",
              "\n",
              "    .dataframe thead th {\n",
              "        text-align: right;\n",
              "    }\n",
              "</style>\n",
              "<table border=\"1\" class=\"dataframe\">\n",
              "  <thead>\n",
              "    <tr style=\"text-align: right;\">\n",
              "      <th></th>\n",
              "      <th>tenure</th>\n",
              "      <th>TotalCharges</th>\n",
              "    </tr>\n",
              "  </thead>\n",
              "  <tbody>\n",
              "    <tr>\n",
              "      <th>tenure</th>\n",
              "      <td>1.00000</td>\n",
              "      <td>0.82588</td>\n",
              "    </tr>\n",
              "    <tr>\n",
              "      <th>TotalCharges</th>\n",
              "      <td>0.82588</td>\n",
              "      <td>1.00000</td>\n",
              "    </tr>\n",
              "  </tbody>\n",
              "</table>\n",
              "</div>"
            ],
            "text/plain": [
              "               tenure  TotalCharges\n",
              "tenure        1.00000       0.82588\n",
              "TotalCharges  0.82588       1.00000"
            ]
          },
          "execution_count": 15,
          "metadata": {},
          "output_type": "execute_result"
        }
      ],
      "source": [
        "df.loc[:,['tenure','TotalCharges']].corr()"
      ]
    },
    {
      "cell_type": "markdown",
      "metadata": {
        "id": "YWnilUSlyXR5"
      },
      "source": [
        "There is a very strong correlation between them"
      ]
    },
    {
      "cell_type": "markdown",
      "metadata": {
        "id": "4qeIyivVyXR5"
      },
      "source": [
        "How about the internet service and total charges ?"
      ]
    },
    {
      "cell_type": "code",
      "execution_count": null,
      "metadata": {
        "id": "61aPBA20yXR5",
        "outputId": "8c6be179-537e-4512-a8e6-82c7a9de6ac4"
      },
      "outputs": [
        {
          "data": {
            "text/plain": [
              "<matplotlib.axes._subplots.AxesSubplot at 0x1a174af5d30>"
            ]
          },
          "execution_count": 16,
          "metadata": {},
          "output_type": "execute_result"
        },
        {
          "data": {
            "image/png": "[encoded data removed]",
            "text/plain": [
              "<Figure size 432x288 with 1 Axes>"
            ]
          },
          "metadata": {
            "needs_background": "light"
          },
          "output_type": "display_data"
        }
      ],
      "source": [
        "sns.boxplot(df.InternetService,df.TotalCharges)"
      ]
    },
    {
      "cell_type": "code",
      "execution_count": null,
      "metadata": {
        "id": "26QX2anwyXR-"
      },
      "outputs": [],
      "source": [
        "def plott(x,y,df):\n",
        "    plt.title(x + ' vs ' + y)\n",
        "    sns.countplot(x=x,hue=y,data=df)"
      ]
    },
    {
      "cell_type": "code",
      "execution_count": null,
      "metadata": {
        "scrolled": true,
        "id": "GHWOU3kHyXR-",
        "outputId": "619a84eb-33d3-4d86-dc27-293b5c63ae09"
      },
      "outputs": [
        {
          "data": {
            "image/png": "[encoded data removed]",
            "text/plain": [
              "<Figure size 1440x1440 with 4 Axes>"
            ]
          },
          "metadata": {},
          "output_type": "display_data"
        }
      ],
      "source": [
        "plt.figure(figsize=(20,20))\n",
        "plt.subplot(4,2,1)\n",
        "plott('OnlineSecurity','Churn',df)\n",
        "plt.subplot(4,2,2)\n",
        "plott('TechSupport','Churn',df)\n",
        "plt.subplot(4,2,3)\n",
        "plott('StreamingTV','Churn',df)\n",
        "plt.subplot(4,2,4)\n",
        "plott('DeviceProtection','Churn',df)"
      ]
    },
    {
      "cell_type": "markdown",
      "metadata": {
        "id": "6vSX3JRGyXR-"
      },
      "source": [
        "Fiber Optics has the largest charges among them, but who leaves from them"
      ]
    },
    {
      "cell_type": "code",
      "execution_count": null,
      "metadata": {
        "id": "vQoDOEZCyXR-",
        "outputId": "9d49c2ce-4736-4c48-9849-5a878e54769d"
      },
      "outputs": [
        {
          "data": {
            "text/html": [
              "<div>\n",
              "<style scoped>\n",
              "    .dataframe tbody tr th:only-of-type {\n",
              "        vertical-align: middle;\n",
              "    }\n",
              "\n",
              "    .dataframe tbody tr th {\n",
              "        vertical-align: top;\n",
              "    }\n",
              "\n",
              "    .dataframe thead th {\n",
              "        text-align: right;\n",
              "    }\n",
              "</style>\n",
              "<table border=\"1\" class=\"dataframe\">\n",
              "  <thead>\n",
              "    <tr style=\"text-align: right;\">\n",
              "      <th>Churn</th>\n",
              "      <th>No</th>\n",
              "      <th>Yes</th>\n",
              "    </tr>\n",
              "    <tr>\n",
              "      <th>InternetService</th>\n",
              "      <th></th>\n",
              "      <th></th>\n",
              "    </tr>\n",
              "  </thead>\n",
              "  <tbody>\n",
              "    <tr>\n",
              "      <th>DSL</th>\n",
              "      <td>1957</td>\n",
              "      <td>459</td>\n",
              "    </tr>\n",
              "    <tr>\n",
              "      <th>Fiber optic</th>\n",
              "      <td>1799</td>\n",
              "      <td>1297</td>\n",
              "    </tr>\n",
              "    <tr>\n",
              "      <th>No</th>\n",
              "      <td>1407</td>\n",
              "      <td>113</td>\n",
              "    </tr>\n",
              "  </tbody>\n",
              "</table>\n",
              "</div>"
            ],
            "text/plain": [
              "Churn              No   Yes\n",
              "InternetService            \n",
              "DSL              1957   459\n",
              "Fiber optic      1799  1297\n",
              "No               1407   113"
            ]
          },
          "execution_count": 17,
          "metadata": {},
          "output_type": "execute_result"
        }
      ],
      "source": [
        "pd.crosstab(df.InternetService,df.Churn)"
      ]
    },
    {
      "cell_type": "markdown",
      "metadata": {
        "id": "8Fnr4wh5yXR-"
      },
      "source": [
        "41% of Clients that uses Fiber optics left the company and I think it happened beacuse of the price"
      ]
    },
    {
      "cell_type": "markdown",
      "metadata": {
        "id": "gicQBqCiyXR-"
      },
      "source": [
        "We can check the dependant and the senior citizen and their relationship with the Churn"
      ]
    },
    {
      "cell_type": "code",
      "execution_count": null,
      "metadata": {
        "id": "XLhWK2IoyXR-",
        "outputId": "95bf7518-6591-4def-e460-1c7fb8b5e20d"
      },
      "outputs": [
        {
          "data": {
            "text/html": [
              "<div>\n",
              "<style scoped>\n",
              "    .dataframe tbody tr th:only-of-type {\n",
              "        vertical-align: middle;\n",
              "    }\n",
              "\n",
              "    .dataframe tbody tr th {\n",
              "        vertical-align: top;\n",
              "    }\n",
              "\n",
              "    .dataframe thead th {\n",
              "        text-align: right;\n",
              "    }\n",
              "</style>\n",
              "<table border=\"1\" class=\"dataframe\">\n",
              "  <thead>\n",
              "    <tr style=\"text-align: right;\">\n",
              "      <th>Churn</th>\n",
              "      <th>No</th>\n",
              "      <th>Yes</th>\n",
              "    </tr>\n",
              "    <tr>\n",
              "      <th>Dependents</th>\n",
              "      <th></th>\n",
              "      <th></th>\n",
              "    </tr>\n",
              "  </thead>\n",
              "  <tbody>\n",
              "    <tr>\n",
              "      <th>No</th>\n",
              "      <td>3390</td>\n",
              "      <td>1543</td>\n",
              "    </tr>\n",
              "    <tr>\n",
              "      <th>Yes</th>\n",
              "      <td>1773</td>\n",
              "      <td>326</td>\n",
              "    </tr>\n",
              "  </tbody>\n",
              "</table>\n",
              "</div>"
            ],
            "text/plain": [
              "Churn         No   Yes\n",
              "Dependents            \n",
              "No          3390  1543\n",
              "Yes         1773   326"
            ]
          },
          "execution_count": 18,
          "metadata": {},
          "output_type": "execute_result"
        }
      ],
      "source": [
        "pd.crosstab(df.Dependents,df.Churn)"
      ]
    },
    {
      "cell_type": "markdown",
      "metadata": {
        "id": "Mlya_zZLyXR_"
      },
      "source": [
        "I think the singles almost half of them leave the country as it is his decision and doesn't have any supervisor"
      ]
    },
    {
      "cell_type": "code",
      "execution_count": null,
      "metadata": {
        "id": "GI_kPA3VyXR_",
        "outputId": "b18a1f14-b766-48cf-8f0f-22985089da06"
      },
      "outputs": [
        {
          "data": {
            "text/html": [
              "<div>\n",
              "<style scoped>\n",
              "    .dataframe tbody tr th:only-of-type {\n",
              "        vertical-align: middle;\n",
              "    }\n",
              "\n",
              "    .dataframe tbody tr th {\n",
              "        vertical-align: top;\n",
              "    }\n",
              "\n",
              "    .dataframe thead th {\n",
              "        text-align: right;\n",
              "    }\n",
              "</style>\n",
              "<table border=\"1\" class=\"dataframe\">\n",
              "  <thead>\n",
              "    <tr style=\"text-align: right;\">\n",
              "      <th>Churn</th>\n",
              "      <th>No</th>\n",
              "      <th>Yes</th>\n",
              "    </tr>\n",
              "    <tr>\n",
              "      <th>SeniorCitizen</th>\n",
              "      <th></th>\n",
              "      <th></th>\n",
              "    </tr>\n",
              "  </thead>\n",
              "  <tbody>\n",
              "    <tr>\n",
              "      <th>0</th>\n",
              "      <td>4497</td>\n",
              "      <td>1393</td>\n",
              "    </tr>\n",
              "    <tr>\n",
              "      <th>1</th>\n",
              "      <td>666</td>\n",
              "      <td>476</td>\n",
              "    </tr>\n",
              "  </tbody>\n",
              "</table>\n",
              "</div>"
            ],
            "text/plain": [
              "Churn            No   Yes\n",
              "SeniorCitizen            \n",
              "0              4497  1393\n",
              "1               666   476"
            ]
          },
          "execution_count": 19,
          "metadata": {},
          "output_type": "execute_result"
        }
      ],
      "source": [
        "pd.crosstab(df.SeniorCitizen,df.Churn)"
      ]
    },
    {
      "cell_type": "markdown",
      "metadata": {
        "id": "vGx7lMVAyXR_"
      },
      "source": [
        "It's the same assumption of the previous cell"
      ]
    },
    {
      "cell_type": "markdown",
      "metadata": {
        "id": "gV-m8nGMyXR_"
      },
      "source": [
        "We now will check the contract with the churn"
      ]
    },
    {
      "cell_type": "code",
      "execution_count": null,
      "metadata": {
        "id": "s60hklYeyXR_",
        "outputId": "4275ae52-c2ab-4e19-9397-f91a0f797eef"
      },
      "outputs": [
        {
          "data": {
            "text/html": [
              "<div>\n",
              "<style scoped>\n",
              "    .dataframe tbody tr th:only-of-type {\n",
              "        vertical-align: middle;\n",
              "    }\n",
              "\n",
              "    .dataframe tbody tr th {\n",
              "        vertical-align: top;\n",
              "    }\n",
              "\n",
              "    .dataframe thead th {\n",
              "        text-align: right;\n",
              "    }\n",
              "</style>\n",
              "<table border=\"1\" class=\"dataframe\">\n",
              "  <thead>\n",
              "    <tr style=\"text-align: right;\">\n",
              "      <th>Churn</th>\n",
              "      <th>No</th>\n",
              "      <th>Yes</th>\n",
              "    </tr>\n",
              "    <tr>\n",
              "      <th>Contract</th>\n",
              "      <th></th>\n",
              "      <th></th>\n",
              "    </tr>\n",
              "  </thead>\n",
              "  <tbody>\n",
              "    <tr>\n",
              "      <th>Month-to-month</th>\n",
              "      <td>2220</td>\n",
              "      <td>1655</td>\n",
              "    </tr>\n",
              "    <tr>\n",
              "      <th>One year</th>\n",
              "      <td>1306</td>\n",
              "      <td>166</td>\n",
              "    </tr>\n",
              "    <tr>\n",
              "      <th>Two year</th>\n",
              "      <td>1637</td>\n",
              "      <td>48</td>\n",
              "    </tr>\n",
              "  </tbody>\n",
              "</table>\n",
              "</div>"
            ],
            "text/plain": [
              "Churn             No   Yes\n",
              "Contract                  \n",
              "Month-to-month  2220  1655\n",
              "One year        1306   166\n",
              "Two year        1637    48"
            ]
          },
          "execution_count": 20,
          "metadata": {},
          "output_type": "execute_result"
        }
      ],
      "source": [
        "pd.crosstab(df.Contract,df.Churn)"
      ]
    },
    {
      "cell_type": "markdown",
      "metadata": {
        "id": "3zPzGwF0yXR_"
      },
      "source": [
        "42% of people with month-to-month contract leave the company as they can leave after one month only "
      ]
    },
    {
      "cell_type": "markdown",
      "metadata": {
        "id": "Gw6eX4PQyXR_"
      },
      "source": [
        "What about payment method"
      ]
    },
    {
      "cell_type": "code",
      "execution_count": null,
      "metadata": {
        "id": "Te3PbJG2yXSA",
        "outputId": "f3172b8c-bb7a-46e6-ba50-3e437eb7caff"
      },
      "outputs": [
        {
          "data": {
            "text/html": [
              "<div>\n",
              "<style scoped>\n",
              "    .dataframe tbody tr th:only-of-type {\n",
              "        vertical-align: middle;\n",
              "    }\n",
              "\n",
              "    .dataframe tbody tr th {\n",
              "        vertical-align: top;\n",
              "    }\n",
              "\n",
              "    .dataframe thead th {\n",
              "        text-align: right;\n",
              "    }\n",
              "</style>\n",
              "<table border=\"1\" class=\"dataframe\">\n",
              "  <thead>\n",
              "    <tr style=\"text-align: right;\">\n",
              "      <th>Churn</th>\n",
              "      <th>No</th>\n",
              "      <th>Yes</th>\n",
              "    </tr>\n",
              "    <tr>\n",
              "      <th>PaymentMethod</th>\n",
              "      <th></th>\n",
              "      <th></th>\n",
              "    </tr>\n",
              "  </thead>\n",
              "  <tbody>\n",
              "    <tr>\n",
              "      <th>Bank transfer (automatic)</th>\n",
              "      <td>1284</td>\n",
              "      <td>258</td>\n",
              "    </tr>\n",
              "    <tr>\n",
              "      <th>Credit card (automatic)</th>\n",
              "      <td>1289</td>\n",
              "      <td>232</td>\n",
              "    </tr>\n",
              "    <tr>\n",
              "      <th>Electronic check</th>\n",
              "      <td>1294</td>\n",
              "      <td>1071</td>\n",
              "    </tr>\n",
              "    <tr>\n",
              "      <th>Mailed check</th>\n",
              "      <td>1296</td>\n",
              "      <td>308</td>\n",
              "    </tr>\n",
              "  </tbody>\n",
              "</table>\n",
              "</div>"
            ],
            "text/plain": [
              "Churn                        No   Yes\n",
              "PaymentMethod                        \n",
              "Bank transfer (automatic)  1284   258\n",
              "Credit card (automatic)    1289   232\n",
              "Electronic check           1294  1071\n",
              "Mailed check               1296   308"
            ]
          },
          "execution_count": 21,
          "metadata": {},
          "output_type": "execute_result"
        }
      ],
      "source": [
        "pd.crosstab(df.PaymentMethod,df.Churn)"
      ]
    },
    {
      "cell_type": "markdown",
      "metadata": {
        "id": "mSoX8AadyXSA"
      },
      "source": [
        "The electronic check has the most left client "
      ]
    },
    {
      "cell_type": "markdown",
      "metadata": {
        "id": "WMnx9AtfyXSA"
      },
      "source": [
        "But what if we used paperless billing?"
      ]
    },
    {
      "cell_type": "code",
      "execution_count": null,
      "metadata": {
        "id": "sPW4E_84yXSA",
        "outputId": "09e39b1d-47a4-4a5b-be19-87d7976f22e0"
      },
      "outputs": [
        {
          "data": {
            "text/html": [
              "<div>\n",
              "<style scoped>\n",
              "    .dataframe tbody tr th:only-of-type {\n",
              "        vertical-align: middle;\n",
              "    }\n",
              "\n",
              "    .dataframe tbody tr th {\n",
              "        vertical-align: top;\n",
              "    }\n",
              "\n",
              "    .dataframe thead th {\n",
              "        text-align: right;\n",
              "    }\n",
              "</style>\n",
              "<table border=\"1\" class=\"dataframe\">\n",
              "  <thead>\n",
              "    <tr style=\"text-align: right;\">\n",
              "      <th>Churn</th>\n",
              "      <th>No</th>\n",
              "      <th>Yes</th>\n",
              "    </tr>\n",
              "    <tr>\n",
              "      <th>PaperlessBilling</th>\n",
              "      <th></th>\n",
              "      <th></th>\n",
              "    </tr>\n",
              "  </thead>\n",
              "  <tbody>\n",
              "    <tr>\n",
              "      <th>No</th>\n",
              "      <td>2395</td>\n",
              "      <td>469</td>\n",
              "    </tr>\n",
              "    <tr>\n",
              "      <th>Yes</th>\n",
              "      <td>2768</td>\n",
              "      <td>1400</td>\n",
              "    </tr>\n",
              "  </tbody>\n",
              "</table>\n",
              "</div>"
            ],
            "text/plain": [
              "Churn               No   Yes\n",
              "PaperlessBilling            \n",
              "No                2395   469\n",
              "Yes               2768  1400"
            ]
          },
          "execution_count": 22,
          "metadata": {},
          "output_type": "execute_result"
        }
      ],
      "source": [
        "pd.crosstab(df.PaperlessBilling,df.Churn)"
      ]
    },
    {
      "cell_type": "markdown",
      "metadata": {
        "id": "zSb9917HyXSA"
      },
      "source": [
        "many online biillings lead to Churn, may be because of a problem in the infrastructure"
      ]
    },
    {
      "cell_type": "markdown",
      "metadata": {
        "id": "edHm2aNEyXSA"
      },
      "source": [
        "Is the phone service can affect the churn?"
      ]
    },
    {
      "cell_type": "code",
      "execution_count": null,
      "metadata": {
        "id": "gZEtvxY_yXSA",
        "outputId": "ffe047f7-e382-4e8c-f111-53b10eb5b04e"
      },
      "outputs": [
        {
          "data": {
            "text/html": [
              "<div>\n",
              "<style scoped>\n",
              "    .dataframe tbody tr th:only-of-type {\n",
              "        vertical-align: middle;\n",
              "    }\n",
              "\n",
              "    .dataframe tbody tr th {\n",
              "        vertical-align: top;\n",
              "    }\n",
              "\n",
              "    .dataframe thead th {\n",
              "        text-align: right;\n",
              "    }\n",
              "</style>\n",
              "<table border=\"1\" class=\"dataframe\">\n",
              "  <thead>\n",
              "    <tr style=\"text-align: right;\">\n",
              "      <th>Churn</th>\n",
              "      <th>No</th>\n",
              "      <th>Yes</th>\n",
              "    </tr>\n",
              "    <tr>\n",
              "      <th>PhoneService</th>\n",
              "      <th></th>\n",
              "      <th></th>\n",
              "    </tr>\n",
              "  </thead>\n",
              "  <tbody>\n",
              "    <tr>\n",
              "      <th>No</th>\n",
              "      <td>510</td>\n",
              "      <td>170</td>\n",
              "    </tr>\n",
              "    <tr>\n",
              "      <th>Yes</th>\n",
              "      <td>4653</td>\n",
              "      <td>1699</td>\n",
              "    </tr>\n",
              "  </tbody>\n",
              "</table>\n",
              "</div>"
            ],
            "text/plain": [
              "Churn           No   Yes\n",
              "PhoneService            \n",
              "No             510   170\n",
              "Yes           4653  1699"
            ]
          },
          "execution_count": 23,
          "metadata": {},
          "output_type": "execute_result"
        }
      ],
      "source": [
        "pd.crosstab(df.PhoneService ,df.Churn)"
      ]
    },
    {
      "cell_type": "markdown",
      "metadata": {
        "id": "Zikr4eQRyXSA"
      },
      "source": [
        "1699 customer who has phoneservice left the company"
      ]
    },
    {
      "cell_type": "markdown",
      "metadata": {
        "id": "kOMNeVeeyXSB"
      },
      "source": [
        "All the previous features have an effect on the churn so they will be used in the model"
      ]
    },
    {
      "cell_type": "markdown",
      "metadata": {
        "id": "vqQi7y63yXSB"
      },
      "source": [
        "Let's Check the internet features "
      ]
    },
    {
      "cell_type": "code",
      "execution_count": null,
      "metadata": {
        "id": "-AXgILCmyXSB",
        "outputId": "e1685f82-f430-4135-c7d1-1ed428956ea0"
      },
      "outputs": [
        {
          "data": {
            "text/html": [
              "<div>\n",
              "<style scoped>\n",
              "    .dataframe tbody tr th:only-of-type {\n",
              "        vertical-align: middle;\n",
              "    }\n",
              "\n",
              "    .dataframe tbody tr th {\n",
              "        vertical-align: top;\n",
              "    }\n",
              "\n",
              "    .dataframe thead th {\n",
              "        text-align: right;\n",
              "    }\n",
              "</style>\n",
              "<table border=\"1\" class=\"dataframe\">\n",
              "  <thead>\n",
              "    <tr style=\"text-align: right;\">\n",
              "      <th>Churn</th>\n",
              "      <th>No</th>\n",
              "      <th>Yes</th>\n",
              "    </tr>\n",
              "    <tr>\n",
              "      <th>OnlineSecurity</th>\n",
              "      <th></th>\n",
              "      <th></th>\n",
              "    </tr>\n",
              "  </thead>\n",
              "  <tbody>\n",
              "    <tr>\n",
              "      <th>No</th>\n",
              "      <td>2036</td>\n",
              "      <td>1461</td>\n",
              "    </tr>\n",
              "    <tr>\n",
              "      <th>No internet service</th>\n",
              "      <td>1407</td>\n",
              "      <td>113</td>\n",
              "    </tr>\n",
              "    <tr>\n",
              "      <th>Yes</th>\n",
              "      <td>1720</td>\n",
              "      <td>295</td>\n",
              "    </tr>\n",
              "  </tbody>\n",
              "</table>\n",
              "</div>"
            ],
            "text/plain": [
              "Churn                  No   Yes\n",
              "OnlineSecurity                 \n",
              "No                   2036  1461\n",
              "No internet service  1407   113\n",
              "Yes                  1720   295"
            ]
          },
          "execution_count": 24,
          "metadata": {},
          "output_type": "execute_result"
        }
      ],
      "source": [
        "pd.crosstab(df.OnlineSecurity,df.Churn)"
      ]
    },
    {
      "cell_type": "code",
      "execution_count": null,
      "metadata": {
        "id": "PTcSihKOyXSB",
        "outputId": "efac3c7d-7a59-4bf7-cd82-d29e7c24b205"
      },
      "outputs": [
        {
          "data": {
            "text/html": [
              "<div>\n",
              "<style scoped>\n",
              "    .dataframe tbody tr th:only-of-type {\n",
              "        vertical-align: middle;\n",
              "    }\n",
              "\n",
              "    .dataframe tbody tr th {\n",
              "        vertical-align: top;\n",
              "    }\n",
              "\n",
              "    .dataframe thead th {\n",
              "        text-align: right;\n",
              "    }\n",
              "</style>\n",
              "<table border=\"1\" class=\"dataframe\">\n",
              "  <thead>\n",
              "    <tr style=\"text-align: right;\">\n",
              "      <th>Churn</th>\n",
              "      <th>No</th>\n",
              "      <th>Yes</th>\n",
              "    </tr>\n",
              "    <tr>\n",
              "      <th>DeviceProtection</th>\n",
              "      <th></th>\n",
              "      <th></th>\n",
              "    </tr>\n",
              "  </thead>\n",
              "  <tbody>\n",
              "    <tr>\n",
              "      <th>No</th>\n",
              "      <td>1883</td>\n",
              "      <td>1211</td>\n",
              "    </tr>\n",
              "    <tr>\n",
              "      <th>No internet service</th>\n",
              "      <td>1407</td>\n",
              "      <td>113</td>\n",
              "    </tr>\n",
              "    <tr>\n",
              "      <th>Yes</th>\n",
              "      <td>1873</td>\n",
              "      <td>545</td>\n",
              "    </tr>\n",
              "  </tbody>\n",
              "</table>\n",
              "</div>"
            ],
            "text/plain": [
              "Churn                  No   Yes\n",
              "DeviceProtection               \n",
              "No                   1883  1211\n",
              "No internet service  1407   113\n",
              "Yes                  1873   545"
            ]
          },
          "execution_count": 25,
          "metadata": {},
          "output_type": "execute_result"
        }
      ],
      "source": [
        "pd.crosstab(df.DeviceProtection,df.Churn)"
      ]
    },
    {
      "cell_type": "code",
      "execution_count": null,
      "metadata": {
        "id": "MRkMz9TFyXSB",
        "outputId": "21595a2a-4eea-4498-abcb-525a15ba434f"
      },
      "outputs": [
        {
          "data": {
            "text/html": [
              "<div>\n",
              "<style scoped>\n",
              "    .dataframe tbody tr th:only-of-type {\n",
              "        vertical-align: middle;\n",
              "    }\n",
              "\n",
              "    .dataframe tbody tr th {\n",
              "        vertical-align: top;\n",
              "    }\n",
              "\n",
              "    .dataframe thead th {\n",
              "        text-align: right;\n",
              "    }\n",
              "</style>\n",
              "<table border=\"1\" class=\"dataframe\">\n",
              "  <thead>\n",
              "    <tr style=\"text-align: right;\">\n",
              "      <th>Churn</th>\n",
              "      <th>No</th>\n",
              "      <th>Yes</th>\n",
              "    </tr>\n",
              "    <tr>\n",
              "      <th>OnlineBackup</th>\n",
              "      <th></th>\n",
              "      <th></th>\n",
              "    </tr>\n",
              "  </thead>\n",
              "  <tbody>\n",
              "    <tr>\n",
              "      <th>No</th>\n",
              "      <td>1854</td>\n",
              "      <td>1233</td>\n",
              "    </tr>\n",
              "    <tr>\n",
              "      <th>No internet service</th>\n",
              "      <td>1407</td>\n",
              "      <td>113</td>\n",
              "    </tr>\n",
              "    <tr>\n",
              "      <th>Yes</th>\n",
              "      <td>1902</td>\n",
              "      <td>523</td>\n",
              "    </tr>\n",
              "  </tbody>\n",
              "</table>\n",
              "</div>"
            ],
            "text/plain": [
              "Churn                  No   Yes\n",
              "OnlineBackup                   \n",
              "No                   1854  1233\n",
              "No internet service  1407   113\n",
              "Yes                  1902   523"
            ]
          },
          "execution_count": 26,
          "metadata": {},
          "output_type": "execute_result"
        }
      ],
      "source": [
        "pd.crosstab(df.OnlineBackup,df.Churn)"
      ]
    },
    {
      "cell_type": "code",
      "execution_count": null,
      "metadata": {
        "id": "Z-XcLooMyXSB",
        "outputId": "250bd9ea-6f36-4cbb-e429-796fe952721d"
      },
      "outputs": [
        {
          "data": {
            "text/html": [
              "<div>\n",
              "<style scoped>\n",
              "    .dataframe tbody tr th:only-of-type {\n",
              "        vertical-align: middle;\n",
              "    }\n",
              "\n",
              "    .dataframe tbody tr th {\n",
              "        vertical-align: top;\n",
              "    }\n",
              "\n",
              "    .dataframe thead th {\n",
              "        text-align: right;\n",
              "    }\n",
              "</style>\n",
              "<table border=\"1\" class=\"dataframe\">\n",
              "  <thead>\n",
              "    <tr style=\"text-align: right;\">\n",
              "      <th>Churn</th>\n",
              "      <th>No</th>\n",
              "      <th>Yes</th>\n",
              "    </tr>\n",
              "    <tr>\n",
              "      <th>TechSupport</th>\n",
              "      <th></th>\n",
              "      <th></th>\n",
              "    </tr>\n",
              "  </thead>\n",
              "  <tbody>\n",
              "    <tr>\n",
              "      <th>No</th>\n",
              "      <td>2026</td>\n",
              "      <td>1446</td>\n",
              "    </tr>\n",
              "    <tr>\n",
              "      <th>No internet service</th>\n",
              "      <td>1407</td>\n",
              "      <td>113</td>\n",
              "    </tr>\n",
              "    <tr>\n",
              "      <th>Yes</th>\n",
              "      <td>1730</td>\n",
              "      <td>310</td>\n",
              "    </tr>\n",
              "  </tbody>\n",
              "</table>\n",
              "</div>"
            ],
            "text/plain": [
              "Churn                  No   Yes\n",
              "TechSupport                    \n",
              "No                   2026  1446\n",
              "No internet service  1407   113\n",
              "Yes                  1730   310"
            ]
          },
          "execution_count": 27,
          "metadata": {},
          "output_type": "execute_result"
        }
      ],
      "source": [
        "pd.crosstab(df.TechSupport,df.Churn)"
      ]
    },
    {
      "cell_type": "code",
      "execution_count": null,
      "metadata": {
        "id": "si4258IxyXSB",
        "outputId": "82beb909-327d-4b64-e53e-13ad20fbacb2"
      },
      "outputs": [
        {
          "data": {
            "text/html": [
              "<div>\n",
              "<style scoped>\n",
              "    .dataframe tbody tr th:only-of-type {\n",
              "        vertical-align: middle;\n",
              "    }\n",
              "\n",
              "    .dataframe tbody tr th {\n",
              "        vertical-align: top;\n",
              "    }\n",
              "\n",
              "    .dataframe thead th {\n",
              "        text-align: right;\n",
              "    }\n",
              "</style>\n",
              "<table border=\"1\" class=\"dataframe\">\n",
              "  <thead>\n",
              "    <tr style=\"text-align: right;\">\n",
              "      <th>Churn</th>\n",
              "      <th>No</th>\n",
              "      <th>Yes</th>\n",
              "    </tr>\n",
              "    <tr>\n",
              "      <th>StreamingTV</th>\n",
              "      <th></th>\n",
              "      <th></th>\n",
              "    </tr>\n",
              "  </thead>\n",
              "  <tbody>\n",
              "    <tr>\n",
              "      <th>No</th>\n",
              "      <td>1867</td>\n",
              "      <td>942</td>\n",
              "    </tr>\n",
              "    <tr>\n",
              "      <th>No internet service</th>\n",
              "      <td>1407</td>\n",
              "      <td>113</td>\n",
              "    </tr>\n",
              "    <tr>\n",
              "      <th>Yes</th>\n",
              "      <td>1889</td>\n",
              "      <td>814</td>\n",
              "    </tr>\n",
              "  </tbody>\n",
              "</table>\n",
              "</div>"
            ],
            "text/plain": [
              "Churn                  No  Yes\n",
              "StreamingTV                   \n",
              "No                   1867  942\n",
              "No internet service  1407  113\n",
              "Yes                  1889  814"
            ]
          },
          "execution_count": 28,
          "metadata": {},
          "output_type": "execute_result"
        }
      ],
      "source": [
        "pd.crosstab(df.StreamingTV,df.Churn)"
      ]
    },
    {
      "cell_type": "code",
      "execution_count": null,
      "metadata": {
        "id": "jwajJ6EjyXSC",
        "outputId": "5e3c9fcb-d791-496f-e2d0-f6e771b66bb9"
      },
      "outputs": [
        {
          "data": {
            "text/html": [
              "<div>\n",
              "<style scoped>\n",
              "    .dataframe tbody tr th:only-of-type {\n",
              "        vertical-align: middle;\n",
              "    }\n",
              "\n",
              "    .dataframe tbody tr th {\n",
              "        vertical-align: top;\n",
              "    }\n",
              "\n",
              "    .dataframe thead th {\n",
              "        text-align: right;\n",
              "    }\n",
              "</style>\n",
              "<table border=\"1\" class=\"dataframe\">\n",
              "  <thead>\n",
              "    <tr style=\"text-align: right;\">\n",
              "      <th>Churn</th>\n",
              "      <th>No</th>\n",
              "      <th>Yes</th>\n",
              "    </tr>\n",
              "    <tr>\n",
              "      <th>StreamingMovies</th>\n",
              "      <th></th>\n",
              "      <th></th>\n",
              "    </tr>\n",
              "  </thead>\n",
              "  <tbody>\n",
              "    <tr>\n",
              "      <th>No</th>\n",
              "      <td>1843</td>\n",
              "      <td>938</td>\n",
              "    </tr>\n",
              "    <tr>\n",
              "      <th>No internet service</th>\n",
              "      <td>1407</td>\n",
              "      <td>113</td>\n",
              "    </tr>\n",
              "    <tr>\n",
              "      <th>Yes</th>\n",
              "      <td>1913</td>\n",
              "      <td>818</td>\n",
              "    </tr>\n",
              "  </tbody>\n",
              "</table>\n",
              "</div>"
            ],
            "text/plain": [
              "Churn                  No  Yes\n",
              "StreamingMovies               \n",
              "No                   1843  938\n",
              "No internet service  1407  113\n",
              "Yes                  1913  818"
            ]
          },
          "execution_count": 29,
          "metadata": {},
          "output_type": "execute_result"
        }
      ],
      "source": [
        "pd.crosstab(df.StreamingMovies,df.Churn)"
      ]
    },
    {
      "cell_type": "markdown",
      "metadata": {
        "id": "_xszwCtiyXSC"
      },
      "source": [
        "They are all have similar values so they don't affect the churn so they can be dropped"
      ]
    },
    {
      "cell_type": "markdown",
      "metadata": {
        "id": "FDA5jBXqyXSC"
      },
      "source": [
        "### 5-PreProcessing Stage\n",
        "\n",
        "We will begin to make our data ready to be inserted in the model"
      ]
    },
    {
      "cell_type": "markdown",
      "metadata": {
        "id": "k1o1Aj9tyXSC"
      },
      "source": [
        "We first start with dropping the internet features, gender, customerId"
      ]
    },
    {
      "cell_type": "code",
      "execution_count": null,
      "metadata": {
        "id": "FE7R3O3LyXSC"
      },
      "outputs": [],
      "source": [
        "df.drop(['customerID','gender','OnlineSecurity','OnlineBackup','DeviceProtection','TechSupport','StreamingTV','StreamingMovies'],axis=1,inplace=True)"
      ]
    },
    {
      "cell_type": "code",
      "execution_count": null,
      "metadata": {
        "id": "aNonxyf5yXSC",
        "outputId": "13c30e92-171d-419c-ede4-49f2e09fb75d"
      },
      "outputs": [
        {
          "data": {
            "text/html": [
              "<div>\n",
              "<style scoped>\n",
              "    .dataframe tbody tr th:only-of-type {\n",
              "        vertical-align: middle;\n",
              "    }\n",
              "\n",
              "    .dataframe tbody tr th {\n",
              "        vertical-align: top;\n",
              "    }\n",
              "\n",
              "    .dataframe thead th {\n",
              "        text-align: right;\n",
              "    }\n",
              "</style>\n",
              "<table border=\"1\" class=\"dataframe\">\n",
              "  <thead>\n",
              "    <tr style=\"text-align: right;\">\n",
              "      <th></th>\n",
              "      <th>SeniorCitizen</th>\n",
              "      <th>Partner</th>\n",
              "      <th>Dependents</th>\n",
              "      <th>tenure</th>\n",
              "      <th>PhoneService</th>\n",
              "      <th>MultipleLines</th>\n",
              "      <th>InternetService</th>\n",
              "      <th>Contract</th>\n",
              "      <th>PaperlessBilling</th>\n",
              "      <th>PaymentMethod</th>\n",
              "      <th>MonthlyCharges</th>\n",
              "      <th>TotalCharges</th>\n",
              "      <th>Churn</th>\n",
              "    </tr>\n",
              "  </thead>\n",
              "  <tbody>\n",
              "    <tr>\n",
              "      <th>0</th>\n",
              "      <td>0</td>\n",
              "      <td>Yes</td>\n",
              "      <td>No</td>\n",
              "      <td>1</td>\n",
              "      <td>No</td>\n",
              "      <td>No phone service</td>\n",
              "      <td>DSL</td>\n",
              "      <td>Month-to-month</td>\n",
              "      <td>Yes</td>\n",
              "      <td>Electronic check</td>\n",
              "      <td>29.85</td>\n",
              "      <td>29.85</td>\n",
              "      <td>No</td>\n",
              "    </tr>\n",
              "    <tr>\n",
              "      <th>1</th>\n",
              "      <td>0</td>\n",
              "      <td>No</td>\n",
              "      <td>No</td>\n",
              "      <td>34</td>\n",
              "      <td>Yes</td>\n",
              "      <td>No</td>\n",
              "      <td>DSL</td>\n",
              "      <td>One year</td>\n",
              "      <td>No</td>\n",
              "      <td>Mailed check</td>\n",
              "      <td>56.95</td>\n",
              "      <td>1889.50</td>\n",
              "      <td>No</td>\n",
              "    </tr>\n",
              "    <tr>\n",
              "      <th>2</th>\n",
              "      <td>0</td>\n",
              "      <td>No</td>\n",
              "      <td>No</td>\n",
              "      <td>2</td>\n",
              "      <td>Yes</td>\n",
              "      <td>No</td>\n",
              "      <td>DSL</td>\n",
              "      <td>Month-to-month</td>\n",
              "      <td>Yes</td>\n",
              "      <td>Mailed check</td>\n",
              "      <td>53.85</td>\n",
              "      <td>108.15</td>\n",
              "      <td>Yes</td>\n",
              "    </tr>\n",
              "    <tr>\n",
              "      <th>3</th>\n",
              "      <td>0</td>\n",
              "      <td>No</td>\n",
              "      <td>No</td>\n",
              "      <td>45</td>\n",
              "      <td>No</td>\n",
              "      <td>No phone service</td>\n",
              "      <td>DSL</td>\n",
              "      <td>One year</td>\n",
              "      <td>No</td>\n",
              "      <td>Bank transfer (automatic)</td>\n",
              "      <td>42.30</td>\n",
              "      <td>1840.75</td>\n",
              "      <td>No</td>\n",
              "    </tr>\n",
              "    <tr>\n",
              "      <th>4</th>\n",
              "      <td>0</td>\n",
              "      <td>No</td>\n",
              "      <td>No</td>\n",
              "      <td>2</td>\n",
              "      <td>Yes</td>\n",
              "      <td>No</td>\n",
              "      <td>Fiber optic</td>\n",
              "      <td>Month-to-month</td>\n",
              "      <td>Yes</td>\n",
              "      <td>Electronic check</td>\n",
              "      <td>70.70</td>\n",
              "      <td>151.65</td>\n",
              "      <td>Yes</td>\n",
              "    </tr>\n",
              "  </tbody>\n",
              "</table>\n",
              "</div>"
            ],
            "text/plain": [
              "   SeniorCitizen Partner Dependents  tenure PhoneService     MultipleLines  \\\n",
              "0              0     Yes         No       1           No  No phone service   \n",
              "1              0      No         No      34          Yes                No   \n",
              "2              0      No         No       2          Yes                No   \n",
              "3              0      No         No      45           No  No phone service   \n",
              "4              0      No         No       2          Yes                No   \n",
              "\n",
              "  InternetService        Contract PaperlessBilling              PaymentMethod  \\\n",
              "0             DSL  Month-to-month              Yes           Electronic check   \n",
              "1             DSL        One year               No               Mailed check   \n",
              "2             DSL  Month-to-month              Yes               Mailed check   \n",
              "3             DSL        One year               No  Bank transfer (automatic)   \n",
              "4     Fiber optic  Month-to-month              Yes           Electronic check   \n",
              "\n",
              "   MonthlyCharges  TotalCharges Churn  \n",
              "0           29.85         29.85    No  \n",
              "1           56.95       1889.50    No  \n",
              "2           53.85        108.15   Yes  \n",
              "3           42.30       1840.75    No  \n",
              "4           70.70        151.65   Yes  "
            ]
          },
          "execution_count": 31,
          "metadata": {},
          "output_type": "execute_result"
        }
      ],
      "source": [
        "df.head()"
      ]
    },
    {
      "cell_type": "markdown",
      "metadata": {
        "id": "vBBcPebYyXSC"
      },
      "source": [
        "We can also remove the MultipleLine Feature"
      ]
    },
    {
      "cell_type": "code",
      "execution_count": null,
      "metadata": {
        "id": "mfcje1EKyXSC"
      },
      "outputs": [],
      "source": [
        "df.drop('MultipleLines',axis=1,inplace=True)"
      ]
    },
    {
      "cell_type": "markdown",
      "metadata": {
        "id": "sd1Cpq-CyXSD"
      },
      "source": [
        "We map the features with 'Yes' and 'No' values to be numeric including the Churn"
      ]
    },
    {
      "cell_type": "code",
      "execution_count": null,
      "metadata": {
        "id": "0K4-Xwt8yXSD"
      },
      "outputs": [],
      "source": [
        "mapping={'Yes':1,'No':0}\n",
        "df['Partner']=df['Partner'].map(mapping).astype(int)\n",
        "df['Dependents']=df['Dependents'].map(mapping).astype(int)\n",
        "df['PaperlessBilling']=df['PaperlessBilling'].map(mapping).astype(int)\n",
        "df['Churn']=df['Churn'].map(mapping).astype(int)\n",
        "df['PhoneService']=df['PhoneService'].map(mapping).astype(int)\n"
      ]
    },
    {
      "cell_type": "code",
      "execution_count": null,
      "metadata": {
        "id": "D3jHjMJbyXSD",
        "outputId": "f3834aca-ab22-4ace-951c-c9bb4474af77"
      },
      "outputs": [
        {
          "data": {
            "text/html": [
              "<div>\n",
              "<style scoped>\n",
              "    .dataframe tbody tr th:only-of-type {\n",
              "        vertical-align: middle;\n",
              "    }\n",
              "\n",
              "    .dataframe tbody tr th {\n",
              "        vertical-align: top;\n",
              "    }\n",
              "\n",
              "    .dataframe thead th {\n",
              "        text-align: right;\n",
              "    }\n",
              "</style>\n",
              "<table border=\"1\" class=\"dataframe\">\n",
              "  <thead>\n",
              "    <tr style=\"text-align: right;\">\n",
              "      <th></th>\n",
              "      <th>SeniorCitizen</th>\n",
              "      <th>Partner</th>\n",
              "      <th>Dependents</th>\n",
              "      <th>tenure</th>\n",
              "      <th>PhoneService</th>\n",
              "      <th>InternetService</th>\n",
              "      <th>Contract</th>\n",
              "      <th>PaperlessBilling</th>\n",
              "      <th>PaymentMethod</th>\n",
              "      <th>MonthlyCharges</th>\n",
              "      <th>TotalCharges</th>\n",
              "      <th>Churn</th>\n",
              "    </tr>\n",
              "  </thead>\n",
              "  <tbody>\n",
              "    <tr>\n",
              "      <th>0</th>\n",
              "      <td>0</td>\n",
              "      <td>1</td>\n",
              "      <td>0</td>\n",
              "      <td>1</td>\n",
              "      <td>0</td>\n",
              "      <td>DSL</td>\n",
              "      <td>Month-to-month</td>\n",
              "      <td>1</td>\n",
              "      <td>Electronic check</td>\n",
              "      <td>29.85</td>\n",
              "      <td>29.85</td>\n",
              "      <td>0</td>\n",
              "    </tr>\n",
              "    <tr>\n",
              "      <th>1</th>\n",
              "      <td>0</td>\n",
              "      <td>0</td>\n",
              "      <td>0</td>\n",
              "      <td>34</td>\n",
              "      <td>1</td>\n",
              "      <td>DSL</td>\n",
              "      <td>One year</td>\n",
              "      <td>0</td>\n",
              "      <td>Mailed check</td>\n",
              "      <td>56.95</td>\n",
              "      <td>1889.50</td>\n",
              "      <td>0</td>\n",
              "    </tr>\n",
              "    <tr>\n",
              "      <th>2</th>\n",
              "      <td>0</td>\n",
              "      <td>0</td>\n",
              "      <td>0</td>\n",
              "      <td>2</td>\n",
              "      <td>1</td>\n",
              "      <td>DSL</td>\n",
              "      <td>Month-to-month</td>\n",
              "      <td>1</td>\n",
              "      <td>Mailed check</td>\n",
              "      <td>53.85</td>\n",
              "      <td>108.15</td>\n",
              "      <td>1</td>\n",
              "    </tr>\n",
              "    <tr>\n",
              "      <th>3</th>\n",
              "      <td>0</td>\n",
              "      <td>0</td>\n",
              "      <td>0</td>\n",
              "      <td>45</td>\n",
              "      <td>0</td>\n",
              "      <td>DSL</td>\n",
              "      <td>One year</td>\n",
              "      <td>0</td>\n",
              "      <td>Bank transfer (automatic)</td>\n",
              "      <td>42.30</td>\n",
              "      <td>1840.75</td>\n",
              "      <td>0</td>\n",
              "    </tr>\n",
              "    <tr>\n",
              "      <th>4</th>\n",
              "      <td>0</td>\n",
              "      <td>0</td>\n",
              "      <td>0</td>\n",
              "      <td>2</td>\n",
              "      <td>1</td>\n",
              "      <td>Fiber optic</td>\n",
              "      <td>Month-to-month</td>\n",
              "      <td>1</td>\n",
              "      <td>Electronic check</td>\n",
              "      <td>70.70</td>\n",
              "      <td>151.65</td>\n",
              "      <td>1</td>\n",
              "    </tr>\n",
              "  </tbody>\n",
              "</table>\n",
              "</div>"
            ],
            "text/plain": [
              "   SeniorCitizen  Partner  Dependents  tenure  PhoneService InternetService  \\\n",
              "0              0        1           0       1             0             DSL   \n",
              "1              0        0           0      34             1             DSL   \n",
              "2              0        0           0       2             1             DSL   \n",
              "3              0        0           0      45             0             DSL   \n",
              "4              0        0           0       2             1     Fiber optic   \n",
              "\n",
              "         Contract  PaperlessBilling              PaymentMethod  \\\n",
              "0  Month-to-month                 1           Electronic check   \n",
              "1        One year                 0               Mailed check   \n",
              "2  Month-to-month                 1               Mailed check   \n",
              "3        One year                 0  Bank transfer (automatic)   \n",
              "4  Month-to-month                 1           Electronic check   \n",
              "\n",
              "   MonthlyCharges  TotalCharges  Churn  \n",
              "0           29.85         29.85      0  \n",
              "1           56.95       1889.50      0  \n",
              "2           53.85        108.15      1  \n",
              "3           42.30       1840.75      0  \n",
              "4           70.70        151.65      1  "
            ]
          },
          "execution_count": 34,
          "metadata": {},
          "output_type": "execute_result"
        }
      ],
      "source": [
        "df.head()"
      ]
    },
    {
      "cell_type": "markdown",
      "metadata": {
        "id": "0Hfu-6aZyXSD"
      },
      "source": [
        "We use get_dummies to get rid of the rest of the object columns"
      ]
    },
    {
      "cell_type": "code",
      "execution_count": null,
      "metadata": {
        "id": "a0qNdDsKyXSD"
      },
      "outputs": [],
      "source": [
        "df2=pd.get_dummies(df,columns=['InternetService','Contract','PaymentMethod'])"
      ]
    },
    {
      "cell_type": "markdown",
      "metadata": {
        "id": "Xs_Az4yMyXSD"
      },
      "source": [
        "we see the correlation between the features"
      ]
    },
    {
      "cell_type": "code",
      "execution_count": null,
      "metadata": {
        "id": "ayujad9VyXSD",
        "outputId": "6ccf2af0-de79-4e80-e5ac-12b055c69427"
      },
      "outputs": [
        {
          "data": {
            "text/plain": [
              "<matplotlib.axes._subplots.AxesSubplot at 0x1a174b604a8>"
            ]
          },
          "execution_count": 36,
          "metadata": {},
          "output_type": "execute_result"
        },
        {
          "data": {
            "image/png": "[encoded data removed]",
            "text/plain": [
              "<Figure size 1440x1440 with 2 Axes>"
            ]
          },
          "metadata": {
            "needs_background": "light"
          },
          "output_type": "display_data"
        }
      ],
      "source": [
        "plt.figure(figsize=(20,20))\n",
        "sns.heatmap(df2.corr(),annot=True)"
      ]
    },
    {
      "cell_type": "markdown",
      "metadata": {
        "id": "brFVAMCdyXSD"
      },
      "source": [
        "the tenure and the montly,total charges will be removed as they are correlated with other features"
      ]
    },
    {
      "cell_type": "code",
      "execution_count": null,
      "metadata": {
        "id": "uZuPZ7qeyXSE"
      },
      "outputs": [],
      "source": [
        "df2.drop(['tenure','TotalCharges','MonthlyCharges'],axis=1,inplace=True)"
      ]
    },
    {
      "cell_type": "code",
      "execution_count": null,
      "metadata": {
        "id": "NMAoYD5XyXSE",
        "outputId": "5a9304c6-e033-4fb3-ca90-eecb8e214fa8"
      },
      "outputs": [
        {
          "data": {
            "text/html": [
              "<div>\n",
              "<style scoped>\n",
              "    .dataframe tbody tr th:only-of-type {\n",
              "        vertical-align: middle;\n",
              "    }\n",
              "\n",
              "    .dataframe tbody tr th {\n",
              "        vertical-align: top;\n",
              "    }\n",
              "\n",
              "    .dataframe thead th {\n",
              "        text-align: right;\n",
              "    }\n",
              "</style>\n",
              "<table border=\"1\" class=\"dataframe\">\n",
              "  <thead>\n",
              "    <tr style=\"text-align: right;\">\n",
              "      <th></th>\n",
              "      <th>SeniorCitizen</th>\n",
              "      <th>Partner</th>\n",
              "      <th>Dependents</th>\n",
              "      <th>PhoneService</th>\n",
              "      <th>PaperlessBilling</th>\n",
              "      <th>Churn</th>\n",
              "      <th>InternetService_DSL</th>\n",
              "      <th>InternetService_Fiber optic</th>\n",
              "      <th>InternetService_No</th>\n",
              "      <th>Contract_Month-to-month</th>\n",
              "      <th>Contract_One year</th>\n",
              "      <th>Contract_Two year</th>\n",
              "      <th>PaymentMethod_Bank transfer (automatic)</th>\n",
              "      <th>PaymentMethod_Credit card (automatic)</th>\n",
              "      <th>PaymentMethod_Electronic check</th>\n",
              "      <th>PaymentMethod_Mailed check</th>\n",
              "    </tr>\n",
              "  </thead>\n",
              "  <tbody>\n",
              "    <tr>\n",
              "      <th>0</th>\n",
              "      <td>0</td>\n",
              "      <td>1</td>\n",
              "      <td>0</td>\n",
              "      <td>0</td>\n",
              "      <td>1</td>\n",
              "      <td>0</td>\n",
              "      <td>1</td>\n",
              "      <td>0</td>\n",
              "      <td>0</td>\n",
              "      <td>1</td>\n",
              "      <td>0</td>\n",
              "      <td>0</td>\n",
              "      <td>0</td>\n",
              "      <td>0</td>\n",
              "      <td>1</td>\n",
              "      <td>0</td>\n",
              "    </tr>\n",
              "    <tr>\n",
              "      <th>1</th>\n",
              "      <td>0</td>\n",
              "      <td>0</td>\n",
              "      <td>0</td>\n",
              "      <td>1</td>\n",
              "      <td>0</td>\n",
              "      <td>0</td>\n",
              "      <td>1</td>\n",
              "      <td>0</td>\n",
              "      <td>0</td>\n",
              "      <td>0</td>\n",
              "      <td>1</td>\n",
              "      <td>0</td>\n",
              "      <td>0</td>\n",
              "      <td>0</td>\n",
              "      <td>0</td>\n",
              "      <td>1</td>\n",
              "    </tr>\n",
              "    <tr>\n",
              "      <th>2</th>\n",
              "      <td>0</td>\n",
              "      <td>0</td>\n",
              "      <td>0</td>\n",
              "      <td>1</td>\n",
              "      <td>1</td>\n",
              "      <td>1</td>\n",
              "      <td>1</td>\n",
              "      <td>0</td>\n",
              "      <td>0</td>\n",
              "      <td>1</td>\n",
              "      <td>0</td>\n",
              "      <td>0</td>\n",
              "      <td>0</td>\n",
              "      <td>0</td>\n",
              "      <td>0</td>\n",
              "      <td>1</td>\n",
              "    </tr>\n",
              "    <tr>\n",
              "      <th>3</th>\n",
              "      <td>0</td>\n",
              "      <td>0</td>\n",
              "      <td>0</td>\n",
              "      <td>0</td>\n",
              "      <td>0</td>\n",
              "      <td>0</td>\n",
              "      <td>1</td>\n",
              "      <td>0</td>\n",
              "      <td>0</td>\n",
              "      <td>0</td>\n",
              "      <td>1</td>\n",
              "      <td>0</td>\n",
              "      <td>1</td>\n",
              "      <td>0</td>\n",
              "      <td>0</td>\n",
              "      <td>0</td>\n",
              "    </tr>\n",
              "    <tr>\n",
              "      <th>4</th>\n",
              "      <td>0</td>\n",
              "      <td>0</td>\n",
              "      <td>0</td>\n",
              "      <td>1</td>\n",
              "      <td>1</td>\n",
              "      <td>1</td>\n",
              "      <td>0</td>\n",
              "      <td>1</td>\n",
              "      <td>0</td>\n",
              "      <td>1</td>\n",
              "      <td>0</td>\n",
              "      <td>0</td>\n",
              "      <td>0</td>\n",
              "      <td>0</td>\n",
              "      <td>1</td>\n",
              "      <td>0</td>\n",
              "    </tr>\n",
              "  </tbody>\n",
              "</table>\n",
              "</div>"
            ],
            "text/plain": [
              "   SeniorCitizen  Partner  Dependents  PhoneService  PaperlessBilling  Churn  \\\n",
              "0              0        1           0             0                 1      0   \n",
              "1              0        0           0             1                 0      0   \n",
              "2              0        0           0             1                 1      1   \n",
              "3              0        0           0             0                 0      0   \n",
              "4              0        0           0             1                 1      1   \n",
              "\n",
              "   InternetService_DSL  InternetService_Fiber optic  InternetService_No  \\\n",
              "0                    1                            0                   0   \n",
              "1                    1                            0                   0   \n",
              "2                    1                            0                   0   \n",
              "3                    1                            0                   0   \n",
              "4                    0                            1                   0   \n",
              "\n",
              "   Contract_Month-to-month  Contract_One year  Contract_Two year  \\\n",
              "0                        1                  0                  0   \n",
              "1                        0                  1                  0   \n",
              "2                        1                  0                  0   \n",
              "3                        0                  1                  0   \n",
              "4                        1                  0                  0   \n",
              "\n",
              "   PaymentMethod_Bank transfer (automatic)  \\\n",
              "0                                        0   \n",
              "1                                        0   \n",
              "2                                        0   \n",
              "3                                        1   \n",
              "4                                        0   \n",
              "\n",
              "   PaymentMethod_Credit card (automatic)  PaymentMethod_Electronic check  \\\n",
              "0                                      0                               1   \n",
              "1                                      0                               0   \n",
              "2                                      0                               0   \n",
              "3                                      0                               0   \n",
              "4                                      0                               1   \n",
              "\n",
              "   PaymentMethod_Mailed check  \n",
              "0                           0  \n",
              "1                           1  \n",
              "2                           1  \n",
              "3                           0  \n",
              "4                           0  "
            ]
          },
          "execution_count": 38,
          "metadata": {},
          "output_type": "execute_result"
        }
      ],
      "source": [
        "df2.head()"
      ]
    },
    {
      "cell_type": "markdown",
      "metadata": {
        "id": "gfvppMepyXSE"
      },
      "source": [
        "Now our data is ready for the Machine Learning Models"
      ]
    },
    {
      "cell_type": "markdown",
      "metadata": {
        "id": "dG0W3wTkyXSE"
      },
      "source": [
        "### 6-Predicting the Churn with different algorithms and evaluation\n",
        "\n",
        "We will use many supervised learning algorithms for classifications such as:\n",
        "\n",
        "1-Logistic Regression\n",
        "\n",
        "2-Neural Networks\n",
        "\n",
        "3-Decision Tree\n",
        "\n",
        "4-Random Forest\n",
        "\n",
        "5-Support Vector Machine"
      ]
    },
    {
      "cell_type": "markdown",
      "metadata": {
        "id": "r_GkZh_PyXSE"
      },
      "source": [
        "We will train the models in 2 cases:\n",
        "\n",
        "1-Unbalanced Data(UnChurn >> Churn)\n",
        "\n",
        "2-Balanced Data(UnChurn= Churn)"
      ]
    },
    {
      "cell_type": "markdown",
      "metadata": {
        "id": "N4Z4tpNYyXSE"
      },
      "source": [
        "### Unbalanced data"
      ]
    },
    {
      "cell_type": "markdown",
      "metadata": {
        "id": "ybuskkglyXSE"
      },
      "source": [
        "First we split our data to train and test set"
      ]
    },
    {
      "cell_type": "code",
      "execution_count": null,
      "metadata": {
        "id": "Bzjl3UDVyXSE"
      },
      "outputs": [],
      "source": [
        "from sklearn.model_selection import train_test_split\n",
        "train, test=train_test_split(df2, test_size=0.3)"
      ]
    },
    {
      "cell_type": "markdown",
      "metadata": {
        "id": "njilD-YdyXSF"
      },
      "source": [
        "We Prepare the data to enter the models"
      ]
    },
    {
      "cell_type": "code",
      "execution_count": null,
      "metadata": {
        "id": "-a80J8KOyXSF"
      },
      "outputs": [],
      "source": [
        "train_x=train.drop('Churn',axis=1)\n",
        "train_y=train[['Churn']]\n",
        "test_x=test.drop('Churn',axis=1)\n",
        "test_y=test[['Churn']]"
      ]
    },
    {
      "cell_type": "markdown",
      "metadata": {
        "id": "o20ZBHkvyXSF"
      },
      "source": [
        "##### 1-Using logistic regression"
      ]
    },
    {
      "cell_type": "code",
      "execution_count": null,
      "metadata": {
        "id": "LT_4uS0syXSF"
      },
      "outputs": [],
      "source": [
        "from sklearn.linear_model import LogisticRegression\n",
        "from sklearn.metrics import confusion_matrix #for evaluation\n",
        "from sklearn.metrics import mean_squared_error"
      ]
    },
    {
      "cell_type": "code",
      "execution_count": null,
      "metadata": {
        "id": "4zYc3LF6yXSF",
        "outputId": "a1c49418-eb35-4b92-b04f-892b64bb4525"
      },
      "outputs": [
        {
          "name": "stderr",
          "output_type": "stream",
          "text": [
            "c:\\users\\omar\\appdata\\local\\programs\\python\\python35\\lib\\site-packages\\sklearn\\linear_model\\logistic.py:432: FutureWarning: Default solver will be changed to 'lbfgs' in 0.22. Specify a solver to silence this warning.\n",
            "  FutureWarning)\n",
            "c:\\users\\omar\\appdata\\local\\programs\\python\\python35\\lib\\site-packages\\sklearn\\utils\\validation.py:724: DataConversionWarning: A column-vector y was passed when a 1d array was expected. Please change the shape of y to (n_samples, ), for example using ravel().\n",
            "  y = column_or_1d(y, warn=True)\n"
          ]
        },
        {
          "data": {
            "text/plain": [
              "LogisticRegression(C=1.0, class_weight=None, dual=False, fit_intercept=True,\n",
              "                   intercept_scaling=1, l1_ratio=None, max_iter=100,\n",
              "                   multi_class='warn', n_jobs=None, penalty='l2',\n",
              "                   random_state=None, solver='warn', tol=0.0001, verbose=0,\n",
              "                   warm_start=False)"
            ]
          },
          "execution_count": 66,
          "metadata": {},
          "output_type": "execute_result"
        }
      ],
      "source": [
        "lr=LogisticRegression()\n",
        "lr.fit(train_x,train_y)"
      ]
    },
    {
      "cell_type": "markdown",
      "metadata": {
        "id": "hTITKEK1yXSF"
      },
      "source": [
        "We predict the test"
      ]
    },
    {
      "cell_type": "code",
      "execution_count": null,
      "metadata": {
        "id": "oJ8AI9wwyXSF"
      },
      "outputs": [],
      "source": [
        "pred_y_lr=lr.predict(test_x)"
      ]
    },
    {
      "cell_type": "markdown",
      "metadata": {
        "id": "mSFPbRm5yXSG"
      },
      "source": [
        "We calculate the accuracy,mean square error, precison , recall, F1 Score of all algorithms"
      ]
    },
    {
      "cell_type": "code",
      "execution_count": null,
      "metadata": {
        "id": "E8XLi6TkyXSG"
      },
      "outputs": [],
      "source": [
        "cnf_matrix_lr=confusion_matrix(test_y,pred_y_lr)\n",
        "r_lr=cnf_matrix_lr[1,1]/(cnf_matrix_lr[1,0]+cnf_matrix_lr[1,1]) #Recall\n",
        "p_lr=cnf_matrix_lr[1,1]/(cnf_matrix_lr[0,1]+cnf_matrix_lr[1,1]) #Precision\n",
        "f1_lr=2*((r_lr*p_lr)/(r_lr+p_lr)) #F1-Score\n",
        "acc_lr = round(lr.score(train_x, train_y) * 100, 2) #Accuracy\n",
        "MSE_lr=mean_squared_error(test_y,pred_y_lr) #MSE"
      ]
    },
    {
      "cell_type": "markdown",
      "metadata": {
        "id": "pVlUd9pWyXSG"
      },
      "source": [
        "##### 2-Using Neural Networks"
      ]
    },
    {
      "cell_type": "code",
      "execution_count": null,
      "metadata": {
        "id": "dmoVK514yXSG"
      },
      "outputs": [],
      "source": [
        "from sklearn.neural_network import MLPClassifier"
      ]
    },
    {
      "cell_type": "code",
      "execution_count": null,
      "metadata": {
        "id": "-6PpoEX8yXSG",
        "outputId": "25bf7c44-c16a-483c-c187-8d8ee18c4c67"
      },
      "outputs": [
        {
          "name": "stderr",
          "output_type": "stream",
          "text": [
            "c:\\users\\omar\\appdata\\local\\programs\\python\\python35\\lib\\site-packages\\sklearn\\neural_network\\multilayer_perceptron.py:921: DataConversionWarning: A column-vector y was passed when a 1d array was expected. Please change the shape of y to (n_samples, ), for example using ravel().\n",
            "  y = column_or_1d(y, warn=True)\n"
          ]
        },
        {
          "data": {
            "text/plain": [
              "MLPClassifier(activation='relu', alpha=0.0001, batch_size='auto', beta_1=0.9,\n",
              "              beta_2=0.999, early_stopping=False, epsilon=1e-08,\n",
              "              hidden_layer_sizes=4, learning_rate='constant',\n",
              "              learning_rate_init=0.001, max_iter=200, momentum=0.9,\n",
              "              n_iter_no_change=10, nesterovs_momentum=True, power_t=0.5,\n",
              "              random_state=None, shuffle=True, solver='adam', tol=0.0001,\n",
              "              validation_fraction=0.1, verbose=False, warm_start=False)"
            ]
          },
          "execution_count": 70,
          "metadata": {},
          "output_type": "execute_result"
        }
      ],
      "source": [
        "nn=MLPClassifier(hidden_layer_sizes=4)\n",
        "nn.fit(train_x,train_y)"
      ]
    },
    {
      "cell_type": "code",
      "execution_count": null,
      "metadata": {
        "id": "ZwR9oTycyXSG"
      },
      "outputs": [],
      "source": [
        "pred_y_nn=nn.predict(test_x)"
      ]
    },
    {
      "cell_type": "code",
      "execution_count": null,
      "metadata": {
        "id": "MwAgSB_2yXSG"
      },
      "outputs": [],
      "source": [
        "cnf_matrix_nn=confusion_matrix(test_y,pred_y_nn)\n",
        "r_nn=cnf_matrix_nn[1,1]/(cnf_matrix_nn[1,0]+cnf_matrix_nn[1,1]) #Recall\n",
        "p_nn=cnf_matrix_nn[1,1]/(cnf_matrix_nn[0,1]+cnf_matrix_nn[1,1]) #Precision\n",
        "f1_nn=2*((r_nn*p_nn)/(r_nn+p_nn)) #F1-Score\n",
        "acc_nn = round(nn.score(train_x, train_y) * 100, 2) #Accuracy\n",
        "MSE_nn=mean_squared_error(test_y,pred_y_nn) #MSE"
      ]
    },
    {
      "cell_type": "markdown",
      "metadata": {
        "id": "YQ6iPdKGyXSH"
      },
      "source": [
        "##### 3- Using Decision Tree"
      ]
    },
    {
      "cell_type": "code",
      "execution_count": null,
      "metadata": {
        "id": "LedAljPMyXSH"
      },
      "outputs": [],
      "source": [
        "from sklearn.tree import DecisionTreeClassifier"
      ]
    },
    {
      "cell_type": "code",
      "execution_count": null,
      "metadata": {
        "id": "xqAHBC68yXSH",
        "outputId": "4d5b84a5-91aa-4f84-dd29-fb3bd35a9204"
      },
      "outputs": [
        {
          "data": {
            "text/plain": [
              "DecisionTreeClassifier(class_weight=None, criterion='gini', max_depth=None,\n",
              "                       max_features=None, max_leaf_nodes=None,\n",
              "                       min_impurity_decrease=0.0, min_impurity_split=None,\n",
              "                       min_samples_leaf=1, min_samples_split=2,\n",
              "                       min_weight_fraction_leaf=0.0, presort=False,\n",
              "                       random_state=None, splitter='best')"
            ]
          },
          "execution_count": 74,
          "metadata": {},
          "output_type": "execute_result"
        }
      ],
      "source": [
        "dc=DecisionTreeClassifier()\n",
        "dc.fit(train_x,train_y)"
      ]
    },
    {
      "cell_type": "code",
      "execution_count": null,
      "metadata": {
        "id": "tVP_2wi1yXSH"
      },
      "outputs": [],
      "source": [
        "pred_y_dc=dc.predict(test_x)"
      ]
    },
    {
      "cell_type": "code",
      "execution_count": null,
      "metadata": {
        "id": "eCLyWwhLyXSH"
      },
      "outputs": [],
      "source": [
        "cnf_matrix_dc=confusion_matrix(test_y,pred_y_dc)\n",
        "r_dc=cnf_matrix_dc[1,1]/(cnf_matrix_dc[1,0]+cnf_matrix_dc[1,1]) #Recall\n",
        "p_dc=cnf_matrix_dc[1,1]/(cnf_matrix_dc[0,1]+cnf_matrix_dc[1,1]) #Precision\n",
        "f1_dc=2*((r_dc*p_dc)/(r_dc+p_dc)) #F1-Score\n",
        "acc_dc = round(dc.score(train_x, train_y) * 100, 2) #Accuracy\n",
        "MSE_dc=mean_squared_error(test_y,pred_y_dc) #MSE"
      ]
    },
    {
      "cell_type": "markdown",
      "metadata": {
        "id": "Lrmc_GeUyXSH"
      },
      "source": [
        "##### 4-Using Random Forest"
      ]
    },
    {
      "cell_type": "code",
      "execution_count": null,
      "metadata": {
        "id": "F42kdezCyXSH"
      },
      "outputs": [],
      "source": [
        "from sklearn.ensemble import RandomForestClassifier"
      ]
    },
    {
      "cell_type": "code",
      "execution_count": null,
      "metadata": {
        "id": "43mhOQS8yXSH",
        "outputId": "46b26a3f-182b-4179-92c1-cf14e8892bab"
      },
      "outputs": [
        {
          "data": {
            "text/plain": [
              "DecisionTreeClassifier(class_weight=None, criterion='gini', max_depth=None,\n",
              "                       max_features=None, max_leaf_nodes=None,\n",
              "                       min_impurity_decrease=0.0, min_impurity_split=None,\n",
              "                       min_samples_leaf=1, min_samples_split=2,\n",
              "                       min_weight_fraction_leaf=0.0, presort=False,\n",
              "                       random_state=None, splitter='best')"
            ]
          },
          "execution_count": 78,
          "metadata": {},
          "output_type": "execute_result"
        }
      ],
      "source": [
        "rf=DecisionTreeClassifier()\n",
        "rf.fit(train_x,train_y)"
      ]
    },
    {
      "cell_type": "code",
      "execution_count": null,
      "metadata": {
        "id": "7XRn42lAyXSI"
      },
      "outputs": [],
      "source": [
        "pred_y_rf=rf.predict(test_x)"
      ]
    },
    {
      "cell_type": "code",
      "execution_count": null,
      "metadata": {
        "id": "Br3egOgpyXSI"
      },
      "outputs": [],
      "source": [
        "cnf_matrix_rf=confusion_matrix(test_y,pred_y_rf)\n",
        "r_rf=cnf_matrix_rf[1,1]/(cnf_matrix_rf[1,0]+cnf_matrix_rf[1,1]) #Recall\n",
        "p_rf=cnf_matrix_rf[1,1]/(cnf_matrix_rf[0,1]+cnf_matrix_rf[1,1]) #Precision\n",
        "f1_rf=2*((r_rf*p_rf)/(r_rf+p_rf)) #F1-Score\n",
        "acc_rf = round(rf.score(train_x, train_y) * 100, 2) #Accuracy\n",
        "MSE_rf=mean_squared_error(test_y,pred_y_rf) #MSE"
      ]
    },
    {
      "cell_type": "markdown",
      "metadata": {
        "id": "X3V-1389yXSI"
      },
      "source": [
        "##### 5-Using Support Vector Machine"
      ]
    },
    {
      "cell_type": "code",
      "execution_count": null,
      "metadata": {
        "id": "h-Cknz_zyXSI"
      },
      "outputs": [],
      "source": [
        "from sklearn import svm"
      ]
    },
    {
      "cell_type": "code",
      "execution_count": null,
      "metadata": {
        "id": "YgugbB0qyXSI",
        "outputId": "8ed22a7b-0bff-4240-e2ac-b8be39bfc4e7"
      },
      "outputs": [
        {
          "name": "stderr",
          "output_type": "stream",
          "text": [
            "c:\\users\\omar\\appdata\\local\\programs\\python\\python35\\lib\\site-packages\\sklearn\\utils\\validation.py:724: DataConversionWarning: A column-vector y was passed when a 1d array was expected. Please change the shape of y to (n_samples, ), for example using ravel().\n",
            "  y = column_or_1d(y, warn=True)\n",
            "c:\\users\\omar\\appdata\\local\\programs\\python\\python35\\lib\\site-packages\\sklearn\\svm\\base.py:193: FutureWarning: The default value of gamma will change from 'auto' to 'scale' in version 0.22 to account better for unscaled features. Set gamma explicitly to 'auto' or 'scale' to avoid this warning.\n",
            "  \"avoid this warning.\", FutureWarning)\n"
          ]
        }
      ],
      "source": [
        "sv=svm.SVC()\n",
        "sv.fit(train_x,train_y)\n",
        "pred_y_sv=sv.predict(test_x)"
      ]
    },
    {
      "cell_type": "code",
      "execution_count": null,
      "metadata": {
        "id": "WKehxYMyyXSI"
      },
      "outputs": [],
      "source": [
        "cnf_matrix_sv=confusion_matrix(test_y,pred_y_sv)\n",
        "r_sv=cnf_matrix_sv[1,1]/(cnf_matrix_sv[1,0]+cnf_matrix_sv[1,1]) #Recall\n",
        "p_sv=cnf_matrix_sv[1,1]/(cnf_matrix_sv[0,1]+cnf_matrix_sv[1,1]) #Precision\n",
        "f1_sv=2*((r_sv*p_sv)/(r_sv+p_sv)) #F1-Score\n",
        "acc_sv = round(sv.score(train_x, train_y) * 100, 2) #Accuracy\n",
        "MSE_sv=mean_squared_error(test_y,pred_y_sv) #MSE"
      ]
    },
    {
      "cell_type": "markdown",
      "metadata": {
        "id": "ZArw_DeMyXSI"
      },
      "source": [
        "## Evaluation of Unbalanced Data"
      ]
    },
    {
      "cell_type": "markdown",
      "metadata": {
        "id": "5vmf6dEHyXSI"
      },
      "source": [
        "We Create a data Frame to Collect all the Metrics in one Place"
      ]
    },
    {
      "cell_type": "code",
      "execution_count": null,
      "metadata": {
        "id": "OYhqanwJyXSI"
      },
      "outputs": [],
      "source": [
        "UnBalanced=pd.DataFrame({'Accuracy':[acc_lr,acc_nn,acc_dc,acc_rf,acc_sv],'MSE':[MSE_lr,MSE_nn,MSE_dc,MSE_rf,MSE_sv],'Model':['Logistic Regression','Neural Networks','Decision Tree','Random Forest','Support Vector Machine'],'Recall':[r_lr,r_nn,r_dc,r_rf,r_sv],'Precision':[p_lr,p_nn,p_dc,p_rf,p_sv],'F1-Score':[f1_lr,f1_nn,f1_dc,f1_rf,f1_sv]},columns=['Model','Accuracy','MSE','Precision','Recall','F1-Score'])\n"
      ]
    },
    {
      "cell_type": "code",
      "execution_count": null,
      "metadata": {
        "id": "8wy8RX5QyXSJ",
        "outputId": "937cc4d2-a26c-4131-a629-2b30d6dfb6e2"
      },
      "outputs": [
        {
          "data": {
            "text/html": [
              "<div>\n",
              "<style scoped>\n",
              "    .dataframe tbody tr th:only-of-type {\n",
              "        vertical-align: middle;\n",
              "    }\n",
              "\n",
              "    .dataframe tbody tr th {\n",
              "        vertical-align: top;\n",
              "    }\n",
              "\n",
              "    .dataframe thead th {\n",
              "        text-align: right;\n",
              "    }\n",
              "</style>\n",
              "<table border=\"1\" class=\"dataframe\">\n",
              "  <thead>\n",
              "    <tr style=\"text-align: right;\">\n",
              "      <th></th>\n",
              "      <th>Model</th>\n",
              "      <th>Accuracy</th>\n",
              "      <th>MSE</th>\n",
              "      <th>Precision</th>\n",
              "      <th>Recall</th>\n",
              "      <th>F1-Score</th>\n",
              "    </tr>\n",
              "  </thead>\n",
              "  <tbody>\n",
              "    <tr>\n",
              "      <th>0</th>\n",
              "      <td>Logistic Regression</td>\n",
              "      <td>77.65</td>\n",
              "      <td>0.223697</td>\n",
              "      <td>0.617068</td>\n",
              "      <td>0.487047</td>\n",
              "      <td>0.544402</td>\n",
              "    </tr>\n",
              "    <tr>\n",
              "      <th>1</th>\n",
              "      <td>Neural Networks</td>\n",
              "      <td>77.83</td>\n",
              "      <td>0.233649</td>\n",
              "      <td>0.585657</td>\n",
              "      <td>0.507772</td>\n",
              "      <td>0.543941</td>\n",
              "    </tr>\n",
              "    <tr>\n",
              "      <th>2</th>\n",
              "      <td>Decision Tree</td>\n",
              "      <td>79.07</td>\n",
              "      <td>0.238863</td>\n",
              "      <td>0.573099</td>\n",
              "      <td>0.507772</td>\n",
              "      <td>0.538462</td>\n",
              "    </tr>\n",
              "    <tr>\n",
              "      <th>3</th>\n",
              "      <td>Random Forest</td>\n",
              "      <td>79.07</td>\n",
              "      <td>0.238863</td>\n",
              "      <td>0.573099</td>\n",
              "      <td>0.507772</td>\n",
              "      <td>0.538462</td>\n",
              "    </tr>\n",
              "    <tr>\n",
              "      <th>4</th>\n",
              "      <td>Support Vector Machine</td>\n",
              "      <td>77.35</td>\n",
              "      <td>0.227962</td>\n",
              "      <td>0.606987</td>\n",
              "      <td>0.480138</td>\n",
              "      <td>0.536162</td>\n",
              "    </tr>\n",
              "  </tbody>\n",
              "</table>\n",
              "</div>"
            ],
            "text/plain": [
              "                    Model  Accuracy       MSE  Precision    Recall  F1-Score\n",
              "0     Logistic Regression     77.65  0.223697   0.617068  0.487047  0.544402\n",
              "1         Neural Networks     77.83  0.233649   0.585657  0.507772  0.543941\n",
              "2           Decision Tree     79.07  0.238863   0.573099  0.507772  0.538462\n",
              "3           Random Forest     79.07  0.238863   0.573099  0.507772  0.538462\n",
              "4  Support Vector Machine     77.35  0.227962   0.606987  0.480138  0.536162"
            ]
          },
          "execution_count": 61,
          "metadata": {},
          "output_type": "execute_result"
        }
      ],
      "source": [
        "UnBalanced"
      ]
    },
    {
      "cell_type": "markdown",
      "metadata": {
        "id": "kpm4WlGZyXSJ"
      },
      "source": [
        "### Confusion matrix"
      ]
    },
    {
      "cell_type": "code",
      "execution_count": null,
      "metadata": {
        "id": "jyZwzTTfyXSJ",
        "outputId": "9c6de7c6-3064-41ff-c7a5-5c6bdd357677"
      },
      "outputs": [
        {
          "data": {
            "text/plain": [
              "<matplotlib.axes._subplots.AxesSubplot at 0x1a17ae78ba8>"
            ]
          },
          "execution_count": 62,
          "metadata": {},
          "output_type": "execute_result"
        },
        {
          "data": {
            "image/png": "[encoded data removed]",
            "text/plain": [
              "<Figure size 720x720 with 10 Axes>"
            ]
          },
          "metadata": {
            "needs_background": "light"
          },
          "output_type": "display_data"
        }
      ],
      "source": [
        "plt.figure(figsize=(10,10))\n",
        "plt.subplot(4,2,1)\n",
        "plt.title('Logistic Regression')\n",
        "sns.heatmap(cnf_matrix_lr,annot=True,fmt='d')    \n",
        "plt.subplot(4,2,2)\n",
        "plt.title('Neural Network')\n",
        "sns.heatmap(cnf_matrix_nn,annot=True,fmt='d')\n",
        "plt.subplot(4,2,3)\n",
        "plt.title('Decision Tree')\n",
        "sns.heatmap(cnf_matrix_dc,annot=True,fmt='d')\n",
        "plt.subplot(4,2,4)\n",
        "plt.title('Random Forest')\n",
        "sns.heatmap(cnf_matrix_rf,annot=True,fmt='d')\n",
        "plt.subplot(4,2,5)\n",
        "plt.title('Support Vector Machine')\n",
        "sns.heatmap(cnf_matrix_sv,annot=True,fmt='d')"
      ]
    },
    {
      "cell_type": "markdown",
      "metadata": {
        "id": "wk63jDLDyXSJ"
      },
      "source": [
        "The Performance is poor with UnBalanced Data So we will try to balance the data"
      ]
    },
    {
      "cell_type": "markdown",
      "metadata": {
        "id": "PwFgmhu6yXSJ"
      },
      "source": [
        "# 2- Balanced Data"
      ]
    },
    {
      "cell_type": "code",
      "execution_count": null,
      "metadata": {
        "id": "uC445wLSyXSJ"
      },
      "outputs": [],
      "source": [
        "churn_count=len(df2[df2['Churn']==1])\n",
        "churn_index=df2[df2['Churn']==1].index\n",
        "norm_index=df2[df2['Churn']==0].index\n",
        "rand_norm_index=np.random.choice(norm_index,churn_count)\n",
        "balanced_index=np.concatenate([rand_norm_index,churn_index])\n",
        "balanced_data=df2.loc[balanced_index]"
      ]
    },
    {
      "cell_type": "markdown",
      "metadata": {
        "id": "yKv3tmbGyXSJ"
      },
      "source": [
        "We repeat the previous steps again"
      ]
    },
    {
      "cell_type": "code",
      "execution_count": null,
      "metadata": {
        "id": "BBDBUG6syXSK"
      },
      "outputs": [],
      "source": [
        "train, test=train_test_split(balanced_data, test_size=0.3)"
      ]
    },
    {
      "cell_type": "code",
      "execution_count": null,
      "metadata": {
        "id": "R59sZHKLyXSK"
      },
      "outputs": [],
      "source": [
        "train_x=train.drop('Churn',axis=1)\n",
        "train_y=train[['Churn']]\n",
        "test_x=test.drop('Churn',axis=1)\n",
        "test_y=test[['Churn']]"
      ]
    },
    {
      "cell_type": "code",
      "execution_count": null,
      "metadata": {
        "id": "jy65uvCGyXSK"
      },
      "outputs": [],
      "source": [
        "Balanced=pd.DataFrame({'Accuracy':[acc_lr,acc_nn,acc_dc,acc_rf,acc_sv],'MSE':[MSE_lr,MSE_nn,MSE_dc,MSE_rf,MSE_sv],'Model':['Logistic Regression','Neural Networks','Decision Tree','Random Forest','Support Vector Machine'],'Recall':[r_lr,r_nn,r_dc,r_rf,r_sv],'Precision':[p_lr,p_nn,p_dc,p_rf,p_sv],'F1-Score':[f1_lr,f1_nn,f1_dc,f1_rf,f1_sv]},columns=['Model','Accuracy','MSE','Precision','Recall','F1-Score'])\n"
      ]
    },
    {
      "cell_type": "code",
      "execution_count": null,
      "metadata": {
        "id": "xeTgIhdayXSK",
        "outputId": "a91dbba6-c390-43ce-f541-5056a034203a"
      },
      "outputs": [
        {
          "data": {
            "text/html": [
              "<div>\n",
              "<style scoped>\n",
              "    .dataframe tbody tr th:only-of-type {\n",
              "        vertical-align: middle;\n",
              "    }\n",
              "\n",
              "    .dataframe tbody tr th {\n",
              "        vertical-align: top;\n",
              "    }\n",
              "\n",
              "    .dataframe thead th {\n",
              "        text-align: right;\n",
              "    }\n",
              "</style>\n",
              "<table border=\"1\" class=\"dataframe\">\n",
              "  <thead>\n",
              "    <tr style=\"text-align: right;\">\n",
              "      <th></th>\n",
              "      <th>Model</th>\n",
              "      <th>Accuracy</th>\n",
              "      <th>MSE</th>\n",
              "      <th>Precision</th>\n",
              "      <th>Recall</th>\n",
              "      <th>F1-Score</th>\n",
              "    </tr>\n",
              "  </thead>\n",
              "  <tbody>\n",
              "    <tr>\n",
              "      <th>0</th>\n",
              "      <td>Logistic Regression</td>\n",
              "      <td>73.89</td>\n",
              "      <td>0.237968</td>\n",
              "      <td>0.718553</td>\n",
              "      <td>0.838532</td>\n",
              "      <td>0.773920</td>\n",
              "    </tr>\n",
              "    <tr>\n",
              "      <th>1</th>\n",
              "      <td>Neural Networks</td>\n",
              "      <td>74.20</td>\n",
              "      <td>0.237077</td>\n",
              "      <td>0.721781</td>\n",
              "      <td>0.833028</td>\n",
              "      <td>0.773424</td>\n",
              "    </tr>\n",
              "    <tr>\n",
              "      <th>2</th>\n",
              "      <td>Decision Tree</td>\n",
              "      <td>78.10</td>\n",
              "      <td>0.261141</td>\n",
              "      <td>0.711409</td>\n",
              "      <td>0.777982</td>\n",
              "      <td>0.743208</td>\n",
              "    </tr>\n",
              "    <tr>\n",
              "      <th>3</th>\n",
              "      <td>Random Forest</td>\n",
              "      <td>78.10</td>\n",
              "      <td>0.261141</td>\n",
              "      <td>0.710702</td>\n",
              "      <td>0.779817</td>\n",
              "      <td>0.743657</td>\n",
              "    </tr>\n",
              "    <tr>\n",
              "      <th>4</th>\n",
              "      <td>Support Vector Machine</td>\n",
              "      <td>73.89</td>\n",
              "      <td>0.245989</td>\n",
              "      <td>0.701046</td>\n",
              "      <td>0.860550</td>\n",
              "      <td>0.772652</td>\n",
              "    </tr>\n",
              "  </tbody>\n",
              "</table>\n",
              "</div>"
            ],
            "text/plain": [
              "                    Model  Accuracy       MSE  Precision    Recall  F1-Score\n",
              "0     Logistic Regression     73.89  0.237968   0.718553  0.838532  0.773920\n",
              "1         Neural Networks     74.20  0.237077   0.721781  0.833028  0.773424\n",
              "2           Decision Tree     78.10  0.261141   0.711409  0.777982  0.743208\n",
              "3           Random Forest     78.10  0.261141   0.710702  0.779817  0.743657\n",
              "4  Support Vector Machine     73.89  0.245989   0.701046  0.860550  0.772652"
            ]
          },
          "execution_count": 85,
          "metadata": {},
          "output_type": "execute_result"
        }
      ],
      "source": [
        "Balanced"
      ]
    },
    {
      "cell_type": "code",
      "execution_count": null,
      "metadata": {
        "id": "Rdhd6IWqyXSK",
        "outputId": "0d8431a6-4a4d-4255-9b1a-8b20833fee93"
      },
      "outputs": [
        {
          "data": {
            "text/html": [
              "<div>\n",
              "<style scoped>\n",
              "    .dataframe tbody tr th:only-of-type {\n",
              "        vertical-align: middle;\n",
              "    }\n",
              "\n",
              "    .dataframe tbody tr th {\n",
              "        vertical-align: top;\n",
              "    }\n",
              "\n",
              "    .dataframe thead th {\n",
              "        text-align: right;\n",
              "    }\n",
              "</style>\n",
              "<table border=\"1\" class=\"dataframe\">\n",
              "  <thead>\n",
              "    <tr style=\"text-align: right;\">\n",
              "      <th></th>\n",
              "      <th>Model</th>\n",
              "      <th>Accuracy</th>\n",
              "      <th>MSE</th>\n",
              "      <th>Precision</th>\n",
              "      <th>Recall</th>\n",
              "      <th>F1-Score</th>\n",
              "    </tr>\n",
              "  </thead>\n",
              "  <tbody>\n",
              "    <tr>\n",
              "      <th>0</th>\n",
              "      <td>Logistic Regression</td>\n",
              "      <td>77.65</td>\n",
              "      <td>0.223697</td>\n",
              "      <td>0.617068</td>\n",
              "      <td>0.487047</td>\n",
              "      <td>0.544402</td>\n",
              "    </tr>\n",
              "    <tr>\n",
              "      <th>1</th>\n",
              "      <td>Neural Networks</td>\n",
              "      <td>77.83</td>\n",
              "      <td>0.233649</td>\n",
              "      <td>0.585657</td>\n",
              "      <td>0.507772</td>\n",
              "      <td>0.543941</td>\n",
              "    </tr>\n",
              "    <tr>\n",
              "      <th>2</th>\n",
              "      <td>Decision Tree</td>\n",
              "      <td>79.07</td>\n",
              "      <td>0.238863</td>\n",
              "      <td>0.573099</td>\n",
              "      <td>0.507772</td>\n",
              "      <td>0.538462</td>\n",
              "    </tr>\n",
              "    <tr>\n",
              "      <th>3</th>\n",
              "      <td>Random Forest</td>\n",
              "      <td>79.07</td>\n",
              "      <td>0.238863</td>\n",
              "      <td>0.573099</td>\n",
              "      <td>0.507772</td>\n",
              "      <td>0.538462</td>\n",
              "    </tr>\n",
              "    <tr>\n",
              "      <th>4</th>\n",
              "      <td>Support Vector Machine</td>\n",
              "      <td>77.35</td>\n",
              "      <td>0.227962</td>\n",
              "      <td>0.606987</td>\n",
              "      <td>0.480138</td>\n",
              "      <td>0.536162</td>\n",
              "    </tr>\n",
              "  </tbody>\n",
              "</table>\n",
              "</div>"
            ],
            "text/plain": [
              "                    Model  Accuracy       MSE  Precision    Recall  F1-Score\n",
              "0     Logistic Regression     77.65  0.223697   0.617068  0.487047  0.544402\n",
              "1         Neural Networks     77.83  0.233649   0.585657  0.507772  0.543941\n",
              "2           Decision Tree     79.07  0.238863   0.573099  0.507772  0.538462\n",
              "3           Random Forest     79.07  0.238863   0.573099  0.507772  0.538462\n",
              "4  Support Vector Machine     77.35  0.227962   0.606987  0.480138  0.536162"
            ]
          },
          "execution_count": 86,
          "metadata": {},
          "output_type": "execute_result"
        }
      ],
      "source": [
        "UnBalanced"
      ]
    },
    {
      "cell_type": "markdown",
      "metadata": {
        "id": "QypxjPeGyXSK"
      },
      "source": [
        "# Conclusion\n",
        "\n",
        "When we balanced the data the performance got better as the data isn't skewed anymore\n",
        "The Support Vector Machine Has the Highest Recall so we can use it."
      ]
    }
  ],
  "metadata": {
    "kernelspec": {
      "display_name": "Python 3",
      "language": "python",
      "name": "python3"
    },
    "language_info": {
      "codemirror_mode": {
        "name": "ipython",
        "version": 3
      },
      "file_extension": ".py",
      "mimetype": "text/x-python",
      "name": "python",
      "nbconvert_exporter": "python",
      "pygments_lexer": "ipython3",
      "version": "3.6.5"
    },
    "colab": {
      "provenance": []
    }
  },
  "nbformat": 4,
  "nbformat_minor": 0
}