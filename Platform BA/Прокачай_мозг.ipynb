{
  "cells": [
    {
      "cell_type": "markdown",
      "metadata": {
        "id": "HGAf88pYPZjR"
      },
      "source": [
        "## Практикум 3. Работа с массивами"
      ]
    },
    {
      "cell_type": "markdown",
      "metadata": {
        "id": "G1p8LCBlPZjU"
      },
      "source": [
        "## Работа с массивом\n",
        "\n",
        "В массиве `pumpkins` сохранены значения веса тыкв (в килограммах), которые выращивают к Хэллоуину:"
      ]
    },
    {
      "cell_type": "code",
      "execution_count": 2,
      "metadata": {
        "id": "uNJmeoRaPZjV"
      },
      "outputs": [],
      "source": [
        "import numpy as np\n",
        "pumpkins = np.array([305, 306, 380, 450, 505, 499, 20, 350, 600, 540, 320,\n",
        "                    340, 375, 355, 480, 500, 520, 523, 610, 302, 304, 314, 15])"
      ]
    },
    {
      "cell_type": "markdown",
      "metadata": {
        "id": "i2pTUzEtPZjW"
      },
      "source": [
        "### Задача 1\n",
        "\n",
        "Найдите минимальное и максимальное значение выборки, вычислите размах."
      ]
    },
    {
      "cell_type": "code",
      "execution_count": 3,
      "metadata": {
        "colab": {
          "base_uri": "https://localhost:8080/"
        },
        "id": "3XQdouKbPZjW",
        "outputId": "de61d19b-e465-44d7-f5cc-85cf5ec3d7a0"
      },
      "outputs": [
        {
          "output_type": "execute_result",
          "data": {
            "text/plain": [
              "15"
            ]
          },
          "metadata": {},
          "execution_count": 3
        }
      ],
      "source": [
        "np.min(pumpkins)"
      ]
    },
    {
      "cell_type": "code",
      "execution_count": 4,
      "metadata": {
        "colab": {
          "base_uri": "https://localhost:8080/"
        },
        "id": "a8E4baDMPZjX",
        "outputId": "b82dfd4d-472f-4d32-9709-d758976579ff"
      },
      "outputs": [
        {
          "output_type": "execute_result",
          "data": {
            "text/plain": [
              "610"
            ]
          },
          "metadata": {},
          "execution_count": 4
        }
      ],
      "source": [
        "np.max(pumpkins)"
      ]
    },
    {
      "cell_type": "markdown",
      "metadata": {
        "id": "fKaMKKytPZjY"
      },
      "source": [
        "### Задача 2\n",
        "\n",
        "Найдите выборочное среднее и выборочную медиану."
      ]
    },
    {
      "cell_type": "code",
      "execution_count": 5,
      "metadata": {
        "colab": {
          "base_uri": "https://localhost:8080/"
        },
        "id": "RKytffvoPZjY",
        "outputId": "454dd703-4c8b-4ff6-cc69-e0e736dd1cf5"
      },
      "outputs": [
        {
          "output_type": "execute_result",
          "data": {
            "text/plain": [
              "387.5217391304348"
            ]
          },
          "metadata": {},
          "execution_count": 5
        }
      ],
      "source": [
        "np.mean(pumpkins)"
      ]
    },
    {
      "cell_type": "code",
      "execution_count": 6,
      "metadata": {
        "colab": {
          "base_uri": "https://localhost:8080/"
        },
        "id": "45UQRfssPZjZ",
        "outputId": "94624625-b69f-4152-817b-87e507492a4e"
      },
      "outputs": [
        {
          "output_type": "execute_result",
          "data": {
            "text/plain": [
              "375.0"
            ]
          },
          "metadata": {},
          "execution_count": 6
        }
      ],
      "source": [
        "np.median(pumpkins)"
      ]
    },
    {
      "cell_type": "markdown",
      "metadata": {
        "id": "8X1J6BclPZjZ"
      },
      "source": [
        "### Задача 3\n",
        "\n",
        "Найдите нижний и верхний квартили, сохраните их в переменные `q1` и `q3` соответственно."
      ]
    },
    {
      "cell_type": "code",
      "execution_count": 7,
      "metadata": {
        "colab": {
          "base_uri": "https://localhost:8080/"
        },
        "id": "dR6orRw-PZjZ",
        "outputId": "31b432f9-ac7d-408c-930e-9fd0e94de180"
      },
      "outputs": [
        {
          "output_type": "stream",
          "name": "stdout",
          "text": [
            "310.0 502.5\n"
          ]
        }
      ],
      "source": [
        "q1 = np.quantile(pumpkins, 0.25)\n",
        "q3 = np.quantile(pumpkins, 0.75)\n",
        "print(q1, q3)"
      ]
    },
    {
      "cell_type": "markdown",
      "metadata": {
        "id": "rUwPFPudPZja"
      },
      "source": [
        "###  Задача 4\n",
        "\n",
        "Используя результаты предыдущей задачи, вычислите межквартильный размах и сохраните его в переменную `iq`."
      ]
    },
    {
      "cell_type": "code",
      "execution_count": 8,
      "metadata": {
        "colab": {
          "base_uri": "https://localhost:8080/"
        },
        "id": "l77yahlwPZja",
        "outputId": "9c5435d3-42db-4a34-d740-794bd3aa7df1"
      },
      "outputs": [
        {
          "output_type": "stream",
          "name": "stdout",
          "text": [
            "192.5\n"
          ]
        }
      ],
      "source": [
        "iq = q3 - q1\n",
        "print(iq)"
      ]
    },
    {
      "cell_type": "markdown",
      "metadata": {
        "id": "34a5YNdJPZja"
      },
      "source": [
        "### Задача 5\n",
        "\n",
        "Вычислите нижнюю и верхнюю границу типичных значений и сохраните их в переменные `lower` и `upper` соответственно."
      ]
    },
    {
      "cell_type": "code",
      "execution_count": 9,
      "metadata": {
        "colab": {
          "base_uri": "https://localhost:8080/"
        },
        "id": "5zwaz5Z9PZja",
        "outputId": "7efe38c7-a18f-465a-be45-90fd39c7d7c4"
      },
      "outputs": [
        {
          "output_type": "stream",
          "name": "stdout",
          "text": [
            "21.25 791.25\n"
          ]
        }
      ],
      "source": [
        "lower = q1 - 1.5 * iq\n",
        "upper = q3 + 1.5 * iq\n",
        "print(lower, upper)"
      ]
    },
    {
      "cell_type": "markdown",
      "metadata": {
        "id": "_BF0fnkFPZja"
      },
      "source": [
        "### Задача 6\n",
        "\n",
        "Определите, есть ли в массиве нетипичные наблюдения, то есть выберите те значения массива, которые не входят в интервал между `lower` и `upper`, посчитанными ранее. Если такие наблюдения есть, посчитайте их количество."
      ]
    },
    {
      "cell_type": "code",
      "execution_count": 10,
      "metadata": {
        "colab": {
          "base_uri": "https://localhost:8080/"
        },
        "id": "B9qqFhAsPZjb",
        "outputId": "e2350136-53f7-4b0a-f9b0-d8c20fa6697d"
      },
      "outputs": [
        {
          "output_type": "execute_result",
          "data": {
            "text/plain": [
              "array([20, 15])"
            ]
          },
          "metadata": {},
          "execution_count": 10
        }
      ],
      "source": [
        "pumpkins[(pumpkins < lower) | (pumpkins > upper)]"
      ]
    },
    {
      "cell_type": "code",
      "execution_count": 11,
      "metadata": {
        "colab": {
          "base_uri": "https://localhost:8080/"
        },
        "id": "gEu--FxWPZjb",
        "outputId": "0e75a621-e424-457b-e97e-fa4217ae6140"
      },
      "outputs": [
        {
          "output_type": "execute_result",
          "data": {
            "text/plain": [
              "2"
            ]
          },
          "metadata": {},
          "execution_count": 11
        }
      ],
      "source": [
        "pumpkins[(pumpkins < lower) | (pumpkins > upper)].size"
      ]
    }
  ],
  "metadata": {
    "kernelspec": {
      "display_name": "Python 3 (ipykernel)",
      "language": "python",
      "name": "python3"
    },
    "language_info": {
      "codemirror_mode": {
        "name": "ipython",
        "version": 3
      },
      "file_extension": ".py",
      "mimetype": "text/x-python",
      "name": "python",
      "nbconvert_exporter": "python",
      "pygments_lexer": "ipython3",
      "version": "3.9.13"
    },
    "colab": {
      "provenance": []
    }
  },
  "nbformat": 4,
  "nbformat_minor": 0
}