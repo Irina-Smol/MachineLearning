{
 "cells": [
  {
   "cell_type": "code",
   "execution_count": 1,
   "id": "19b60967",
   "metadata": {},
   "outputs": [],
   "source": [
    "import pandas as pd"
   ]
  },
  {
   "cell_type": "markdown",
   "id": "d23d6e2f",
   "metadata": {},
   "source": [
    "## Группировка и агрегирование в pandas"
   ]
  },
  {
   "cell_type": "code",
   "execution_count": 4,
   "id": "bbdd9682",
   "metadata": {},
   "outputs": [],
   "source": [
    "titanic_df = pd.read_csv('titanic.csv')"
   ]
  },
  {
   "cell_type": "code",
   "execution_count": 5,
   "id": "7b34f49f",
   "metadata": {},
   "outputs": [
    {
     "data": {
      "text/html": [
       "<div>\n",
       "<style scoped>\n",
       "    .dataframe tbody tr th:only-of-type {\n",
       "        vertical-align: middle;\n",
       "    }\n",
       "\n",
       "    .dataframe tbody tr th {\n",
       "        vertical-align: top;\n",
       "    }\n",
       "\n",
       "    .dataframe thead th {\n",
       "        text-align: right;\n",
       "    }\n",
       "</style>\n",
       "<table border=\"1\" class=\"dataframe\">\n",
       "  <thead>\n",
       "    <tr style=\"text-align: right;\">\n",
       "      <th></th>\n",
       "      <th>PassengerID</th>\n",
       "      <th>Name</th>\n",
       "      <th>PClass</th>\n",
       "      <th>Age</th>\n",
       "      <th>Sex</th>\n",
       "      <th>Survived</th>\n",
       "      <th>SexCode</th>\n",
       "    </tr>\n",
       "  </thead>\n",
       "  <tbody>\n",
       "    <tr>\n",
       "      <th>0</th>\n",
       "      <td>1</td>\n",
       "      <td>Allen, Miss Elisabeth Walton</td>\n",
       "      <td>1st</td>\n",
       "      <td>29.00</td>\n",
       "      <td>female</td>\n",
       "      <td>1</td>\n",
       "      <td>1</td>\n",
       "    </tr>\n",
       "    <tr>\n",
       "      <th>1</th>\n",
       "      <td>2</td>\n",
       "      <td>Allison, Miss Helen Loraine</td>\n",
       "      <td>1st</td>\n",
       "      <td>2.00</td>\n",
       "      <td>female</td>\n",
       "      <td>0</td>\n",
       "      <td>1</td>\n",
       "    </tr>\n",
       "    <tr>\n",
       "      <th>2</th>\n",
       "      <td>3</td>\n",
       "      <td>Allison, Mr Hudson Joshua Creighton</td>\n",
       "      <td>1st</td>\n",
       "      <td>30.00</td>\n",
       "      <td>male</td>\n",
       "      <td>0</td>\n",
       "      <td>0</td>\n",
       "    </tr>\n",
       "    <tr>\n",
       "      <th>3</th>\n",
       "      <td>4</td>\n",
       "      <td>Allison, Mrs Hudson JC (Bessie Waldo Daniels)</td>\n",
       "      <td>1st</td>\n",
       "      <td>25.00</td>\n",
       "      <td>female</td>\n",
       "      <td>0</td>\n",
       "      <td>1</td>\n",
       "    </tr>\n",
       "    <tr>\n",
       "      <th>4</th>\n",
       "      <td>5</td>\n",
       "      <td>Allison, Master Hudson Trevor</td>\n",
       "      <td>1st</td>\n",
       "      <td>0.92</td>\n",
       "      <td>male</td>\n",
       "      <td>1</td>\n",
       "      <td>0</td>\n",
       "    </tr>\n",
       "  </tbody>\n",
       "</table>\n",
       "</div>"
      ],
      "text/plain": [
       "   PassengerID                                           Name PClass    Age  \\\n",
       "0            1                   Allen, Miss Elisabeth Walton    1st  29.00   \n",
       "1            2                    Allison, Miss Helen Loraine    1st   2.00   \n",
       "2            3            Allison, Mr Hudson Joshua Creighton    1st  30.00   \n",
       "3            4  Allison, Mrs Hudson JC (Bessie Waldo Daniels)    1st  25.00   \n",
       "4            5                  Allison, Master Hudson Trevor    1st   0.92   \n",
       "\n",
       "      Sex  Survived  SexCode  \n",
       "0  female         1        1  \n",
       "1  female         0        1  \n",
       "2    male         0        0  \n",
       "3  female         0        1  \n",
       "4    male         1        0  "
      ]
     },
     "execution_count": 5,
     "metadata": {},
     "output_type": "execute_result"
    }
   ],
   "source": [
    "titanic_df.head()"
   ]
  },
  {
   "cell_type": "code",
   "execution_count": 6,
   "id": "85910133",
   "metadata": {},
   "outputs": [
    {
     "data": {
      "text/plain": [
       "Sex     Survived\n",
       "female  0           154\n",
       "        1           308\n",
       "male    0           709\n",
       "        1           142\n",
       "Name: PassengerID, dtype: int64"
      ]
     },
     "execution_count": 6,
     "metadata": {},
     "output_type": "execute_result"
    }
   ],
   "source": [
    "# Необходимо подсчитать, сколько женщин и мужчин выжило, а сколько нет\n",
    "titanic_df.groupby(['Sex', 'Survived'])['PassengerID'].count()"
   ]
  },
  {
   "cell_type": "code",
   "execution_count": 9,
   "id": "adbf037a",
   "metadata": {},
   "outputs": [
    {
     "data": {
      "text/plain": [
       "PClass  Survived\n",
       "*       0             1\n",
       "1st     0           129\n",
       "        1           193\n",
       "2nd     0           160\n",
       "        1           119\n",
       "3rd     0           573\n",
       "        1           138\n",
       "Name: PassengerID, dtype: int64"
      ]
     },
     "execution_count": 9,
     "metadata": {},
     "output_type": "execute_result"
    }
   ],
   "source": [
    "titanic_df.groupby(['PClass', 'Survived'])['PassengerID'].count()"
   ]
  },
  {
   "cell_type": "markdown",
   "id": "0d0510b8",
   "metadata": {},
   "source": [
    "## Сводные таблицы в pandas"
   ]
  },
  {
   "cell_type": "markdown",
   "id": "351d4b14",
   "metadata": {},
   "source": [
    "сводные таблицы строятся через метод .pivot_table"
   ]
  },
  {
   "cell_type": "code",
   "execution_count": 11,
   "id": "d77f90f6",
   "metadata": {},
   "outputs": [],
   "source": [
    "# посчитать сколько всего женщин и мужчин было в конкретном классе корабля\n",
    "\n",
    "# В качестве индекса будет пол человека, колонками станут значения из PClass, \n",
    "# функцией агрегирования будет count (подсчёт количества записей) по колонке Name\n",
    "pvt = titanic_df.pivot_table(index=['Sex'], columns=['PClass'], values='Name', aggfunc='count')"
   ]
  },
  {
   "cell_type": "code",
   "execution_count": 12,
   "id": "70361596",
   "metadata": {},
   "outputs": [
    {
     "data": {
      "text/html": [
       "<div>\n",
       "<style scoped>\n",
       "    .dataframe tbody tr th:only-of-type {\n",
       "        vertical-align: middle;\n",
       "    }\n",
       "\n",
       "    .dataframe tbody tr th {\n",
       "        vertical-align: top;\n",
       "    }\n",
       "\n",
       "    .dataframe thead th {\n",
       "        text-align: right;\n",
       "    }\n",
       "</style>\n",
       "<table border=\"1\" class=\"dataframe\">\n",
       "  <thead>\n",
       "    <tr style=\"text-align: right;\">\n",
       "      <th>PClass</th>\n",
       "      <th>*</th>\n",
       "      <th>1st</th>\n",
       "      <th>2nd</th>\n",
       "      <th>3rd</th>\n",
       "    </tr>\n",
       "    <tr>\n",
       "      <th>Sex</th>\n",
       "      <th></th>\n",
       "      <th></th>\n",
       "      <th></th>\n",
       "      <th></th>\n",
       "    </tr>\n",
       "  </thead>\n",
       "  <tbody>\n",
       "    <tr>\n",
       "      <th>female</th>\n",
       "      <td>NaN</td>\n",
       "      <td>143.0</td>\n",
       "      <td>107.0</td>\n",
       "      <td>212.0</td>\n",
       "    </tr>\n",
       "    <tr>\n",
       "      <th>male</th>\n",
       "      <td>1.0</td>\n",
       "      <td>179.0</td>\n",
       "      <td>172.0</td>\n",
       "      <td>499.0</td>\n",
       "    </tr>\n",
       "  </tbody>\n",
       "</table>\n",
       "</div>"
      ],
      "text/plain": [
       "PClass    *    1st    2nd    3rd\n",
       "Sex                             \n",
       "female  NaN  143.0  107.0  212.0\n",
       "male    1.0  179.0  172.0  499.0"
      ]
     },
     "execution_count": 12,
     "metadata": {},
     "output_type": "execute_result"
    }
   ],
   "source": [
    "pvt"
   ]
  },
  {
   "cell_type": "code",
   "execution_count": 14,
   "id": "6fefce7b",
   "metadata": {},
   "outputs": [
    {
     "data": {
      "text/plain": [
       "PClass\n",
       "1st    143.0\n",
       "2nd    107.0\n",
       "3rd    212.0\n",
       "Name: female, dtype: float64"
      ]
     },
     "execution_count": 14,
     "metadata": {},
     "output_type": "execute_result"
    }
   ],
   "source": [
    "pvt.loc['female', ['1st', '2nd', '3rd']]"
   ]
  },
  {
   "cell_type": "markdown",
   "id": "16bbafb4",
   "metadata": {},
   "source": [
    "## Анализ временных рядов"
   ]
  },
  {
   "cell_type": "markdown",
   "id": "a0fa099c",
   "metadata": {},
   "source": [
    "В качестве показательного примера используется цена на акции корпорации Apple за 5 лет по дням"
   ]
  },
  {
   "cell_type": "code",
   "execution_count": 15,
   "id": "4016819b",
   "metadata": {},
   "outputs": [],
   "source": [
    "df = pd.read_csv('apple.csv', index_col='Date', parse_dates=True)"
   ]
  },
  {
   "cell_type": "code",
   "execution_count": 16,
   "id": "1804ff5a",
   "metadata": {},
   "outputs": [],
   "source": [
    "df = df.sort_index()"
   ]
  },
  {
   "cell_type": "code",
   "execution_count": 17,
   "id": "49a2018d",
   "metadata": {},
   "outputs": [
    {
     "name": "stdout",
     "output_type": "stream",
     "text": [
      "<class 'pandas.core.frame.DataFrame'>\n",
      "DatetimeIndex: 1258 entries, 2012-02-23 to 2017-02-22\n",
      "Data columns (total 6 columns):\n",
      " #   Column     Non-Null Count  Dtype  \n",
      "---  ------     --------------  -----  \n",
      " 0   Open       1258 non-null   float64\n",
      " 1   High       1258 non-null   float64\n",
      " 2   Low        1258 non-null   float64\n",
      " 3   Close      1258 non-null   float64\n",
      " 4   Volume     1258 non-null   int64  \n",
      " 5   Adj Close  1258 non-null   float64\n",
      "dtypes: float64(5), int64(1)\n",
      "memory usage: 68.8 KB\n"
     ]
    }
   ],
   "source": [
    "df.info()"
   ]
  },
  {
   "cell_type": "markdown",
   "id": "61777f8b",
   "metadata": {},
   "source": [
    "формируем DataFrame с DatetimeIndex по колонке Date и сортируем новый индекс в правильном порядке для работы с выборками. Если колонка имеет формат даты и времени отличный от ISO8601, то для правильного перевода строки в нужный тип, можно использовать метод pandas.to_datetime."
   ]
  },
  {
   "cell_type": "code",
   "execution_count": 18,
   "id": "16547c73",
   "metadata": {},
   "outputs": [
    {
     "data": {
      "text/plain": [
       "528.4820022"
      ]
     },
     "execution_count": 18,
     "metadata": {},
     "output_type": "execute_result"
    }
   ],
   "source": [
    "# взять среднюю цену акции (mean) на закрытии (Close)\n",
    "df.loc['2012-Feb', 'Close'].mean()"
   ]
  },
  {
   "cell_type": "code",
   "execution_count": 19,
   "id": "186b6bb5",
   "metadata": {},
   "outputs": [
    {
     "data": {
      "text/plain": [
       "430.43968317018414"
      ]
     },
     "execution_count": 19,
     "metadata": {},
     "output_type": "execute_result"
    }
   ],
   "source": [
    "# взять промежуток с февраля 2012 по февраль 2015 и посчитать среднее\n",
    "df.loc['2012-Feb':'2015-Feb', 'Close'].mean()"
   ]
  },
  {
   "cell_type": "code",
   "execution_count": 20,
   "id": "8a2b7141",
   "metadata": {},
   "outputs": [
    {
     "data": {
      "text/plain": [
       "Date\n",
       "2012-02-26    519.399979\n",
       "2012-03-04    538.652008\n",
       "2012-03-11    536.254004\n",
       "2012-03-18    576.161993\n",
       "2012-03-25    600.990001\n",
       "                 ...    \n",
       "2017-01-29    121.164000\n",
       "2017-02-05    125.867999\n",
       "2017-02-12    131.679996\n",
       "2017-02-19    134.978000\n",
       "2017-02-26    136.904999\n",
       "Freq: W-SUN, Name: Close, Length: 262, dtype: float64"
      ]
     },
     "execution_count": 20,
     "metadata": {},
     "output_type": "execute_result"
    }
   ],
   "source": [
    "# взять среднюю цену закрытия по неделям\n",
    "df.resample('W')['Close'].mean()"
   ]
  },
  {
   "cell_type": "markdown",
   "id": "de5b5b93",
   "metadata": {},
   "source": [
    "Resampling мощный инструмент при работе с временными рядами (time series), помогающий переформировать выборку так, как удобно\n",
    "Метод resample первым аргументом принимает строку rule."
   ]
  },
  {
   "cell_type": "markdown",
   "id": "55079a27",
   "metadata": {},
   "source": [
    "## Визуализация данных в pandas"
   ]
  },
  {
   "cell_type": "markdown",
   "id": "efbc7efe",
   "metadata": {},
   "source": [
    "Для визуального анализа данных, pandas использует библиотеку matplotlib. Простейший способ визуализации в pandas на примере с акциями Apple.\n",
    "\n",
    "Берём цену закрытия в промежутке между 2012 и 2017."
   ]
  },
  {
   "cell_type": "code",
   "execution_count": 21,
   "id": "2ca89164",
   "metadata": {},
   "outputs": [
    {
     "data": {
      "image/png": "[encoded data removed]",
      "text/plain": [
       "<Figure size 640x480 with 1 Axes>"
      ]
     },
     "metadata": {},
     "output_type": "display_data"
    }
   ],
   "source": [
    "import matplotlib.pyplot as plt\n",
    "new_sample_df = df.loc['2012-Feb':'2017-Feb', ['Close']]\n",
    "new_sample_df.plot()\n",
    "plt.show()"
   ]
  },
  {
   "cell_type": "markdown",
   "id": "368dab31",
   "metadata": {},
   "source": [
    "По оси X, если не задано явно, всегда будет индекс. По оси Y в нашем случае цена закрытия. Если внимательно посмотреть, то в 2014 году цена на акцию резко упала, это событие было связано с тем, что Apple проводила сплит 7 к 1."
   ]
  }
 ],
 "metadata": {
  "kernelspec": {
   "display_name": "Python 3 (ipykernel)",
   "language": "python",
   "name": "python3"
  },
  "language_info": {
   "codemirror_mode": {
    "name": "ipython",
    "version": 3
   },
   "file_extension": ".py",
   "mimetype": "text/x-python",
   "name": "python",
   "nbconvert_exporter": "python",
   "pygments_lexer": "ipython3",
   "version": "3.9.13"
  }
 },
 "nbformat": 4,
 "nbformat_minor": 5
}
