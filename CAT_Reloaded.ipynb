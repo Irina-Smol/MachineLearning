{
  "cells": [
    {
      "cell_type": "code",
      "execution_count": null,
      "metadata": {
        "id": "hsliAxENFtHA"
      },
      "outputs": [],
      "source": [
        "import pandas as pd\n",
        "import numpy as np \n",
        "import matplotlib.pyplot as plt\n",
        "import seaborn as sns\n",
        "%matplotlib inline\n",
        "plt.style.use('seaborn')"
      ]
    },
    {
      "cell_type": "code",
      "execution_count": null,
      "metadata": {
        "id": "eLbGZU1HFtHD"
      },
      "outputs": [],
      "source": [
        "df=pd.read_csv('E:\\\\ITI\\\\Python\\\\Telecom Churn\\\\WA_Fn-UseC_-Telco-Customer-Churn.csv')"
      ]
    },
    {
      "cell_type": "code",
      "execution_count": null,
      "metadata": {
        "id": "ljWzNYMNFtHD",
        "outputId": "0dfda94a-d693-4eea-dcdf-5187ede9fa25"
      },
      "outputs": [
        {
          "data": {
            "text/html": [
              "<div>\n",
              "<style scoped>\n",
              "    .dataframe tbody tr th:only-of-type {\n",
              "        vertical-align: middle;\n",
              "    }\n",
              "\n",
              "    .dataframe tbody tr th {\n",
              "        vertical-align: top;\n",
              "    }\n",
              "\n",
              "    .dataframe thead th {\n",
              "        text-align: right;\n",
              "    }\n",
              "</style>\n",
              "<table border=\"1\" class=\"dataframe\">\n",
              "  <thead>\n",
              "    <tr style=\"text-align: right;\">\n",
              "      <th></th>\n",
              "      <th>customerID</th>\n",
              "      <th>gender</th>\n",
              "      <th>SeniorCitizen</th>\n",
              "      <th>Partner</th>\n",
              "      <th>Dependents</th>\n",
              "      <th>tenure</th>\n",
              "      <th>PhoneService</th>\n",
              "      <th>MultipleLines</th>\n",
              "      <th>InternetService</th>\n",
              "      <th>OnlineSecurity</th>\n",
              "      <th>...</th>\n",
              "      <th>DeviceProtection</th>\n",
              "      <th>TechSupport</th>\n",
              "      <th>StreamingTV</th>\n",
              "      <th>StreamingMovies</th>\n",
              "      <th>Contract</th>\n",
              "      <th>PaperlessBilling</th>\n",
              "      <th>PaymentMethod</th>\n",
              "      <th>MonthlyCharges</th>\n",
              "      <th>TotalCharges</th>\n",
              "      <th>Churn</th>\n",
              "    </tr>\n",
              "  </thead>\n",
              "  <tbody>\n",
              "    <tr>\n",
              "      <th>0</th>\n",
              "      <td>7590-VHVEG</td>\n",
              "      <td>Female</td>\n",
              "      <td>0</td>\n",
              "      <td>Yes</td>\n",
              "      <td>No</td>\n",
              "      <td>1</td>\n",
              "      <td>No</td>\n",
              "      <td>No phone service</td>\n",
              "      <td>DSL</td>\n",
              "      <td>No</td>\n",
              "      <td>...</td>\n",
              "      <td>No</td>\n",
              "      <td>No</td>\n",
              "      <td>No</td>\n",
              "      <td>No</td>\n",
              "      <td>Month-to-month</td>\n",
              "      <td>Yes</td>\n",
              "      <td>Electronic check</td>\n",
              "      <td>29.85</td>\n",
              "      <td>29.85</td>\n",
              "      <td>No</td>\n",
              "    </tr>\n",
              "    <tr>\n",
              "      <th>1</th>\n",
              "      <td>5575-GNVDE</td>\n",
              "      <td>Male</td>\n",
              "      <td>0</td>\n",
              "      <td>No</td>\n",
              "      <td>No</td>\n",
              "      <td>34</td>\n",
              "      <td>Yes</td>\n",
              "      <td>No</td>\n",
              "      <td>DSL</td>\n",
              "      <td>Yes</td>\n",
              "      <td>...</td>\n",
              "      <td>Yes</td>\n",
              "      <td>No</td>\n",
              "      <td>No</td>\n",
              "      <td>No</td>\n",
              "      <td>One year</td>\n",
              "      <td>No</td>\n",
              "      <td>Mailed check</td>\n",
              "      <td>56.95</td>\n",
              "      <td>1889.5</td>\n",
              "      <td>No</td>\n",
              "    </tr>\n",
              "    <tr>\n",
              "      <th>2</th>\n",
              "      <td>3668-QPYBK</td>\n",
              "      <td>Male</td>\n",
              "      <td>0</td>\n",
              "      <td>No</td>\n",
              "      <td>No</td>\n",
              "      <td>2</td>\n",
              "      <td>Yes</td>\n",
              "      <td>No</td>\n",
              "      <td>DSL</td>\n",
              "      <td>Yes</td>\n",
              "      <td>...</td>\n",
              "      <td>No</td>\n",
              "      <td>No</td>\n",
              "      <td>No</td>\n",
              "      <td>No</td>\n",
              "      <td>Month-to-month</td>\n",
              "      <td>Yes</td>\n",
              "      <td>Mailed check</td>\n",
              "      <td>53.85</td>\n",
              "      <td>108.15</td>\n",
              "      <td>Yes</td>\n",
              "    </tr>\n",
              "    <tr>\n",
              "      <th>3</th>\n",
              "      <td>7795-CFOCW</td>\n",
              "      <td>Male</td>\n",
              "      <td>0</td>\n",
              "      <td>No</td>\n",
              "      <td>No</td>\n",
              "      <td>45</td>\n",
              "      <td>No</td>\n",
              "      <td>No phone service</td>\n",
              "      <td>DSL</td>\n",
              "      <td>Yes</td>\n",
              "      <td>...</td>\n",
              "      <td>Yes</td>\n",
              "      <td>Yes</td>\n",
              "      <td>No</td>\n",
              "      <td>No</td>\n",
              "      <td>One year</td>\n",
              "      <td>No</td>\n",
              "      <td>Bank transfer (automatic)</td>\n",
              "      <td>42.30</td>\n",
              "      <td>1840.75</td>\n",
              "      <td>No</td>\n",
              "    </tr>\n",
              "    <tr>\n",
              "      <th>4</th>\n",
              "      <td>9237-HQITU</td>\n",
              "      <td>Female</td>\n",
              "      <td>0</td>\n",
              "      <td>No</td>\n",
              "      <td>No</td>\n",
              "      <td>2</td>\n",
              "      <td>Yes</td>\n",
              "      <td>No</td>\n",
              "      <td>Fiber optic</td>\n",
              "      <td>No</td>\n",
              "      <td>...</td>\n",
              "      <td>No</td>\n",
              "      <td>No</td>\n",
              "      <td>No</td>\n",
              "      <td>No</td>\n",
              "      <td>Month-to-month</td>\n",
              "      <td>Yes</td>\n",
              "      <td>Electronic check</td>\n",
              "      <td>70.70</td>\n",
              "      <td>151.65</td>\n",
              "      <td>Yes</td>\n",
              "    </tr>\n",
              "  </tbody>\n",
              "</table>\n",
              "<p>5 rows × 21 columns</p>\n",
              "</div>"
            ],
            "text/plain": [
              "   customerID  gender  SeniorCitizen Partner Dependents  tenure PhoneService  \\\n",
              "0  7590-VHVEG  Female              0     Yes         No       1           No   \n",
              "1  5575-GNVDE    Male              0      No         No      34          Yes   \n",
              "2  3668-QPYBK    Male              0      No         No       2          Yes   \n",
              "3  7795-CFOCW    Male              0      No         No      45           No   \n",
              "4  9237-HQITU  Female              0      No         No       2          Yes   \n",
              "\n",
              "      MultipleLines InternetService OnlineSecurity  ...  DeviceProtection  \\\n",
              "0  No phone service             DSL             No  ...                No   \n",
              "1                No             DSL            Yes  ...               Yes   \n",
              "2                No             DSL            Yes  ...                No   \n",
              "3  No phone service             DSL            Yes  ...               Yes   \n",
              "4                No     Fiber optic             No  ...                No   \n",
              "\n",
              "  TechSupport StreamingTV StreamingMovies        Contract PaperlessBilling  \\\n",
              "0          No          No              No  Month-to-month              Yes   \n",
              "1          No          No              No        One year               No   \n",
              "2          No          No              No  Month-to-month              Yes   \n",
              "3         Yes          No              No        One year               No   \n",
              "4          No          No              No  Month-to-month              Yes   \n",
              "\n",
              "               PaymentMethod MonthlyCharges  TotalCharges Churn  \n",
              "0           Electronic check          29.85         29.85    No  \n",
              "1               Mailed check          56.95        1889.5    No  \n",
              "2               Mailed check          53.85        108.15   Yes  \n",
              "3  Bank transfer (automatic)          42.30       1840.75    No  \n",
              "4           Electronic check          70.70        151.65   Yes  \n",
              "\n",
              "[5 rows x 21 columns]"
            ]
          },
          "execution_count": 4,
          "metadata": {},
          "output_type": "execute_result"
        }
      ],
      "source": [
        "df.head()"
      ]
    },
    {
      "cell_type": "code",
      "execution_count": null,
      "metadata": {
        "id": "YUGrrNmwFtHE",
        "outputId": "7e3050e7-ef0e-484f-8037-e6c14dbc17a1"
      },
      "outputs": [
        {
          "name": "stdout",
          "output_type": "stream",
          "text": [
            "<class 'pandas.core.frame.DataFrame'>\n",
            "RangeIndex: 7043 entries, 0 to 7042\n",
            "Data columns (total 21 columns):\n",
            "customerID          7043 non-null object\n",
            "gender              7043 non-null object\n",
            "SeniorCitizen       7043 non-null int64\n",
            "Partner             7043 non-null object\n",
            "Dependents          7043 non-null object\n",
            "tenure              7043 non-null int64\n",
            "PhoneService        7043 non-null object\n",
            "MultipleLines       7043 non-null object\n",
            "InternetService     7043 non-null object\n",
            "OnlineSecurity      7043 non-null object\n",
            "OnlineBackup        7043 non-null object\n",
            "DeviceProtection    7043 non-null object\n",
            "TechSupport         7043 non-null object\n",
            "StreamingTV         7043 non-null object\n",
            "StreamingMovies     7043 non-null object\n",
            "Contract            7043 non-null object\n",
            "PaperlessBilling    7043 non-null object\n",
            "PaymentMethod       7043 non-null object\n",
            "MonthlyCharges      7043 non-null float64\n",
            "TotalCharges        7043 non-null object\n",
            "Churn               7043 non-null object\n",
            "dtypes: float64(1), int64(2), object(18)\n",
            "memory usage: 1.1+ MB\n"
          ]
        }
      ],
      "source": [
        "df.info()"
      ]
    },
    {
      "cell_type": "code",
      "execution_count": null,
      "metadata": {
        "id": "7ONFc5GUFtHE"
      },
      "outputs": [],
      "source": [
        "df['TotalCharges']=pd.to_numeric(df['TotalCharges'],errors='coerce')"
      ]
    },
    {
      "cell_type": "code",
      "execution_count": null,
      "metadata": {
        "id": "yvxVx0mMFtHF",
        "outputId": "8fc97573-82fd-4a52-c260-aa8375c38836"
      },
      "outputs": [
        {
          "name": "stdout",
          "output_type": "stream",
          "text": [
            "<class 'pandas.core.frame.DataFrame'>\n",
            "RangeIndex: 7043 entries, 0 to 7042\n",
            "Data columns (total 21 columns):\n",
            "customerID          7043 non-null object\n",
            "gender              7043 non-null object\n",
            "SeniorCitizen       7043 non-null int64\n",
            "Partner             7043 non-null object\n",
            "Dependents          7043 non-null object\n",
            "tenure              7043 non-null int64\n",
            "PhoneService        7043 non-null object\n",
            "MultipleLines       7043 non-null object\n",
            "InternetService     7043 non-null object\n",
            "OnlineSecurity      7043 non-null object\n",
            "OnlineBackup        7043 non-null object\n",
            "DeviceProtection    7043 non-null object\n",
            "TechSupport         7043 non-null object\n",
            "StreamingTV         7043 non-null object\n",
            "StreamingMovies     7043 non-null object\n",
            "Contract            7043 non-null object\n",
            "PaperlessBilling    7043 non-null object\n",
            "PaymentMethod       7043 non-null object\n",
            "MonthlyCharges      7043 non-null float64\n",
            "TotalCharges        7032 non-null float64\n",
            "Churn               7043 non-null object\n",
            "dtypes: float64(2), int64(2), object(17)\n",
            "memory usage: 1.1+ MB\n"
          ]
        }
      ],
      "source": [
        "df.info()"
      ]
    },
    {
      "cell_type": "code",
      "execution_count": null,
      "metadata": {
        "id": "wHxXN7v0FtHF",
        "outputId": "c96c4671-d4a6-4b29-97c8-f7a5d2843b20"
      },
      "outputs": [
        {
          "data": {
            "text/plain": [
              "customerID          0\n",
              "gender              0\n",
              "SeniorCitizen       0\n",
              "Partner             0\n",
              "Dependents          0\n",
              "tenure              0\n",
              "PhoneService        0\n",
              "MultipleLines       0\n",
              "InternetService     0\n",
              "OnlineSecurity      0\n",
              "OnlineBackup        0\n",
              "DeviceProtection    0\n",
              "TechSupport         0\n",
              "StreamingTV         0\n",
              "StreamingMovies     0\n",
              "Contract            0\n",
              "PaperlessBilling    0\n",
              "PaymentMethod       0\n",
              "MonthlyCharges      0\n",
              "TotalCharges        0\n",
              "Churn               0\n",
              "dtype: int64"
            ]
          },
          "execution_count": 12,
          "metadata": {},
          "output_type": "execute_result"
        }
      ],
      "source": [
        "df.isnull().sum()"
      ]
    },
    {
      "cell_type": "code",
      "execution_count": null,
      "metadata": {
        "id": "9gIVQE6rFtHF"
      },
      "outputs": [],
      "source": [
        "df.dropna(inplace=True)"
      ]
    },
    {
      "cell_type": "code",
      "execution_count": null,
      "metadata": {
        "id": "X5ml3vgBFtHG",
        "outputId": "92cc593a-ebd6-406b-d9e4-534683d3b4c6"
      },
      "outputs": [
        {
          "data": {
            "text/plain": [
              "<matplotlib.axes._subplots.AxesSubplot at 0x1904d980390>"
            ]
          },
          "execution_count": 13,
          "metadata": {},
          "output_type": "execute_result"
        },
        {
          "data": {
            "image/png": "[encoded data removed]",
            "text/plain": [
              "<Figure size 432x288 with 1 Axes>"
            ]
          },
          "metadata": {},
          "output_type": "display_data"
        }
      ],
      "source": [
        "sns.countplot('Churn',data=df)"
      ]
    },
    {
      "cell_type": "code",
      "execution_count": null,
      "metadata": {
        "id": "L5segaJTFtHH",
        "outputId": "d56095cf-9e32-4b57-ace8-af4ef33acd72"
      },
      "outputs": [
        {
          "data": {
            "text/plain": [
              "<matplotlib.axes._subplots.AxesSubplot at 0x1904da66da0>"
            ]
          },
          "execution_count": 14,
          "metadata": {},
          "output_type": "execute_result"
        },
        {
          "data": {
            "image/png": "[encoded data removed]",
            "text/plain": [
              "<Figure size 432x288 with 1 Axes>"
            ]
          },
          "metadata": {},
          "output_type": "display_data"
        }
      ],
      "source": [
        "sns.countplot('Churn',data=df,hue='gender')"
      ]
    },
    {
      "cell_type": "code",
      "execution_count": null,
      "metadata": {
        "id": "R5cA9M13FtHI",
        "outputId": "83c8f3ec-09bd-4ee0-9606-5ebf6d0a4dbb"
      },
      "outputs": [
        {
          "data": {
            "text/plain": [
              "<matplotlib.axes._subplots.AxesSubplot at 0x1904dcfde10>"
            ]
          },
          "execution_count": 15,
          "metadata": {},
          "output_type": "execute_result"
        },
        {
          "data": {
            "image/png": "[encoded data removed]",
            "text/plain": [
              "<Figure size 432x288 with 1 Axes>"
            ]
          },
          "metadata": {},
          "output_type": "display_data"
        }
      ],
      "source": [
        "sns.boxplot(x='Churn',y='tenure',data=df)"
      ]
    },
    {
      "cell_type": "code",
      "execution_count": null,
      "metadata": {
        "id": "0TCgqKw7FtHI",
        "outputId": "49d5158b-c53e-4f15-a531-2a44dbec70f8"
      },
      "outputs": [
        {
          "data": {
            "text/plain": [
              "<matplotlib.axes._subplots.AxesSubplot at 0x1904dd6a860>"
            ]
          },
          "execution_count": 16,
          "metadata": {},
          "output_type": "execute_result"
        },
        {
          "data": {
            "image/png": "[encoded data removed]",
            "text/plain": [
              "<Figure size 432x288 with 1 Axes>"
            ]
          },
          "metadata": {},
          "output_type": "display_data"
        }
      ],
      "source": [
        "sns.countplot('Churn',data=df,hue='InternetService')"
      ]
    },
    {
      "cell_type": "code",
      "execution_count": null,
      "metadata": {
        "id": "emXvIZpdFtHI",
        "outputId": "04ccd921-c57d-4bf0-f104-3c0fd843fd1e"
      },
      "outputs": [
        {
          "data": {
            "text/plain": [
              "<matplotlib.axes._subplots.AxesSubplot at 0x1904ddc7e48>"
            ]
          },
          "execution_count": 17,
          "metadata": {},
          "output_type": "execute_result"
        },
        {
          "data": {
            "image/png": "[encoded data removed]",
            "text/plain": [
              "<Figure size 432x288 with 1 Axes>"
            ]
          },
          "metadata": {},
          "output_type": "display_data"
        }
      ],
      "source": [
        "sns.boxplot(x='InternetService',y='TotalCharges',data=df)"
      ]
    },
    {
      "cell_type": "code",
      "execution_count": null,
      "metadata": {
        "id": "DaBbOQKLFtHI"
      },
      "outputs": [],
      "source": [
        "def plott(x,y,df):\n",
        "    sns.countplot(x,hue=y,data=df)\n",
        "    "
      ]
    },
    {
      "cell_type": "code",
      "execution_count": null,
      "metadata": {
        "id": "gJULm5kmFtHI",
        "outputId": "8896af36-7f10-4c38-bb67-628b46e972d2"
      },
      "outputs": [
        {
          "data": {
            "image/png": "[encoded data removed]",
            "text/plain": [
              "<Figure size 1440x1440 with 6 Axes>"
            ]
          },
          "metadata": {},
          "output_type": "display_data"
        }
      ],
      "source": [
        "\n",
        "plt.figure(figsize=(20,20))\n",
        "plt.subplot(2,3,1)\n",
        "plott('OnlineSecurity','Churn',df)\n",
        "plt.subplot(2,3,2)\n",
        "plott('OnlineBackup','Churn',df)\n",
        "plt.subplot(2,3,3)\n",
        "plott('DeviceProtection','Churn',df)\n",
        "plt.subplot(2,3,4)\n",
        "plott('TechSupport','Churn',df)\n",
        "plt.subplot(2,3,5)\n",
        "plott('StreamingTV','Churn',df)\n",
        "plt.subplot(2,3,6)\n",
        "plott('StreamingMovies','Churn',df)\n"
      ]
    },
    {
      "cell_type": "code",
      "execution_count": null,
      "metadata": {
        "id": "0eqhixYAFtHJ",
        "outputId": "e23ab907-56b6-4f8c-b712-268ac60a9b16"
      },
      "outputs": [
        {
          "data": {
            "image/png": "[encoded data removed]",
            "text/plain": [
              "<Figure size 1440x1440 with 3 Axes>"
            ]
          },
          "metadata": {},
          "output_type": "display_data"
        }
      ],
      "source": [
        "\n",
        "plt.figure(figsize=(20,20))\n",
        "plt.subplot(2,3,1)\n",
        "plott('Dependents','Churn',df)\n",
        "plt.subplot(2,3,2)\n",
        "plott('Partner','Churn',df)\n",
        "plt.subplot(2,3,3)\n",
        "plott('SeniorCitizen','Churn',df)"
      ]
    },
    {
      "cell_type": "code",
      "execution_count": null,
      "metadata": {
        "id": "j-Yylt5eFtHJ",
        "outputId": "5a417480-45f7-48cf-9d47-78339b74b9b0"
      },
      "outputs": [
        {
          "data": {
            "text/html": [
              "<div>\n",
              "<style scoped>\n",
              "    .dataframe tbody tr th:only-of-type {\n",
              "        vertical-align: middle;\n",
              "    }\n",
              "\n",
              "    .dataframe tbody tr th {\n",
              "        vertical-align: top;\n",
              "    }\n",
              "\n",
              "    .dataframe thead th {\n",
              "        text-align: right;\n",
              "    }\n",
              "</style>\n",
              "<table border=\"1\" class=\"dataframe\">\n",
              "  <thead>\n",
              "    <tr style=\"text-align: right;\">\n",
              "      <th>Churn</th>\n",
              "      <th>No</th>\n",
              "      <th>Yes</th>\n",
              "    </tr>\n",
              "    <tr>\n",
              "      <th>Dependents</th>\n",
              "      <th></th>\n",
              "      <th></th>\n",
              "    </tr>\n",
              "  </thead>\n",
              "  <tbody>\n",
              "    <tr>\n",
              "      <th>No</th>\n",
              "      <td>3390</td>\n",
              "      <td>1543</td>\n",
              "    </tr>\n",
              "    <tr>\n",
              "      <th>Yes</th>\n",
              "      <td>1773</td>\n",
              "      <td>326</td>\n",
              "    </tr>\n",
              "  </tbody>\n",
              "</table>\n",
              "</div>"
            ],
            "text/plain": [
              "Churn         No   Yes\n",
              "Dependents            \n",
              "No          3390  1543\n",
              "Yes         1773   326"
            ]
          },
          "execution_count": 22,
          "metadata": {},
          "output_type": "execute_result"
        }
      ],
      "source": [
        "pd.crosstab(df.Dependents,df.Churn)"
      ]
    },
    {
      "cell_type": "code",
      "execution_count": null,
      "metadata": {
        "id": "P0aiIWCjFtHJ",
        "outputId": "a1dc6ad6-7099-4c1d-b790-d4db8a517db0"
      },
      "outputs": [
        {
          "data": {
            "text/plain": [
              "<matplotlib.collections.PathCollection at 0x1904df429e8>"
            ]
          },
          "execution_count": 23,
          "metadata": {},
          "output_type": "execute_result"
        },
        {
          "data": {
            "image/png": "[encoded data removed]",
            "text/plain": [
              "<Figure size 432x288 with 1 Axes>"
            ]
          },
          "metadata": {},
          "output_type": "display_data"
        }
      ],
      "source": [
        "plt.scatter(x=df.MonthlyCharges,y=df.TotalCharges)"
      ]
    },
    {
      "cell_type": "code",
      "execution_count": null,
      "metadata": {
        "id": "4FL-_C4AFtHJ",
        "outputId": "4b0434af-1d62-4d76-9353-15a107803e5d"
      },
      "outputs": [
        {
          "data": {
            "text/html": [
              "<div>\n",
              "<style scoped>\n",
              "    .dataframe tbody tr th:only-of-type {\n",
              "        vertical-align: middle;\n",
              "    }\n",
              "\n",
              "    .dataframe tbody tr th {\n",
              "        vertical-align: top;\n",
              "    }\n",
              "\n",
              "    .dataframe thead th {\n",
              "        text-align: right;\n",
              "    }\n",
              "</style>\n",
              "<table border=\"1\" class=\"dataframe\">\n",
              "  <thead>\n",
              "    <tr style=\"text-align: right;\">\n",
              "      <th></th>\n",
              "      <th>MonthlyCharges</th>\n",
              "      <th>TotalCharges</th>\n",
              "    </tr>\n",
              "  </thead>\n",
              "  <tbody>\n",
              "    <tr>\n",
              "      <th>MonthlyCharges</th>\n",
              "      <td>1.000000</td>\n",
              "      <td>0.651065</td>\n",
              "    </tr>\n",
              "    <tr>\n",
              "      <th>TotalCharges</th>\n",
              "      <td>0.651065</td>\n",
              "      <td>1.000000</td>\n",
              "    </tr>\n",
              "  </tbody>\n",
              "</table>\n",
              "</div>"
            ],
            "text/plain": [
              "                MonthlyCharges  TotalCharges\n",
              "MonthlyCharges        1.000000      0.651065\n",
              "TotalCharges          0.651065      1.000000"
            ]
          },
          "execution_count": 24,
          "metadata": {},
          "output_type": "execute_result"
        }
      ],
      "source": [
        "df.loc[:,['MonthlyCharges','TotalCharges']].corr()"
      ]
    },
    {
      "cell_type": "code",
      "execution_count": null,
      "metadata": {
        "id": "tz13GTIHFtHK",
        "outputId": "71d738e6-1c48-4f68-aabe-83b353a29899"
      },
      "outputs": [
        {
          "data": {
            "text/html": [
              "<div>\n",
              "<style scoped>\n",
              "    .dataframe tbody tr th:only-of-type {\n",
              "        vertical-align: middle;\n",
              "    }\n",
              "\n",
              "    .dataframe tbody tr th {\n",
              "        vertical-align: top;\n",
              "    }\n",
              "\n",
              "    .dataframe thead th {\n",
              "        text-align: right;\n",
              "    }\n",
              "</style>\n",
              "<table border=\"1\" class=\"dataframe\">\n",
              "  <thead>\n",
              "    <tr style=\"text-align: right;\">\n",
              "      <th></th>\n",
              "      <th>MonthlyCharges</th>\n",
              "      <th>tenure</th>\n",
              "    </tr>\n",
              "  </thead>\n",
              "  <tbody>\n",
              "    <tr>\n",
              "      <th>MonthlyCharges</th>\n",
              "      <td>1.000000</td>\n",
              "      <td>0.246862</td>\n",
              "    </tr>\n",
              "    <tr>\n",
              "      <th>tenure</th>\n",
              "      <td>0.246862</td>\n",
              "      <td>1.000000</td>\n",
              "    </tr>\n",
              "  </tbody>\n",
              "</table>\n",
              "</div>"
            ],
            "text/plain": [
              "                MonthlyCharges    tenure\n",
              "MonthlyCharges        1.000000  0.246862\n",
              "tenure                0.246862  1.000000"
            ]
          },
          "execution_count": 25,
          "metadata": {},
          "output_type": "execute_result"
        }
      ],
      "source": [
        "df.loc[:,['MonthlyCharges','tenure']].corr()"
      ]
    },
    {
      "cell_type": "code",
      "execution_count": null,
      "metadata": {
        "id": "1UZLJhaiFtHK",
        "outputId": "1ab6fd0f-fa90-4de1-eebd-e1c9dbd44775"
      },
      "outputs": [
        {
          "data": {
            "text/html": [
              "<div>\n",
              "<style scoped>\n",
              "    .dataframe tbody tr th:only-of-type {\n",
              "        vertical-align: middle;\n",
              "    }\n",
              "\n",
              "    .dataframe tbody tr th {\n",
              "        vertical-align: top;\n",
              "    }\n",
              "\n",
              "    .dataframe thead th {\n",
              "        text-align: right;\n",
              "    }\n",
              "</style>\n",
              "<table border=\"1\" class=\"dataframe\">\n",
              "  <thead>\n",
              "    <tr style=\"text-align: right;\">\n",
              "      <th></th>\n",
              "      <th>tenure</th>\n",
              "      <th>TotalCharges</th>\n",
              "    </tr>\n",
              "  </thead>\n",
              "  <tbody>\n",
              "    <tr>\n",
              "      <th>tenure</th>\n",
              "      <td>1.00000</td>\n",
              "      <td>0.82588</td>\n",
              "    </tr>\n",
              "    <tr>\n",
              "      <th>TotalCharges</th>\n",
              "      <td>0.82588</td>\n",
              "      <td>1.00000</td>\n",
              "    </tr>\n",
              "  </tbody>\n",
              "</table>\n",
              "</div>"
            ],
            "text/plain": [
              "               tenure  TotalCharges\n",
              "tenure        1.00000       0.82588\n",
              "TotalCharges  0.82588       1.00000"
            ]
          },
          "execution_count": 26,
          "metadata": {},
          "output_type": "execute_result"
        }
      ],
      "source": [
        "df.loc[:,['tenure','TotalCharges']].corr()"
      ]
    },
    {
      "cell_type": "code",
      "execution_count": null,
      "metadata": {
        "id": "snJL5ug-FtHK",
        "outputId": "b82a1a0b-996b-4e51-e39b-4a54e5c22b06"
      },
      "outputs": [
        {
          "data": {
            "text/html": [
              "<div>\n",
              "<style scoped>\n",
              "    .dataframe tbody tr th:only-of-type {\n",
              "        vertical-align: middle;\n",
              "    }\n",
              "\n",
              "    .dataframe tbody tr th {\n",
              "        vertical-align: top;\n",
              "    }\n",
              "\n",
              "    .dataframe thead th {\n",
              "        text-align: right;\n",
              "    }\n",
              "</style>\n",
              "<table border=\"1\" class=\"dataframe\">\n",
              "  <thead>\n",
              "    <tr style=\"text-align: right;\">\n",
              "      <th>Churn</th>\n",
              "      <th>No</th>\n",
              "      <th>Yes</th>\n",
              "    </tr>\n",
              "    <tr>\n",
              "      <th>PaperlessBilling</th>\n",
              "      <th></th>\n",
              "      <th></th>\n",
              "    </tr>\n",
              "  </thead>\n",
              "  <tbody>\n",
              "    <tr>\n",
              "      <th>No</th>\n",
              "      <td>2395</td>\n",
              "      <td>469</td>\n",
              "    </tr>\n",
              "    <tr>\n",
              "      <th>Yes</th>\n",
              "      <td>2768</td>\n",
              "      <td>1400</td>\n",
              "    </tr>\n",
              "  </tbody>\n",
              "</table>\n",
              "</div>"
            ],
            "text/plain": [
              "Churn               No   Yes\n",
              "PaperlessBilling            \n",
              "No                2395   469\n",
              "Yes               2768  1400"
            ]
          },
          "execution_count": 27,
          "metadata": {},
          "output_type": "execute_result"
        }
      ],
      "source": [
        "pd.crosstab(df.PaperlessBilling,df.Churn)"
      ]
    },
    {
      "cell_type": "code",
      "execution_count": null,
      "metadata": {
        "id": "fL1IGCYfFtHK",
        "outputId": "6e037621-b88f-4a40-d920-91349dc3d40d"
      },
      "outputs": [
        {
          "data": {
            "text/html": [
              "<div>\n",
              "<style scoped>\n",
              "    .dataframe tbody tr th:only-of-type {\n",
              "        vertical-align: middle;\n",
              "    }\n",
              "\n",
              "    .dataframe tbody tr th {\n",
              "        vertical-align: top;\n",
              "    }\n",
              "\n",
              "    .dataframe thead th {\n",
              "        text-align: right;\n",
              "    }\n",
              "</style>\n",
              "<table border=\"1\" class=\"dataframe\">\n",
              "  <thead>\n",
              "    <tr style=\"text-align: right;\">\n",
              "      <th>Churn</th>\n",
              "      <th>No</th>\n",
              "      <th>Yes</th>\n",
              "    </tr>\n",
              "    <tr>\n",
              "      <th>PaymentMethod</th>\n",
              "      <th></th>\n",
              "      <th></th>\n",
              "    </tr>\n",
              "  </thead>\n",
              "  <tbody>\n",
              "    <tr>\n",
              "      <th>Bank transfer (automatic)</th>\n",
              "      <td>1284</td>\n",
              "      <td>258</td>\n",
              "    </tr>\n",
              "    <tr>\n",
              "      <th>Credit card (automatic)</th>\n",
              "      <td>1289</td>\n",
              "      <td>232</td>\n",
              "    </tr>\n",
              "    <tr>\n",
              "      <th>Electronic check</th>\n",
              "      <td>1294</td>\n",
              "      <td>1071</td>\n",
              "    </tr>\n",
              "    <tr>\n",
              "      <th>Mailed check</th>\n",
              "      <td>1296</td>\n",
              "      <td>308</td>\n",
              "    </tr>\n",
              "  </tbody>\n",
              "</table>\n",
              "</div>"
            ],
            "text/plain": [
              "Churn                        No   Yes\n",
              "PaymentMethod                        \n",
              "Bank transfer (automatic)  1284   258\n",
              "Credit card (automatic)    1289   232\n",
              "Electronic check           1294  1071\n",
              "Mailed check               1296   308"
            ]
          },
          "execution_count": 28,
          "metadata": {},
          "output_type": "execute_result"
        }
      ],
      "source": [
        "pd.crosstab(df.PaymentMethod,df.Churn)"
      ]
    },
    {
      "cell_type": "code",
      "execution_count": null,
      "metadata": {
        "id": "W7FSxoBDFtHK",
        "outputId": "7877bbe9-0944-467b-d6b9-b02041e9a0bb"
      },
      "outputs": [
        {
          "data": {
            "text/html": [
              "<div>\n",
              "<style scoped>\n",
              "    .dataframe tbody tr th:only-of-type {\n",
              "        vertical-align: middle;\n",
              "    }\n",
              "\n",
              "    .dataframe tbody tr th {\n",
              "        vertical-align: top;\n",
              "    }\n",
              "\n",
              "    .dataframe thead th {\n",
              "        text-align: right;\n",
              "    }\n",
              "</style>\n",
              "<table border=\"1\" class=\"dataframe\">\n",
              "  <thead>\n",
              "    <tr style=\"text-align: right;\">\n",
              "      <th>Churn</th>\n",
              "      <th>No</th>\n",
              "      <th>Yes</th>\n",
              "    </tr>\n",
              "    <tr>\n",
              "      <th>Contract</th>\n",
              "      <th></th>\n",
              "      <th></th>\n",
              "    </tr>\n",
              "  </thead>\n",
              "  <tbody>\n",
              "    <tr>\n",
              "      <th>Month-to-month</th>\n",
              "      <td>2220</td>\n",
              "      <td>1655</td>\n",
              "    </tr>\n",
              "    <tr>\n",
              "      <th>One year</th>\n",
              "      <td>1306</td>\n",
              "      <td>166</td>\n",
              "    </tr>\n",
              "    <tr>\n",
              "      <th>Two year</th>\n",
              "      <td>1637</td>\n",
              "      <td>48</td>\n",
              "    </tr>\n",
              "  </tbody>\n",
              "</table>\n",
              "</div>"
            ],
            "text/plain": [
              "Churn             No   Yes\n",
              "Contract                  \n",
              "Month-to-month  2220  1655\n",
              "One year        1306   166\n",
              "Two year        1637    48"
            ]
          },
          "execution_count": 29,
          "metadata": {},
          "output_type": "execute_result"
        }
      ],
      "source": [
        "pd.crosstab(df.Contract,df.Churn)"
      ]
    },
    {
      "cell_type": "code",
      "execution_count": null,
      "metadata": {
        "id": "x3fhEl5nFtHK",
        "outputId": "4cc167a3-4afa-4847-831a-f3f4721956e2"
      },
      "outputs": [
        {
          "data": {
            "text/html": [
              "<div>\n",
              "<style scoped>\n",
              "    .dataframe tbody tr th:only-of-type {\n",
              "        vertical-align: middle;\n",
              "    }\n",
              "\n",
              "    .dataframe tbody tr th {\n",
              "        vertical-align: top;\n",
              "    }\n",
              "\n",
              "    .dataframe thead th {\n",
              "        text-align: right;\n",
              "    }\n",
              "</style>\n",
              "<table border=\"1\" class=\"dataframe\">\n",
              "  <thead>\n",
              "    <tr style=\"text-align: right;\">\n",
              "      <th>Churn</th>\n",
              "      <th>No</th>\n",
              "      <th>Yes</th>\n",
              "    </tr>\n",
              "    <tr>\n",
              "      <th>PhoneService</th>\n",
              "      <th></th>\n",
              "      <th></th>\n",
              "    </tr>\n",
              "  </thead>\n",
              "  <tbody>\n",
              "    <tr>\n",
              "      <th>No</th>\n",
              "      <td>510</td>\n",
              "      <td>170</td>\n",
              "    </tr>\n",
              "    <tr>\n",
              "      <th>Yes</th>\n",
              "      <td>4653</td>\n",
              "      <td>1699</td>\n",
              "    </tr>\n",
              "  </tbody>\n",
              "</table>\n",
              "</div>"
            ],
            "text/plain": [
              "Churn           No   Yes\n",
              "PhoneService            \n",
              "No             510   170\n",
              "Yes           4653  1699"
            ]
          },
          "execution_count": 30,
          "metadata": {},
          "output_type": "execute_result"
        }
      ],
      "source": [
        "pd.crosstab(df.PhoneService ,df.Churn)"
      ]
    },
    {
      "cell_type": "code",
      "execution_count": null,
      "metadata": {
        "id": "fEOwcwfyFtHK",
        "outputId": "2434cbe6-86fa-4d86-c682-32d2cac7056c"
      },
      "outputs": [
        {
          "data": {
            "text/html": [
              "<div>\n",
              "<style scoped>\n",
              "    .dataframe tbody tr th:only-of-type {\n",
              "        vertical-align: middle;\n",
              "    }\n",
              "\n",
              "    .dataframe tbody tr th {\n",
              "        vertical-align: top;\n",
              "    }\n",
              "\n",
              "    .dataframe thead th {\n",
              "        text-align: right;\n",
              "    }\n",
              "</style>\n",
              "<table border=\"1\" class=\"dataframe\">\n",
              "  <thead>\n",
              "    <tr style=\"text-align: right;\">\n",
              "      <th>Churn</th>\n",
              "      <th>No</th>\n",
              "      <th>Yes</th>\n",
              "    </tr>\n",
              "    <tr>\n",
              "      <th>MultipleLines</th>\n",
              "      <th></th>\n",
              "      <th></th>\n",
              "    </tr>\n",
              "  </thead>\n",
              "  <tbody>\n",
              "    <tr>\n",
              "      <th>No</th>\n",
              "      <td>2536</td>\n",
              "      <td>849</td>\n",
              "    </tr>\n",
              "    <tr>\n",
              "      <th>No phone service</th>\n",
              "      <td>510</td>\n",
              "      <td>170</td>\n",
              "    </tr>\n",
              "    <tr>\n",
              "      <th>Yes</th>\n",
              "      <td>2117</td>\n",
              "      <td>850</td>\n",
              "    </tr>\n",
              "  </tbody>\n",
              "</table>\n",
              "</div>"
            ],
            "text/plain": [
              "Churn               No  Yes\n",
              "MultipleLines              \n",
              "No                2536  849\n",
              "No phone service   510  170\n",
              "Yes               2117  850"
            ]
          },
          "execution_count": 31,
          "metadata": {},
          "output_type": "execute_result"
        }
      ],
      "source": [
        "pd.crosstab(df.MultipleLines ,df.Churn)"
      ]
    },
    {
      "cell_type": "code",
      "execution_count": null,
      "metadata": {
        "id": "0nbiMv_nFtHL"
      },
      "outputs": [],
      "source": [
        "df.drop(['customerID','gender','OnlineSecurity','OnlineBackup','DeviceProtection','tenure','StreamingTV','StreamingMovies','MonthlyCharges','MultipleLines'],axis=1,inplace=True)"
      ]
    },
    {
      "cell_type": "code",
      "execution_count": null,
      "metadata": {
        "scrolled": true,
        "id": "7hvH27xOFtHL",
        "outputId": "0b463813-6d15-4c96-dd42-ffaac2bd9423"
      },
      "outputs": [
        {
          "data": {
            "text/html": [
              "<div>\n",
              "<style scoped>\n",
              "    .dataframe tbody tr th:only-of-type {\n",
              "        vertical-align: middle;\n",
              "    }\n",
              "\n",
              "    .dataframe tbody tr th {\n",
              "        vertical-align: top;\n",
              "    }\n",
              "\n",
              "    .dataframe thead th {\n",
              "        text-align: right;\n",
              "    }\n",
              "</style>\n",
              "<table border=\"1\" class=\"dataframe\">\n",
              "  <thead>\n",
              "    <tr style=\"text-align: right;\">\n",
              "      <th></th>\n",
              "      <th>SeniorCitizen</th>\n",
              "      <th>Partner</th>\n",
              "      <th>Dependents</th>\n",
              "      <th>PhoneService</th>\n",
              "      <th>InternetService</th>\n",
              "      <th>TechSupport</th>\n",
              "      <th>Contract</th>\n",
              "      <th>PaperlessBilling</th>\n",
              "      <th>PaymentMethod</th>\n",
              "      <th>TotalCharges</th>\n",
              "      <th>Churn</th>\n",
              "    </tr>\n",
              "  </thead>\n",
              "  <tbody>\n",
              "    <tr>\n",
              "      <th>0</th>\n",
              "      <td>0</td>\n",
              "      <td>Yes</td>\n",
              "      <td>No</td>\n",
              "      <td>No</td>\n",
              "      <td>DSL</td>\n",
              "      <td>No</td>\n",
              "      <td>Month-to-month</td>\n",
              "      <td>Yes</td>\n",
              "      <td>Electronic check</td>\n",
              "      <td>29.85</td>\n",
              "      <td>No</td>\n",
              "    </tr>\n",
              "    <tr>\n",
              "      <th>1</th>\n",
              "      <td>0</td>\n",
              "      <td>No</td>\n",
              "      <td>No</td>\n",
              "      <td>Yes</td>\n",
              "      <td>DSL</td>\n",
              "      <td>No</td>\n",
              "      <td>One year</td>\n",
              "      <td>No</td>\n",
              "      <td>Mailed check</td>\n",
              "      <td>1889.50</td>\n",
              "      <td>No</td>\n",
              "    </tr>\n",
              "    <tr>\n",
              "      <th>2</th>\n",
              "      <td>0</td>\n",
              "      <td>No</td>\n",
              "      <td>No</td>\n",
              "      <td>Yes</td>\n",
              "      <td>DSL</td>\n",
              "      <td>No</td>\n",
              "      <td>Month-to-month</td>\n",
              "      <td>Yes</td>\n",
              "      <td>Mailed check</td>\n",
              "      <td>108.15</td>\n",
              "      <td>Yes</td>\n",
              "    </tr>\n",
              "    <tr>\n",
              "      <th>3</th>\n",
              "      <td>0</td>\n",
              "      <td>No</td>\n",
              "      <td>No</td>\n",
              "      <td>No</td>\n",
              "      <td>DSL</td>\n",
              "      <td>Yes</td>\n",
              "      <td>One year</td>\n",
              "      <td>No</td>\n",
              "      <td>Bank transfer (automatic)</td>\n",
              "      <td>1840.75</td>\n",
              "      <td>No</td>\n",
              "    </tr>\n",
              "    <tr>\n",
              "      <th>4</th>\n",
              "      <td>0</td>\n",
              "      <td>No</td>\n",
              "      <td>No</td>\n",
              "      <td>Yes</td>\n",
              "      <td>Fiber optic</td>\n",
              "      <td>No</td>\n",
              "      <td>Month-to-month</td>\n",
              "      <td>Yes</td>\n",
              "      <td>Electronic check</td>\n",
              "      <td>151.65</td>\n",
              "      <td>Yes</td>\n",
              "    </tr>\n",
              "  </tbody>\n",
              "</table>\n",
              "</div>"
            ],
            "text/plain": [
              "   SeniorCitizen Partner Dependents PhoneService InternetService TechSupport  \\\n",
              "0              0     Yes         No           No             DSL          No   \n",
              "1              0      No         No          Yes             DSL          No   \n",
              "2              0      No         No          Yes             DSL          No   \n",
              "3              0      No         No           No             DSL         Yes   \n",
              "4              0      No         No          Yes     Fiber optic          No   \n",
              "\n",
              "         Contract PaperlessBilling              PaymentMethod  TotalCharges  \\\n",
              "0  Month-to-month              Yes           Electronic check         29.85   \n",
              "1        One year               No               Mailed check       1889.50   \n",
              "2  Month-to-month              Yes               Mailed check        108.15   \n",
              "3        One year               No  Bank transfer (automatic)       1840.75   \n",
              "4  Month-to-month              Yes           Electronic check        151.65   \n",
              "\n",
              "  Churn  \n",
              "0    No  \n",
              "1    No  \n",
              "2   Yes  \n",
              "3    No  \n",
              "4   Yes  "
            ]
          },
          "execution_count": 33,
          "metadata": {},
          "output_type": "execute_result"
        }
      ],
      "source": [
        "df.head()"
      ]
    },
    {
      "cell_type": "code",
      "execution_count": null,
      "metadata": {
        "id": "y1pckZZXFtHL"
      },
      "outputs": [],
      "source": [
        "df.loc[df.TechSupport=='No internet service','TechSupport']='No'"
      ]
    },
    {
      "cell_type": "code",
      "execution_count": null,
      "metadata": {
        "id": "ElCSgfH9FtHL",
        "outputId": "47b5cddb-5ee9-4dee-e4ca-f43aad252ff8"
      },
      "outputs": [
        {
          "data": {
            "text/html": [
              "<div>\n",
              "<style scoped>\n",
              "    .dataframe tbody tr th:only-of-type {\n",
              "        vertical-align: middle;\n",
              "    }\n",
              "\n",
              "    .dataframe tbody tr th {\n",
              "        vertical-align: top;\n",
              "    }\n",
              "\n",
              "    .dataframe thead th {\n",
              "        text-align: right;\n",
              "    }\n",
              "</style>\n",
              "<table border=\"1\" class=\"dataframe\">\n",
              "  <thead>\n",
              "    <tr style=\"text-align: right;\">\n",
              "      <th>Churn</th>\n",
              "      <th>No</th>\n",
              "      <th>Yes</th>\n",
              "    </tr>\n",
              "    <tr>\n",
              "      <th>TechSupport</th>\n",
              "      <th></th>\n",
              "      <th></th>\n",
              "    </tr>\n",
              "  </thead>\n",
              "  <tbody>\n",
              "    <tr>\n",
              "      <th>No</th>\n",
              "      <td>3433</td>\n",
              "      <td>1559</td>\n",
              "    </tr>\n",
              "    <tr>\n",
              "      <th>Yes</th>\n",
              "      <td>1730</td>\n",
              "      <td>310</td>\n",
              "    </tr>\n",
              "  </tbody>\n",
              "</table>\n",
              "</div>"
            ],
            "text/plain": [
              "Churn          No   Yes\n",
              "TechSupport            \n",
              "No           3433  1559\n",
              "Yes          1730   310"
            ]
          },
          "execution_count": 35,
          "metadata": {},
          "output_type": "execute_result"
        }
      ],
      "source": [
        "pd.crosstab(df.TechSupport,df.Churn)"
      ]
    },
    {
      "cell_type": "code",
      "execution_count": null,
      "metadata": {
        "id": "zQlVyFjEFtHL"
      },
      "outputs": [],
      "source": [
        "mapping={'Yes':1,'No':0}\n",
        "df['Partner']=df['Partner'].map(mapping).astype(int)"
      ]
    },
    {
      "cell_type": "code",
      "execution_count": null,
      "metadata": {
        "id": "EnEJMn3kFtHM",
        "outputId": "9bf0f02e-60d4-4740-8bbf-e285629643de"
      },
      "outputs": [
        {
          "data": {
            "text/html": [
              "<div>\n",
              "<style scoped>\n",
              "    .dataframe tbody tr th:only-of-type {\n",
              "        vertical-align: middle;\n",
              "    }\n",
              "\n",
              "    .dataframe tbody tr th {\n",
              "        vertical-align: top;\n",
              "    }\n",
              "\n",
              "    .dataframe thead th {\n",
              "        text-align: right;\n",
              "    }\n",
              "</style>\n",
              "<table border=\"1\" class=\"dataframe\">\n",
              "  <thead>\n",
              "    <tr style=\"text-align: right;\">\n",
              "      <th>Churn</th>\n",
              "      <th>No</th>\n",
              "      <th>Yes</th>\n",
              "    </tr>\n",
              "    <tr>\n",
              "      <th>Partner</th>\n",
              "      <th></th>\n",
              "      <th></th>\n",
              "    </tr>\n",
              "  </thead>\n",
              "  <tbody>\n",
              "    <tr>\n",
              "      <th>0</th>\n",
              "      <td>2439</td>\n",
              "      <td>1200</td>\n",
              "    </tr>\n",
              "    <tr>\n",
              "      <th>1</th>\n",
              "      <td>2724</td>\n",
              "      <td>669</td>\n",
              "    </tr>\n",
              "  </tbody>\n",
              "</table>\n",
              "</div>"
            ],
            "text/plain": [
              "Churn      No   Yes\n",
              "Partner            \n",
              "0        2439  1200\n",
              "1        2724   669"
            ]
          },
          "execution_count": 37,
          "metadata": {},
          "output_type": "execute_result"
        }
      ],
      "source": [
        "pd.crosstab(df.Partner,df.Churn)"
      ]
    },
    {
      "cell_type": "code",
      "execution_count": null,
      "metadata": {
        "id": "De-QRCqXFtHM"
      },
      "outputs": [],
      "source": [
        "df['Dependents']=df['Dependents'].map(mapping).astype(int)\n",
        "df['TechSupport']=df['TechSupport'].map(mapping).astype(int)\n",
        "df['Churn']=df['Churn'].map(mapping).astype(int)\n",
        "df['PhoneService']=df['PhoneService'].map(mapping).astype(int)\n",
        "df['PaperlessBilling']=df['PaperlessBilling'].map(mapping).astype(int)"
      ]
    },
    {
      "cell_type": "code",
      "execution_count": null,
      "metadata": {
        "id": "BhH0j7yLFtHM",
        "outputId": "fbecc5bf-bf10-4df2-b4ec-3a6892e40d1f"
      },
      "outputs": [
        {
          "data": {
            "text/html": [
              "<div>\n",
              "<style scoped>\n",
              "    .dataframe tbody tr th:only-of-type {\n",
              "        vertical-align: middle;\n",
              "    }\n",
              "\n",
              "    .dataframe tbody tr th {\n",
              "        vertical-align: top;\n",
              "    }\n",
              "\n",
              "    .dataframe thead th {\n",
              "        text-align: right;\n",
              "    }\n",
              "</style>\n",
              "<table border=\"1\" class=\"dataframe\">\n",
              "  <thead>\n",
              "    <tr style=\"text-align: right;\">\n",
              "      <th></th>\n",
              "      <th>SeniorCitizen</th>\n",
              "      <th>Partner</th>\n",
              "      <th>Dependents</th>\n",
              "      <th>PhoneService</th>\n",
              "      <th>InternetService</th>\n",
              "      <th>TechSupport</th>\n",
              "      <th>Contract</th>\n",
              "      <th>PaperlessBilling</th>\n",
              "      <th>PaymentMethod</th>\n",
              "      <th>TotalCharges</th>\n",
              "      <th>Churn</th>\n",
              "    </tr>\n",
              "  </thead>\n",
              "  <tbody>\n",
              "    <tr>\n",
              "      <th>0</th>\n",
              "      <td>0</td>\n",
              "      <td>1</td>\n",
              "      <td>0</td>\n",
              "      <td>0</td>\n",
              "      <td>DSL</td>\n",
              "      <td>0</td>\n",
              "      <td>Month-to-month</td>\n",
              "      <td>1</td>\n",
              "      <td>Electronic check</td>\n",
              "      <td>29.85</td>\n",
              "      <td>0</td>\n",
              "    </tr>\n",
              "    <tr>\n",
              "      <th>1</th>\n",
              "      <td>0</td>\n",
              "      <td>0</td>\n",
              "      <td>0</td>\n",
              "      <td>1</td>\n",
              "      <td>DSL</td>\n",
              "      <td>0</td>\n",
              "      <td>One year</td>\n",
              "      <td>0</td>\n",
              "      <td>Mailed check</td>\n",
              "      <td>1889.50</td>\n",
              "      <td>0</td>\n",
              "    </tr>\n",
              "    <tr>\n",
              "      <th>2</th>\n",
              "      <td>0</td>\n",
              "      <td>0</td>\n",
              "      <td>0</td>\n",
              "      <td>1</td>\n",
              "      <td>DSL</td>\n",
              "      <td>0</td>\n",
              "      <td>Month-to-month</td>\n",
              "      <td>1</td>\n",
              "      <td>Mailed check</td>\n",
              "      <td>108.15</td>\n",
              "      <td>1</td>\n",
              "    </tr>\n",
              "    <tr>\n",
              "      <th>3</th>\n",
              "      <td>0</td>\n",
              "      <td>0</td>\n",
              "      <td>0</td>\n",
              "      <td>0</td>\n",
              "      <td>DSL</td>\n",
              "      <td>1</td>\n",
              "      <td>One year</td>\n",
              "      <td>0</td>\n",
              "      <td>Bank transfer (automatic)</td>\n",
              "      <td>1840.75</td>\n",
              "      <td>0</td>\n",
              "    </tr>\n",
              "    <tr>\n",
              "      <th>4</th>\n",
              "      <td>0</td>\n",
              "      <td>0</td>\n",
              "      <td>0</td>\n",
              "      <td>1</td>\n",
              "      <td>Fiber optic</td>\n",
              "      <td>0</td>\n",
              "      <td>Month-to-month</td>\n",
              "      <td>1</td>\n",
              "      <td>Electronic check</td>\n",
              "      <td>151.65</td>\n",
              "      <td>1</td>\n",
              "    </tr>\n",
              "  </tbody>\n",
              "</table>\n",
              "</div>"
            ],
            "text/plain": [
              "   SeniorCitizen  Partner  Dependents  PhoneService InternetService  \\\n",
              "0              0        1           0             0             DSL   \n",
              "1              0        0           0             1             DSL   \n",
              "2              0        0           0             1             DSL   \n",
              "3              0        0           0             0             DSL   \n",
              "4              0        0           0             1     Fiber optic   \n",
              "\n",
              "   TechSupport        Contract  PaperlessBilling              PaymentMethod  \\\n",
              "0            0  Month-to-month                 1           Electronic check   \n",
              "1            0        One year                 0               Mailed check   \n",
              "2            0  Month-to-month                 1               Mailed check   \n",
              "3            1        One year                 0  Bank transfer (automatic)   \n",
              "4            0  Month-to-month                 1           Electronic check   \n",
              "\n",
              "   TotalCharges  Churn  \n",
              "0         29.85      0  \n",
              "1       1889.50      0  \n",
              "2        108.15      1  \n",
              "3       1840.75      0  \n",
              "4        151.65      1  "
            ]
          },
          "execution_count": 39,
          "metadata": {},
          "output_type": "execute_result"
        }
      ],
      "source": [
        "df.head()"
      ]
    },
    {
      "cell_type": "code",
      "execution_count": null,
      "metadata": {
        "id": "MhXPzfxvFtHN"
      },
      "outputs": [],
      "source": [
        "df2=pd.get_dummies(df,columns=['InternetService','Contract','PaymentMethod'])"
      ]
    },
    {
      "cell_type": "code",
      "execution_count": null,
      "metadata": {
        "id": "ZxoUCXlVFtHN",
        "outputId": "3c52e908-1bbf-474c-e19d-e1c97fa3f3aa"
      },
      "outputs": [
        {
          "data": {
            "text/html": [
              "<div>\n",
              "<style scoped>\n",
              "    .dataframe tbody tr th:only-of-type {\n",
              "        vertical-align: middle;\n",
              "    }\n",
              "\n",
              "    .dataframe tbody tr th {\n",
              "        vertical-align: top;\n",
              "    }\n",
              "\n",
              "    .dataframe thead th {\n",
              "        text-align: right;\n",
              "    }\n",
              "</style>\n",
              "<table border=\"1\" class=\"dataframe\">\n",
              "  <thead>\n",
              "    <tr style=\"text-align: right;\">\n",
              "      <th></th>\n",
              "      <th>SeniorCitizen</th>\n",
              "      <th>Partner</th>\n",
              "      <th>Dependents</th>\n",
              "      <th>PhoneService</th>\n",
              "      <th>TechSupport</th>\n",
              "      <th>PaperlessBilling</th>\n",
              "      <th>TotalCharges</th>\n",
              "      <th>Churn</th>\n",
              "      <th>InternetService_DSL</th>\n",
              "      <th>InternetService_Fiber optic</th>\n",
              "      <th>InternetService_No</th>\n",
              "      <th>Contract_Month-to-month</th>\n",
              "      <th>Contract_One year</th>\n",
              "      <th>Contract_Two year</th>\n",
              "      <th>PaymentMethod_Bank transfer (automatic)</th>\n",
              "      <th>PaymentMethod_Credit card (automatic)</th>\n",
              "      <th>PaymentMethod_Electronic check</th>\n",
              "      <th>PaymentMethod_Mailed check</th>\n",
              "    </tr>\n",
              "  </thead>\n",
              "  <tbody>\n",
              "    <tr>\n",
              "      <th>0</th>\n",
              "      <td>0</td>\n",
              "      <td>1</td>\n",
              "      <td>0</td>\n",
              "      <td>0</td>\n",
              "      <td>0</td>\n",
              "      <td>1</td>\n",
              "      <td>29.85</td>\n",
              "      <td>0</td>\n",
              "      <td>1</td>\n",
              "      <td>0</td>\n",
              "      <td>0</td>\n",
              "      <td>1</td>\n",
              "      <td>0</td>\n",
              "      <td>0</td>\n",
              "      <td>0</td>\n",
              "      <td>0</td>\n",
              "      <td>1</td>\n",
              "      <td>0</td>\n",
              "    </tr>\n",
              "    <tr>\n",
              "      <th>1</th>\n",
              "      <td>0</td>\n",
              "      <td>0</td>\n",
              "      <td>0</td>\n",
              "      <td>1</td>\n",
              "      <td>0</td>\n",
              "      <td>0</td>\n",
              "      <td>1889.50</td>\n",
              "      <td>0</td>\n",
              "      <td>1</td>\n",
              "      <td>0</td>\n",
              "      <td>0</td>\n",
              "      <td>0</td>\n",
              "      <td>1</td>\n",
              "      <td>0</td>\n",
              "      <td>0</td>\n",
              "      <td>0</td>\n",
              "      <td>0</td>\n",
              "      <td>1</td>\n",
              "    </tr>\n",
              "    <tr>\n",
              "      <th>2</th>\n",
              "      <td>0</td>\n",
              "      <td>0</td>\n",
              "      <td>0</td>\n",
              "      <td>1</td>\n",
              "      <td>0</td>\n",
              "      <td>1</td>\n",
              "      <td>108.15</td>\n",
              "      <td>1</td>\n",
              "      <td>1</td>\n",
              "      <td>0</td>\n",
              "      <td>0</td>\n",
              "      <td>1</td>\n",
              "      <td>0</td>\n",
              "      <td>0</td>\n",
              "      <td>0</td>\n",
              "      <td>0</td>\n",
              "      <td>0</td>\n",
              "      <td>1</td>\n",
              "    </tr>\n",
              "    <tr>\n",
              "      <th>3</th>\n",
              "      <td>0</td>\n",
              "      <td>0</td>\n",
              "      <td>0</td>\n",
              "      <td>0</td>\n",
              "      <td>1</td>\n",
              "      <td>0</td>\n",
              "      <td>1840.75</td>\n",
              "      <td>0</td>\n",
              "      <td>1</td>\n",
              "      <td>0</td>\n",
              "      <td>0</td>\n",
              "      <td>0</td>\n",
              "      <td>1</td>\n",
              "      <td>0</td>\n",
              "      <td>1</td>\n",
              "      <td>0</td>\n",
              "      <td>0</td>\n",
              "      <td>0</td>\n",
              "    </tr>\n",
              "    <tr>\n",
              "      <th>4</th>\n",
              "      <td>0</td>\n",
              "      <td>0</td>\n",
              "      <td>0</td>\n",
              "      <td>1</td>\n",
              "      <td>0</td>\n",
              "      <td>1</td>\n",
              "      <td>151.65</td>\n",
              "      <td>1</td>\n",
              "      <td>0</td>\n",
              "      <td>1</td>\n",
              "      <td>0</td>\n",
              "      <td>1</td>\n",
              "      <td>0</td>\n",
              "      <td>0</td>\n",
              "      <td>0</td>\n",
              "      <td>0</td>\n",
              "      <td>1</td>\n",
              "      <td>0</td>\n",
              "    </tr>\n",
              "  </tbody>\n",
              "</table>\n",
              "</div>"
            ],
            "text/plain": [
              "   SeniorCitizen  Partner  Dependents  PhoneService  TechSupport  \\\n",
              "0              0        1           0             0            0   \n",
              "1              0        0           0             1            0   \n",
              "2              0        0           0             1            0   \n",
              "3              0        0           0             0            1   \n",
              "4              0        0           0             1            0   \n",
              "\n",
              "   PaperlessBilling  TotalCharges  Churn  InternetService_DSL  \\\n",
              "0                 1         29.85      0                    1   \n",
              "1                 0       1889.50      0                    1   \n",
              "2                 1        108.15      1                    1   \n",
              "3                 0       1840.75      0                    1   \n",
              "4                 1        151.65      1                    0   \n",
              "\n",
              "   InternetService_Fiber optic  InternetService_No  Contract_Month-to-month  \\\n",
              "0                            0                   0                        1   \n",
              "1                            0                   0                        0   \n",
              "2                            0                   0                        1   \n",
              "3                            0                   0                        0   \n",
              "4                            1                   0                        1   \n",
              "\n",
              "   Contract_One year  Contract_Two year  \\\n",
              "0                  0                  0   \n",
              "1                  1                  0   \n",
              "2                  0                  0   \n",
              "3                  1                  0   \n",
              "4                  0                  0   \n",
              "\n",
              "   PaymentMethod_Bank transfer (automatic)  \\\n",
              "0                                        0   \n",
              "1                                        0   \n",
              "2                                        0   \n",
              "3                                        1   \n",
              "4                                        0   \n",
              "\n",
              "   PaymentMethod_Credit card (automatic)  PaymentMethod_Electronic check  \\\n",
              "0                                      0                               1   \n",
              "1                                      0                               0   \n",
              "2                                      0                               0   \n",
              "3                                      0                               0   \n",
              "4                                      0                               1   \n",
              "\n",
              "   PaymentMethod_Mailed check  \n",
              "0                           0  \n",
              "1                           1  \n",
              "2                           1  \n",
              "3                           0  \n",
              "4                           0  "
            ]
          },
          "execution_count": 41,
          "metadata": {},
          "output_type": "execute_result"
        }
      ],
      "source": [
        "df2.head()"
      ]
    },
    {
      "cell_type": "code",
      "execution_count": null,
      "metadata": {
        "id": "oR749s8jFtHN",
        "outputId": "091eb441-207e-4331-e431-88a12b9ff34f"
      },
      "outputs": [
        {
          "data": {
            "text/plain": [
              "(7032, 18)"
            ]
          },
          "execution_count": 42,
          "metadata": {},
          "output_type": "execute_result"
        }
      ],
      "source": [
        "df2.shape"
      ]
    },
    {
      "cell_type": "code",
      "execution_count": null,
      "metadata": {
        "id": "fqLX3iwIFtHN",
        "outputId": "577b77e1-ba6d-4bc8-8b4e-fa5f5cb2d8f8"
      },
      "outputs": [
        {
          "data": {
            "text/html": [
              "<div>\n",
              "<style scoped>\n",
              "    .dataframe tbody tr th:only-of-type {\n",
              "        vertical-align: middle;\n",
              "    }\n",
              "\n",
              "    .dataframe tbody tr th {\n",
              "        vertical-align: top;\n",
              "    }\n",
              "\n",
              "    .dataframe thead th {\n",
              "        text-align: right;\n",
              "    }\n",
              "</style>\n",
              "<table border=\"1\" class=\"dataframe\">\n",
              "  <thead>\n",
              "    <tr style=\"text-align: right;\">\n",
              "      <th></th>\n",
              "      <th>SeniorCitizen</th>\n",
              "      <th>Partner</th>\n",
              "      <th>Dependents</th>\n",
              "      <th>PhoneService</th>\n",
              "      <th>TechSupport</th>\n",
              "      <th>PaperlessBilling</th>\n",
              "      <th>TotalCharges</th>\n",
              "      <th>Churn</th>\n",
              "      <th>InternetService_DSL</th>\n",
              "      <th>InternetService_Fiber optic</th>\n",
              "      <th>InternetService_No</th>\n",
              "      <th>Contract_Month-to-month</th>\n",
              "      <th>Contract_One year</th>\n",
              "      <th>Contract_Two year</th>\n",
              "      <th>PaymentMethod_Bank transfer (automatic)</th>\n",
              "      <th>PaymentMethod_Credit card (automatic)</th>\n",
              "      <th>PaymentMethod_Electronic check</th>\n",
              "      <th>PaymentMethod_Mailed check</th>\n",
              "    </tr>\n",
              "  </thead>\n",
              "  <tbody>\n",
              "    <tr>\n",
              "      <th>SeniorCitizen</th>\n",
              "      <td>1.000000</td>\n",
              "      <td>0.016957</td>\n",
              "      <td>-0.210550</td>\n",
              "      <td>0.008392</td>\n",
              "      <td>-0.060577</td>\n",
              "      <td>0.156258</td>\n",
              "      <td>0.102411</td>\n",
              "      <td>0.150541</td>\n",
              "      <td>-0.108276</td>\n",
              "      <td>0.254923</td>\n",
              "      <td>-0.182519</td>\n",
              "      <td>0.137752</td>\n",
              "      <td>-0.046491</td>\n",
              "      <td>-0.116205</td>\n",
              "      <td>-0.016235</td>\n",
              "      <td>-0.024359</td>\n",
              "      <td>0.171322</td>\n",
              "      <td>-0.152987</td>\n",
              "    </tr>\n",
              "    <tr>\n",
              "      <th>Partner</th>\n",
              "      <td>0.016957</td>\n",
              "      <td>1.000000</td>\n",
              "      <td>0.452269</td>\n",
              "      <td>0.018397</td>\n",
              "      <td>0.120206</td>\n",
              "      <td>-0.013957</td>\n",
              "      <td>0.319072</td>\n",
              "      <td>-0.149982</td>\n",
              "      <td>-0.001043</td>\n",
              "      <td>0.001235</td>\n",
              "      <td>-0.000286</td>\n",
              "      <td>-0.280202</td>\n",
              "      <td>0.083067</td>\n",
              "      <td>0.247334</td>\n",
              "      <td>0.111406</td>\n",
              "      <td>0.082327</td>\n",
              "      <td>-0.083207</td>\n",
              "      <td>-0.096948</td>\n",
              "    </tr>\n",
              "    <tr>\n",
              "      <th>Dependents</th>\n",
              "      <td>-0.210550</td>\n",
              "      <td>0.452269</td>\n",
              "      <td>1.000000</td>\n",
              "      <td>-0.001078</td>\n",
              "      <td>0.063053</td>\n",
              "      <td>-0.110131</td>\n",
              "      <td>0.064653</td>\n",
              "      <td>-0.163128</td>\n",
              "      <td>0.051593</td>\n",
              "      <td>-0.164101</td>\n",
              "      <td>0.138383</td>\n",
              "      <td>-0.229715</td>\n",
              "      <td>0.069222</td>\n",
              "      <td>0.201699</td>\n",
              "      <td>0.052369</td>\n",
              "      <td>0.061134</td>\n",
              "      <td>-0.149274</td>\n",
              "      <td>0.056448</td>\n",
              "    </tr>\n",
              "    <tr>\n",
              "      <th>PhoneService</th>\n",
              "      <td>0.008392</td>\n",
              "      <td>0.018397</td>\n",
              "      <td>-0.001078</td>\n",
              "      <td>1.000000</td>\n",
              "      <td>-0.095138</td>\n",
              "      <td>0.016696</td>\n",
              "      <td>0.113008</td>\n",
              "      <td>0.011691</td>\n",
              "      <td>-0.452255</td>\n",
              "      <td>0.290183</td>\n",
              "      <td>0.171817</td>\n",
              "      <td>-0.001243</td>\n",
              "      <td>-0.003142</td>\n",
              "      <td>0.004442</td>\n",
              "      <td>0.008271</td>\n",
              "      <td>-0.006916</td>\n",
              "      <td>0.002747</td>\n",
              "      <td>-0.004463</td>\n",
              "    </tr>\n",
              "    <tr>\n",
              "      <th>TechSupport</th>\n",
              "      <td>-0.060577</td>\n",
              "      <td>0.120206</td>\n",
              "      <td>0.063053</td>\n",
              "      <td>-0.095138</td>\n",
              "      <td>1.000000</td>\n",
              "      <td>0.037536</td>\n",
              "      <td>0.432868</td>\n",
              "      <td>-0.164716</td>\n",
              "      <td>0.312183</td>\n",
              "      <td>-0.020299</td>\n",
              "      <td>-0.335695</td>\n",
              "      <td>-0.285491</td>\n",
              "      <td>0.096258</td>\n",
              "      <td>0.240924</td>\n",
              "      <td>0.100472</td>\n",
              "      <td>0.117024</td>\n",
              "      <td>-0.114807</td>\n",
              "      <td>-0.084631</td>\n",
              "    </tr>\n",
              "    <tr>\n",
              "      <th>PaperlessBilling</th>\n",
              "      <td>0.156258</td>\n",
              "      <td>-0.013957</td>\n",
              "      <td>-0.110131</td>\n",
              "      <td>0.016696</td>\n",
              "      <td>0.037536</td>\n",
              "      <td>1.000000</td>\n",
              "      <td>0.157830</td>\n",
              "      <td>0.191454</td>\n",
              "      <td>-0.063390</td>\n",
              "      <td>0.326470</td>\n",
              "      <td>-0.320592</td>\n",
              "      <td>0.168296</td>\n",
              "      <td>-0.052278</td>\n",
              "      <td>-0.146281</td>\n",
              "      <td>-0.017469</td>\n",
              "      <td>-0.013726</td>\n",
              "      <td>0.208427</td>\n",
              "      <td>-0.203981</td>\n",
              "    </tr>\n",
              "    <tr>\n",
              "      <th>TotalCharges</th>\n",
              "      <td>0.102411</td>\n",
              "      <td>0.319072</td>\n",
              "      <td>0.064653</td>\n",
              "      <td>0.113008</td>\n",
              "      <td>0.432868</td>\n",
              "      <td>0.157830</td>\n",
              "      <td>1.000000</td>\n",
              "      <td>-0.199484</td>\n",
              "      <td>-0.052190</td>\n",
              "      <td>0.360769</td>\n",
              "      <td>-0.374878</td>\n",
              "      <td>-0.446776</td>\n",
              "      <td>0.170569</td>\n",
              "      <td>0.358036</td>\n",
              "      <td>0.186119</td>\n",
              "      <td>0.182663</td>\n",
              "      <td>-0.060436</td>\n",
              "      <td>-0.294708</td>\n",
              "    </tr>\n",
              "    <tr>\n",
              "      <th>Churn</th>\n",
              "      <td>0.150541</td>\n",
              "      <td>-0.149982</td>\n",
              "      <td>-0.163128</td>\n",
              "      <td>0.011691</td>\n",
              "      <td>-0.164716</td>\n",
              "      <td>0.191454</td>\n",
              "      <td>-0.199484</td>\n",
              "      <td>1.000000</td>\n",
              "      <td>-0.124141</td>\n",
              "      <td>0.307463</td>\n",
              "      <td>-0.227578</td>\n",
              "      <td>0.404565</td>\n",
              "      <td>-0.178225</td>\n",
              "      <td>-0.301552</td>\n",
              "      <td>-0.118136</td>\n",
              "      <td>-0.134687</td>\n",
              "      <td>0.301455</td>\n",
              "      <td>-0.090773</td>\n",
              "    </tr>\n",
              "    <tr>\n",
              "      <th>InternetService_DSL</th>\n",
              "      <td>-0.108276</td>\n",
              "      <td>-0.001043</td>\n",
              "      <td>0.051593</td>\n",
              "      <td>-0.452255</td>\n",
              "      <td>0.312183</td>\n",
              "      <td>-0.063390</td>\n",
              "      <td>-0.052190</td>\n",
              "      <td>-0.124141</td>\n",
              "      <td>1.000000</td>\n",
              "      <td>-0.641636</td>\n",
              "      <td>-0.379912</td>\n",
              "      <td>-0.065226</td>\n",
              "      <td>0.047300</td>\n",
              "      <td>0.030924</td>\n",
              "      <td>0.024760</td>\n",
              "      <td>0.051222</td>\n",
              "      <td>-0.104293</td>\n",
              "      <td>0.042754</td>\n",
              "    </tr>\n",
              "    <tr>\n",
              "      <th>InternetService_Fiber optic</th>\n",
              "      <td>0.254923</td>\n",
              "      <td>0.001235</td>\n",
              "      <td>-0.164101</td>\n",
              "      <td>0.290183</td>\n",
              "      <td>-0.020299</td>\n",
              "      <td>0.326470</td>\n",
              "      <td>0.360769</td>\n",
              "      <td>0.307463</td>\n",
              "      <td>-0.641636</td>\n",
              "      <td>1.000000</td>\n",
              "      <td>-0.465736</td>\n",
              "      <td>0.243014</td>\n",
              "      <td>-0.076809</td>\n",
              "      <td>-0.209965</td>\n",
              "      <td>-0.022779</td>\n",
              "      <td>-0.050552</td>\n",
              "      <td>0.335763</td>\n",
              "      <td>-0.305984</td>\n",
              "    </tr>\n",
              "    <tr>\n",
              "      <th>InternetService_No</th>\n",
              "      <td>-0.182519</td>\n",
              "      <td>-0.000286</td>\n",
              "      <td>0.138383</td>\n",
              "      <td>0.171817</td>\n",
              "      <td>-0.335695</td>\n",
              "      <td>-0.320592</td>\n",
              "      <td>-0.374878</td>\n",
              "      <td>-0.227578</td>\n",
              "      <td>-0.379912</td>\n",
              "      <td>-0.465736</td>\n",
              "      <td>1.000000</td>\n",
              "      <td>-0.217824</td>\n",
              "      <td>0.038061</td>\n",
              "      <td>0.217542</td>\n",
              "      <td>-0.001094</td>\n",
              "      <td>0.001870</td>\n",
              "      <td>-0.284608</td>\n",
              "      <td>0.319694</td>\n",
              "    </tr>\n",
              "    <tr>\n",
              "      <th>Contract_Month-to-month</th>\n",
              "      <td>0.137752</td>\n",
              "      <td>-0.280202</td>\n",
              "      <td>-0.229715</td>\n",
              "      <td>-0.001243</td>\n",
              "      <td>-0.285491</td>\n",
              "      <td>0.168296</td>\n",
              "      <td>-0.446776</td>\n",
              "      <td>0.404565</td>\n",
              "      <td>-0.065226</td>\n",
              "      <td>0.243014</td>\n",
              "      <td>-0.217824</td>\n",
              "      <td>1.000000</td>\n",
              "      <td>-0.570053</td>\n",
              "      <td>-0.621933</td>\n",
              "      <td>-0.180159</td>\n",
              "      <td>-0.204960</td>\n",
              "      <td>0.330879</td>\n",
              "      <td>0.006209</td>\n",
              "    </tr>\n",
              "    <tr>\n",
              "      <th>Contract_One year</th>\n",
              "      <td>-0.046491</td>\n",
              "      <td>0.083067</td>\n",
              "      <td>0.069222</td>\n",
              "      <td>-0.003142</td>\n",
              "      <td>0.096258</td>\n",
              "      <td>-0.052278</td>\n",
              "      <td>0.170569</td>\n",
              "      <td>-0.178225</td>\n",
              "      <td>0.047300</td>\n",
              "      <td>-0.076809</td>\n",
              "      <td>0.038061</td>\n",
              "      <td>-0.570053</td>\n",
              "      <td>1.000000</td>\n",
              "      <td>-0.288843</td>\n",
              "      <td>0.057629</td>\n",
              "      <td>0.067590</td>\n",
              "      <td>-0.109546</td>\n",
              "      <td>0.000197</td>\n",
              "    </tr>\n",
              "    <tr>\n",
              "      <th>Contract_Two year</th>\n",
              "      <td>-0.116205</td>\n",
              "      <td>0.247334</td>\n",
              "      <td>0.201699</td>\n",
              "      <td>0.004442</td>\n",
              "      <td>0.240924</td>\n",
              "      <td>-0.146281</td>\n",
              "      <td>0.358036</td>\n",
              "      <td>-0.301552</td>\n",
              "      <td>0.030924</td>\n",
              "      <td>-0.209965</td>\n",
              "      <td>0.217542</td>\n",
              "      <td>-0.621933</td>\n",
              "      <td>-0.288843</td>\n",
              "      <td>1.000000</td>\n",
              "      <td>0.155004</td>\n",
              "      <td>0.174410</td>\n",
              "      <td>-0.281147</td>\n",
              "      <td>-0.007423</td>\n",
              "    </tr>\n",
              "    <tr>\n",
              "      <th>PaymentMethod_Bank transfer (automatic)</th>\n",
              "      <td>-0.016235</td>\n",
              "      <td>0.111406</td>\n",
              "      <td>0.052369</td>\n",
              "      <td>0.008271</td>\n",
              "      <td>0.100472</td>\n",
              "      <td>-0.017469</td>\n",
              "      <td>0.186119</td>\n",
              "      <td>-0.118136</td>\n",
              "      <td>0.024760</td>\n",
              "      <td>-0.022779</td>\n",
              "      <td>-0.001094</td>\n",
              "      <td>-0.180159</td>\n",
              "      <td>0.057629</td>\n",
              "      <td>0.155004</td>\n",
              "      <td>1.000000</td>\n",
              "      <td>-0.278423</td>\n",
              "      <td>-0.377270</td>\n",
              "      <td>-0.288097</td>\n",
              "    </tr>\n",
              "    <tr>\n",
              "      <th>PaymentMethod_Credit card (automatic)</th>\n",
              "      <td>-0.024359</td>\n",
              "      <td>0.082327</td>\n",
              "      <td>0.061134</td>\n",
              "      <td>-0.006916</td>\n",
              "      <td>0.117024</td>\n",
              "      <td>-0.013726</td>\n",
              "      <td>0.182663</td>\n",
              "      <td>-0.134687</td>\n",
              "      <td>0.051222</td>\n",
              "      <td>-0.050552</td>\n",
              "      <td>0.001870</td>\n",
              "      <td>-0.204960</td>\n",
              "      <td>0.067590</td>\n",
              "      <td>0.174410</td>\n",
              "      <td>-0.278423</td>\n",
              "      <td>1.000000</td>\n",
              "      <td>-0.373978</td>\n",
              "      <td>-0.285583</td>\n",
              "    </tr>\n",
              "    <tr>\n",
              "      <th>PaymentMethod_Electronic check</th>\n",
              "      <td>0.171322</td>\n",
              "      <td>-0.083207</td>\n",
              "      <td>-0.149274</td>\n",
              "      <td>0.002747</td>\n",
              "      <td>-0.114807</td>\n",
              "      <td>0.208427</td>\n",
              "      <td>-0.060436</td>\n",
              "      <td>0.301455</td>\n",
              "      <td>-0.104293</td>\n",
              "      <td>0.335763</td>\n",
              "      <td>-0.284608</td>\n",
              "      <td>0.330879</td>\n",
              "      <td>-0.109546</td>\n",
              "      <td>-0.281147</td>\n",
              "      <td>-0.377270</td>\n",
              "      <td>-0.373978</td>\n",
              "      <td>1.000000</td>\n",
              "      <td>-0.386971</td>\n",
              "    </tr>\n",
              "    <tr>\n",
              "      <th>PaymentMethod_Mailed check</th>\n",
              "      <td>-0.152987</td>\n",
              "      <td>-0.096948</td>\n",
              "      <td>0.056448</td>\n",
              "      <td>-0.004463</td>\n",
              "      <td>-0.084631</td>\n",
              "      <td>-0.203981</td>\n",
              "      <td>-0.294708</td>\n",
              "      <td>-0.090773</td>\n",
              "      <td>0.042754</td>\n",
              "      <td>-0.305984</td>\n",
              "      <td>0.319694</td>\n",
              "      <td>0.006209</td>\n",
              "      <td>0.000197</td>\n",
              "      <td>-0.007423</td>\n",
              "      <td>-0.288097</td>\n",
              "      <td>-0.285583</td>\n",
              "      <td>-0.386971</td>\n",
              "      <td>1.000000</td>\n",
              "    </tr>\n",
              "  </tbody>\n",
              "</table>\n",
              "</div>"
            ],
            "text/plain": [
              "                                         SeniorCitizen   Partner  Dependents  \\\n",
              "SeniorCitizen                                 1.000000  0.016957   -0.210550   \n",
              "Partner                                       0.016957  1.000000    0.452269   \n",
              "Dependents                                   -0.210550  0.452269    1.000000   \n",
              "PhoneService                                  0.008392  0.018397   -0.001078   \n",
              "TechSupport                                  -0.060577  0.120206    0.063053   \n",
              "PaperlessBilling                              0.156258 -0.013957   -0.110131   \n",
              "TotalCharges                                  0.102411  0.319072    0.064653   \n",
              "Churn                                         0.150541 -0.149982   -0.163128   \n",
              "InternetService_DSL                          -0.108276 -0.001043    0.051593   \n",
              "InternetService_Fiber optic                   0.254923  0.001235   -0.164101   \n",
              "InternetService_No                           -0.182519 -0.000286    0.138383   \n",
              "Contract_Month-to-month                       0.137752 -0.280202   -0.229715   \n",
              "Contract_One year                            -0.046491  0.083067    0.069222   \n",
              "Contract_Two year                            -0.116205  0.247334    0.201699   \n",
              "PaymentMethod_Bank transfer (automatic)      -0.016235  0.111406    0.052369   \n",
              "PaymentMethod_Credit card (automatic)        -0.024359  0.082327    0.061134   \n",
              "PaymentMethod_Electronic check                0.171322 -0.083207   -0.149274   \n",
              "PaymentMethod_Mailed check                   -0.152987 -0.096948    0.056448   \n",
              "\n",
              "                                         PhoneService  TechSupport  \\\n",
              "SeniorCitizen                                0.008392    -0.060577   \n",
              "Partner                                      0.018397     0.120206   \n",
              "Dependents                                  -0.001078     0.063053   \n",
              "PhoneService                                 1.000000    -0.095138   \n",
              "TechSupport                                 -0.095138     1.000000   \n",
              "PaperlessBilling                             0.016696     0.037536   \n",
              "TotalCharges                                 0.113008     0.432868   \n",
              "Churn                                        0.011691    -0.164716   \n",
              "InternetService_DSL                         -0.452255     0.312183   \n",
              "InternetService_Fiber optic                  0.290183    -0.020299   \n",
              "InternetService_No                           0.171817    -0.335695   \n",
              "Contract_Month-to-month                     -0.001243    -0.285491   \n",
              "Contract_One year                           -0.003142     0.096258   \n",
              "Contract_Two year                            0.004442     0.240924   \n",
              "PaymentMethod_Bank transfer (automatic)      0.008271     0.100472   \n",
              "PaymentMethod_Credit card (automatic)       -0.006916     0.117024   \n",
              "PaymentMethod_Electronic check               0.002747    -0.114807   \n",
              "PaymentMethod_Mailed check                  -0.004463    -0.084631   \n",
              "\n",
              "                                         PaperlessBilling  TotalCharges  \\\n",
              "SeniorCitizen                                    0.156258      0.102411   \n",
              "Partner                                         -0.013957      0.319072   \n",
              "Dependents                                      -0.110131      0.064653   \n",
              "PhoneService                                     0.016696      0.113008   \n",
              "TechSupport                                      0.037536      0.432868   \n",
              "PaperlessBilling                                 1.000000      0.157830   \n",
              "TotalCharges                                     0.157830      1.000000   \n",
              "Churn                                            0.191454     -0.199484   \n",
              "InternetService_DSL                             -0.063390     -0.052190   \n",
              "InternetService_Fiber optic                      0.326470      0.360769   \n",
              "InternetService_No                              -0.320592     -0.374878   \n",
              "Contract_Month-to-month                          0.168296     -0.446776   \n",
              "Contract_One year                               -0.052278      0.170569   \n",
              "Contract_Two year                               -0.146281      0.358036   \n",
              "PaymentMethod_Bank transfer (automatic)         -0.017469      0.186119   \n",
              "PaymentMethod_Credit card (automatic)           -0.013726      0.182663   \n",
              "PaymentMethod_Electronic check                   0.208427     -0.060436   \n",
              "PaymentMethod_Mailed check                      -0.203981     -0.294708   \n",
              "\n",
              "                                            Churn  InternetService_DSL  \\\n",
              "SeniorCitizen                            0.150541            -0.108276   \n",
              "Partner                                 -0.149982            -0.001043   \n",
              "Dependents                              -0.163128             0.051593   \n",
              "PhoneService                             0.011691            -0.452255   \n",
              "TechSupport                             -0.164716             0.312183   \n",
              "PaperlessBilling                         0.191454            -0.063390   \n",
              "TotalCharges                            -0.199484            -0.052190   \n",
              "Churn                                    1.000000            -0.124141   \n",
              "InternetService_DSL                     -0.124141             1.000000   \n",
              "InternetService_Fiber optic              0.307463            -0.641636   \n",
              "InternetService_No                      -0.227578            -0.379912   \n",
              "Contract_Month-to-month                  0.404565            -0.065226   \n",
              "Contract_One year                       -0.178225             0.047300   \n",
              "Contract_Two year                       -0.301552             0.030924   \n",
              "PaymentMethod_Bank transfer (automatic) -0.118136             0.024760   \n",
              "PaymentMethod_Credit card (automatic)   -0.134687             0.051222   \n",
              "PaymentMethod_Electronic check           0.301455            -0.104293   \n",
              "PaymentMethod_Mailed check              -0.090773             0.042754   \n",
              "\n",
              "                                         InternetService_Fiber optic  \\\n",
              "SeniorCitizen                                               0.254923   \n",
              "Partner                                                     0.001235   \n",
              "Dependents                                                 -0.164101   \n",
              "PhoneService                                                0.290183   \n",
              "TechSupport                                                -0.020299   \n",
              "PaperlessBilling                                            0.326470   \n",
              "TotalCharges                                                0.360769   \n",
              "Churn                                                       0.307463   \n",
              "InternetService_DSL                                        -0.641636   \n",
              "InternetService_Fiber optic                                 1.000000   \n",
              "InternetService_No                                         -0.465736   \n",
              "Contract_Month-to-month                                     0.243014   \n",
              "Contract_One year                                          -0.076809   \n",
              "Contract_Two year                                          -0.209965   \n",
              "PaymentMethod_Bank transfer (automatic)                    -0.022779   \n",
              "PaymentMethod_Credit card (automatic)                      -0.050552   \n",
              "PaymentMethod_Electronic check                              0.335763   \n",
              "PaymentMethod_Mailed check                                 -0.305984   \n",
              "\n",
              "                                         InternetService_No  \\\n",
              "SeniorCitizen                                     -0.182519   \n",
              "Partner                                           -0.000286   \n",
              "Dependents                                         0.138383   \n",
              "PhoneService                                       0.171817   \n",
              "TechSupport                                       -0.335695   \n",
              "PaperlessBilling                                  -0.320592   \n",
              "TotalCharges                                      -0.374878   \n",
              "Churn                                             -0.227578   \n",
              "InternetService_DSL                               -0.379912   \n",
              "InternetService_Fiber optic                       -0.465736   \n",
              "InternetService_No                                 1.000000   \n",
              "Contract_Month-to-month                           -0.217824   \n",
              "Contract_One year                                  0.038061   \n",
              "Contract_Two year                                  0.217542   \n",
              "PaymentMethod_Bank transfer (automatic)           -0.001094   \n",
              "PaymentMethod_Credit card (automatic)              0.001870   \n",
              "PaymentMethod_Electronic check                    -0.284608   \n",
              "PaymentMethod_Mailed check                         0.319694   \n",
              "\n",
              "                                         Contract_Month-to-month  \\\n",
              "SeniorCitizen                                           0.137752   \n",
              "Partner                                                -0.280202   \n",
              "Dependents                                             -0.229715   \n",
              "PhoneService                                           -0.001243   \n",
              "TechSupport                                            -0.285491   \n",
              "PaperlessBilling                                        0.168296   \n",
              "TotalCharges                                           -0.446776   \n",
              "Churn                                                   0.404565   \n",
              "InternetService_DSL                                    -0.065226   \n",
              "InternetService_Fiber optic                             0.243014   \n",
              "InternetService_No                                     -0.217824   \n",
              "Contract_Month-to-month                                 1.000000   \n",
              "Contract_One year                                      -0.570053   \n",
              "Contract_Two year                                      -0.621933   \n",
              "PaymentMethod_Bank transfer (automatic)                -0.180159   \n",
              "PaymentMethod_Credit card (automatic)                  -0.204960   \n",
              "PaymentMethod_Electronic check                          0.330879   \n",
              "PaymentMethod_Mailed check                              0.006209   \n",
              "\n",
              "                                         Contract_One year  Contract_Two year  \\\n",
              "SeniorCitizen                                    -0.046491          -0.116205   \n",
              "Partner                                           0.083067           0.247334   \n",
              "Dependents                                        0.069222           0.201699   \n",
              "PhoneService                                     -0.003142           0.004442   \n",
              "TechSupport                                       0.096258           0.240924   \n",
              "PaperlessBilling                                 -0.052278          -0.146281   \n",
              "TotalCharges                                      0.170569           0.358036   \n",
              "Churn                                            -0.178225          -0.301552   \n",
              "InternetService_DSL                               0.047300           0.030924   \n",
              "InternetService_Fiber optic                      -0.076809          -0.209965   \n",
              "InternetService_No                                0.038061           0.217542   \n",
              "Contract_Month-to-month                          -0.570053          -0.621933   \n",
              "Contract_One year                                 1.000000          -0.288843   \n",
              "Contract_Two year                                -0.288843           1.000000   \n",
              "PaymentMethod_Bank transfer (automatic)           0.057629           0.155004   \n",
              "PaymentMethod_Credit card (automatic)             0.067590           0.174410   \n",
              "PaymentMethod_Electronic check                   -0.109546          -0.281147   \n",
              "PaymentMethod_Mailed check                        0.000197          -0.007423   \n",
              "\n",
              "                                         PaymentMethod_Bank transfer (automatic)  \\\n",
              "SeniorCitizen                                                          -0.016235   \n",
              "Partner                                                                 0.111406   \n",
              "Dependents                                                              0.052369   \n",
              "PhoneService                                                            0.008271   \n",
              "TechSupport                                                             0.100472   \n",
              "PaperlessBilling                                                       -0.017469   \n",
              "TotalCharges                                                            0.186119   \n",
              "Churn                                                                  -0.118136   \n",
              "InternetService_DSL                                                     0.024760   \n",
              "InternetService_Fiber optic                                            -0.022779   \n",
              "InternetService_No                                                     -0.001094   \n",
              "Contract_Month-to-month                                                -0.180159   \n",
              "Contract_One year                                                       0.057629   \n",
              "Contract_Two year                                                       0.155004   \n",
              "PaymentMethod_Bank transfer (automatic)                                 1.000000   \n",
              "PaymentMethod_Credit card (automatic)                                  -0.278423   \n",
              "PaymentMethod_Electronic check                                         -0.377270   \n",
              "PaymentMethod_Mailed check                                             -0.288097   \n",
              "\n",
              "                                         PaymentMethod_Credit card (automatic)  \\\n",
              "SeniorCitizen                                                        -0.024359   \n",
              "Partner                                                               0.082327   \n",
              "Dependents                                                            0.061134   \n",
              "PhoneService                                                         -0.006916   \n",
              "TechSupport                                                           0.117024   \n",
              "PaperlessBilling                                                     -0.013726   \n",
              "TotalCharges                                                          0.182663   \n",
              "Churn                                                                -0.134687   \n",
              "InternetService_DSL                                                   0.051222   \n",
              "InternetService_Fiber optic                                          -0.050552   \n",
              "InternetService_No                                                    0.001870   \n",
              "Contract_Month-to-month                                              -0.204960   \n",
              "Contract_One year                                                     0.067590   \n",
              "Contract_Two year                                                     0.174410   \n",
              "PaymentMethod_Bank transfer (automatic)                              -0.278423   \n",
              "PaymentMethod_Credit card (automatic)                                 1.000000   \n",
              "PaymentMethod_Electronic check                                       -0.373978   \n",
              "PaymentMethod_Mailed check                                           -0.285583   \n",
              "\n",
              "                                         PaymentMethod_Electronic check  \\\n",
              "SeniorCitizen                                                  0.171322   \n",
              "Partner                                                       -0.083207   \n",
              "Dependents                                                    -0.149274   \n",
              "PhoneService                                                   0.002747   \n",
              "TechSupport                                                   -0.114807   \n",
              "PaperlessBilling                                               0.208427   \n",
              "TotalCharges                                                  -0.060436   \n",
              "Churn                                                          0.301455   \n",
              "InternetService_DSL                                           -0.104293   \n",
              "InternetService_Fiber optic                                    0.335763   \n",
              "InternetService_No                                            -0.284608   \n",
              "Contract_Month-to-month                                        0.330879   \n",
              "Contract_One year                                             -0.109546   \n",
              "Contract_Two year                                             -0.281147   \n",
              "PaymentMethod_Bank transfer (automatic)                       -0.377270   \n",
              "PaymentMethod_Credit card (automatic)                         -0.373978   \n",
              "PaymentMethod_Electronic check                                 1.000000   \n",
              "PaymentMethod_Mailed check                                    -0.386971   \n",
              "\n",
              "                                         PaymentMethod_Mailed check  \n",
              "SeniorCitizen                                             -0.152987  \n",
              "Partner                                                   -0.096948  \n",
              "Dependents                                                 0.056448  \n",
              "PhoneService                                              -0.004463  \n",
              "TechSupport                                               -0.084631  \n",
              "PaperlessBilling                                          -0.203981  \n",
              "TotalCharges                                              -0.294708  \n",
              "Churn                                                     -0.090773  \n",
              "InternetService_DSL                                        0.042754  \n",
              "InternetService_Fiber optic                               -0.305984  \n",
              "InternetService_No                                         0.319694  \n",
              "Contract_Month-to-month                                    0.006209  \n",
              "Contract_One year                                          0.000197  \n",
              "Contract_Two year                                         -0.007423  \n",
              "PaymentMethod_Bank transfer (automatic)                   -0.288097  \n",
              "PaymentMethod_Credit card (automatic)                     -0.285583  \n",
              "PaymentMethod_Electronic check                            -0.386971  \n",
              "PaymentMethod_Mailed check                                 1.000000  "
            ]
          },
          "execution_count": 43,
          "metadata": {},
          "output_type": "execute_result"
        }
      ],
      "source": [
        "df2.corr()"
      ]
    },
    {
      "cell_type": "code",
      "execution_count": null,
      "metadata": {
        "id": "0H57oaQBFtHO",
        "outputId": "1d6e19fa-a300-401b-b986-75052c4d830e"
      },
      "outputs": [
        {
          "data": {
            "text/plain": [
              "<matplotlib.axes._subplots.AxesSubplot at 0x1904e01fb70>"
            ]
          },
          "execution_count": 44,
          "metadata": {},
          "output_type": "execute_result"
        },
        {
          "data": {
            "image/png": "[encoded data removed]",
            "text/plain": [
              "<Figure size 1440x1440 with 2 Axes>"
            ]
          },
          "metadata": {},
          "output_type": "display_data"
        }
      ],
      "source": [
        "plt.figure(figsize=(20,20))\n",
        "sns.heatmap(df2.corr(),annot=True)"
      ]
    },
    {
      "cell_type": "code",
      "execution_count": null,
      "metadata": {
        "id": "yhm_ihxoFtHS"
      },
      "outputs": [],
      "source": [
        "from sklearn.model_selection import train_test_split\n",
        "train,test=train_test_split(df2,test_size=0.2)"
      ]
    },
    {
      "cell_type": "code",
      "execution_count": null,
      "metadata": {
        "id": "0Xbu8V2nFtHT"
      },
      "outputs": [],
      "source": [
        "train_x=train.drop('Churn',axis=1)\n",
        "train_y=train[['Churn']]\n",
        "test_x=test.drop('Churn',axis=1)\n",
        "test_y=test[['Churn']]\n",
        "\n"
      ]
    },
    {
      "cell_type": "code",
      "execution_count": null,
      "metadata": {
        "id": "tH4JzdDPFtHT",
        "outputId": "78024405-f6b6-49a3-fec9-a2bc1bea1af0"
      },
      "outputs": [
        {
          "data": {
            "text/plain": [
              "(2990, 17)"
            ]
          },
          "execution_count": 77,
          "metadata": {},
          "output_type": "execute_result"
        }
      ],
      "source": [
        "train_x.shape"
      ]
    },
    {
      "cell_type": "code",
      "execution_count": null,
      "metadata": {
        "id": "KD3LmhR_FtHT",
        "outputId": "138e17ca-bbb2-4e19-ef7a-145958497423"
      },
      "outputs": [
        {
          "data": {
            "text/plain": [
              "(748, 17)"
            ]
          },
          "execution_count": 78,
          "metadata": {},
          "output_type": "execute_result"
        }
      ],
      "source": [
        "test_x.shape"
      ]
    },
    {
      "cell_type": "code",
      "execution_count": null,
      "metadata": {
        "id": "D5x1OD6QFtHT"
      },
      "outputs": [],
      "source": [
        "from sklearn.linear_model import LogisticRegression\n",
        "from sklearn.metrics import confusion_matrix #for evaluation\n",
        "from sklearn.metrics import mean_squared_error"
      ]
    },
    {
      "cell_type": "code",
      "execution_count": null,
      "metadata": {
        "id": "9OsUsbmUFtHT",
        "outputId": "34095203-e8e7-4261-a1c0-d997798e387b"
      },
      "outputs": [
        {
          "name": "stderr",
          "output_type": "stream",
          "text": [
            "C:\\Users\\Omar\\Anaconda3\\lib\\site-packages\\sklearn\\utils\\validation.py:578: DataConversionWarning: A column-vector y was passed when a 1d array was expected. Please change the shape of y to (n_samples, ), for example using ravel().\n",
            "  y = column_or_1d(y, warn=True)\n"
          ]
        },
        {
          "data": {
            "text/plain": [
              "LogisticRegression(C=1.0, class_weight=None, dual=False, fit_intercept=True,\n",
              "          intercept_scaling=1, max_iter=100, multi_class='ovr', n_jobs=1,\n",
              "          penalty='l2', random_state=None, solver='liblinear', tol=0.0001,\n",
              "          verbose=0, warm_start=False)"
            ]
          },
          "execution_count": 80,
          "metadata": {},
          "output_type": "execute_result"
        }
      ],
      "source": [
        "lr=LogisticRegression()\n",
        "lr.fit(train_x,train_y)"
      ]
    },
    {
      "cell_type": "code",
      "execution_count": null,
      "metadata": {
        "id": "OIcg2H0RFtHU"
      },
      "outputs": [],
      "source": [
        "pred_y=lr.predict(test_x)"
      ]
    },
    {
      "cell_type": "code",
      "execution_count": null,
      "metadata": {
        "id": "ygRFVNG3FtHU"
      },
      "outputs": [],
      "source": [
        "cnf_matrix_lr=confusion_matrix(test_y,pred_y)\n",
        "r_lr=cnf_matrix_lr[1,1]/(cnf_matrix_lr[1,0]+cnf_matrix_lr[1,1]) #Recall\n",
        "p_lr=cnf_matrix_lr[1,1]/(cnf_matrix_lr[0,1]+cnf_matrix_lr[1,1]) #Precision\n",
        "f1_lr=2*((r_lr*p_lr)/(r_lr+p_lr)) #F1-Score\n",
        "acc_lr = round(lr.score(train_x, train_y) * 100, 2) #Accuracy\n",
        "MSE_lr=mean_squared_error(test_y,pred_y) #MSE"
      ]
    },
    {
      "cell_type": "code",
      "execution_count": null,
      "metadata": {
        "id": "bbKwIdd4FtHU",
        "outputId": "01d4449b-d9e5-40b5-e76a-a4b6c1588d87"
      },
      "outputs": [
        {
          "data": {
            "text/plain": [
              "<matplotlib.axes._subplots.AxesSubplot at 0x1904fbfd4e0>"
            ]
          },
          "execution_count": 83,
          "metadata": {},
          "output_type": "execute_result"
        },
        {
          "data": {
            "image/png": "[encoded data removed]",
            "text/plain": [
              "<Figure size 432x288 with 2 Axes>"
            ]
          },
          "metadata": {},
          "output_type": "display_data"
        }
      ],
      "source": [
        "sns.heatmap(cnf_matrix_lr,annot=True)"
      ]
    },
    {
      "cell_type": "code",
      "execution_count": null,
      "metadata": {
        "scrolled": true,
        "id": "wG48QjeIFtHU",
        "outputId": "6263ee14-afbf-490a-c6de-8795a478aae7"
      },
      "outputs": [
        {
          "data": {
            "text/plain": [
              "0.7650834403080873"
            ]
          },
          "execution_count": 84,
          "metadata": {},
          "output_type": "execute_result"
        }
      ],
      "source": [
        "f1_lr"
      ]
    },
    {
      "cell_type": "code",
      "execution_count": null,
      "metadata": {
        "id": "wt4ykAbaFtHV",
        "outputId": "6ef73947-3f0d-4683-f9e7-8b501160dec9"
      },
      "outputs": [
        {
          "data": {
            "text/plain": [
              "0    5163\n",
              "1    1869\n",
              "Name: Churn, dtype: int64"
            ]
          },
          "execution_count": 61,
          "metadata": {},
          "output_type": "execute_result"
        }
      ],
      "source": [
        "df2['Churn'].value_counts()"
      ]
    },
    {
      "cell_type": "code",
      "execution_count": null,
      "metadata": {
        "id": "xMIye5pVFtHV"
      },
      "outputs": [],
      "source": [
        "churn_count=len(df2[df2['Churn']==1])\n",
        "churn_index=df2[df2['Churn']==1].index\n",
        "norm_index=df2[df2['Churn']==0].index\n",
        "rand_norm_index=np.random.choice(norm_index,churn_count)\n",
        "balanced_index=np.concatenate([rand_norm_index,churn_index])\n",
        "balanced_data=df2.loc[balanced_index]"
      ]
    },
    {
      "cell_type": "code",
      "execution_count": null,
      "metadata": {
        "id": "Iz-6NeSKFtHV"
      },
      "outputs": [],
      "source": [
        "churn_count=len(df2[df2['Churn']==1])"
      ]
    },
    {
      "cell_type": "code",
      "execution_count": null,
      "metadata": {
        "id": "GNmL4aAmFtHV",
        "outputId": "b204e712-2af6-4b6e-8044-086838ab84b2"
      },
      "outputs": [
        {
          "data": {
            "text/plain": [
              "1869"
            ]
          },
          "execution_count": 63,
          "metadata": {},
          "output_type": "execute_result"
        }
      ],
      "source": [
        "churn_count"
      ]
    },
    {
      "cell_type": "code",
      "execution_count": null,
      "metadata": {
        "id": "l3C86FcOFtHW"
      },
      "outputs": [],
      "source": [
        "churn_index=df2[df2['Churn']==1].index"
      ]
    },
    {
      "cell_type": "code",
      "execution_count": null,
      "metadata": {
        "id": "jg6xJ9O5FtHW",
        "outputId": "08180ceb-d1d0-44fd-9a46-d7fb29057091"
      },
      "outputs": [
        {
          "data": {
            "text/plain": [
              "1869"
            ]
          },
          "execution_count": 66,
          "metadata": {},
          "output_type": "execute_result"
        }
      ],
      "source": [
        "churn_index"
      ]
    },
    {
      "cell_type": "code",
      "execution_count": null,
      "metadata": {
        "id": "0Kofl7iCFtHW"
      },
      "outputs": [],
      "source": [
        "norm_index=df2[df2['Churn']==0].index"
      ]
    },
    {
      "cell_type": "code",
      "execution_count": null,
      "metadata": {
        "id": "O9XCLS5tFtHW",
        "outputId": "6a572d0a-b4d1-411a-91f3-9d06feb37660"
      },
      "outputs": [
        {
          "data": {
            "text/plain": [
              "5163"
            ]
          },
          "execution_count": 68,
          "metadata": {},
          "output_type": "execute_result"
        }
      ],
      "source": [
        "len(norm_index)"
      ]
    },
    {
      "cell_type": "code",
      "execution_count": null,
      "metadata": {
        "id": "0ld2aJ5ZFtHW"
      },
      "outputs": [],
      "source": [
        "rand_norm_index=np.random.choice(norm_index,churn_count)"
      ]
    },
    {
      "cell_type": "code",
      "execution_count": null,
      "metadata": {
        "id": "6Ao5_CDKFtHX",
        "outputId": "92218184-8719-4efb-c30e-2bb54107cd3f"
      },
      "outputs": [
        {
          "data": {
            "text/plain": [
              "1869"
            ]
          },
          "execution_count": 71,
          "metadata": {},
          "output_type": "execute_result"
        }
      ],
      "source": [
        "len(rand_norm_index)"
      ]
    },
    {
      "cell_type": "code",
      "execution_count": null,
      "metadata": {
        "id": "DS63HCXMFtHX"
      },
      "outputs": [],
      "source": [
        "balanced_index=np.concatenate([rand_norm_index,churn_index])"
      ]
    },
    {
      "cell_type": "code",
      "execution_count": null,
      "metadata": {
        "id": "9U2J57caFtHX"
      },
      "outputs": [],
      "source": [
        "df2=df2.loc[balanced_index]"
      ]
    },
    {
      "cell_type": "code",
      "execution_count": null,
      "metadata": {
        "id": "--fRXyVzFtHY",
        "outputId": "2f8432dc-04dd-44a3-b56c-ffd9319ca4b5"
      },
      "outputs": [
        {
          "data": {
            "text/plain": [
              "(3738, 18)"
            ]
          },
          "execution_count": 74,
          "metadata": {},
          "output_type": "execute_result"
        }
      ],
      "source": []
    },
    {
      "cell_type": "code",
      "execution_count": null,
      "metadata": {
        "id": "fTgFqdTfFtHY"
      },
      "outputs": [],
      "source": []
    }
  ],
  "metadata": {
    "kernelspec": {
      "display_name": "Python 3",
      "language": "python",
      "name": "python3"
    },
    "language_info": {
      "codemirror_mode": {
        "name": "ipython",
        "version": 3
      },
      "file_extension": ".py",
      "mimetype": "text/x-python",
      "name": "python",
      "nbconvert_exporter": "python",
      "pygments_lexer": "ipython3",
      "version": "3.6.5"
    },
    "colab": {
      "provenance": []
    }
  },
  "nbformat": 4,
  "nbformat_minor": 0
}