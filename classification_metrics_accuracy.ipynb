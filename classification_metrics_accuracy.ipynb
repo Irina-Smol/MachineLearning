{
  "nbformat": 4,
  "nbformat_minor": 0,
  "metadata": {
    "colab": {
      "provenance": []
    },
    "kernelspec": {
      "name": "python3",
      "display_name": "Python 3"
    },
    "language_info": {
      "name": "python"
    }
  },
  "cells": [
    {
      "cell_type": "markdown",
      "metadata": {
        "id": "DvIjeCH3AZqO"
      },
      "source": [
        "## Установка нужных версий библиотек"
      ]
    },
    {
      "cell_type": "code",
      "metadata": {
        "colab": {
          "base_uri": "https://localhost:8080/"
        },
        "id": "2aEQws1__x5W",
        "outputId": "7362dde9-566e-407e-d318-18fc51246ff4"
      },
      "source": [
        "!wget 'https://drive.google.com/uc?export=download&id=1oSFOP0j25OZAuhD8YXxyQXNTdr2lUdtn' -O requirements.txt"
      ],
      "execution_count": 1,
      "outputs": [
        {
          "output_type": "stream",
          "name": "stdout",
          "text": [
            "--2023-02-15 05:30:41--  https://drive.google.com/uc?export=download&id=1oSFOP0j25OZAuhD8YXxyQXNTdr2lUdtn\n",
            "Resolving drive.google.com (drive.google.com)... 108.177.11.101, 108.177.11.138, 108.177.11.102, ...\n",
            "Connecting to drive.google.com (drive.google.com)|108.177.11.101|:443... connected.\n",
            "HTTP request sent, awaiting response... 303 See Other\n",
            "Location: https://doc-0g-c0-docs.googleusercontent.com/docs/securesc/ha0ro937gcuc7l7deffksulhg5h7mbp1/lo2qs6ehcf8a92gg82u00j6kkfqdsrmp/1676439000000/14904333240138417226/*/1oSFOP0j25OZAuhD8YXxyQXNTdr2lUdtn?e=download&uuid=38c1c10a-940a-46ad-9b6b-799279448756 [following]\n",
            "Warning: wildcards not supported in HTTP.\n",
            "--2023-02-15 05:30:42--  https://doc-0g-c0-docs.googleusercontent.com/docs/securesc/ha0ro937gcuc7l7deffksulhg5h7mbp1/lo2qs6ehcf8a92gg82u00j6kkfqdsrmp/1676439000000/14904333240138417226/*/1oSFOP0j25OZAuhD8YXxyQXNTdr2lUdtn?e=download&uuid=38c1c10a-940a-46ad-9b6b-799279448756\n",
            "Resolving doc-0g-c0-docs.googleusercontent.com (doc-0g-c0-docs.googleusercontent.com)... 142.251.162.132, 2607:f8b0:400c:c38::84\n",
            "Connecting to doc-0g-c0-docs.googleusercontent.com (doc-0g-c0-docs.googleusercontent.com)|142.251.162.132|:443... connected.\n",
            "HTTP request sent, awaiting response... 200 OK\n",
            "Length: 74 [text/plain]\n",
            "Saving to: ‘requirements.txt’\n",
            "\n",
            "requirements.txt    100%[===================>]      74  --.-KB/s    in 0s      \n",
            "\n",
            "2023-02-15 05:30:42 (1.23 MB/s) - ‘requirements.txt’ saved [74/74]\n",
            "\n"
          ]
        }
      ]
    },
    {
      "cell_type": "code",
      "metadata": {
        "colab": {
          "base_uri": "https://localhost:8080/"
        },
        "id": "IvqZRWioAeXH",
        "outputId": "aadde4c3-19d1-4f2a-bddf-96f578aad589"
      },
      "source": [
        "!pip install -r requirements.txt"
      ],
      "execution_count": null,
      "outputs": [
        {
          "output_type": "stream",
          "text": [
            "Requirement already satisfied: scikit-learn==0.22.2.post1 in /usr/local/lib/python3.7/dist-packages (from -r requirements.txt (line 1)) (0.22.2.post1)\n",
            "Requirement already satisfied: pandas==1.1.5 in /usr/local/lib/python3.7/dist-packages (from -r requirements.txt (line 2)) (1.1.5)\n",
            "Requirement already satisfied: matplotlib==3.2.2 in /usr/local/lib/python3.7/dist-packages (from -r requirements.txt (line 3)) (3.2.2)\n",
            "Requirement already satisfied: numpy==1.19.5 in /usr/local/lib/python3.7/dist-packages (from -r requirements.txt (line 4)) (1.19.5)\n",
            "Requirement already satisfied: scipy>=0.17.0 in /usr/local/lib/python3.7/dist-packages (from scikit-learn==0.22.2.post1->-r requirements.txt (line 1)) (1.4.1)\n",
            "Requirement already satisfied: joblib>=0.11 in /usr/local/lib/python3.7/dist-packages (from scikit-learn==0.22.2.post1->-r requirements.txt (line 1)) (1.0.1)\n",
            "Requirement already satisfied: python-dateutil>=2.7.3 in /usr/local/lib/python3.7/dist-packages (from pandas==1.1.5->-r requirements.txt (line 2)) (2.8.2)\n",
            "Requirement already satisfied: pytz>=2017.2 in /usr/local/lib/python3.7/dist-packages (from pandas==1.1.5->-r requirements.txt (line 2)) (2018.9)\n",
            "Requirement already satisfied: kiwisolver>=1.0.1 in /usr/local/lib/python3.7/dist-packages (from matplotlib==3.2.2->-r requirements.txt (line 3)) (1.3.1)\n",
            "Requirement already satisfied: pyparsing!=2.0.4,!=2.1.2,!=2.1.6,>=2.0.1 in /usr/local/lib/python3.7/dist-packages (from matplotlib==3.2.2->-r requirements.txt (line 3)) (2.4.7)\n",
            "Requirement already satisfied: cycler>=0.10 in /usr/local/lib/python3.7/dist-packages (from matplotlib==3.2.2->-r requirements.txt (line 3)) (0.10.0)\n",
            "Requirement already satisfied: six in /usr/local/lib/python3.7/dist-packages (from cycler>=0.10->matplotlib==3.2.2->-r requirements.txt (line 3)) (1.15.0)\n"
          ],
          "name": "stdout"
        }
      ]
    },
    {
      "cell_type": "code",
      "metadata": {
        "id": "oseC_nj55T5A"
      },
      "source": [
        "import pandas as pd\n",
        "import numpy as np\n",
        "import matplotlib.pyplot as plt"
      ],
      "execution_count": null,
      "outputs": []
    },
    {
      "cell_type": "markdown",
      "metadata": {
        "id": "C-mDBnzI52x2"
      },
      "source": [
        "Метрики в машинном обучении нужны для того, чтобы оценивать качество работы модели, чтобы понимать, а насколько модель хорошо запомнила закономерности из обучающей выборки.  \n",
        "\n",
        "Сегодня будем рассматривать метрики для задачи классификации - предсказания номинативной (качественной) целевой переменной. Для такой задачи хочется, чтобы наши модели как можно чаще предсказывали верную метку класса объекта.\n",
        "\n",
        "<img src='https://static.javatpoint.com/tutorial/machine-learning/images/classification-algorithm-in-machine-learning.png' width=600>\n",
        "\n",
        "\n",
        "Для подсчета разных метрик классификации сгенерируем данные с помощью `sklearn`."
      ]
    },
    {
      "cell_type": "markdown",
      "metadata": {
        "id": "F1Sdqov32DLc"
      },
      "source": [
        "## Генерация данных"
      ]
    },
    {
      "cell_type": "markdown",
      "metadata": {
        "id": "rWoxvFl-2DLu"
      },
      "source": [
        "Будем работать с набором данных для задачи классификации. Получим через метод `make_classification` данные, состоящие из двух информативных признаков (`n_features=2, n_informative=2`) в количестве 20 штук (`n_samples=20`) для предсказания одной целевой переменной, которая будет состоять из двух классов (`n_classes=2`). "
      ]
    },
    {
      "cell_type": "code",
      "metadata": {
        "colab": {
          "base_uri": "https://localhost:8080/"
        },
        "id": "vTo48syV2DLx",
        "outputId": "1949455d-4fdd-4108-d817-dc8481d7c443"
      },
      "source": [
        "from sklearn import datasets\n",
        "\n",
        "\n",
        "X, y = datasets.make_classification(\n",
        "    n_samples=20,\n",
        "    n_features=2,\n",
        "    n_informative=2,\n",
        "    n_redundant=0,\n",
        "    n_classes=2, \n",
        "    random_state=2\n",
        ")\n",
        "\n",
        "X, y"
      ],
      "execution_count": null,
      "outputs": [
        {
          "output_type": "execute_result",
          "data": {
            "text/plain": [
              "(array([[ 0.24306743, -0.52734094],\n",
              "        [ 0.96417816, -0.37583852],\n",
              "        [-1.08486058,  0.00847624],\n",
              "        [-0.90653761,  3.3851625 ],\n",
              "        [ 1.33279979,  1.25629151],\n",
              "        [ 0.72576002,  0.53047004],\n",
              "        [-0.77546276, -0.9788468 ],\n",
              "        [ 1.03317819, -0.88253973],\n",
              "        [ 1.39939732,  3.2047161 ],\n",
              "        [-0.07784592, -0.67730036],\n",
              "        [ 1.2610877 , -1.3003902 ],\n",
              "        [-2.44391337, -0.56099989],\n",
              "        [-1.11064538,  0.7571574 ],\n",
              "        [-0.90474756,  0.59452911],\n",
              "        [-2.51019507, -0.30991259],\n",
              "        [ 0.9153728 ,  0.08016006],\n",
              "        [ 1.28700068, -1.90827144],\n",
              "        [-1.94625628, -0.53314708],\n",
              "        [-0.91390999,  2.05571391],\n",
              "        [-1.33222706, -0.85982898]]),\n",
              " array([1, 0, 1, 1, 1, 1, 0, 0, 1, 1, 0, 0, 1, 1, 0, 0, 0, 0, 1, 0]))"
            ]
          },
          "metadata": {},
          "execution_count": 4
        }
      ]
    },
    {
      "cell_type": "markdown",
      "metadata": {
        "id": "Zm1ctphG3yDb"
      },
      "source": [
        "Получили 20 объектов из двух признаков, можем их визуализировать и сделать раскрашивание в зависимости от метки класса:"
      ]
    },
    {
      "cell_type": "code",
      "metadata": {
        "colab": {
          "base_uri": "https://localhost:8080/",
          "height": 388
        },
        "id": "usSqXwkW38ja",
        "outputId": "72b378d8-8285-44a0-88b0-fee2df61b4d3"
      },
      "source": [
        "plt.figure(figsize=(7, 6))\n",
        "\n",
        "class_0 = X[y == 0]\n",
        "class_1 = X[y == 1]\n",
        "plt.scatter(class_0[:, 0], class_0[:, 1], label='0 класс')\n",
        "plt.scatter(class_1[:, 0], class_1[:, 1], label='1 класс')\n",
        "\n",
        "plt.legend()\n",
        "plt.xlabel('X')\n",
        "plt.ylabel('y');"
      ],
      "execution_count": null,
      "outputs": [
        {
          "output_type": "display_data",
          "data": {
            "image/png": "[encoded data removed]",
            "text/plain": [
              "<Figure size 504x432 with 1 Axes>"
            ]
          },
          "metadata": {
            "needs_background": "light"
          }
        }
      ]
    },
    {
      "cell_type": "markdown",
      "metadata": {
        "id": "IjDfPqP9vmJl"
      },
      "source": [
        "## Обучение модели"
      ]
    },
    {
      "cell_type": "markdown",
      "metadata": {
        "id": "0YzNmTU377Y_"
      },
      "source": [
        "Возьмем линейную модель для классификации логистическая регрессия из `sklearn'a` и обучим на выборке.\n",
        "\n"
      ]
    },
    {
      "cell_type": "code",
      "metadata": {
        "colab": {
          "base_uri": "https://localhost:8080/"
        },
        "id": "vykLsbb60Cl0",
        "outputId": "34dc960b-f486-419f-ebf5-657823e9e8b9"
      },
      "source": [
        "from sklearn.linear_model import LogisticRegression\n",
        "\n",
        "logreg = LogisticRegression()\n",
        "logreg.fit(X, y)"
      ],
      "execution_count": null,
      "outputs": [
        {
          "output_type": "execute_result",
          "data": {
            "text/plain": [
              "LogisticRegression(C=1.0, class_weight=None, dual=False, fit_intercept=True,\n",
              "                   intercept_scaling=1, l1_ratio=None, max_iter=100,\n",
              "                   multi_class='auto', n_jobs=None, penalty='l2',\n",
              "                   random_state=None, solver='lbfgs', tol=0.0001, verbose=0,\n",
              "                   warm_start=False)"
            ]
          },
          "metadata": {},
          "execution_count": 6
        }
      ]
    },
    {
      "cell_type": "markdown",
      "metadata": {
        "id": "nsslHuuU8DCv"
      },
      "source": [
        "Теперь сделаем предсказания на всей выборке, чтобы понять, насколько хорошо модель научилась предсказывать целевую метку класса."
      ]
    },
    {
      "cell_type": "code",
      "metadata": {
        "id": "Rm0Tg0Ch49QR"
      },
      "source": [
        "pred = logreg.predict(X)"
      ],
      "execution_count": null,
      "outputs": []
    },
    {
      "cell_type": "markdown",
      "metadata": {
        "id": "dqhHoeahgeWc"
      },
      "source": [
        "## Метрики"
      ]
    },
    {
      "cell_type": "markdown",
      "metadata": {
        "id": "pfQH8RDc8K79"
      },
      "source": [
        "Выведем рядом истинные значения целевой переменной и предсказанные моделью классы."
      ]
    },
    {
      "cell_type": "code",
      "metadata": {
        "colab": {
          "base_uri": "https://localhost:8080/",
          "height": 669
        },
        "id": "XsG7aYds-XsT",
        "outputId": "65f3d304-ffd2-432c-96a9-9c83b3982a23"
      },
      "source": [
        "pred_df = pd.DataFrame({\n",
        "    'ground truth': y,\n",
        "    'prediction': pred\n",
        "})\n",
        "\n",
        "pred_df"
      ],
      "execution_count": null,
      "outputs": [
        {
          "output_type": "execute_result",
          "data": {
            "text/html": [
              "<div>\n",
              "<style scoped>\n",
              "    .dataframe tbody tr th:only-of-type {\n",
              "        vertical-align: middle;\n",
              "    }\n",
              "\n",
              "    .dataframe tbody tr th {\n",
              "        vertical-align: top;\n",
              "    }\n",
              "\n",
              "    .dataframe thead th {\n",
              "        text-align: right;\n",
              "    }\n",
              "</style>\n",
              "<table border=\"1\" class=\"dataframe\">\n",
              "  <thead>\n",
              "    <tr style=\"text-align: right;\">\n",
              "      <th></th>\n",
              "      <th>ground truth</th>\n",
              "      <th>prediction</th>\n",
              "    </tr>\n",
              "  </thead>\n",
              "  <tbody>\n",
              "    <tr>\n",
              "      <th>0</th>\n",
              "      <td>1</td>\n",
              "      <td>0</td>\n",
              "    </tr>\n",
              "    <tr>\n",
              "      <th>1</th>\n",
              "      <td>0</td>\n",
              "      <td>0</td>\n",
              "    </tr>\n",
              "    <tr>\n",
              "      <th>2</th>\n",
              "      <td>1</td>\n",
              "      <td>0</td>\n",
              "    </tr>\n",
              "    <tr>\n",
              "      <th>3</th>\n",
              "      <td>1</td>\n",
              "      <td>1</td>\n",
              "    </tr>\n",
              "    <tr>\n",
              "      <th>4</th>\n",
              "      <td>1</td>\n",
              "      <td>1</td>\n",
              "    </tr>\n",
              "    <tr>\n",
              "      <th>5</th>\n",
              "      <td>1</td>\n",
              "      <td>1</td>\n",
              "    </tr>\n",
              "    <tr>\n",
              "      <th>6</th>\n",
              "      <td>0</td>\n",
              "      <td>0</td>\n",
              "    </tr>\n",
              "    <tr>\n",
              "      <th>7</th>\n",
              "      <td>0</td>\n",
              "      <td>0</td>\n",
              "    </tr>\n",
              "    <tr>\n",
              "      <th>8</th>\n",
              "      <td>1</td>\n",
              "      <td>1</td>\n",
              "    </tr>\n",
              "    <tr>\n",
              "      <th>9</th>\n",
              "      <td>1</td>\n",
              "      <td>0</td>\n",
              "    </tr>\n",
              "    <tr>\n",
              "      <th>10</th>\n",
              "      <td>0</td>\n",
              "      <td>0</td>\n",
              "    </tr>\n",
              "    <tr>\n",
              "      <th>11</th>\n",
              "      <td>0</td>\n",
              "      <td>0</td>\n",
              "    </tr>\n",
              "    <tr>\n",
              "      <th>12</th>\n",
              "      <td>1</td>\n",
              "      <td>1</td>\n",
              "    </tr>\n",
              "    <tr>\n",
              "      <th>13</th>\n",
              "      <td>1</td>\n",
              "      <td>1</td>\n",
              "    </tr>\n",
              "    <tr>\n",
              "      <th>14</th>\n",
              "      <td>0</td>\n",
              "      <td>0</td>\n",
              "    </tr>\n",
              "    <tr>\n",
              "      <th>15</th>\n",
              "      <td>0</td>\n",
              "      <td>1</td>\n",
              "    </tr>\n",
              "    <tr>\n",
              "      <th>16</th>\n",
              "      <td>0</td>\n",
              "      <td>0</td>\n",
              "    </tr>\n",
              "    <tr>\n",
              "      <th>17</th>\n",
              "      <td>0</td>\n",
              "      <td>0</td>\n",
              "    </tr>\n",
              "    <tr>\n",
              "      <th>18</th>\n",
              "      <td>1</td>\n",
              "      <td>1</td>\n",
              "    </tr>\n",
              "    <tr>\n",
              "      <th>19</th>\n",
              "      <td>0</td>\n",
              "      <td>0</td>\n",
              "    </tr>\n",
              "  </tbody>\n",
              "</table>\n",
              "</div>"
            ],
            "text/plain": [
              "    ground truth  prediction\n",
              "0              1           0\n",
              "1              0           0\n",
              "2              1           0\n",
              "3              1           1\n",
              "4              1           1\n",
              "5              1           1\n",
              "6              0           0\n",
              "7              0           0\n",
              "8              1           1\n",
              "9              1           0\n",
              "10             0           0\n",
              "11             0           0\n",
              "12             1           1\n",
              "13             1           1\n",
              "14             0           0\n",
              "15             0           1\n",
              "16             0           0\n",
              "17             0           0\n",
              "18             1           1\n",
              "19             0           0"
            ]
          },
          "metadata": {},
          "execution_count": 8
        }
      ]
    },
    {
      "cell_type": "markdown",
      "metadata": {
        "id": "XbAHyoemGR6y"
      },
      "source": [
        "В первой строке должны были предсказать 1 класс, но модель предсказала 0, зато со следующим объектом нет проблем, целевая метка - 0 класс, предсказали тоже нулевой класс, можем дальше посмотреть на все объекты и сравнить истину с предсказанным классом.   "
      ]
    },
    {
      "cell_type": "markdown",
      "metadata": {
        "id": "qMv3Dc4vWwxM"
      },
      "source": [
        "## Accuracy"
      ]
    },
    {
      "cell_type": "markdown",
      "metadata": {
        "id": "eCkSzLcgWvGI"
      },
      "source": [
        "Если мы так сделаем, то узнаем сколько раз модель ответила правильно - это и есть наша первая метрика Accuracy.\n",
        "\n",
        "\n",
        "Это наиболее очевидный и простой способ расчета качества предсказаний:\n",
        "\n",
        "$$accuracy(a,x) = \\frac{1}{l} \\sum^{l}_{i=1}[a(x_{i})=y_{i}].$$\n",
        "\n",
        "\n",
        "Доля правильных ответов может изменяться от 0 до 1, где 0 - модель ниразу не попала правильно, все её предсказания ошибочные, а 1 - модель предсказала всё идеально."
      ]
    },
    {
      "cell_type": "markdown",
      "metadata": {
        "id": "m9_L4Gr9SIuI"
      },
      "source": [
        "Сделаем новый столбец в датафрейме, который будет показывать, угадала ли наша модель истинный класс, False - если предсказание неправильное и True - если правильное:"
      ]
    },
    {
      "cell_type": "code",
      "metadata": {
        "colab": {
          "base_uri": "https://localhost:8080/",
          "height": 669
        },
        "id": "y1JFnAKeR5tt",
        "outputId": "ab9ecd28-5fac-41d1-d8fb-0b96d7dea9d1"
      },
      "source": [
        "pred_df['right'] = pred_df['ground truth'] == pred_df['prediction']\n",
        "pred_df"
      ],
      "execution_count": null,
      "outputs": [
        {
          "output_type": "execute_result",
          "data": {
            "text/html": [
              "<div>\n",
              "<style scoped>\n",
              "    .dataframe tbody tr th:only-of-type {\n",
              "        vertical-align: middle;\n",
              "    }\n",
              "\n",
              "    .dataframe tbody tr th {\n",
              "        vertical-align: top;\n",
              "    }\n",
              "\n",
              "    .dataframe thead th {\n",
              "        text-align: right;\n",
              "    }\n",
              "</style>\n",
              "<table border=\"1\" class=\"dataframe\">\n",
              "  <thead>\n",
              "    <tr style=\"text-align: right;\">\n",
              "      <th></th>\n",
              "      <th>ground truth</th>\n",
              "      <th>prediction</th>\n",
              "      <th>right</th>\n",
              "    </tr>\n",
              "  </thead>\n",
              "  <tbody>\n",
              "    <tr>\n",
              "      <th>0</th>\n",
              "      <td>1</td>\n",
              "      <td>0</td>\n",
              "      <td>False</td>\n",
              "    </tr>\n",
              "    <tr>\n",
              "      <th>1</th>\n",
              "      <td>0</td>\n",
              "      <td>0</td>\n",
              "      <td>True</td>\n",
              "    </tr>\n",
              "    <tr>\n",
              "      <th>2</th>\n",
              "      <td>1</td>\n",
              "      <td>0</td>\n",
              "      <td>False</td>\n",
              "    </tr>\n",
              "    <tr>\n",
              "      <th>3</th>\n",
              "      <td>1</td>\n",
              "      <td>1</td>\n",
              "      <td>True</td>\n",
              "    </tr>\n",
              "    <tr>\n",
              "      <th>4</th>\n",
              "      <td>1</td>\n",
              "      <td>1</td>\n",
              "      <td>True</td>\n",
              "    </tr>\n",
              "    <tr>\n",
              "      <th>5</th>\n",
              "      <td>1</td>\n",
              "      <td>1</td>\n",
              "      <td>True</td>\n",
              "    </tr>\n",
              "    <tr>\n",
              "      <th>6</th>\n",
              "      <td>0</td>\n",
              "      <td>0</td>\n",
              "      <td>True</td>\n",
              "    </tr>\n",
              "    <tr>\n",
              "      <th>7</th>\n",
              "      <td>0</td>\n",
              "      <td>0</td>\n",
              "      <td>True</td>\n",
              "    </tr>\n",
              "    <tr>\n",
              "      <th>8</th>\n",
              "      <td>1</td>\n",
              "      <td>1</td>\n",
              "      <td>True</td>\n",
              "    </tr>\n",
              "    <tr>\n",
              "      <th>9</th>\n",
              "      <td>1</td>\n",
              "      <td>0</td>\n",
              "      <td>False</td>\n",
              "    </tr>\n",
              "    <tr>\n",
              "      <th>10</th>\n",
              "      <td>0</td>\n",
              "      <td>0</td>\n",
              "      <td>True</td>\n",
              "    </tr>\n",
              "    <tr>\n",
              "      <th>11</th>\n",
              "      <td>0</td>\n",
              "      <td>0</td>\n",
              "      <td>True</td>\n",
              "    </tr>\n",
              "    <tr>\n",
              "      <th>12</th>\n",
              "      <td>1</td>\n",
              "      <td>1</td>\n",
              "      <td>True</td>\n",
              "    </tr>\n",
              "    <tr>\n",
              "      <th>13</th>\n",
              "      <td>1</td>\n",
              "      <td>1</td>\n",
              "      <td>True</td>\n",
              "    </tr>\n",
              "    <tr>\n",
              "      <th>14</th>\n",
              "      <td>0</td>\n",
              "      <td>0</td>\n",
              "      <td>True</td>\n",
              "    </tr>\n",
              "    <tr>\n",
              "      <th>15</th>\n",
              "      <td>0</td>\n",
              "      <td>1</td>\n",
              "      <td>False</td>\n",
              "    </tr>\n",
              "    <tr>\n",
              "      <th>16</th>\n",
              "      <td>0</td>\n",
              "      <td>0</td>\n",
              "      <td>True</td>\n",
              "    </tr>\n",
              "    <tr>\n",
              "      <th>17</th>\n",
              "      <td>0</td>\n",
              "      <td>0</td>\n",
              "      <td>True</td>\n",
              "    </tr>\n",
              "    <tr>\n",
              "      <th>18</th>\n",
              "      <td>1</td>\n",
              "      <td>1</td>\n",
              "      <td>True</td>\n",
              "    </tr>\n",
              "    <tr>\n",
              "      <th>19</th>\n",
              "      <td>0</td>\n",
              "      <td>0</td>\n",
              "      <td>True</td>\n",
              "    </tr>\n",
              "  </tbody>\n",
              "</table>\n",
              "</div>"
            ],
            "text/plain": [
              "    ground truth  prediction  right\n",
              "0              1           0  False\n",
              "1              0           0   True\n",
              "2              1           0  False\n",
              "3              1           1   True\n",
              "4              1           1   True\n",
              "5              1           1   True\n",
              "6              0           0   True\n",
              "7              0           0   True\n",
              "8              1           1   True\n",
              "9              1           0  False\n",
              "10             0           0   True\n",
              "11             0           0   True\n",
              "12             1           1   True\n",
              "13             1           1   True\n",
              "14             0           0   True\n",
              "15             0           1  False\n",
              "16             0           0   True\n",
              "17             0           0   True\n",
              "18             1           1   True\n",
              "19             0           0   True"
            ]
          },
          "metadata": {},
          "execution_count": 8
        }
      ]
    },
    {
      "cell_type": "markdown",
      "metadata": {
        "id": "abzZc-ZOc8sQ"
      },
      "source": [
        "Найдем объекты, на которых модель ошиблась:"
      ]
    },
    {
      "cell_type": "code",
      "metadata": {
        "id": "pQXkw-MQc000"
      },
      "source": [
        "wrong_objects_0_class = X[~(pred_df['right']) & (pred_df['ground truth'] == 0)]\n",
        "wrong_objects_1_class = X[~(pred_df['right']) & (pred_df['ground truth'] == 1)]"
      ],
      "execution_count": null,
      "outputs": []
    },
    {
      "cell_type": "markdown",
      "metadata": {
        "id": "nfyvGLiSeGSE"
      },
      "source": [
        "И визуализируем, пометив зеленым цветом объекты 1 класса, на которых модель ошибочно сделала предсказания нулевого класса и красным цветом - объекты 0 класса, которые модель ошибочно отнесла к 1 классу."
      ]
    },
    {
      "cell_type": "code",
      "metadata": {
        "colab": {
          "base_uri": "https://localhost:8080/",
          "height": 388
        },
        "id": "hTTst9iNcwtZ",
        "outputId": "b217c49a-03dc-4d62-a938-7a2a119c83bd"
      },
      "source": [
        "plt.figure(figsize=(7, 6))\n",
        "\n",
        "# визуализация данных по классам\n",
        "class_0 = X[y == 0]\n",
        "class_1 = X[y == 1]\n",
        "plt.scatter(class_0[:, 0], class_0[:, 1], label='0 класс')\n",
        "plt.scatter(class_1[:, 0], class_1[:, 1], label='1 класс')\n",
        "\n",
        "# визуализация ошибок по классам\n",
        "plt.scatter(wrong_objects_0_class[:, 0], wrong_objects_0_class[:, 1], c='r', label='Ошибочно предсказан 1', s=100)\n",
        "plt.scatter(wrong_objects_1_class[:, 0], wrong_objects_1_class[:, 1], c='g', label='Ошибочно предсказан 0', s=100)\n",
        "\n",
        "plt.legend()\n",
        "plt.xlabel('X')\n",
        "plt.ylabel('y');"
      ],
      "execution_count": null,
      "outputs": [
        {
          "output_type": "display_data",
          "data": {
            "image/png": "[encoded data removed]",
            "text/plain": [
              "<Figure size 504x432 with 1 Axes>"
            ]
          },
          "metadata": {
            "needs_background": "light"
          }
        }
      ]
    },
    {
      "cell_type": "markdown",
      "metadata": {
        "id": "_qXFVSNTStrr"
      },
      "source": [
        "Ошибок вышло 4 штуки.   \n",
        "Посчитаем, сколько раз модель сделала верное предсказание:"
      ]
    },
    {
      "cell_type": "code",
      "metadata": {
        "colab": {
          "base_uri": "https://localhost:8080/"
        },
        "id": "p9PMW2LPSxju",
        "outputId": "9e3e21f9-63f0-4f57-e6a6-5ef8bd3827c8"
      },
      "source": [
        "pred_df[pred_df['right'] == True].shape[0]"
      ],
      "execution_count": null,
      "outputs": [
        {
          "output_type": "execute_result",
          "data": {
            "text/plain": [
              "16"
            ]
          },
          "metadata": {},
          "execution_count": 11
        }
      ]
    },
    {
      "cell_type": "markdown",
      "metadata": {
        "id": "c2UbExdpSUFy"
      },
      "source": [
        "Далее можем посчитать долю правильных ответов (количество значений True поделить на количество объектов):"
      ]
    },
    {
      "cell_type": "code",
      "metadata": {
        "colab": {
          "base_uri": "https://localhost:8080/"
        },
        "id": "w6TILbHmSi1q",
        "outputId": "d128a7b2-f43b-4d94-83a6-6b1b987f54bf"
      },
      "source": [
        "pred_df['right'].sum() / pred_df.shape[0]"
      ],
      "execution_count": null,
      "outputs": [
        {
          "output_type": "execute_result",
          "data": {
            "text/plain": [
              "0.8"
            ]
          },
          "metadata": {},
          "execution_count": 12
        }
      ]
    },
    {
      "cell_type": "markdown",
      "metadata": {
        "id": "-mfqm0F8I-T1"
      },
      "source": [
        "Либо можем воспользоваться реализацией `sklearn'a`:"
      ]
    },
    {
      "cell_type": "code",
      "metadata": {
        "colab": {
          "base_uri": "https://localhost:8080/"
        },
        "id": "vRPmIgkvJDIh",
        "outputId": "eee551ba-4061-44a5-ea92-f3cf88c30e5b"
      },
      "source": [
        "from sklearn.metrics import accuracy_score\n",
        "\n",
        "accuracy_score(pred_df['ground truth'], pred_df['prediction'])"
      ],
      "execution_count": null,
      "outputs": [
        {
          "output_type": "execute_result",
          "data": {
            "text/plain": [
              "0.8"
            ]
          },
          "metadata": {},
          "execution_count": 30
        }
      ]
    },
    {
      "cell_type": "markdown",
      "metadata": {
        "id": "oJMvriHpaf2Y"
      },
      "source": [
        "Получили 0.8 или 80% - доля верных предсказаний относительно всех предсказаний."
      ]
    },
    {
      "cell_type": "markdown",
      "metadata": {
        "id": "1wyckUKOasiO"
      },
      "source": [
        "Метрика accuracy хорошая, простая, но у неё есть пара проблем."
      ]
    },
    {
      "cell_type": "markdown",
      "metadata": {
        "id": "g_NorA2VWnWx"
      },
      "source": [
        "### Дисбаланс классов"
      ]
    },
    {
      "cell_type": "markdown",
      "metadata": {
        "id": "1JrXT6U-Vbwy"
      },
      "source": [
        "Представим, что в нашей выборке очень много объектов нулевого класса и совсем ничего объектов первого класса, к тому же такое встречается очень часто, примером служит задача предсказания мошеннических транзакций, или она ещё называется fraud detection: очень много совершается обычных транзакций и крайне мало транзакций со злым умыслом."
      ]
    },
    {
      "cell_type": "markdown",
      "metadata": {
        "id": "OIe4tAD4WLiT"
      },
      "source": [
        "Сгенерируем такую выборку, где есть дисбаланс классов, объектов 0 класса в 9 раз больше, чем объектов 1 класса (`weights=(0.9, 0.1)`).  \n",
        "Для простоты понимания, будем считать, что 0 класс - это обычные транзакции в банке, а 1 класс - это подозрительные мошеннические транзакции."
      ]
    },
    {
      "cell_type": "code",
      "metadata": {
        "colab": {
          "base_uri": "https://localhost:8080/"
        },
        "id": "7Eu61ZbRV5DV",
        "outputId": "ae843815-887f-4cb4-beb2-c3de040dbe48"
      },
      "source": [
        "from sklearn import datasets\n",
        "\n",
        "\n",
        "X_disbalance, y_disbalance = datasets.make_classification(\n",
        "    n_samples=20,\n",
        "    n_features=2,\n",
        "    n_informative=2,\n",
        "    n_redundant=0,\n",
        "    n_classes=2, \n",
        "    random_state=2,\n",
        "    weights=(0.9, 0.1)\n",
        ")\n",
        "\n",
        "X_disbalance, y_disbalance"
      ],
      "execution_count": null,
      "outputs": [
        {
          "output_type": "execute_result",
          "data": {
            "text/plain": [
              "(array([[ 0.66930255, -0.35556485],\n",
              "        [ 0.96417816, -0.37583852],\n",
              "        [-1.1177634 , -0.85116212],\n",
              "        [-0.26257856, -1.50684503],\n",
              "        [ 1.27004352, -2.01184296],\n",
              "        [ 0.72576002,  0.53047004],\n",
              "        [-0.77546276, -0.9788468 ],\n",
              "        [ 1.03317819, -0.88253973],\n",
              "        [ 0.7545933 ,  1.11410377],\n",
              "        [ 0.37973272,  0.79063286],\n",
              "        [ 1.2610877 , -1.3003902 ],\n",
              "        [-2.44391337, -0.56099989],\n",
              "        [-0.66010918, -1.0843706 ],\n",
              "        [-0.90474756,  0.59452911],\n",
              "        [-2.51019507, -0.30991259],\n",
              "        [ 0.9153728 ,  0.08016006],\n",
              "        [ 1.28700068, -1.90827144],\n",
              "        [-1.94625628, -0.53314708],\n",
              "        [-0.85711456, -1.16420714],\n",
              "        [-1.33222706, -0.85982898]]),\n",
              " array([0, 0, 0, 0, 0, 1, 0, 0, 0, 0, 0, 0, 0, 1, 0, 0, 0, 0, 0, 0]))"
            ]
          },
          "metadata": {},
          "execution_count": 14
        }
      ]
    },
    {
      "cell_type": "markdown",
      "metadata": {
        "id": "BIWF5yD2V5Df"
      },
      "source": [
        "Получили 20 объектов, где 18 - объекты нулевого класса (нормальная транзакция) и только 2 объекта первого класса (мошенническая транзакция), визуализируем:"
      ]
    },
    {
      "cell_type": "code",
      "metadata": {
        "colab": {
          "base_uri": "https://localhost:8080/",
          "height": 388
        },
        "id": "j11oMsWUV5Dg",
        "outputId": "5646525c-8180-4e63-fd0c-7b33b05c7201"
      },
      "source": [
        "plt.figure(figsize=(7, 6))\n",
        "\n",
        "class_0 = X_disbalance[y_disbalance == 0]\n",
        "class_1 = X_disbalance[y_disbalance == 1]\n",
        "plt.scatter(class_0[:, 0], class_0[:, 1], label='не фрод')\n",
        "plt.scatter(class_1[:, 0], class_1[:, 1], label='фрод')\n",
        "\n",
        "plt.legend()\n",
        "plt.xlabel('X')\n",
        "plt.ylabel('y');"
      ],
      "execution_count": null,
      "outputs": [
        {
          "output_type": "display_data",
          "data": {
            "image/png": "[encoded data removed]",
            "text/plain": [
              "<Figure size 504x432 with 1 Axes>"
            ]
          },
          "metadata": {
            "needs_background": "light"
          }
        }
      ]
    },
    {
      "cell_type": "markdown",
      "metadata": {
        "id": "ut0nH88uW6Dw"
      },
      "source": [
        "Если мы возьмем константную модель (`a(x) = 0`), которая всегда будет отвечать 0 класс на любой объект, который бы не видела, то получим приличную метрику accuracy:"
      ]
    },
    {
      "cell_type": "code",
      "metadata": {
        "colab": {
          "base_uri": "https://localhost:8080/"
        },
        "id": "by0A-6-mXLgR",
        "outputId": "c0f02cbe-dfa8-4656-b72c-bfae3c5cf55d"
      },
      "source": [
        "pred = [0 for i in range(20)]\n",
        "pred"
      ],
      "execution_count": null,
      "outputs": [
        {
          "output_type": "execute_result",
          "data": {
            "text/plain": [
              "[0, 0, 0, 0, 0, 0, 0, 0, 0, 0, 0, 0, 0, 0, 0, 0, 0, 0, 0, 0]"
            ]
          },
          "metadata": {},
          "execution_count": 16
        }
      ]
    },
    {
      "cell_type": "code",
      "metadata": {
        "colab": {
          "base_uri": "https://localhost:8080/",
          "height": 669
        },
        "id": "Hn6J1c9rXYD2",
        "outputId": "5c04e51f-cfd5-42d4-a1a8-a12f3f826699"
      },
      "source": [
        "pred_df_disbalance = pd.DataFrame({\n",
        "    'ground truth': y_disbalance,\n",
        "    'prediction': pred\n",
        "})\n",
        "\n",
        "pred_df_disbalance"
      ],
      "execution_count": null,
      "outputs": [
        {
          "output_type": "execute_result",
          "data": {
            "text/html": [
              "<div>\n",
              "<style scoped>\n",
              "    .dataframe tbody tr th:only-of-type {\n",
              "        vertical-align: middle;\n",
              "    }\n",
              "\n",
              "    .dataframe tbody tr th {\n",
              "        vertical-align: top;\n",
              "    }\n",
              "\n",
              "    .dataframe thead th {\n",
              "        text-align: right;\n",
              "    }\n",
              "</style>\n",
              "<table border=\"1\" class=\"dataframe\">\n",
              "  <thead>\n",
              "    <tr style=\"text-align: right;\">\n",
              "      <th></th>\n",
              "      <th>ground truth</th>\n",
              "      <th>prediction</th>\n",
              "    </tr>\n",
              "  </thead>\n",
              "  <tbody>\n",
              "    <tr>\n",
              "      <th>0</th>\n",
              "      <td>0</td>\n",
              "      <td>0</td>\n",
              "    </tr>\n",
              "    <tr>\n",
              "      <th>1</th>\n",
              "      <td>0</td>\n",
              "      <td>0</td>\n",
              "    </tr>\n",
              "    <tr>\n",
              "      <th>2</th>\n",
              "      <td>0</td>\n",
              "      <td>0</td>\n",
              "    </tr>\n",
              "    <tr>\n",
              "      <th>3</th>\n",
              "      <td>0</td>\n",
              "      <td>0</td>\n",
              "    </tr>\n",
              "    <tr>\n",
              "      <th>4</th>\n",
              "      <td>0</td>\n",
              "      <td>0</td>\n",
              "    </tr>\n",
              "    <tr>\n",
              "      <th>5</th>\n",
              "      <td>1</td>\n",
              "      <td>0</td>\n",
              "    </tr>\n",
              "    <tr>\n",
              "      <th>6</th>\n",
              "      <td>0</td>\n",
              "      <td>0</td>\n",
              "    </tr>\n",
              "    <tr>\n",
              "      <th>7</th>\n",
              "      <td>0</td>\n",
              "      <td>0</td>\n",
              "    </tr>\n",
              "    <tr>\n",
              "      <th>8</th>\n",
              "      <td>0</td>\n",
              "      <td>0</td>\n",
              "    </tr>\n",
              "    <tr>\n",
              "      <th>9</th>\n",
              "      <td>0</td>\n",
              "      <td>0</td>\n",
              "    </tr>\n",
              "    <tr>\n",
              "      <th>10</th>\n",
              "      <td>0</td>\n",
              "      <td>0</td>\n",
              "    </tr>\n",
              "    <tr>\n",
              "      <th>11</th>\n",
              "      <td>0</td>\n",
              "      <td>0</td>\n",
              "    </tr>\n",
              "    <tr>\n",
              "      <th>12</th>\n",
              "      <td>0</td>\n",
              "      <td>0</td>\n",
              "    </tr>\n",
              "    <tr>\n",
              "      <th>13</th>\n",
              "      <td>1</td>\n",
              "      <td>0</td>\n",
              "    </tr>\n",
              "    <tr>\n",
              "      <th>14</th>\n",
              "      <td>0</td>\n",
              "      <td>0</td>\n",
              "    </tr>\n",
              "    <tr>\n",
              "      <th>15</th>\n",
              "      <td>0</td>\n",
              "      <td>0</td>\n",
              "    </tr>\n",
              "    <tr>\n",
              "      <th>16</th>\n",
              "      <td>0</td>\n",
              "      <td>0</td>\n",
              "    </tr>\n",
              "    <tr>\n",
              "      <th>17</th>\n",
              "      <td>0</td>\n",
              "      <td>0</td>\n",
              "    </tr>\n",
              "    <tr>\n",
              "      <th>18</th>\n",
              "      <td>0</td>\n",
              "      <td>0</td>\n",
              "    </tr>\n",
              "    <tr>\n",
              "      <th>19</th>\n",
              "      <td>0</td>\n",
              "      <td>0</td>\n",
              "    </tr>\n",
              "  </tbody>\n",
              "</table>\n",
              "</div>"
            ],
            "text/plain": [
              "    ground truth  prediction\n",
              "0              0           0\n",
              "1              0           0\n",
              "2              0           0\n",
              "3              0           0\n",
              "4              0           0\n",
              "5              1           0\n",
              "6              0           0\n",
              "7              0           0\n",
              "8              0           0\n",
              "9              0           0\n",
              "10             0           0\n",
              "11             0           0\n",
              "12             0           0\n",
              "13             1           0\n",
              "14             0           0\n",
              "15             0           0\n",
              "16             0           0\n",
              "17             0           0\n",
              "18             0           0\n",
              "19             0           0"
            ]
          },
          "metadata": {},
          "execution_count": 17
        }
      ]
    },
    {
      "cell_type": "markdown",
      "metadata": {
        "id": "XDy2RdGpXp_x"
      },
      "source": [
        "Сделаем новый столбец в датафрейме, который будет показывать, угадала ли наша модель истинный класс, False - если предсказание неправильное и True - если правильное:"
      ]
    },
    {
      "cell_type": "code",
      "metadata": {
        "colab": {
          "base_uri": "https://localhost:8080/",
          "height": 669
        },
        "id": "C5yt5YBYXqAG",
        "outputId": "1506a332-d9fe-4286-8fb4-a5109d114e15"
      },
      "source": [
        "pred_df_disbalance['right'] = pred_df_disbalance['ground truth'] == pred_df_disbalance['prediction']\n",
        "pred_df_disbalance"
      ],
      "execution_count": null,
      "outputs": [
        {
          "output_type": "execute_result",
          "data": {
            "text/html": [
              "<div>\n",
              "<style scoped>\n",
              "    .dataframe tbody tr th:only-of-type {\n",
              "        vertical-align: middle;\n",
              "    }\n",
              "\n",
              "    .dataframe tbody tr th {\n",
              "        vertical-align: top;\n",
              "    }\n",
              "\n",
              "    .dataframe thead th {\n",
              "        text-align: right;\n",
              "    }\n",
              "</style>\n",
              "<table border=\"1\" class=\"dataframe\">\n",
              "  <thead>\n",
              "    <tr style=\"text-align: right;\">\n",
              "      <th></th>\n",
              "      <th>ground truth</th>\n",
              "      <th>prediction</th>\n",
              "      <th>right</th>\n",
              "    </tr>\n",
              "  </thead>\n",
              "  <tbody>\n",
              "    <tr>\n",
              "      <th>0</th>\n",
              "      <td>0</td>\n",
              "      <td>0</td>\n",
              "      <td>True</td>\n",
              "    </tr>\n",
              "    <tr>\n",
              "      <th>1</th>\n",
              "      <td>0</td>\n",
              "      <td>0</td>\n",
              "      <td>True</td>\n",
              "    </tr>\n",
              "    <tr>\n",
              "      <th>2</th>\n",
              "      <td>0</td>\n",
              "      <td>0</td>\n",
              "      <td>True</td>\n",
              "    </tr>\n",
              "    <tr>\n",
              "      <th>3</th>\n",
              "      <td>0</td>\n",
              "      <td>0</td>\n",
              "      <td>True</td>\n",
              "    </tr>\n",
              "    <tr>\n",
              "      <th>4</th>\n",
              "      <td>0</td>\n",
              "      <td>0</td>\n",
              "      <td>True</td>\n",
              "    </tr>\n",
              "    <tr>\n",
              "      <th>5</th>\n",
              "      <td>1</td>\n",
              "      <td>0</td>\n",
              "      <td>False</td>\n",
              "    </tr>\n",
              "    <tr>\n",
              "      <th>6</th>\n",
              "      <td>0</td>\n",
              "      <td>0</td>\n",
              "      <td>True</td>\n",
              "    </tr>\n",
              "    <tr>\n",
              "      <th>7</th>\n",
              "      <td>0</td>\n",
              "      <td>0</td>\n",
              "      <td>True</td>\n",
              "    </tr>\n",
              "    <tr>\n",
              "      <th>8</th>\n",
              "      <td>0</td>\n",
              "      <td>0</td>\n",
              "      <td>True</td>\n",
              "    </tr>\n",
              "    <tr>\n",
              "      <th>9</th>\n",
              "      <td>0</td>\n",
              "      <td>0</td>\n",
              "      <td>True</td>\n",
              "    </tr>\n",
              "    <tr>\n",
              "      <th>10</th>\n",
              "      <td>0</td>\n",
              "      <td>0</td>\n",
              "      <td>True</td>\n",
              "    </tr>\n",
              "    <tr>\n",
              "      <th>11</th>\n",
              "      <td>0</td>\n",
              "      <td>0</td>\n",
              "      <td>True</td>\n",
              "    </tr>\n",
              "    <tr>\n",
              "      <th>12</th>\n",
              "      <td>0</td>\n",
              "      <td>0</td>\n",
              "      <td>True</td>\n",
              "    </tr>\n",
              "    <tr>\n",
              "      <th>13</th>\n",
              "      <td>1</td>\n",
              "      <td>0</td>\n",
              "      <td>False</td>\n",
              "    </tr>\n",
              "    <tr>\n",
              "      <th>14</th>\n",
              "      <td>0</td>\n",
              "      <td>0</td>\n",
              "      <td>True</td>\n",
              "    </tr>\n",
              "    <tr>\n",
              "      <th>15</th>\n",
              "      <td>0</td>\n",
              "      <td>0</td>\n",
              "      <td>True</td>\n",
              "    </tr>\n",
              "    <tr>\n",
              "      <th>16</th>\n",
              "      <td>0</td>\n",
              "      <td>0</td>\n",
              "      <td>True</td>\n",
              "    </tr>\n",
              "    <tr>\n",
              "      <th>17</th>\n",
              "      <td>0</td>\n",
              "      <td>0</td>\n",
              "      <td>True</td>\n",
              "    </tr>\n",
              "    <tr>\n",
              "      <th>18</th>\n",
              "      <td>0</td>\n",
              "      <td>0</td>\n",
              "      <td>True</td>\n",
              "    </tr>\n",
              "    <tr>\n",
              "      <th>19</th>\n",
              "      <td>0</td>\n",
              "      <td>0</td>\n",
              "      <td>True</td>\n",
              "    </tr>\n",
              "  </tbody>\n",
              "</table>\n",
              "</div>"
            ],
            "text/plain": [
              "    ground truth  prediction  right\n",
              "0              0           0   True\n",
              "1              0           0   True\n",
              "2              0           0   True\n",
              "3              0           0   True\n",
              "4              0           0   True\n",
              "5              1           0  False\n",
              "6              0           0   True\n",
              "7              0           0   True\n",
              "8              0           0   True\n",
              "9              0           0   True\n",
              "10             0           0   True\n",
              "11             0           0   True\n",
              "12             0           0   True\n",
              "13             1           0  False\n",
              "14             0           0   True\n",
              "15             0           0   True\n",
              "16             0           0   True\n",
              "17             0           0   True\n",
              "18             0           0   True\n",
              "19             0           0   True"
            ]
          },
          "metadata": {},
          "execution_count": 18
        }
      ]
    },
    {
      "cell_type": "markdown",
      "metadata": {
        "id": "uRAaK0NPXqAI"
      },
      "source": [
        "Далее можем посчитать долю правильных ответов (количество значений True поделить на количество объектов):"
      ]
    },
    {
      "cell_type": "code",
      "metadata": {
        "colab": {
          "base_uri": "https://localhost:8080/"
        },
        "id": "vc35JtgGXqAI",
        "outputId": "7bd80448-557d-4fd4-89fd-9f59158e8e02"
      },
      "source": [
        "pred_df_disbalance['right'].sum() / pred_df_disbalance.shape[0]"
      ],
      "execution_count": null,
      "outputs": [
        {
          "output_type": "execute_result",
          "data": {
            "text/plain": [
              "0.9"
            ]
          },
          "metadata": {},
          "execution_count": 19
        }
      ]
    },
    {
      "cell_type": "markdown",
      "metadata": {
        "id": "q-S97R8ZXz_F"
      },
      "source": [
        "Получается очень высокая доля правильных ответов, которая стремится к 1, но по факту, модель бесполезная, алгоритм отвечает всегда нулевым классом, модель никогда не будет отвечать первым классом. Так что метрика accuracy хоть и высокая, но говорить о качественной модели мы здесь не можем."
      ]
    },
    {
      "cell_type": "markdown",
      "metadata": {
        "id": "w6NuNMzfew48"
      },
      "source": [
        "Найдем объекты, на которых модель ошиблась:"
      ]
    },
    {
      "cell_type": "code",
      "metadata": {
        "id": "cnZK08dFew4-"
      },
      "source": [
        "wrong_objects_0_class = X_disbalance[~(pred_df_disbalance['right']) & (pred_df_disbalance['ground truth'] == 0)]\n",
        "wrong_objects_1_class = X_disbalance[~(pred_df_disbalance['right']) & (pred_df_disbalance['ground truth'] == 1)]"
      ],
      "execution_count": null,
      "outputs": []
    },
    {
      "cell_type": "markdown",
      "metadata": {
        "id": "XWW1Pyxvew5B"
      },
      "source": [
        "И визуализируем, пометив зеленым цветом - объекты с мошеннической транзакцией, которые наша константная модель ошибочно отнесла к классу нормальной не фродовой транзакции."
      ]
    },
    {
      "cell_type": "code",
      "metadata": {
        "colab": {
          "base_uri": "https://localhost:8080/",
          "height": 388
        },
        "id": "QYqGiIz6ew5C",
        "outputId": "007d54f3-f141-418f-8d18-165b189a5244"
      },
      "source": [
        "plt.figure(figsize=(7, 6))\n",
        "\n",
        "# визуализация данных по классам\n",
        "class_0 = X_disbalance[y_disbalance == 0]\n",
        "class_1 = X_disbalance[y_disbalance == 1]\n",
        "plt.scatter(class_0[:, 0], class_0[:, 1], label='не фрод')\n",
        "plt.scatter(class_1[:, 0], class_1[:, 1], label='фрод')\n",
        "\n",
        "# визуализация ошибок по классам\n",
        "plt.scatter(wrong_objects_0_class[:, 0], wrong_objects_0_class[:, 1], c='r', label='Ошибочный фрод', s=100)\n",
        "plt.scatter(wrong_objects_1_class[:, 0], wrong_objects_1_class[:, 1], c='g', label='Ошибочный не фрод', s=100)\n",
        "\n",
        "plt.legend()\n",
        "plt.xlabel('X')\n",
        "plt.ylabel('y');"
      ],
      "execution_count": null,
      "outputs": [
        {
          "output_type": "display_data",
          "data": {
            "image/png": "[encoded data removed]",
            "text/plain": [
              "<Figure size 504x432 with 1 Axes>"
            ]
          },
          "metadata": {
            "needs_background": "light"
          }
        }
      ]
    },
    {
      "cell_type": "markdown",
      "metadata": {
        "id": "azI7ghrAew5E"
      },
      "source": [
        "Ошибок вышло 2 штуки, ни одну мошенническую транзакцию мы так и не нашли, а соответственно даже и не помогли банку."
      ]
    },
    {
      "cell_type": "markdown",
      "metadata": {
        "id": "7QtK8gfXalla"
      },
      "source": [
        "### Ошибки имеют разную цену"
      ]
    },
    {
      "cell_type": "markdown",
      "metadata": {
        "id": "s3G_IJcFQw_u"
      },
      "source": [
        "Теперь поговорим про другую проблему метрики accuracy. Продолжаем знакомиться с задачами банков, обучили модель кредитного скоринга, с помощью неё, банк принимает решение о выдачи кредита человеку.  \n",
        "Модель предсказывает, кому кредит выдавать (добропорядочный гражданин и будет исправно платить), а кому нет (человек постоянно просрачивает платежи по кредиту)."
      ]
    },
    {
      "cell_type": "markdown",
      "metadata": {
        "id": "cXZoDY1FRkv6"
      },
      "source": [
        "У нас вышло две модели, протестируем их работу на 10 клиентах.   \n",
        "\n",
        "0 будем помечать клиентов, которые кредит не вернут, а 1 - которые вернут.\n",
        "Предсказания моделей соответственно так же, 0 - модель предсказывает не возврат кредита, значит кредит не выдаем, а 1 - клиент кредит выплатит, значит можем быть в нём уверенными и выдаем ему деньги."
      ]
    },
    {
      "cell_type": "code",
      "metadata": {
        "colab": {
          "base_uri": "https://localhost:8080/",
          "height": 359
        },
        "id": "uFkcuTl1R417",
        "outputId": "22052ef0-3762-4201-c866-185b50c6290f"
      },
      "source": [
        "clients = [0, 0, 0, 0, 0, \n",
        "           1, 1, 1, 1, 1]\n",
        "first_model_pred = [0, 0, 1, 1, 1,\n",
        "                    1, 1, 1, 1, 1]\n",
        "second_model_pred = [0, 0, 0, 0, 0,\n",
        "                     1, 1, 0, 0, 0]\n",
        "\n",
        "\n",
        "df = pd.DataFrame({\n",
        "    'clients': clients,\n",
        "    'first_model': first_model_pred,\n",
        "    'second_model': second_model_pred\n",
        "})\n",
        "\n",
        "df"
      ],
      "execution_count": null,
      "outputs": [
        {
          "output_type": "execute_result",
          "data": {
            "text/html": [
              "<div>\n",
              "<style scoped>\n",
              "    .dataframe tbody tr th:only-of-type {\n",
              "        vertical-align: middle;\n",
              "    }\n",
              "\n",
              "    .dataframe tbody tr th {\n",
              "        vertical-align: top;\n",
              "    }\n",
              "\n",
              "    .dataframe thead th {\n",
              "        text-align: right;\n",
              "    }\n",
              "</style>\n",
              "<table border=\"1\" class=\"dataframe\">\n",
              "  <thead>\n",
              "    <tr style=\"text-align: right;\">\n",
              "      <th></th>\n",
              "      <th>clients</th>\n",
              "      <th>first_model</th>\n",
              "      <th>second_model</th>\n",
              "    </tr>\n",
              "  </thead>\n",
              "  <tbody>\n",
              "    <tr>\n",
              "      <th>0</th>\n",
              "      <td>0</td>\n",
              "      <td>0</td>\n",
              "      <td>0</td>\n",
              "    </tr>\n",
              "    <tr>\n",
              "      <th>1</th>\n",
              "      <td>0</td>\n",
              "      <td>0</td>\n",
              "      <td>0</td>\n",
              "    </tr>\n",
              "    <tr>\n",
              "      <th>2</th>\n",
              "      <td>0</td>\n",
              "      <td>1</td>\n",
              "      <td>0</td>\n",
              "    </tr>\n",
              "    <tr>\n",
              "      <th>3</th>\n",
              "      <td>0</td>\n",
              "      <td>1</td>\n",
              "      <td>0</td>\n",
              "    </tr>\n",
              "    <tr>\n",
              "      <th>4</th>\n",
              "      <td>0</td>\n",
              "      <td>1</td>\n",
              "      <td>0</td>\n",
              "    </tr>\n",
              "    <tr>\n",
              "      <th>5</th>\n",
              "      <td>1</td>\n",
              "      <td>1</td>\n",
              "      <td>1</td>\n",
              "    </tr>\n",
              "    <tr>\n",
              "      <th>6</th>\n",
              "      <td>1</td>\n",
              "      <td>1</td>\n",
              "      <td>1</td>\n",
              "    </tr>\n",
              "    <tr>\n",
              "      <th>7</th>\n",
              "      <td>1</td>\n",
              "      <td>1</td>\n",
              "      <td>0</td>\n",
              "    </tr>\n",
              "    <tr>\n",
              "      <th>8</th>\n",
              "      <td>1</td>\n",
              "      <td>1</td>\n",
              "      <td>0</td>\n",
              "    </tr>\n",
              "    <tr>\n",
              "      <th>9</th>\n",
              "      <td>1</td>\n",
              "      <td>1</td>\n",
              "      <td>0</td>\n",
              "    </tr>\n",
              "  </tbody>\n",
              "</table>\n",
              "</div>"
            ],
            "text/plain": [
              "   clients  first_model  second_model\n",
              "0        0            0             0\n",
              "1        0            0             0\n",
              "2        0            1             0\n",
              "3        0            1             0\n",
              "4        0            1             0\n",
              "5        1            1             1\n",
              "6        1            1             1\n",
              "7        1            1             0\n",
              "8        1            1             0\n",
              "9        1            1             0"
            ]
          },
          "metadata": {},
          "execution_count": 22
        }
      ]
    },
    {
      "cell_type": "markdown",
      "metadata": {
        "id": "tbz2QPQkUOxb"
      },
      "source": [
        "Выборка сбалансированная, 5 клиентов имеют класс 0, а 5 имеют класс 1. Посмотрим на предсказания моделей:\n",
        "1. Первая выдает кредит 8 людям, по итогу 5 людей кредит возвращают, а 3 не возвращают\n",
        "2. Вторая модель выдает кредит 2 людям, и все 2 возвращают.\n",
        "\n",
        "Можете подумать, какая модель лучше? Какую модель вы бы взяли себе в банк оценивать клиентов?"
      ]
    },
    {
      "cell_type": "markdown",
      "metadata": {
        "id": "zyuk10bjUqlJ"
      },
      "source": [
        "На самом деле правильного ответа нет, всё зависит от стратегии банка.  \n",
        "- Если банку хочется больше заработать, то лучше выдавать больше кредитов, значит, лучше пользоваться первой моделью.   \n",
        "- Если банку хочется меньше потерять, то лучше выдавать кредиты только проверенным людям, а значит, лучше пользоваться второй моделью."
      ]
    },
    {
      "cell_type": "markdown",
      "metadata": {
        "id": "iWpK_h3QSoHj"
      },
      "source": [
        "Но при этом, метрика accuracy будет одинаковая на этих двух моделях, хотя они совершенно разные."
      ]
    },
    {
      "cell_type": "code",
      "metadata": {
        "colab": {
          "base_uri": "https://localhost:8080/",
          "height": 359
        },
        "id": "UU6yFTOWSnrT",
        "outputId": "d39f752f-29f0-4736-c9ff-34cff0c592bb"
      },
      "source": [
        "df['first_model_right'] = df['clients'] == df['first_model']\n",
        "df['second_model_right'] = df['clients'] == df['second_model']\n",
        "\n",
        "df"
      ],
      "execution_count": null,
      "outputs": [
        {
          "output_type": "execute_result",
          "data": {
            "text/html": [
              "<div>\n",
              "<style scoped>\n",
              "    .dataframe tbody tr th:only-of-type {\n",
              "        vertical-align: middle;\n",
              "    }\n",
              "\n",
              "    .dataframe tbody tr th {\n",
              "        vertical-align: top;\n",
              "    }\n",
              "\n",
              "    .dataframe thead th {\n",
              "        text-align: right;\n",
              "    }\n",
              "</style>\n",
              "<table border=\"1\" class=\"dataframe\">\n",
              "  <thead>\n",
              "    <tr style=\"text-align: right;\">\n",
              "      <th></th>\n",
              "      <th>clients</th>\n",
              "      <th>first_model</th>\n",
              "      <th>second_model</th>\n",
              "      <th>first_model_right</th>\n",
              "      <th>second_model_right</th>\n",
              "    </tr>\n",
              "  </thead>\n",
              "  <tbody>\n",
              "    <tr>\n",
              "      <th>0</th>\n",
              "      <td>0</td>\n",
              "      <td>0</td>\n",
              "      <td>0</td>\n",
              "      <td>True</td>\n",
              "      <td>True</td>\n",
              "    </tr>\n",
              "    <tr>\n",
              "      <th>1</th>\n",
              "      <td>0</td>\n",
              "      <td>0</td>\n",
              "      <td>0</td>\n",
              "      <td>True</td>\n",
              "      <td>True</td>\n",
              "    </tr>\n",
              "    <tr>\n",
              "      <th>2</th>\n",
              "      <td>0</td>\n",
              "      <td>1</td>\n",
              "      <td>0</td>\n",
              "      <td>False</td>\n",
              "      <td>True</td>\n",
              "    </tr>\n",
              "    <tr>\n",
              "      <th>3</th>\n",
              "      <td>0</td>\n",
              "      <td>1</td>\n",
              "      <td>0</td>\n",
              "      <td>False</td>\n",
              "      <td>True</td>\n",
              "    </tr>\n",
              "    <tr>\n",
              "      <th>4</th>\n",
              "      <td>0</td>\n",
              "      <td>1</td>\n",
              "      <td>0</td>\n",
              "      <td>False</td>\n",
              "      <td>True</td>\n",
              "    </tr>\n",
              "    <tr>\n",
              "      <th>5</th>\n",
              "      <td>1</td>\n",
              "      <td>1</td>\n",
              "      <td>1</td>\n",
              "      <td>True</td>\n",
              "      <td>True</td>\n",
              "    </tr>\n",
              "    <tr>\n",
              "      <th>6</th>\n",
              "      <td>1</td>\n",
              "      <td>1</td>\n",
              "      <td>1</td>\n",
              "      <td>True</td>\n",
              "      <td>True</td>\n",
              "    </tr>\n",
              "    <tr>\n",
              "      <th>7</th>\n",
              "      <td>1</td>\n",
              "      <td>1</td>\n",
              "      <td>0</td>\n",
              "      <td>True</td>\n",
              "      <td>False</td>\n",
              "    </tr>\n",
              "    <tr>\n",
              "      <th>8</th>\n",
              "      <td>1</td>\n",
              "      <td>1</td>\n",
              "      <td>0</td>\n",
              "      <td>True</td>\n",
              "      <td>False</td>\n",
              "    </tr>\n",
              "    <tr>\n",
              "      <th>9</th>\n",
              "      <td>1</td>\n",
              "      <td>1</td>\n",
              "      <td>0</td>\n",
              "      <td>True</td>\n",
              "      <td>False</td>\n",
              "    </tr>\n",
              "  </tbody>\n",
              "</table>\n",
              "</div>"
            ],
            "text/plain": [
              "   clients  first_model  second_model  first_model_right  second_model_right\n",
              "0        0            0             0               True                True\n",
              "1        0            0             0               True                True\n",
              "2        0            1             0              False                True\n",
              "3        0            1             0              False                True\n",
              "4        0            1             0              False                True\n",
              "5        1            1             1               True                True\n",
              "6        1            1             1               True                True\n",
              "7        1            1             0               True               False\n",
              "8        1            1             0               True               False\n",
              "9        1            1             0               True               False"
            ]
          },
          "metadata": {},
          "execution_count": 23
        }
      ]
    },
    {
      "cell_type": "code",
      "metadata": {
        "colab": {
          "base_uri": "https://localhost:8080/"
        },
        "id": "j8CbnOTxS1cC",
        "outputId": "63109b04-fe7a-47d8-e4db-944fb18828f9"
      },
      "source": [
        "print(f\"Accuracy первой модели {df['first_model_right'].sum() / df.shape[0]}\")\n",
        "print(f\"Accuracy второй модели {df['second_model_right'].sum() / df.shape[0]}\")"
      ],
      "execution_count": null,
      "outputs": [
        {
          "output_type": "stream",
          "text": [
            "Accuracy первой модели 0.7\n",
            "Accuracy второй модели 0.7\n"
          ],
          "name": "stdout"
        }
      ]
    },
    {
      "cell_type": "markdown",
      "metadata": {
        "id": "sEOiQCwcVTPV"
      },
      "source": [
        "Так получается из-за того, что метрика accuracy берет в расчет только правильные срабатывания на всех классах, поэтому обе модели получились одинаково хорошими по этой метрике, ведь они вдвоем дали одинаковое количество правильных ответов, по 7 штук, только вот у них были разные ошибки. Давайте их найдем.\n",
        "\n",
        "Сначала посмотрим на ошибки первой модели:"
      ]
    },
    {
      "cell_type": "code",
      "metadata": {
        "colab": {
          "base_uri": "https://localhost:8080/",
          "height": 142
        },
        "id": "X9PkqZQwVs0c",
        "outputId": "39927fce-a47d-4387-e0b9-5db45af33d28"
      },
      "source": [
        "# отсортируемся по ошибке в столбике first_model_right\n",
        "df[~df['first_model_right']]"
      ],
      "execution_count": null,
      "outputs": [
        {
          "output_type": "execute_result",
          "data": {
            "text/html": [
              "<div>\n",
              "<style scoped>\n",
              "    .dataframe tbody tr th:only-of-type {\n",
              "        vertical-align: middle;\n",
              "    }\n",
              "\n",
              "    .dataframe tbody tr th {\n",
              "        vertical-align: top;\n",
              "    }\n",
              "\n",
              "    .dataframe thead th {\n",
              "        text-align: right;\n",
              "    }\n",
              "</style>\n",
              "<table border=\"1\" class=\"dataframe\">\n",
              "  <thead>\n",
              "    <tr style=\"text-align: right;\">\n",
              "      <th></th>\n",
              "      <th>clients</th>\n",
              "      <th>first_model</th>\n",
              "      <th>second_model</th>\n",
              "      <th>first_model_right</th>\n",
              "      <th>second_model_right</th>\n",
              "    </tr>\n",
              "  </thead>\n",
              "  <tbody>\n",
              "    <tr>\n",
              "      <th>2</th>\n",
              "      <td>0</td>\n",
              "      <td>1</td>\n",
              "      <td>0</td>\n",
              "      <td>False</td>\n",
              "      <td>True</td>\n",
              "    </tr>\n",
              "    <tr>\n",
              "      <th>3</th>\n",
              "      <td>0</td>\n",
              "      <td>1</td>\n",
              "      <td>0</td>\n",
              "      <td>False</td>\n",
              "      <td>True</td>\n",
              "    </tr>\n",
              "    <tr>\n",
              "      <th>4</th>\n",
              "      <td>0</td>\n",
              "      <td>1</td>\n",
              "      <td>0</td>\n",
              "      <td>False</td>\n",
              "      <td>True</td>\n",
              "    </tr>\n",
              "  </tbody>\n",
              "</table>\n",
              "</div>"
            ],
            "text/plain": [
              "   clients  first_model  second_model  first_model_right  second_model_right\n",
              "2        0            1             0              False                True\n",
              "3        0            1             0              False                True\n",
              "4        0            1             0              False                True"
            ]
          },
          "metadata": {},
          "execution_count": 25
        }
      ]
    },
    {
      "cell_type": "code",
      "metadata": {
        "colab": {
          "base_uri": "https://localhost:8080/",
          "height": 142
        },
        "id": "YhXD27b4WBGE",
        "outputId": "4c1b4922-359b-4ab0-c6e6-827f3ddbdfda"
      },
      "source": [
        "# и выведем только истинные значения и предсказания первой моделью\n",
        "df[~df['first_model_right']][['clients', 'first_model']]"
      ],
      "execution_count": null,
      "outputs": [
        {
          "output_type": "execute_result",
          "data": {
            "text/html": [
              "<div>\n",
              "<style scoped>\n",
              "    .dataframe tbody tr th:only-of-type {\n",
              "        vertical-align: middle;\n",
              "    }\n",
              "\n",
              "    .dataframe tbody tr th {\n",
              "        vertical-align: top;\n",
              "    }\n",
              "\n",
              "    .dataframe thead th {\n",
              "        text-align: right;\n",
              "    }\n",
              "</style>\n",
              "<table border=\"1\" class=\"dataframe\">\n",
              "  <thead>\n",
              "    <tr style=\"text-align: right;\">\n",
              "      <th></th>\n",
              "      <th>clients</th>\n",
              "      <th>first_model</th>\n",
              "    </tr>\n",
              "  </thead>\n",
              "  <tbody>\n",
              "    <tr>\n",
              "      <th>2</th>\n",
              "      <td>0</td>\n",
              "      <td>1</td>\n",
              "    </tr>\n",
              "    <tr>\n",
              "      <th>3</th>\n",
              "      <td>0</td>\n",
              "      <td>1</td>\n",
              "    </tr>\n",
              "    <tr>\n",
              "      <th>4</th>\n",
              "      <td>0</td>\n",
              "      <td>1</td>\n",
              "    </tr>\n",
              "  </tbody>\n",
              "</table>\n",
              "</div>"
            ],
            "text/plain": [
              "   clients  first_model\n",
              "2        0            1\n",
              "3        0            1\n",
              "4        0            1"
            ]
          },
          "metadata": {},
          "execution_count": 26
        }
      ]
    },
    {
      "cell_type": "markdown",
      "metadata": {
        "id": "OB2eGnrYWJxa"
      },
      "source": [
        "В этих трех ошибках первая модель ошибочно выдала кредит 3 людям, которые и не планировали его выплачивать."
      ]
    },
    {
      "cell_type": "markdown",
      "metadata": {
        "id": "j71opfswWThv"
      },
      "source": [
        "Теперь очередь второй модели:"
      ]
    },
    {
      "cell_type": "code",
      "metadata": {
        "colab": {
          "base_uri": "https://localhost:8080/",
          "height": 142
        },
        "id": "MLvFP3S-WThx",
        "outputId": "42600e16-485a-4d0d-fc9e-97c7141c9723"
      },
      "source": [
        "# отсортируемся по ошибке в столбике second_model_right\n",
        "df[~df['second_model_right']]"
      ],
      "execution_count": null,
      "outputs": [
        {
          "output_type": "execute_result",
          "data": {
            "text/html": [
              "<div>\n",
              "<style scoped>\n",
              "    .dataframe tbody tr th:only-of-type {\n",
              "        vertical-align: middle;\n",
              "    }\n",
              "\n",
              "    .dataframe tbody tr th {\n",
              "        vertical-align: top;\n",
              "    }\n",
              "\n",
              "    .dataframe thead th {\n",
              "        text-align: right;\n",
              "    }\n",
              "</style>\n",
              "<table border=\"1\" class=\"dataframe\">\n",
              "  <thead>\n",
              "    <tr style=\"text-align: right;\">\n",
              "      <th></th>\n",
              "      <th>clients</th>\n",
              "      <th>first_model</th>\n",
              "      <th>second_model</th>\n",
              "      <th>first_model_right</th>\n",
              "      <th>second_model_right</th>\n",
              "    </tr>\n",
              "  </thead>\n",
              "  <tbody>\n",
              "    <tr>\n",
              "      <th>7</th>\n",
              "      <td>1</td>\n",
              "      <td>1</td>\n",
              "      <td>0</td>\n",
              "      <td>True</td>\n",
              "      <td>False</td>\n",
              "    </tr>\n",
              "    <tr>\n",
              "      <th>8</th>\n",
              "      <td>1</td>\n",
              "      <td>1</td>\n",
              "      <td>0</td>\n",
              "      <td>True</td>\n",
              "      <td>False</td>\n",
              "    </tr>\n",
              "    <tr>\n",
              "      <th>9</th>\n",
              "      <td>1</td>\n",
              "      <td>1</td>\n",
              "      <td>0</td>\n",
              "      <td>True</td>\n",
              "      <td>False</td>\n",
              "    </tr>\n",
              "  </tbody>\n",
              "</table>\n",
              "</div>"
            ],
            "text/plain": [
              "   clients  first_model  second_model  first_model_right  second_model_right\n",
              "7        1            1             0               True               False\n",
              "8        1            1             0               True               False\n",
              "9        1            1             0               True               False"
            ]
          },
          "metadata": {},
          "execution_count": 27
        }
      ]
    },
    {
      "cell_type": "code",
      "metadata": {
        "colab": {
          "base_uri": "https://localhost:8080/",
          "height": 142
        },
        "id": "TWqOxQAdWTh2",
        "outputId": "20bcce9f-5540-4855-e123-1d9912e8d4e3"
      },
      "source": [
        "# и выведем только истинные значения и предсказания второй моделью\n",
        "df[~df['second_model_right']][['clients', 'second_model']]"
      ],
      "execution_count": null,
      "outputs": [
        {
          "output_type": "execute_result",
          "data": {
            "text/html": [
              "<div>\n",
              "<style scoped>\n",
              "    .dataframe tbody tr th:only-of-type {\n",
              "        vertical-align: middle;\n",
              "    }\n",
              "\n",
              "    .dataframe tbody tr th {\n",
              "        vertical-align: top;\n",
              "    }\n",
              "\n",
              "    .dataframe thead th {\n",
              "        text-align: right;\n",
              "    }\n",
              "</style>\n",
              "<table border=\"1\" class=\"dataframe\">\n",
              "  <thead>\n",
              "    <tr style=\"text-align: right;\">\n",
              "      <th></th>\n",
              "      <th>clients</th>\n",
              "      <th>second_model</th>\n",
              "    </tr>\n",
              "  </thead>\n",
              "  <tbody>\n",
              "    <tr>\n",
              "      <th>7</th>\n",
              "      <td>1</td>\n",
              "      <td>0</td>\n",
              "    </tr>\n",
              "    <tr>\n",
              "      <th>8</th>\n",
              "      <td>1</td>\n",
              "      <td>0</td>\n",
              "    </tr>\n",
              "    <tr>\n",
              "      <th>9</th>\n",
              "      <td>1</td>\n",
              "      <td>0</td>\n",
              "    </tr>\n",
              "  </tbody>\n",
              "</table>\n",
              "</div>"
            ],
            "text/plain": [
              "   clients  second_model\n",
              "7        1             0\n",
              "8        1             0\n",
              "9        1             0"
            ]
          },
          "metadata": {},
          "execution_count": 28
        }
      ]
    },
    {
      "cell_type": "markdown",
      "metadata": {
        "id": "SLLC7EJmWTh3"
      },
      "source": [
        "А здесь всё наоборот. Модель не стала одобрять кредиты людям, которые были в силах всё исправно платить."
      ]
    },
    {
      "cell_type": "markdown",
      "metadata": {
        "id": "h9PcRkeyWrqF"
      },
      "source": [
        "Вот они и есть разные ошибки, которые могут по-разному влиять на наши модели и на принимаемые нами решения о полезности обученных алгоритмов."
      ]
    },
    {
      "cell_type": "markdown",
      "metadata": {
        "id": "IoHK1woXcHkk"
      },
      "source": [
        "## Summary"
      ]
    },
    {
      "cell_type": "markdown",
      "metadata": {
        "id": "R4KYbNBiKOIo"
      },
      "source": [
        "<table>\n",
        "\n",
        "<tr>\n",
        "<td>\n",
        "Метрика\n",
        "</td>\n",
        "\n",
        "<td>\n",
        "Формула\n",
        "</td>\n",
        "\n",
        "<td>\n",
        "Диапазоны значений\n",
        "</td>\n",
        "\n",
        "<td>\n",
        "Идеальное значение\n",
        "</td>\n",
        "</tr>\n",
        "\n",
        "<tr>\n",
        "<td>\n",
        "Accuracy\n",
        "</td>\n",
        "\n",
        "<td>\n",
        "$$accuracy(a,x) = \\frac{1}{l} \\sum^{l}_{i=1}[a(x_{i})=y_{i}].$$\n",
        "\n",
        "</td>\n",
        "\n",
        "<td>\n",
        "[0, 1]\n",
        "</td>\n",
        "\n",
        "<td>\n",
        "1\n",
        "</td>\n",
        "</tr>\n",
        "\n",
        "<table>"
      ]
    },
    {
      "cell_type": "markdown",
      "metadata": {
        "id": "QW0xL8P8hkxY"
      },
      "source": [
        "В этом занятии посмотрели на метрику для задачи классификации Accuracy.   \n",
        "Метрика хороша для\n",
        "- Начала работы над новой задачей\n",
        "- Для выборок без дисбаланса классов\n",
        "- Для задач, где ошибки имеют одинаковый вес\n",
        "\n",
        "\n",
        "В целом, метрики используются для того, чтобы получить цифру оценки качества работы обученной модели, чтобы уже заранее знать, чего ожидать от модели, когда ей будем давать реальные данные, а также метрики можем использовать для обнаружения переобучения/недообучения. Про них разговор ведется в этом [ноутбуке](https://colab.research.google.com/drive/1MNpLMZGJCBwdNjY_PgJIKHtll6zvUEyU?usp=sharing) и в этом [видео](https://youtu.be/m7P7bnLxIc4).\n",
        "\n",
        "Про остальные метрики для задачи классификации можно посмотреть здесь:\n",
        "1. Precision, Recall. [ноутбук](https://colab.research.google.com/drive/179Jm_Y2F7SnVgBK-1wj9YpsjWXb71DBN?usp=sharing), [видео](https://youtu.be/AfnBHL832Eg)\n",
        "2. F-score. [ноутбук](), [видео]()\n",
        "3. "
      ]
    },
    {
      "cell_type": "markdown",
      "metadata": {
        "id": "i_KecPjmWOe2"
      },
      "source": [
        "Муррр ♥"
      ]
    }
  ]
}